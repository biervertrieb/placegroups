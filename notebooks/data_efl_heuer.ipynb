{
 "cells": [
  {
   "cell_type": "markdown",
   "metadata": {},
   "source": [
    "Ein bischen ausprobieren wie man einen kleinen Testdatensatz lädt\n",
    "\n",
    "ETL = Extract / Transform / Load\n",
    "\n",
    "Quelldaten in einheitliches Zielformat bringen und in Datenstruktur laden zum weiterverarbeiten\n",
    "\n",
    "... Wir laden einfach nur eine gezippte CSV runter und entpacken die.\n",
    "\n",
    "Schritt 1: Download eines Teildatensatzes"
   ]
  },
  {
   "cell_type": "code",
   "execution_count": 6,
   "metadata": {},
   "outputs": [],
   "source": [
    "import os\n",
    "import requests\n",
    "\n",
    "localgzip = \"../data/raw/test.csv.gzip\"\n",
    "\n",
    "# stream = True , iter_content() - Daten werden immer nur Stückweise runtergeladen bis das Stück weiterverarbeitet wurde\n",
    "with requests.get('https://placedata.reddit.com/data/canvas-history/2022_place_canvas_history-000000000050.csv.gzip',stream = True) as response:\n",
    "    response.raise_for_status()\n",
    "    with open(localgzip,\"wb\") as f:\n",
    "        for chunk in response.iter_content(chunk_size=1024):\n",
    "            f.write(chunk)\n",
    "        f.close()"
   ]
  },
  {
   "cell_type": "markdown",
   "metadata": {},
   "source": [
    "Testdaten Entpacken"
   ]
  },
  {
   "cell_type": "code",
   "execution_count": 7,
   "metadata": {},
   "outputs": [],
   "source": [
    "import gzip\n",
    "import shutil\n",
    "\n",
    "localcsv = \"../data/raw/test.csv\"\n",
    "\n",
    "with gzip.open(localgzip, 'rb') as f_in:\n",
    "    with open(localcsv, 'wb') as f_out:\n",
    "        shutil.copyfileobj(f_in, f_out)"
   ]
  },
  {
   "cell_type": "markdown",
   "metadata": {},
   "source": [
    "Gzip Download wegschmeissen"
   ]
  },
  {
   "cell_type": "code",
   "execution_count": 3,
   "metadata": {},
   "outputs": [],
   "source": [
    "os.remove(localgzip)"
   ]
  },
  {
   "cell_type": "markdown",
   "metadata": {},
   "source": [
    "Daten in verteilter Datenstruktur laden :)"
   ]
  },
  {
   "cell_type": "code",
   "execution_count": 2,
   "metadata": {},
   "outputs": [
    {
     "ename": "ModuleNotFoundError",
     "evalue": "No module named 'pyspark'",
     "output_type": "error",
     "traceback": [
      "\u001b[0;31m---------------------------------------------------------------------------\u001b[0m",
      "\u001b[0;31mModuleNotFoundError\u001b[0m                       Traceback (most recent call last)",
      "\u001b[1;32m/workspaces/placegroups/notebooks/data_efl_heuer.ipynb Cell 8'\u001b[0m in \u001b[0;36m<cell line: 3>\u001b[0;34m()\u001b[0m\n\u001b[1;32m      <a href='vscode-notebook-cell://dev-container%2B633a5c756e695c42696720446174615c776f726b73706163655c706c61636567726f757073/workspaces/placegroups/notebooks/data_efl_heuer.ipynb#ch0000007vscode-remote?line=0'>1</a>\u001b[0m \u001b[39m#import findspark\u001b[39;00m\n\u001b[1;32m      <a href='vscode-notebook-cell://dev-container%2B633a5c756e695c42696720446174615c776f726b73706163655c706c61636567726f757073/workspaces/placegroups/notebooks/data_efl_heuer.ipynb#ch0000007vscode-remote?line=1'>2</a>\u001b[0m \u001b[39m#findspark.init()\u001b[39;00m\n\u001b[0;32m----> <a href='vscode-notebook-cell://dev-container%2B633a5c756e695c42696720446174615c776f726b73706163655c706c61636567726f757073/workspaces/placegroups/notebooks/data_efl_heuer.ipynb#ch0000007vscode-remote?line=2'>3</a>\u001b[0m \u001b[39mfrom\u001b[39;00m \u001b[39mpyspark\u001b[39;00m\u001b[39m.\u001b[39;00m\u001b[39msql\u001b[39;00m \u001b[39mimport\u001b[39;00m SparkSession\n\u001b[1;32m      <a href='vscode-notebook-cell://dev-container%2B633a5c756e695c42696720446174615c776f726b73706163655c706c61636567726f757073/workspaces/placegroups/notebooks/data_efl_heuer.ipynb#ch0000007vscode-remote?line=4'>5</a>\u001b[0m spark \u001b[39m=\u001b[39m SparkSession\u001b[39m.\u001b[39mbuilder\u001b[39m.\u001b[39mgetOrCreate()\n",
      "\u001b[0;31mModuleNotFoundError\u001b[0m: No module named 'pyspark'"
     ]
    }
   ],
   "source": [
    "#import findspark\n",
    "#findspark.init()\n",
    "from pyspark.sql import SparkSession\n",
    "\n",
    "spark = SparkSession.builder.getOrCreate()"
   ]
  }
 ],
 "metadata": {
  "interpreter": {
   "hash": "31f2aee4e71d21fbe5cf8b01ff0e069b9275f58929596ceb00d14d90e3e16cd6"
  },
  "kernelspec": {
   "display_name": "Python 3.9.2 64-bit",
   "language": "python",
   "name": "python3"
  },
  "language_info": {
   "codemirror_mode": {
    "name": "ipython",
    "version": 3
   },
   "file_extension": ".py",
   "mimetype": "text/x-python",
   "name": "python",
   "nbconvert_exporter": "python",
   "pygments_lexer": "ipython3",
   "version": "3.9.2"
  },
  "orig_nbformat": 4
 },
 "nbformat": 4,
 "nbformat_minor": 2
}
