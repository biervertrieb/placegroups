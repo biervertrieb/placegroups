{
 "cells": [
  {
   "cell_type": "markdown",
   "metadata": {},
   "source": [
    "Ein bischen ausprobieren wie man einen kleinen Testdatensatz lädt\n",
    "\n",
    "ETL = Extract / Transform / Load\n",
    "\n",
    "Quelldaten in einheitliches Zielformat bringen und in Datenstruktur laden zum weiterverarbeiten\n",
    "\n",
    "... Wir laden einfach nur eine gezippte CSV runter und entpacken die.\n",
    "\n",
    "Schritt 1: Download eines Teildatensatzes"
   ]
  },
  {
   "cell_type": "code",
   "execution_count": 6,
   "metadata": {},
   "outputs": [],
   "source": [
    "import os\n",
    "import requests\n",
    "\n",
    "localgzip = \"../data/raw/test.csv.gzip\"\n",
    "\n",
    "# stream = True , iter_content() - Daten werden immer nur Stückweise runtergeladen bis das Stück weiterverarbeitet wurde\n",
    "with requests.get('https://placedata.reddit.com/data/canvas-history/2022_place_canvas_history-000000000050.csv.gzip',stream = True) as response:\n",
    "    response.raise_for_status()\n",
    "    with open(localgzip,\"wb\") as f:\n",
    "        for chunk in response.iter_content(chunk_size=1024):\n",
    "            f.write(chunk)\n",
    "        f.close()"
   ]
  },
  {
   "cell_type": "markdown",
   "metadata": {},
   "source": [
    "Testdaten Entpacken"
   ]
  },
  {
   "cell_type": "code",
   "execution_count": 7,
   "metadata": {},
   "outputs": [],
   "source": [
    "import gzip\n",
    "import shutil\n",
    "\n",
    "localcsv = \"../data/raw/test.csv\"\n",
    "\n",
    "with gzip.open(localgzip, 'rb') as f_in:\n",
    "    with open(localcsv, 'wb') as f_out:\n",
    "        shutil.copyfileobj(f_in, f_out)"
   ]
  },
  {
   "cell_type": "markdown",
   "metadata": {},
   "source": [
    "Gzip Download wegschmeissen"
   ]
  },
  {
   "cell_type": "code",
   "execution_count": 3,
   "metadata": {},
   "outputs": [],
   "source": [
    "os.remove(localgzip)"
   ]
  }
 ],
 "metadata": {
  "interpreter": {
   "hash": "949777d72b0d2535278d3dc13498b2535136f6dfe0678499012e853ee9abcab1"
  },
  "kernelspec": {
   "display_name": "Python 3.9.12 64-bit",
   "language": "python",
   "name": "python3"
  },
  "language_info": {
   "codemirror_mode": {
    "name": "ipython",
    "version": 3
   },
   "file_extension": ".py",
   "mimetype": "text/x-python",
   "name": "python",
   "nbconvert_exporter": "python",
   "pygments_lexer": "ipython3",
   "version": "3.9.12"
  },
  "orig_nbformat": 4
 },
 "nbformat": 4,
 "nbformat_minor": 2
}
