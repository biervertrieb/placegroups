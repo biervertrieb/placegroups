{
 "cells": [
  {
   "cell_type": "markdown",
   "metadata": {},
   "source": [
    "### Pro Nutzer gruppierte Pixel ..... ich möchte gern Pixel paarweise vergleichen damit ich gucken kann ob die kollidieren oder nicht"
   ]
  },
  {
   "cell_type": "code",
   "execution_count": 1,
   "metadata": {},
   "outputs": [
    {
     "name": "stdout",
     "output_type": "stream",
     "text": [
      "providing ../data/raw/2022_place_canvas_history-000000000050.csv ...\n",
      "../data/raw/2022_place_canvas_history-000000000050.csv is already in data/raw\n"
     ]
    },
    {
     "name": "stderr",
     "output_type": "stream",
     "text": [
      "Using Spark's default log4j profile: org/apache/spark/log4j-defaults.properties\n",
      "Setting default log level to \"WARN\".\n",
      "To adjust logging level use sc.setLogLevel(newLevel). For SparkR, use setLogLevel(newLevel).\n",
      "22/05/13 00:58:58 WARN NativeCodeLoader: Unable to load native-hadoop library for your platform... using builtin-java classes where applicable\n",
      "                                                                                \r"
     ]
    }
   ],
   "source": [
    "from src.data.dataset_functions import get_dataframe\n",
    "\n",
    "dataFrame = get_dataframe(True) # sample data only\n",
    "from src.features.feature_functions import group_dataframe_by_user\n",
    "groupedFrame = group_dataframe_by_user(dataFrame)"
   ]
  },
  {
   "cell_type": "code",
   "execution_count": 2,
   "metadata": {},
   "outputs": [
    {
     "name": "stderr",
     "output_type": "stream",
     "text": [
      "                                                                                \r"
     ]
    },
    {
     "name": "stdout",
     "output_type": "stream",
     "text": [
      "+--------------------+-----+--------------------+--------------------+--------------------+-------------------------+\n",
      "|             user_id|count|     collect_list(x)|     collect_list(y)|     collect_list(t)|collect_list(pixel_color)|\n",
      "+--------------------+-----+--------------------+--------------------+--------------------+-------------------------+\n",
      "|AxBTmhBMbr1sbDw/2...|   20|[1447, 1617, 655,...|[5, 16, 1896, 191...|[184, 1417, 1726,...|     [#FFA800, #FF4500...|\n",
      "+--------------------+-----+--------------------+--------------------+--------------------+-------------------------+\n",
      "only showing top 1 row\n",
      "\n"
     ]
    }
   ],
   "source": [
    "groupedFrame.show(1)"
   ]
  },
  {
   "cell_type": "markdown",
   "metadata": {},
   "source": [
    "### Hmmm leider bringen mir die aggregierten Pixel gerade nichts. Ich brauche einzelne Pixel"
   ]
  },
  {
   "cell_type": "code",
   "execution_count": 3,
   "metadata": {},
   "outputs": [
    {
     "name": "stdout",
     "output_type": "stream",
     "text": [
      "+--------------------+---+----+---+-----------+\n",
      "|             user_id|  x|   y|  t|pixel_color|\n",
      "+--------------------+---+----+---+-----------+\n",
      "|vKtmwRQwAYtw5poO4...|804|1992|  0|    #FF3881|\n",
      "+--------------------+---+----+---+-----------+\n",
      "only showing top 1 row\n",
      "\n"
     ]
    }
   ],
   "source": [
    "dataFrame.show(1)"
   ]
  },
  {
   "cell_type": "markdown",
   "metadata": {},
   "source": [
    "### Ich möchte jeden Pixel mit allen anderen Pixeln vergleichen.. Self Join also! \n",
    "Weil ich jedes Pixelpaar nur einmal brauche muss ich Pixel1 - Pixel2 und Pixel2 - Pixel1 wie Duplikate entfernen\n",
    "\n",
    "...\n",
    "\n",
    "Idee: ich nutze die Ordnung in der Zeit! Damit gibt es eine feste Reihenfolge von Pixeln in der verglichen wird und Pixel2-Pixel1 kommt nie vor\n",
    "\n",
    "-> df2.t > df1.t"
   ]
  },
  {
   "cell_type": "code",
   "execution_count": 2,
   "metadata": {},
   "outputs": [
    {
     "name": "stdout",
     "output_type": "stream",
     "text": [
      "Box xy max 80\n",
      "Box t max 1200\n"
     ]
    }
   ],
   "source": [
    "import pyspark.sql.functions as F\n",
    "from src.models.models import RZModel\n",
    "\n",
    "print(\"Box xy max \"+str(RZModel.max_xy_dist))\n",
    "print(\"Box t max \" +str(RZModel.max_t_dist))"
   ]
  },
  {
   "cell_type": "code",
   "execution_count": 46,
   "metadata": {},
   "outputs": [],
   "source": [
    "RZModel.max_xy_dist = 80 # zum rumspielen"
   ]
  },
  {
   "cell_type": "code",
   "execution_count": 4,
   "metadata": {},
   "outputs": [],
   "source": [
    "selfjoinedFrame = dataFrame.alias('df1').join(dataFrame.alias('df2'),F.col('df1.user_id') == F.col('df2.user_id'),'inner')\n",
    "selfjoinedFrame = selfjoinedFrame.where('df2.t > df1.t').where('df2.t <= df1.t + 2*'+str(RZModel.max_t_dist))\n",
    "selfjoinedFrame = selfjoinedFrame.where('Abs(df2.x - df1.x) <= 2*'+str(RZModel.max_xy_dist))\n",
    "selfjoinedFrame = selfjoinedFrame.where('Abs(df2.y - df1.y) <= 2*'+str(RZModel.max_xy_dist))\n",
    "selfjoinedFrame = selfjoinedFrame.select(F.col('df1.user_id'),F.col('df1.x').alias(\"x1\"),F.col('df2.x').alias('x2'),F.col('df1.y').alias(\"y1\"),F.col('df2.y').alias('y2'),F.col('df1.t').alias(\"t1\"),F.col('df2.t').alias('t2'),F.col('df1.pixel_color').alias(\"c1\"),F.col('df2.pixel_color').alias('c2'))"
   ]
  },
  {
   "cell_type": "code",
   "execution_count": 5,
   "metadata": {},
   "outputs": [
    {
     "name": "stderr",
     "output_type": "stream",
     "text": [
      "[Stage 5:===================================================>       (7 + 1) / 8]\r"
     ]
    },
    {
     "name": "stdout",
     "output_type": "stream",
     "text": [
      "+--------------------+---+---+----+----+----+----+-------+-------+\n",
      "|             user_id| x1| x2|  y1|  y2|  t1|  t2|     c1|     c2|\n",
      "+--------------------+---+---+----+----+----+----+-------+-------+\n",
      "|++3l0k1HSXKiAsHkH...|684|668|1270|1211|1058|1381|#D4D7D9|#D4D7D9|\n",
      "|++3l0k1HSXKiAsHkH...|684|664|1270|1240|1058|1721|#D4D7D9|#9C6926|\n",
      "|++3l0k1HSXKiAsHkH...|684|667|1270|1240|1058|2057|#D4D7D9|#9C6926|\n",
      "|++3l0k1HSXKiAsHkH...|684|663|1270|1240|1058|2399|#D4D7D9|#9C6926|\n",
      "|++3l0k1HSXKiAsHkH...|684|653|1270|1229|1058|2779|#D4D7D9|#FFFFFF|\n",
      "+--------------------+---+---+----+----+----+----+-------+-------+\n",
      "only showing top 5 rows\n",
      "\n"
     ]
    },
    {
     "name": "stderr",
     "output_type": "stream",
     "text": [
      "                                                                                \r"
     ]
    }
   ],
   "source": [
    "selfjoinedFrame.show(5)"
   ]
  },
  {
   "cell_type": "markdown",
   "metadata": {},
   "source": [
    "Das sieht schonmal gut aus :) jetzt aggregieren..."
   ]
  },
  {
   "cell_type": "code",
   "execution_count": 7,
   "metadata": {},
   "outputs": [],
   "source": [
    "import src.features.feature_functions\n",
    "pixelPaareProNutzer = group_dataframe_by_user(selfjoinedFrame)\n"
   ]
  },
  {
   "cell_type": "code",
   "execution_count": 8,
   "metadata": {},
   "outputs": [
    {
     "name": "stderr",
     "output_type": "stream",
     "text": [
      "[Stage 13:======================================>                   (6 + 3) / 9]\r"
     ]
    },
    {
     "name": "stdout",
     "output_type": "stream",
     "text": [
      "+--------------------+-----+--------------------+--------------------+--------------------+--------------------+--------------------+--------------------+--------------------+--------------------+\n",
      "|             user_id|count|    collect_list(x1)|    collect_list(x2)|    collect_list(y1)|    collect_list(y2)|    collect_list(t1)|    collect_list(t2)|    collect_list(c1)|    collect_list(c2)|\n",
      "+--------------------+-----+--------------------+--------------------+--------------------+--------------------+--------------------+--------------------+--------------------+--------------------+\n",
      "|FjHp8Fg+uuheibUWk...|   88|[998, 998, 998, 9...|[998, 998, 998, 9...|[1466, 1466, 1466...|[1466, 1466, 1466...|[60, 60, 60, 60, ...|[420, 420, 780, 1...|[#000000, #000000...|[#000000, #000000...|\n",
      "|zr4zPH9hAud2ggres...|   79|[1335, 1335, 1335...|[1336, 1337, 1338...|[570, 570, 570, 5...|[570, 570, 570, 5...|[286, 286, 286, 2...|[588, 890, 1191, ...|[#000000, #000000...|[#000000, #000000...|\n",
      "|VcHUE/HttS4Zm0734...|   79|[1537, 1537, 1537...|[1537, 1537, 1537...|[1844, 1844, 1844...|[1844, 1844, 1844...|[103, 103, 103, 1...|[463, 823, 823, 1...|[#000000, #000000...|[#000000, #000000...|\n",
      "|DIECtVqoJqBlL6A0C...|   77|[936, 936, 936, 9...|[935, 917, 909, 9...|[1861, 1861, 1861...|[1863, 1836, 1856...|[293, 293, 293, 2...|[595, 595, 897, 8...|[#FFFFFF, #FFFFFF...|[#3690EA, #3690EA...|\n",
      "|5zx6jQdv38K+gQhet...|   67|[1690, 1690, 1690...|[1761, 1726, 1696...|[1118, 1118, 1118...|[1094, 1111, 1110...|[75, 75, 75, 75, ...|[381, 687, 993, 1...|[#BE0039, #BE0039...|[#BE0039, #D4D7D9...|\n",
      "+--------------------+-----+--------------------+--------------------+--------------------+--------------------+--------------------+--------------------+--------------------+--------------------+\n",
      "only showing top 5 rows\n",
      "\n"
     ]
    },
    {
     "name": "stderr",
     "output_type": "stream",
     "text": [
      "                                                                                \r"
     ]
    }
   ],
   "source": [
    "pixelPaareProNutzer.show(5)"
   ]
  },
  {
   "cell_type": "markdown",
   "metadata": {},
   "source": [
    "Das ist jetzt eine Liste von paarweise verbundenen Pixeln pro Nutzer...\n",
    "\n",
    "Die Liste ist ja wer die meisten Pixelpaare hat. Als Bild wäre es schön von einem Nutzer die Paare zu zeichnen den wir schon haben... Das Beispiel war \"AxBTmhBMbr1sbDw/2liFySQ4h6lH1bZSyjS9RtcBxvMyafVj+e2grv9teqbU9JkFDCPlgIfWH+L2CzKeSBdB4w==\"\n",
    "\n",
    "gucken wir mal ob wir diese Pixelpaare für einen Nutzer zeichnen können"
   ]
  },
  {
   "cell_type": "code",
   "execution_count": 9,
   "metadata": {},
   "outputs": [
    {
     "name": "stderr",
     "output_type": "stream",
     "text": [
      "[Stage 16:===================================================>      (8 + 1) / 9]\r"
     ]
    },
    {
     "name": "stdout",
     "output_type": "stream",
     "text": [
      "Row(user_id='AxBTmhBMbr1sbDw/2liFySQ4h6lH1bZSyjS9RtcBxvMyafVj+e2grv9teqbU9JkFDCPlgIfWH+L2CzKeSBdB4w==', count=30, collect_list(x1)=[1447, 1447, 1447, 1447, 1636, 1636, 1636, 1287, 1287, 1287, 1310, 1310, 1617, 1617, 1617, 1617, 655, 655, 612, 612, 1575, 658, 658, 658, 1403, 777, 1741, 1741, 586, 1611], collect_list(x2)=[1287, 1310, 1575, 1403, 1617, 1575, 1741, 1310, 1403, 1299, 1403, 1299, 1575, 1741, 1611, 1765, 586, 656, 586, 656, 1611, 777, 788, 584, 1299, 788, 1611, 1765, 656, 1765], collect_list(y1)=[5, 5, 5, 5, 21, 21, 21, 8, 8, 8, 10, 10, 16, 16, 16, 16, 1896, 1896, 1917, 1917, 7, 14, 14, 14, 2, 8, 10, 10, 1931, 33], collect_list(y2)=[8, 10, 7, 2, 16, 7, 10, 10, 2, 20, 2, 20, 7, 10, 33, 8, 1931, 1884, 1931, 1884, 33, 8, 11, 26, 20, 11, 33, 8, 1884, 8], collect_list(t1)=[184, 184, 184, 184, 492, 492, 492, 801, 801, 801, 1109, 1109, 1417, 1417, 1417, 1417, 1726, 1726, 1726, 1726, 1726, 2035, 2035, 2035, 2344, 2344, 2344, 2344, 2653, 3269], collect_list(t2)=[801, 1109, 1726, 2344, 1417, 1726, 2344, 1109, 2344, 2653, 2344, 2653, 1726, 2344, 3269, 3577, 2653, 2961, 2653, 2961, 3269, 2344, 2961, 3577, 2653, 2961, 3269, 3577, 2961, 3577], collect_list(c1)=['#FFA800', '#FFA800', '#FFA800', '#FFA800', '#FFFFFF', '#FFFFFF', '#FFFFFF', '#3690EA', '#3690EA', '#3690EA', '#2450A4', '#2450A4', '#FF4500', '#FF4500', '#FF4500', '#FF4500', '#B44AC0', '#B44AC0', '#E4ABFF', '#E4ABFF', '#FFA800', '#FF4500', '#FF4500', '#FF4500', '#FFA800', '#FFA800', '#FFA800', '#FFA800', '#9C6926', '#2450A4'], collect_list(c2)=['#3690EA', '#2450A4', '#FFA800', '#FFA800', '#FF4500', '#FFA800', '#FFA800', '#2450A4', '#FFA800', '#FFFFFF', '#FFA800', '#FFFFFF', '#FFA800', '#FFA800', '#2450A4', '#FFA800', '#9C6926', '#E4ABFF', '#9C6926', '#E4ABFF', '#2450A4', '#FFA800', '#000000', '#000000', '#FFFFFF', '#000000', '#2450A4', '#FFA800', '#E4ABFF', '#FFA800'])\n"
     ]
    },
    {
     "name": "stderr",
     "output_type": "stream",
     "text": [
      "                                                                                \r"
     ]
    }
   ],
   "source": [
    "user_pixel_paare = pixelPaareProNutzer.where(F.col('user_id') == 'AxBTmhBMbr1sbDw/2liFySQ4h6lH1bZSyjS9RtcBxvMyafVj+e2grv9teqbU9JkFDCPlgIfWH+L2CzKeSBdB4w==').head(1)[0]\n",
    "print(user_pixel_paare)"
   ]
  },
  {
   "cell_type": "code",
   "execution_count": 10,
   "metadata": {},
   "outputs": [
    {
     "data": {
      "image/png": "[encoded data removed]",
      "text/plain": [
       "<Figure size 432x288 with 1 Axes>"
      ]
     },
     "metadata": {
      "needs_background": "light"
     },
     "output_type": "display_data"
    }
   ],
   "source": [
    "import numpy as np\n",
    "import matplotlib.pyplot as plt\n",
    "from src.visualization.visuialization_functions import new_xyt_plot,plot_line\n",
    "\n",
    "subplot = new_xyt_plot()\n",
    "for i in np.arange(0,len(user_pixel_paare['collect_list(x1)'])):\n",
    "    subplot = plot_line([user_pixel_paare['collect_list(x1)'][i],user_pixel_paare['collect_list(x2)'][i]],[user_pixel_paare['collect_list(y1)'][i],user_pixel_paare['collect_list(y2)'][i]],[user_pixel_paare['collect_list(t1)'][i],user_pixel_paare['collect_list(t2)'][i]],color='blue',subplot=subplot,finish=False)\n",
    "\n",
    "plt.show()"
   ]
  },
  {
   "cell_type": "markdown",
   "metadata": {},
   "source": [
    "nice! vlt noch die Pixel des Nutzers dazu malen"
   ]
  },
  {
   "cell_type": "code",
   "execution_count": 51,
   "metadata": {},
   "outputs": [
    {
     "name": "stderr",
     "output_type": "stream",
     "text": [
      "[Stage 62:=============================================>            (7 + 2) / 9]\r"
     ]
    },
    {
     "name": "stdout",
     "output_type": "stream",
     "text": [
      "+--------------------+-----+--------------------+--------------------+--------------------+-------------------------+\n",
      "|             user_id|count|     collect_list(x)|     collect_list(y)|     collect_list(t)|collect_list(pixel_color)|\n",
      "+--------------------+-----+--------------------+--------------------+--------------------+-------------------------+\n",
      "|AxBTmhBMbr1sbDw/2...|   20|[1447, 1617, 655,...|[5, 16, 1896, 191...|[184, 1417, 1726,...|     [#FFA800, #FF4500...|\n",
      "+--------------------+-----+--------------------+--------------------+--------------------+-------------------------+\n",
      "only showing top 1 row\n",
      "\n"
     ]
    },
    {
     "name": "stderr",
     "output_type": "stream",
     "text": [
      "                                                                                \r"
     ]
    }
   ],
   "source": [
    "groupedFrame.show(1)"
   ]
  },
  {
   "cell_type": "code",
   "execution_count": 11,
   "metadata": {},
   "outputs": [],
   "source": [
    "from src.visualization.visuialization_functions import plot_pixellist"
   ]
  },
  {
   "cell_type": "code",
   "execution_count": 12,
   "metadata": {},
   "outputs": [
    {
     "name": "stderr",
     "output_type": "stream",
     "text": [
      "                                                                                \r"
     ]
    }
   ],
   "source": [
    "row = groupedFrame.head(1)[0]\n",
    "user_id , count ,xs , ys , ts , pixel_color = list(row)"
   ]
  },
  {
   "cell_type": "code",
   "execution_count": 1,
   "metadata": {},
   "outputs": [
    {
     "ename": "NameError",
     "evalue": "name 'new_xyt_plot' is not defined",
     "output_type": "error",
     "traceback": [
      "\u001b[0;31m---------------------------------------------------------------------------\u001b[0m",
      "\u001b[0;31mNameError\u001b[0m                                 Traceback (most recent call last)",
      "\u001b[1;32m/workspaces/placegroups/notebooks/0.1-heuer-pixelklassen.ipynb Cell 21'\u001b[0m in \u001b[0;36m<cell line: 1>\u001b[0;34m()\u001b[0m\n\u001b[0;32m----> <a href='vscode-notebook-cell://dev-container%2B633a5c756e695c42696720446174615c776f726b73706163655c706c61636567726f757073/workspaces/placegroups/notebooks/0.1-heuer-pixelklassen.ipynb#ch0000020vscode-remote?line=0'>1</a>\u001b[0m subplot \u001b[39m=\u001b[39m new_xyt_plot()\n\u001b[1;32m      <a href='vscode-notebook-cell://dev-container%2B633a5c756e695c42696720446174615c776f726b73706163655c706c61636567726f757073/workspaces/placegroups/notebooks/0.1-heuer-pixelklassen.ipynb#ch0000020vscode-remote?line=2'>3</a>\u001b[0m subplot \u001b[39m=\u001b[39m plot_pixellist([xs,ys,ts],color\u001b[39m=\u001b[39m\u001b[39m'\u001b[39m\u001b[39mred\u001b[39m\u001b[39m'\u001b[39m,subplot\u001b[39m=\u001b[39msubplot,finish\u001b[39m=\u001b[39m\u001b[39mFalse\u001b[39;00m)\n\u001b[1;32m      <a href='vscode-notebook-cell://dev-container%2B633a5c756e695c42696720446174615c776f726b73706163655c706c61636567726f757073/workspaces/placegroups/notebooks/0.1-heuer-pixelklassen.ipynb#ch0000020vscode-remote?line=3'>4</a>\u001b[0m \u001b[39mfor\u001b[39;00m i \u001b[39min\u001b[39;00m np\u001b[39m.\u001b[39marange(\u001b[39m0\u001b[39m,\u001b[39mlen\u001b[39m(user_pixel_paare[\u001b[39m'\u001b[39m\u001b[39mcollect_list(x1)\u001b[39m\u001b[39m'\u001b[39m])):\n",
      "\u001b[0;31mNameError\u001b[0m: name 'new_xyt_plot' is not defined"
     ]
    }
   ],
   "source": [
    "from src.visualization.visuialization_functions import new_xyt_plot\n",
    "subplot = new_xyt_plot()\n",
    "\n",
    "subplot = plot_pixellist([xs,ys,ts],color='red',subplot=subplot,finish=False)\n",
    "for i in np.arange(0,len(user_pixel_paare['collect_list(x1)'])):\n",
    "    subplot = plot_line([user_pixel_paare['collect_list(x1)'][i],user_pixel_paare['collect_list(x2)'][i]],[user_pixel_paare['collect_list(y1)'][i],user_pixel_paare['collect_list(y2)'][i]],[user_pixel_paare['collect_list(t1)'][i],user_pixel_paare['collect_list(t2)'][i]],color='blue',subplot=subplot,finish=False)\n",
    "\n",
    "subplot.set_title('Paarweise zusammenhängende Pixel')\n",
    "subplot.set_ylim([2001,0])\n",
    "subplot.set_xlim([0,2001])\n",
    "subplot.set_zlim([0,3601])\n",
    "\n",
    "plt.savefig('pixelpaare.png',dpi=300)\n",
    "plt.show()\n"
   ]
  }
 ],
 "metadata": {
  "interpreter": {
   "hash": "949777d72b0d2535278d3dc13498b2535136f6dfe0678499012e853ee9abcab1"
  },
  "kernelspec": {
   "display_name": "Python 3.9.12 64-bit",
   "language": "python",
   "name": "python3"
  },
  "language_info": {
   "codemirror_mode": {
    "name": "ipython",
    "version": 3
   },
   "file_extension": ".py",
   "mimetype": "text/x-python",
   "name": "python",
   "nbconvert_exporter": "python",
   "pygments_lexer": "ipython3",
   "version": "3.9.12"
  },
  "orig_nbformat": 4
 },
 "nbformat": 4,
 "nbformat_minor": 2
}
