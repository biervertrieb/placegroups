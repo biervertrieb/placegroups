{
 "cells": [
  {
   "cell_type": "markdown",
   "metadata": {},
   "source": [
    "### Pro Nutzer gruppierte Pixel ..... ich möchte gern Pixel paarweise vergleichen damit ich gucken kann ob die kollidieren oder nicht"
   ]
  },
  {
   "cell_type": "code",
   "execution_count": 1,
   "metadata": {},
   "outputs": [
    {
     "name": "stdout",
     "output_type": "stream",
     "text": [
      "providing ../data/raw/2022_place_canvas_history-000000000050.csv ...\n",
      "../data/raw/2022_place_canvas_history-000000000050.csv is already in data/raw\n",
      ":: loading settings :: url = jar:file:/usr/local/lib/python3.9/site-packages/pyspark/jars/ivy-2.5.0.jar!/org/apache/ivy/core/settings/ivysettings.xml\n"
     ]
    },
    {
     "name": "stderr",
     "output_type": "stream",
     "text": [
      "Ivy Default Cache set to: /home/vscode/.ivy2/cache\n",
      "The jars for the packages stored in: /home/vscode/.ivy2/jars\n",
      "graphframes#graphframes added as a dependency\n",
      ":: resolving dependencies :: org.apache.spark#spark-submit-parent-99e3e928-9a9e-4ed7-a62d-5298765c90d7;1.0\n",
      "\tconfs: [default]\n",
      "\tfound graphframes#graphframes;0.8.2-spark3.2-s_2.12 in spark-packages\n",
      "\tfound org.slf4j#slf4j-api;1.7.16 in central\n",
      ":: resolution report :: resolve 343ms :: artifacts dl 6ms\n",
      "\t:: modules in use:\n",
      "\tgraphframes#graphframes;0.8.2-spark3.2-s_2.12 from spark-packages in [default]\n",
      "\torg.slf4j#slf4j-api;1.7.16 from central in [default]\n",
      "\t---------------------------------------------------------------------\n",
      "\t|                  |            modules            ||   artifacts   |\n",
      "\t|       conf       | number| search|dwnlded|evicted|| number|dwnlded|\n",
      "\t---------------------------------------------------------------------\n",
      "\t|      default     |   2   |   0   |   0   |   0   ||   2   |   0   |\n",
      "\t---------------------------------------------------------------------\n",
      ":: retrieving :: org.apache.spark#spark-submit-parent-99e3e928-9a9e-4ed7-a62d-5298765c90d7\n",
      "\tconfs: [default]\n",
      "\t0 artifacts copied, 2 already retrieved (0kB/6ms)\n",
      "22/05/14 12:34:58 WARN NativeCodeLoader: Unable to load native-hadoop library for your platform... using builtin-java classes where applicable\n",
      "Using Spark's default log4j profile: org/apache/spark/log4j-defaults.properties\n",
      "Setting default log level to \"WARN\".\n",
      "To adjust logging level use sc.setLogLevel(newLevel). For SparkR, use setLogLevel(newLevel).\n",
      "                                                                                \r"
     ]
    }
   ],
   "source": [
    "from src.data.dataset_functions import get_dataframe\n",
    "\n",
    "dataFrame = get_dataframe(True) # sample data only\n",
    "from src.features.feature_functions import group_dataframe_by_user\n",
    "groupedFrame = group_dataframe_by_user(dataFrame)"
   ]
  },
  {
   "cell_type": "code",
   "execution_count": 3,
   "metadata": {},
   "outputs": [
    {
     "name": "stderr",
     "output_type": "stream",
     "text": [
      "[Stage 7:>                                                          (0 + 8) / 9]\r"
     ]
    },
    {
     "name": "stdout",
     "output_type": "stream",
     "text": [
      "+--------------------+-----+--------------------+--------------------+--------------------+-------------------------+\n",
      "|             user_id|count|     collect_list(x)|     collect_list(y)|     collect_list(t)|collect_list(pixel_color)|\n",
      "+--------------------+-----+--------------------+--------------------+--------------------+-------------------------+\n",
      "|AxBTmhBMbr1sbDw/2...|   20|[1447, 1617, 655,...|[5, 16, 1896, 191...|[184, 1417, 1726,...|     [#FFA800, #FF4500...|\n",
      "+--------------------+-----+--------------------+--------------------+--------------------+-------------------------+\n",
      "only showing top 1 row\n",
      "\n"
     ]
    },
    {
     "name": "stderr",
     "output_type": "stream",
     "text": [
      "                                                                                \r"
     ]
    }
   ],
   "source": [
    "groupedFrame.show(1)"
   ]
  },
  {
   "cell_type": "markdown",
   "metadata": {},
   "source": [
    "### Hmmm leider bringen mir die aggregierten Pixel gerade nichts. Ich brauche einzelne Pixel"
   ]
  },
  {
   "cell_type": "code",
   "execution_count": 4,
   "metadata": {},
   "outputs": [
    {
     "name": "stdout",
     "output_type": "stream",
     "text": [
      "+--------------------+---+----+---+-----------+\n",
      "|             user_id|  x|   y|  t|pixel_color|\n",
      "+--------------------+---+----+---+-----------+\n",
      "|vKtmwRQwAYtw5poO4...|804|1992|  0|    #FF3881|\n",
      "+--------------------+---+----+---+-----------+\n",
      "only showing top 1 row\n",
      "\n"
     ]
    }
   ],
   "source": [
    "dataFrame.show(1)"
   ]
  },
  {
   "cell_type": "markdown",
   "metadata": {},
   "source": [
    "### Ich möchte jeden Pixel mit allen anderen Pixeln vergleichen.. Self Join also! \n",
    "Weil ich jedes Pixelpaar nur einmal brauche muss ich Pixel1 - Pixel2 und Pixel2 - Pixel1 wie Duplikate entfernen\n",
    "\n",
    "...\n",
    "\n",
    "Idee: ich nutze die Ordnung in der Zeit! Damit gibt es eine feste Reihenfolge von Pixeln in der verglichen wird und Pixel2-Pixel1 kommt nie vor\n",
    "\n",
    "-> df2.t > df1.t"
   ]
  },
  {
   "cell_type": "code",
   "execution_count": 2,
   "metadata": {},
   "outputs": [
    {
     "name": "stdout",
     "output_type": "stream",
     "text": [
      "Box xy max 80\n",
      "Box t max 1200\n"
     ]
    }
   ],
   "source": [
    "import pyspark.sql.functions as F\n",
    "from src.models.models import RZModel\n",
    "\n",
    "print(\"Box xy max \"+str(RZModel.max_xy_dist))\n",
    "print(\"Box t max \" +str(RZModel.max_t_dist))"
   ]
  },
  {
   "cell_type": "code",
   "execution_count": 3,
   "metadata": {},
   "outputs": [],
   "source": [
    "RZModel.max_xy_dist = 80 # zum rumspielen"
   ]
  },
  {
   "cell_type": "code",
   "execution_count": 4,
   "metadata": {},
   "outputs": [],
   "source": [
    "selfjoinedFrame = dataFrame.alias('df1').join(dataFrame.alias('df2'),F.col('df1.user_id') == F.col('df2.user_id'),'inner')\n",
    "selfjoinedFrame = selfjoinedFrame.where('df2.t > df1.t').where('df2.t <= df1.t + 2*'+str(RZModel.max_t_dist))\n",
    "selfjoinedFrame = selfjoinedFrame.where('Abs(df2.x - df1.x) <= 2*'+str(RZModel.max_xy_dist))\n",
    "selfjoinedFrame = selfjoinedFrame.where('Abs(df2.y - df1.y) <= 2*'+str(RZModel.max_xy_dist))\n",
    "selfjoinedFrame = selfjoinedFrame.select(F.col('df1.user_id'),F.col('df1.x').alias(\"x1\"),F.col('df2.x').alias('x2'),F.col('df1.y').alias(\"y1\"),F.col('df2.y').alias('y2'),F.col('df1.t').alias(\"t1\"),F.col('df2.t').alias('t2'),F.col('df1.pixel_color').alias(\"c1\"),F.col('df2.pixel_color').alias('c2'))"
   ]
  },
  {
   "cell_type": "code",
   "execution_count": 5,
   "metadata": {},
   "outputs": [
    {
     "name": "stderr",
     "output_type": "stream",
     "text": [
      "[Stage 4:>                                                          (0 + 1) / 1]\r"
     ]
    },
    {
     "name": "stdout",
     "output_type": "stream",
     "text": [
      "+--------------------+---+---+----+----+----+----+-------+-------+\n",
      "|             user_id| x1| x2|  y1|  y2|  t1|  t2|     c1|     c2|\n",
      "+--------------------+---+---+----+----+----+----+-------+-------+\n",
      "|++3l0k1HSXKiAsHkH...|684|668|1270|1211|1058|1381|#D4D7D9|#D4D7D9|\n",
      "|++3l0k1HSXKiAsHkH...|684|664|1270|1240|1058|1721|#D4D7D9|#9C6926|\n",
      "|++3l0k1HSXKiAsHkH...|684|667|1270|1240|1058|2057|#D4D7D9|#9C6926|\n",
      "|++3l0k1HSXKiAsHkH...|684|663|1270|1240|1058|2399|#D4D7D9|#9C6926|\n",
      "|++3l0k1HSXKiAsHkH...|684|653|1270|1229|1058|2779|#D4D7D9|#FFFFFF|\n",
      "+--------------------+---+---+----+----+----+----+-------+-------+\n",
      "only showing top 5 rows\n",
      "\n"
     ]
    },
    {
     "name": "stderr",
     "output_type": "stream",
     "text": [
      "                                                                                \r"
     ]
    }
   ],
   "source": [
    "selfjoinedFrame.show(5)"
   ]
  },
  {
   "cell_type": "markdown",
   "metadata": {},
   "source": [
    "Das sieht schonmal gut aus :) jetzt aggregieren..."
   ]
  },
  {
   "cell_type": "code",
   "execution_count": 6,
   "metadata": {},
   "outputs": [],
   "source": [
    "import src.features.feature_functions\n",
    "pixelPaareProNutzer = group_dataframe_by_user(selfjoinedFrame)\n"
   ]
  },
  {
   "cell_type": "code",
   "execution_count": 7,
   "metadata": {},
   "outputs": [
    {
     "name": "stderr",
     "output_type": "stream",
     "text": [
      "[Stage 7:====================================================>      (8 + 1) / 9]\r"
     ]
    },
    {
     "name": "stdout",
     "output_type": "stream",
     "text": [
      "+--------------------+-----+--------------------+--------------------+--------------------+--------------------+--------------------+--------------------+--------------------+--------------------+\n",
      "|             user_id|count|    collect_list(x1)|    collect_list(x2)|    collect_list(y1)|    collect_list(y2)|    collect_list(t1)|    collect_list(t2)|    collect_list(c1)|    collect_list(c2)|\n",
      "+--------------------+-----+--------------------+--------------------+--------------------+--------------------+--------------------+--------------------+--------------------+--------------------+\n",
      "|FjHp8Fg+uuheibUWk...|   88|[998, 998, 998, 9...|[998, 998, 998, 9...|[1466, 1466, 1466...|[1466, 1466, 1466...|[60, 60, 60, 60, ...|[420, 420, 780, 1...|[#000000, #000000...|[#000000, #000000...|\n",
      "|VcHUE/HttS4Zm0734...|   79|[1537, 1537, 1537...|[1537, 1537, 1537...|[1844, 1844, 1844...|[1844, 1844, 1844...|[103, 103, 103, 1...|[463, 823, 823, 1...|[#000000, #000000...|[#000000, #000000...|\n",
      "|zr4zPH9hAud2ggres...|   79|[1335, 1335, 1335...|[1336, 1337, 1338...|[570, 570, 570, 5...|[570, 570, 570, 5...|[286, 286, 286, 2...|[588, 890, 1191, ...|[#000000, #000000...|[#000000, #000000...|\n",
      "|DIECtVqoJqBlL6A0C...|   77|[936, 936, 936, 9...|[935, 917, 909, 9...|[1861, 1861, 1861...|[1863, 1836, 1856...|[293, 293, 293, 2...|[595, 595, 897, 8...|[#FFFFFF, #FFFFFF...|[#3690EA, #3690EA...|\n",
      "|5zx6jQdv38K+gQhet...|   67|[1690, 1690, 1690...|[1761, 1726, 1696...|[1118, 1118, 1118...|[1094, 1111, 1110...|[75, 75, 75, 75, ...|[381, 687, 993, 1...|[#BE0039, #BE0039...|[#BE0039, #D4D7D9...|\n",
      "+--------------------+-----+--------------------+--------------------+--------------------+--------------------+--------------------+--------------------+--------------------+--------------------+\n",
      "only showing top 5 rows\n",
      "\n"
     ]
    },
    {
     "name": "stderr",
     "output_type": "stream",
     "text": [
      "                                                                                \r"
     ]
    }
   ],
   "source": [
    "pixelPaareProNutzer.show(5)"
   ]
  },
  {
   "cell_type": "markdown",
   "metadata": {},
   "source": [
    "Das ist jetzt eine Liste von paarweise verbundenen Pixeln pro Nutzer...\n",
    "\n",
    "Die Liste ist ja wer die meisten Pixelpaare hat. Als Bild wäre es schön von einem Nutzer die Paare zu zeichnen den wir schon haben... Das Beispiel war \"AxBTmhBMbr1sbDw/2liFySQ4h6lH1bZSyjS9RtcBxvMyafVj+e2grv9teqbU9JkFDCPlgIfWH+L2CzKeSBdB4w==\"\n",
    "\n",
    "gucken wir mal ob wir diese Pixelpaare für einen Nutzer zeichnen können"
   ]
  },
  {
   "cell_type": "code",
   "execution_count": 8,
   "metadata": {},
   "outputs": [
    {
     "name": "stderr",
     "output_type": "stream",
     "text": [
      "                                                                                \r"
     ]
    }
   ],
   "source": [
    "user_pixel_paare = pixelPaareProNutzer.where(F.col('user_id') == 'AxBTmhBMbr1sbDw/2liFySQ4h6lH1bZSyjS9RtcBxvMyafVj+e2grv9teqbU9JkFDCPlgIfWH+L2CzKeSBdB4w==').head(1)[0]"
   ]
  },
  {
   "cell_type": "code",
   "execution_count": 11,
   "metadata": {},
   "outputs": [
    {
     "name": "stdout",
     "output_type": "stream",
     "text": [
      "Row(user_id='AxBTmhBMbr1sbDw/2liFySQ4h6lH1bZSyjS9RtcBxvMyafVj+e2grv9teqbU9JkFDCPlgIfWH+L2CzKeSBdB4w==', count=30, collect_list(x1)=[1447, 1447, 1447, 1447, 1636, 1636, 1636, 1287, 1287, 1287, 1310, 1310, 1617, 1617, 1617, 1617, 655, 655, 612, 612, 1575, 658, 658, 658, 1403, 777, 1741, 1741, 586, 1611], collect_list(x2)=[1287, 1310, 1575, 1403, 1617, 1575, 1741, 1310, 1403, 1299, 1403, 1299, 1575, 1741, 1611, 1765, 586, 656, 586, 656, 1611, 777, 788, 584, 1299, 788, 1611, 1765, 656, 1765], collect_list(y1)=[5, 5, 5, 5, 21, 21, 21, 8, 8, 8, 10, 10, 16, 16, 16, 16, 1896, 1896, 1917, 1917, 7, 14, 14, 14, 2, 8, 10, 10, 1931, 33], collect_list(y2)=[8, 10, 7, 2, 16, 7, 10, 10, 2, 20, 2, 20, 7, 10, 33, 8, 1931, 1884, 1931, 1884, 33, 8, 11, 26, 20, 11, 33, 8, 1884, 8], collect_list(t1)=[184, 184, 184, 184, 492, 492, 492, 801, 801, 801, 1109, 1109, 1417, 1417, 1417, 1417, 1726, 1726, 1726, 1726, 1726, 2035, 2035, 2035, 2344, 2344, 2344, 2344, 2653, 3269], collect_list(t2)=[801, 1109, 1726, 2344, 1417, 1726, 2344, 1109, 2344, 2653, 2344, 2653, 1726, 2344, 3269, 3577, 2653, 2961, 2653, 2961, 3269, 2344, 2961, 3577, 2653, 2961, 3269, 3577, 2961, 3577], collect_list(c1)=['#FFA800', '#FFA800', '#FFA800', '#FFA800', '#FFFFFF', '#FFFFFF', '#FFFFFF', '#3690EA', '#3690EA', '#3690EA', '#2450A4', '#2450A4', '#FF4500', '#FF4500', '#FF4500', '#FF4500', '#B44AC0', '#B44AC0', '#E4ABFF', '#E4ABFF', '#FFA800', '#FF4500', '#FF4500', '#FF4500', '#FFA800', '#FFA800', '#FFA800', '#FFA800', '#9C6926', '#2450A4'], collect_list(c2)=['#3690EA', '#2450A4', '#FFA800', '#FFA800', '#FF4500', '#FFA800', '#FFA800', '#2450A4', '#FFA800', '#FFFFFF', '#FFA800', '#FFFFFF', '#FFA800', '#FFA800', '#2450A4', '#FFA800', '#9C6926', '#E4ABFF', '#9C6926', '#E4ABFF', '#2450A4', '#FFA800', '#000000', '#000000', '#FFFFFF', '#000000', '#2450A4', '#FFA800', '#E4ABFF', '#FFA800'])\n"
     ]
    }
   ],
   "source": [
    "print(user_pixel_paare)"
   ]
  },
  {
   "cell_type": "code",
   "execution_count": 9,
   "metadata": {},
   "outputs": [
    {
     "data": {
      "image/png": "[encoded data removed]",
      "text/plain": [
       "<Figure size 432x288 with 1 Axes>"
      ]
     },
     "metadata": {
      "needs_background": "light"
     },
     "output_type": "display_data"
    }
   ],
   "source": [
    "import numpy as np\n",
    "import matplotlib.pyplot as plt\n",
    "from src.visualization.visuialization_functions import new_xyt_plot,plot_line\n",
    "\n",
    "subplot = new_xyt_plot()\n",
    "for i in np.arange(0,len(user_pixel_paare['collect_list(x1)'])):\n",
    "    subplot = plot_line([user_pixel_paare['collect_list(x1)'][i],user_pixel_paare['collect_list(x2)'][i]],[user_pixel_paare['collect_list(y1)'][i],user_pixel_paare['collect_list(y2)'][i]],[user_pixel_paare['collect_list(t1)'][i],user_pixel_paare['collect_list(t2)'][i]],color='blue',subplot=subplot,finish=False)\n",
    "\n",
    "plt.show()"
   ]
  },
  {
   "cell_type": "markdown",
   "metadata": {},
   "source": [
    "nice! vlt noch die Pixel des Nutzers dazu malen"
   ]
  },
  {
   "cell_type": "code",
   "execution_count": 13,
   "metadata": {},
   "outputs": [
    {
     "name": "stderr",
     "output_type": "stream",
     "text": [
      "[Stage 19:===================>                                      (3 + 6) / 9]\r"
     ]
    },
    {
     "name": "stdout",
     "output_type": "stream",
     "text": [
      "+--------------------+-----+--------------------+--------------------+--------------------+-------------------------+\n",
      "|             user_id|count|     collect_list(x)|     collect_list(y)|     collect_list(t)|collect_list(pixel_color)|\n",
      "+--------------------+-----+--------------------+--------------------+--------------------+-------------------------+\n",
      "|AxBTmhBMbr1sbDw/2...|   20|[1447, 1617, 655,...|[5, 16, 1896, 191...|[184, 1417, 1726,...|     [#FFA800, #FF4500...|\n",
      "+--------------------+-----+--------------------+--------------------+--------------------+-------------------------+\n",
      "only showing top 1 row\n",
      "\n"
     ]
    },
    {
     "name": "stderr",
     "output_type": "stream",
     "text": [
      "                                                                                \r"
     ]
    }
   ],
   "source": [
    "groupedFrame.show(1)"
   ]
  },
  {
   "cell_type": "code",
   "execution_count": 10,
   "metadata": {},
   "outputs": [
    {
     "name": "stderr",
     "output_type": "stream",
     "text": [
      "                                                                                \r"
     ]
    }
   ],
   "source": [
    "row = groupedFrame.head(1)[0]\n",
    "user_id , count ,xs , ys , ts , pixel_color = list(row)"
   ]
  },
  {
   "cell_type": "code",
   "execution_count": 11,
   "metadata": {},
   "outputs": [
    {
     "data": {
      "image/png": "[encoded data removed]",
      "text/plain": [
       "<Figure size 432x288 with 1 Axes>"
      ]
     },
     "metadata": {
      "needs_background": "light"
     },
     "output_type": "display_data"
    }
   ],
   "source": [
    "from src.visualization.visuialization_functions import new_xyt_plot,plot_pixellist\n",
    "subplot = new_xyt_plot()\n",
    "\n",
    "subplot = plot_pixellist([xs,ys,ts],color='red',subplot=subplot,finish=False)\n",
    "for i in np.arange(0,len(user_pixel_paare['collect_list(x1)'])):\n",
    "    subplot = plot_line([user_pixel_paare['collect_list(x1)'][i],user_pixel_paare['collect_list(x2)'][i]],[user_pixel_paare['collect_list(y1)'][i],user_pixel_paare['collect_list(y2)'][i]],[user_pixel_paare['collect_list(t1)'][i],user_pixel_paare['collect_list(t2)'][i]],color='blue',subplot=subplot,finish=False)\n",
    "\n",
    "subplot.set_title('Paarweise zusammenhängende Pixel')\n",
    "subplot.set_ylim([2001,0])\n",
    "subplot.set_xlim([0,2001])\n",
    "subplot.set_zlim([0,3601])\n",
    "\n",
    "plt.savefig('pixelpaare.png',dpi=300)\n",
    "plt.show()\n"
   ]
  },
  {
   "cell_type": "markdown",
   "metadata": {},
   "source": [
    "### mit so einem Graphen gibts einen Algorithmus für Zusammenhangskomponenten...\n",
    "\n",
    "Der Algorithmus vom GraphFrame package braucht eine ID für vertices. monotonically_increasing_id() vergibt eindeutige IDs. Nur sind die nicht zusammenhängend wegen den verteilten Daten auf denen gerechnet wird! Naja brauchen wir auch nicht"
   ]
  },
  {
   "cell_type": "code",
   "execution_count": 23,
   "metadata": {},
   "outputs": [
    {
     "name": "stdout",
     "output_type": "stream",
     "text": [
      "root\n",
      " |-- user_id: string (nullable = true)\n",
      " |-- x: integer (nullable = true)\n",
      " |-- y: integer (nullable = true)\n",
      " |-- t: long (nullable = true)\n",
      " |-- pixel_color: string (nullable = true)\n",
      "\n"
     ]
    }
   ],
   "source": [
    "dataFrame.printSchema()"
   ]
  },
  {
   "cell_type": "code",
   "execution_count": 12,
   "metadata": {},
   "outputs": [],
   "source": [
    "withIDFrame = dataFrame.withColumn('pixel_id',F.monotonically_increasing_id())"
   ]
  },
  {
   "cell_type": "markdown",
   "metadata": {},
   "source": [
    "erstmal wieder nur für den speziellen Nutzer weiter untersuchen"
   ]
  },
  {
   "cell_type": "code",
   "execution_count": 13,
   "metadata": {},
   "outputs": [],
   "source": [
    "user_pixel_Frame = withIDFrame.where(F.col('user_id') == 'AxBTmhBMbr1sbDw/2liFySQ4h6lH1bZSyjS9RtcBxvMyafVj+e2grv9teqbU9JkFDCPlgIfWH+L2CzKeSBdB4w==')"
   ]
  },
  {
   "cell_type": "code",
   "execution_count": 34,
   "metadata": {},
   "outputs": [
    {
     "name": "stderr",
     "output_type": "stream",
     "text": [
      "[Stage 39:>                                                         (0 + 4) / 4]\r"
     ]
    },
    {
     "name": "stdout",
     "output_type": "stream",
     "text": [
      "+--------------------+----+---+----+-----------+-----------+\n",
      "|             user_id|   x|  y|   t|pixel_color|   pixel_id|\n",
      "+--------------------+----+---+----+-----------+-----------+\n",
      "|AxBTmhBMbr1sbDw/2...|1447|  5| 184|    #FFA800|     102567|\n",
      "|AxBTmhBMbr1sbDw/2...|1636| 21| 492|    #FFFFFF| 8589974236|\n",
      "|AxBTmhBMbr1sbDw/2...|1287|  8| 801|    #3690EA| 8590139860|\n",
      "|AxBTmhBMbr1sbDw/2...|1926| 19| 801|    #BE0039| 8590139861|\n",
      "|AxBTmhBMbr1sbDw/2...|1310| 10|1109|    #2450A4|17180008216|\n",
      "+--------------------+----+---+----+-----------+-----------+\n",
      "only showing top 5 rows\n",
      "\n"
     ]
    },
    {
     "name": "stderr",
     "output_type": "stream",
     "text": [
      "                                                                                \r"
     ]
    }
   ],
   "source": [
    "user_pixel_Frame.show(5)"
   ]
  },
  {
   "cell_type": "markdown",
   "metadata": {},
   "source": [
    "jetzt brauchen wir eine Liste von Edges für den Graphen. Kennen wir schon wie man das macht: Self Join unter der Bedingung dass die Pixel kollidieren.\n",
    "Als Ergebnis interessieren uns nur die IDs der Pixel."
   ]
  },
  {
   "cell_type": "code",
   "execution_count": 14,
   "metadata": {},
   "outputs": [],
   "source": [
    "# user_pixe_Frame ist zwar schon auf einen user reduziert was die erste Bedingung sinnlos macht\n",
    "# aber ich lasse es mal drin falls es copy pasted wird für die allgemeine Variante später\n",
    "edgeFrame = user_pixel_Frame.alias('df1').join(user_pixel_Frame.alias('df2'),F.col('df1.user_id') == F.col('df2.user_id'),'inner')\n",
    "edgeFrame = edgeFrame.where('df2.t > df1.t').where('df2.t <= df1.t + 2*'+str(RZModel.max_t_dist))\n",
    "edgeFrame = edgeFrame.where('Abs(df2.x - df1.x) <= 2*'+str(RZModel.max_xy_dist))\n",
    "edgeFrame = edgeFrame.where('Abs(df2.y - df1.y) <= 2*'+str(RZModel.max_xy_dist))\n",
    "edgeFrame = edgeFrame.select(F.col('df1.pixel_id').alias('src'),F.col('df2.pixel_id').alias(\"dst\"))"
   ]
  },
  {
   "cell_type": "code",
   "execution_count": 36,
   "metadata": {},
   "outputs": [
    {
     "name": "stderr",
     "output_type": "stream",
     "text": [
      "[Stage 40:==============>                                           (2 + 6) / 8]\r"
     ]
    },
    {
     "name": "stdout",
     "output_type": "stream",
     "text": [
      "+----------+-----------+\n",
      "|       src|        dst|\n",
      "+----------+-----------+\n",
      "|    102567| 8590139860|\n",
      "|    102567|17180008216|\n",
      "|    102567|25770023874|\n",
      "|    102567|42949737466|\n",
      "|8589974236|25769866243|\n",
      "+----------+-----------+\n",
      "only showing top 5 rows\n",
      "\n"
     ]
    },
    {
     "name": "stderr",
     "output_type": "stream",
     "text": [
      "                                                                                \r"
     ]
    }
   ],
   "source": [
    "edgeFrame.show(5)"
   ]
  },
  {
   "cell_type": "code",
   "execution_count": 16,
   "metadata": {},
   "outputs": [],
   "source": [
    "# der kann das nur wenn die Spalten genau so heissen... id bei den vertices und src,dst bei edges\n",
    "vertexFrame = user_pixel_Frame.withColumnRenamed('pixel_id','id')"
   ]
  },
  {
   "cell_type": "code",
   "execution_count": 17,
   "metadata": {},
   "outputs": [],
   "source": [
    "from graphframes import *\n",
    "# na dann los gehts\n",
    "\n",
    "g = GraphFrame(vertexFrame,edgeFrame)"
   ]
  },
  {
   "cell_type": "code",
   "execution_count": 18,
   "metadata": {},
   "outputs": [
    {
     "name": "stdout",
     "output_type": "stream",
     "text": [
      "GraphFrame(v:[id: bigint, user_id: string ... 4 more fields], e:[src: bigint, dst: bigint])\n"
     ]
    },
    {
     "data": {
      "text/plain": [
       "DataFrame[user_id: string, x: int, y: int, t: bigint, pixel_color: string, id: bigint]"
      ]
     },
     "metadata": {},
     "output_type": "display_data"
    },
    {
     "data": {
      "text/plain": [
       "DataFrame[src: bigint, dst: bigint]"
      ]
     },
     "metadata": {},
     "output_type": "display_data"
    }
   ],
   "source": [
    "print(g)\n",
    "display(g.vertices)\n",
    "display(g.edges)"
   ]
  },
  {
   "cell_type": "code",
   "execution_count": 19,
   "metadata": {},
   "outputs": [
    {
     "name": "stderr",
     "output_type": "stream",
     "text": [
      "                                                                                \r"
     ]
    }
   ],
   "source": [
    "result = g.connectedComponents()"
   ]
  },
  {
   "cell_type": "code",
   "execution_count": 20,
   "metadata": {},
   "outputs": [
    {
     "name": "stderr",
     "output_type": "stream",
     "text": [
      "[Stage 132:>                                                        (0 + 4) / 4]\r"
     ]
    },
    {
     "name": "stdout",
     "output_type": "stream",
     "text": [
      "+--------------------+----+---+----+-----------+-----------+----------+\n",
      "|             user_id|   x|  y|   t|pixel_color|         id| component|\n",
      "+--------------------+----+---+----+-----------+-----------+----------+\n",
      "|AxBTmhBMbr1sbDw/2...|1447|  5| 184|    #FFA800|     102567|    102567|\n",
      "|AxBTmhBMbr1sbDw/2...|1636| 21| 492|    #FFFFFF| 8589974236|    102567|\n",
      "|AxBTmhBMbr1sbDw/2...|1287|  8| 801|    #3690EA| 8590139860|    102567|\n",
      "|AxBTmhBMbr1sbDw/2...|1926| 19| 801|    #BE0039| 8590139861|8590139861|\n",
      "|AxBTmhBMbr1sbDw/2...|1310| 10|1109|    #2450A4|17180008216|    102567|\n",
      "+--------------------+----+---+----+-----------+-----------+----------+\n",
      "only showing top 5 rows\n",
      "\n"
     ]
    },
    {
     "name": "stderr",
     "output_type": "stream",
     "text": [
      "                                                                                \r"
     ]
    }
   ],
   "source": [
    "result.show(5)"
   ]
  },
  {
   "cell_type": "markdown",
   "metadata": {},
   "source": [
    "Nach Zusammenhangskomponenten gruppieren..."
   ]
  },
  {
   "cell_type": "code",
   "execution_count": 21,
   "metadata": {},
   "outputs": [],
   "source": [
    "from src.features.feature_functions import group_dataframe_by_columns\n",
    "component_pixellist_frame = group_dataframe_by_columns(result,['user_id','component'])"
   ]
  },
  {
   "cell_type": "code",
   "execution_count": 22,
   "metadata": {},
   "outputs": [
    {
     "name": "stderr",
     "output_type": "stream",
     "text": [
      "[Stage 138:=======>                                                 (1 + 7) / 8]\r"
     ]
    },
    {
     "name": "stdout",
     "output_type": "stream",
     "text": [
      "+--------------------+-----------+-----+--------------------+--------------------+--------------------+-------------------------+--------------------+\n",
      "|             user_id|  component|count|     collect_list(x)|     collect_list(y)|     collect_list(t)|collect_list(pixel_color)|    collect_list(id)|\n",
      "+--------------------+-----------+-----+--------------------+--------------------+--------------------+-------------------------+--------------------+\n",
      "|AxBTmhBMbr1sbDw/2...|     102567|   11|[1447, 1636, 1287...|[5, 21, 8, 10, 16...|[184, 492, 801, 1...|     [#FFA800, #FFFFFF...|[102567, 85899742...|\n",
      "|AxBTmhBMbr1sbDw/2...|25770023870|    4|[655, 612, 586, 656]|[1896, 1917, 1931...|[1726, 1726, 2653...|     [#B44AC0, #E4ABFF...|[25770023870, 257...|\n",
      "|AxBTmhBMbr1sbDw/2...|34359879882|    4|[658, 777, 788, 584]|     [14, 8, 11, 26]|[2035, 2344, 2961...|     [#FF4500, #FFA800...|[34359879882, 429...|\n",
      "|AxBTmhBMbr1sbDw/2...| 8590139861|    1|              [1926]|                [19]|               [801]|                [#BE0039]|        [8590139861]|\n",
      "+--------------------+-----------+-----+--------------------+--------------------+--------------------+-------------------------+--------------------+\n",
      "\n"
     ]
    },
    {
     "name": "stderr",
     "output_type": "stream",
     "text": [
      "                                                                                \r"
     ]
    }
   ],
   "source": [
    "component_pixellist_frame.show(5)"
   ]
  },
  {
   "cell_type": "code",
   "execution_count": 23,
   "metadata": {},
   "outputs": [
    {
     "name": "stderr",
     "output_type": "stream",
     "text": [
      "                                                                                \r"
     ]
    }
   ],
   "source": [
    "datarows = component_pixellist_frame.collect()\n",
    "pixellistlist = []\n",
    "\n",
    "for row in datarows:\n",
    "    xs = row['collect_list(x)']\n",
    "    ys = row['collect_list(y)']\n",
    "    ts = row['collect_list(t)']\n",
    "    pixellistlist.append([xs,ys,ts])"
   ]
  },
  {
   "cell_type": "code",
   "execution_count": 29,
   "metadata": {},
   "outputs": [
    {
     "data": {
      "image/png": "[encoded data removed]",
      "text/plain": [
       "<Figure size 432x288 with 1 Axes>"
      ]
     },
     "metadata": {
      "needs_background": "light"
     },
     "output_type": "display_data"
    }
   ],
   "source": [
    "from src.visualization.visuialization_functions import plot_list_of_pixellist\n",
    "\n",
    "subplot = new_xyt_plot()\n",
    "subplot = plot_list_of_pixellist(pixellistlist,subplot=subplot,finish=False)\n",
    "\n",
    "subplot.set_title('Zusammenhangskomponenten')\n",
    "subplot.set_ylim([2001,0])\n",
    "subplot.set_xlim([0,2001])\n",
    "subplot.set_zlim([0,3601])\n",
    "\n",
    "plt.savefig('pixelklassen.png',dpi=300)\n",
    "plt.show()\n"
   ]
  },
  {
   "cell_type": "code",
   "execution_count": null,
   "metadata": {},
   "outputs": [],
   "source": [
    "subplot = new_xyt_plot()\n",
    "#subplot = plot_list_of_pixellist(pixellistlist,subplot=subplot,finish=False)\n",
    "\n",
    "colorpicker = iter(plt.cm.tab10(\n",
    "    np.linspace(0, 1, 10)))\n",
    "for pixellist in pixellistlist:\n",
    "    color = [next(colorpicker)]\n",
    "    subplot=plot_pixellist(pixellist, color, subplot, finish=False)\n",
    "    x_list, y_list, t_list = list(pixellist)\n",
    "    for (i in a.range(0,len(x_list))):\n",
    "        plot_pixel_boundingbox(x_list[i],y_list[i],t_list[i],color,subplot,finish=False)\n",
    "\n",
    "subplot.set_title('Raumzeitvolumen')\n",
    "subplot.set_ylim([2001,0])\n",
    "subplot.set_xlim([0,2001])\n",
    "subplot.set_zlim([0,3601])\n",
    "\n",
    "plt.savefig('raumzeiten.png',dpi=300)\n",
    "plt.show()"
   ]
  }
 ],
 "metadata": {
  "interpreter": {
   "hash": "949777d72b0d2535278d3dc13498b2535136f6dfe0678499012e853ee9abcab1"
  },
  "kernelspec": {
   "display_name": "Python 3.9.12 64-bit",
   "language": "python",
   "name": "python3"
  },
  "language_info": {
   "codemirror_mode": {
    "name": "ipython",
    "version": 3
   },
   "file_extension": ".py",
   "mimetype": "text/x-python",
   "name": "python",
   "nbconvert_exporter": "python",
   "pygments_lexer": "ipython3",
   "version": "3.9.12"
  },
  "orig_nbformat": 4
 },
 "nbformat": 4,
 "nbformat_minor": 2
}
