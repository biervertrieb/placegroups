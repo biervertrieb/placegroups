{
 "cells": [
  {
   "cell_type": "code",
   "execution_count": 1,
   "metadata": {},
   "outputs": [
    {
     "name": "stdout",
     "output_type": "stream",
     "text": [
      "providing ../data/raw/2022_place_canvas_history-000000000050.csv ...\n",
      "../data/raw/2022_place_canvas_history-000000000050.csv is already in data/raw\n",
      ":: loading settings :: url = jar:file:/usr/local/lib/python3.9/site-packages/pyspark/jars/ivy-2.5.0.jar!/org/apache/ivy/core/settings/ivysettings.xml\n"
     ]
    },
    {
     "name": "stderr",
     "output_type": "stream",
     "text": [
      "Ivy Default Cache set to: /home/vscode/.ivy2/cache\n",
      "The jars for the packages stored in: /home/vscode/.ivy2/jars\n",
      "graphframes#graphframes added as a dependency\n",
      ":: resolving dependencies :: org.apache.spark#spark-submit-parent-5852af43-7981-45cd-8ea1-26610a53cbb7;1.0\n",
      "\tconfs: [default]\n",
      "\tfound graphframes#graphframes;0.8.2-spark3.2-s_2.12 in spark-packages\n",
      "\tfound org.slf4j#slf4j-api;1.7.16 in central\n",
      ":: resolution report :: resolve 85ms :: artifacts dl 3ms\n",
      "\t:: modules in use:\n",
      "\tgraphframes#graphframes;0.8.2-spark3.2-s_2.12 from spark-packages in [default]\n",
      "\torg.slf4j#slf4j-api;1.7.16 from central in [default]\n",
      "\t---------------------------------------------------------------------\n",
      "\t|                  |            modules            ||   artifacts   |\n",
      "\t|       conf       | number| search|dwnlded|evicted|| number|dwnlded|\n",
      "\t---------------------------------------------------------------------\n",
      "\t|      default     |   2   |   0   |   0   |   0   ||   2   |   0   |\n",
      "\t---------------------------------------------------------------------\n",
      ":: retrieving :: org.apache.spark#spark-submit-parent-5852af43-7981-45cd-8ea1-26610a53cbb7\n",
      "\tconfs: [default]\n",
      "\t0 artifacts copied, 2 already retrieved (0kB/2ms)\n",
      "22/06/06 14:59:08 WARN NativeCodeLoader: Unable to load native-hadoop library for your platform... using builtin-java classes where applicable\n",
      "Using Spark's default log4j profile: org/apache/spark/log4j-defaults.properties\n",
      "Setting default log level to \"WARN\".\n",
      "To adjust logging level use sc.setLogLevel(newLevel). For SparkR, use setLogLevel(newLevel).\n",
      "                                                                                \r"
     ]
    },
    {
     "name": "stdout",
     "output_type": "stream",
     "text": [
      "root\n",
      " |-- user_id: string (nullable = true)\n",
      " |-- x: integer (nullable = true)\n",
      " |-- y: integer (nullable = true)\n",
      " |-- t: long (nullable = true)\n",
      " |-- pixel_color: string (nullable = true)\n",
      "\n"
     ]
    }
   ],
   "source": [
    "from src.data.dataset_functions import get_dataframe\n",
    "\n",
    "dataFrame = get_dataframe(True)\n",
    "dataFrame.printSchema()"
   ]
  },
  {
   "cell_type": "markdown",
   "metadata": {},
   "source": [
    "<div style=\"color:lightgreen\">\n",
    "Eine zweite zu betrachtende Situation ist, dass Moderatoren auch mehrere Pixel auf einmal ändern können.\n",
    "\n",
    "```\n",
    "SELECT user_id, COUNT(x) --es reicht aus die x Koordinate zu zählen\n",
    "FROM dataFrame\n",
    "WHERE --Wie könnte die Where-Clause angegeben werden, dass nur ein bestimmter Zeitpunkt betrachtet wird?\n",
    "HAVING COUNT(x) > 1\n",
    "GROUP BY user_id;\n",
    "```\n",
    "\n",
    "\n",
    "Vorschlag Sebastian:\n",
    "<div style=\"color:lightblue\">(Sebastian): Gruppieren nach t-Spalte und dann gucken wo count(t) > 1 ?</div>\n",
    "</div>"
   ]
  },
  {
   "cell_type": "markdown",
   "metadata": {},
   "source": [
    "<div style=\"color:lightgreen\">\n",
    "\n",
    "Mein Vorschlag:\n",
    "\n",
    "Ist es nicht besser direkt nach Nutzer und Zeit zu gruppieren? Dann hat man für jeden Nutzer direkt angezeigt, wie oft zu einem Zeitpunkt Pixel platziert wurden?\n",
    "Dann wäre auch die Bereinigung der Daten effektiver als oben.\n",
    "\n",
    "Hier der Versuch:\n",
    "</div>"
   ]
  },
  {
   "cell_type": "code",
   "execution_count": 2,
   "metadata": {},
   "outputs": [
    {
     "name": "stdout",
     "output_type": "stream",
     "text": [
      "root\n",
      " |-- user_id: string (nullable = true)\n",
      " |-- t: long (nullable = true)\n",
      " |-- count: long (nullable = false)\n",
      " |-- collect_list(x): array (nullable = false)\n",
      " |    |-- element: integer (containsNull = false)\n",
      " |-- collect_list(y): array (nullable = false)\n",
      " |    |-- element: integer (containsNull = false)\n",
      " |-- collect_list(pixel_color): array (nullable = false)\n",
      " |    |-- element: string (containsNull = false)\n",
      "\n"
     ]
    }
   ],
   "source": [
    "from src.features.feature_functions import group_dataframe_by_time_and_user\n",
    "import pyspark.sql.functions as F\n",
    "\n",
    "timeUserGrouped = group_dataframe_by_time_and_user(dataFrame)\n",
    "timeUserGrouped.printSchema()"
   ]
  },
  {
   "cell_type": "code",
   "execution_count": 3,
   "metadata": {},
   "outputs": [
    {
     "name": "stderr",
     "output_type": "stream",
     "text": [
      "[Stage 4:=================================>                         (4 + 3) / 7]\r"
     ]
    },
    {
     "name": "stdout",
     "output_type": "stream",
     "text": [
      "+--------------------+----+----------+--------------------+--------------------+-------------------------+\n",
      "|             user_id|   t|time_count|     collect_list(x)|     collect_list(y)|collect_list(pixel_color)|\n",
      "+--------------------+----+----------+--------------------+--------------------+-------------------------+\n",
      "|X8gpDfO6+Z87SKKTy...|2974|         8|[1685, 904, 932, ...|[228, 1865, 1850,...|     [#FFD635, #000000...|\n",
      "|AxBTmhBMbr1sbDw/2...|2344|         6|[1403, 777, 1741,...|[2, 8, 10, 2, 8, 10]|     [#FFA800, #FFA800...|\n",
      "|DIECtVqoJqBlL6A0C...|1200|         6|[932, 920, 933, 9...|[1757, 1832, 1838...|     [#FFFFFF, #BE0039...|\n",
      "|AxBTmhBMbr1sbDw/2...|1726|         6|[655, 612, 1575, ...|[1896, 1917, 7, 1...|     [#B44AC0, #E4ABFF...|\n",
      "|8GviOLIfRTg2/rkNm...|2039|         4|[911, 1758, 911, ...|[101, 900, 101, 900]|     [#D4D7D9, #000000...|\n",
      "|YcEvoWbE9DFR5hqKD...|3179|         4|[1308, 1308, 1308...|[877, 876, 877, 876]|     [#000000, #000000...|\n",
      "|uekG383QBM2sRK0En...|2791|         4|[144, 144, 144, 144]|[1796, 1796, 1796...|     [#000000, #000000...|\n",
      "|KShFlL/gmw/JK8b/E...|1039|         4|[728, 751, 728, 751]|[526, 504, 526, 504]|     [#D4D7D9, #FF4500...|\n",
      "|FjHp8Fg+uuheibUWk...|1860|         4|[998, 998, 998, 998]|[1466, 1466, 1466...|     [#000000, #000000...|\n",
      "|AxBTmhBMbr1sbDw/2...| 801|         4|[1287, 1926, 1287...|      [8, 19, 8, 19]|     [#3690EA, #BE0039...|\n",
      "|mXocH/Hqd79QOGHv4...| 984|         4|    [22, 22, 22, 22]|[1988, 1988, 1988...|     [#FFD635, #FFD635...|\n",
      "|AxBTmhBMbr1sbDw/2...|3577|         4|[584, 1765, 584, ...|      [26, 8, 26, 8]|     [#000000, #FFA800...|\n",
      "|Mxt5mHrNXt8bSujY3...|1144|         4|[1533, 1551, 1533...|[1884, 1881, 1884...|     [#FFFFFF, #000000...|\n",
      "|xw+BT8X4gip2hBtcg...| 888|         4|  [105, 92, 105, 92]|[139, 133, 139, 133]|     [#BE0039, #BE0039...|\n",
      "|yClxWJOg0nrhz/AWw...|2789|         4|[1437, 1437, 1437...|[977, 977, 977, 977]|     [#FFFFFF, #FFFFFF...|\n",
      "|MFzWY4mPTwuLNt/Rh...|2789|         4|[813, 813, 813, 813]|[549, 549, 549, 549]|     [#FFA800, #FFA800...|\n",
      "|VmiTfdqG3P1MlZokx...| 650|         4|[1620, 1636, 1620...|[256, 213, 256, 213]|     [#51E9F4, #FFFFFF...|\n",
      "|6q6uM44W5kNUzSN53...|1440|         4|[951, 932, 951, 932]|[1839, 1855, 1839...|     [#FF4500, #51E9F4...|\n",
      "|tSD0qKwzfmmglNjOQ...|2575|         4|[941, 913, 941, 913]|[1869, 1865, 1869...|     [#FFFFFF, #51E9F4...|\n",
      "|LZJOhxK1kvm3L+scH...|1127|         4|[1044, 900, 1044,...|[1773, 1857, 1773...|     [#FFFFFF, #000000...|\n",
      "+--------------------+----+----------+--------------------+--------------------+-------------------------+\n",
      "only showing top 20 rows\n",
      "\n"
     ]
    },
    {
     "name": "stderr",
     "output_type": "stream",
     "text": [
      "                                                                                \r"
     ]
    }
   ],
   "source": [
    "timeUserGrouped = timeUserGrouped.withColumnRenamed('count','time_count')\n",
    "\n",
    "timeUserGrouped = timeUserGrouped.filter(timeUserGrouped.time_count > 1)\n",
    "timeUserGrouped.show()"
   ]
  },
  {
   "cell_type": "code",
   "execution_count": 8,
   "metadata": {},
   "outputs": [
    {
     "name": "stderr",
     "output_type": "stream",
     "text": [
      "[Stage 15:>                                                         (0 + 1) / 1]\r"
     ]
    },
    {
     "name": "stdout",
     "output_type": "stream",
     "text": [
      "+--------------------+----+----------+---------------+---------------+-------------------------+\n",
      "|             user_id|   t|time_count|collect_list(x)|collect_list(y)|collect_list(pixel_color)|\n",
      "+--------------------+----+----------+---------------+---------------+-------------------------+\n",
      "|++++KubvRsRI2sZI3...|1827|         2|   [1434, 1434]|     [360, 360]|       [#9C6926, #9C6926]|\n",
      "|++0nCmngtZ68vbg6p...| 734|         2|     [757, 757]|     [592, 592]|       [#000000, #000000]|\n",
      "|++3Ki0p8wbp0g7xQv...|3424|         2|   [1975, 1975]|       [92, 92]|       [#FFFFFF, #FFFFFF]|\n",
      "|++3gcvcX6sgZwlgO7...|1574|         2|     [982, 982]|   [1528, 1528]|       [#000000, #000000]|\n",
      "|++3l0k1HSXKiAsHkH...|1721|         2|     [664, 664]|   [1240, 1240]|       [#9C6926, #9C6926]|\n",
      "|++4/asfR6j/RbsvIF...|2741|         2|     [467, 467]|     [937, 937]|       [#FFFFFF, #FFFFFF]|\n",
      "|++4PiR2T1Y0vPxBnK...|3505|         2|     [205, 205]|   [1852, 1852]|       [#000000, #000000]|\n",
      "|++5bQtHNJxwF1lYE2...| 349|         2|   [1976, 1976]|   [1564, 1564]|       [#FFB470, #FFB470]|\n",
      "|++5pPvIjDpotsn52i...| 987|         2|     [788, 788]|   [1170, 1170]|       [#898D90, #898D90]|\n",
      "|++68jL6836M7tZ/bi...| 530|         2|   [1453, 1453]|     [488, 488]|       [#000000, #000000]|\n",
      "|++BAHZwh4NyNQDlTI...|2428|         2|     [196, 196]|     [510, 510]|       [#D4D7D9, #D4D7D9]|\n",
      "|++EyHs8HzYaxFSt9N...| 954|         2|   [1805, 1805]|     [801, 801]|       [#000000, #000000]|\n",
      "|++FcT9Zjq2p/nfGM/...| 238|         2|     [255, 255]|   [1694, 1694]|       [#811E9F, #811E9F]|\n",
      "|++Hm3pf0ZJpanNHYS...|2712|         2|   [1672, 1672]|     [802, 802]|       [#6D001A, #6D001A]|\n",
      "|++JMNsqUbdSDUTzJX...|3030|         2|     [148, 148]|   [1240, 1240]|       [#000000, #000000]|\n",
      "|++JvSfBwK8A7jM1dV...|2425|         2|     [657, 657]|     [678, 678]|       [#FFFFFF, #FFFFFF]|\n",
      "|++KYqw+gZ7SRFb1Hh...| 452|         2|   [1769, 1769]|     [658, 658]|       [#000000, #000000]|\n",
      "|++LrzgJgFUXrNd4U2...|2648|         2|         [4, 4]|         [3, 3]|       [#515252, #515252]|\n",
      "|++NVr4GigsWftWIUE...| 130|         2|     [910, 910]|     [566, 566]|       [#FF4500, #FF4500]|\n",
      "|++O8vT6ryRLAAHS8z...|2484|         2|   [1159, 1159]|   [1607, 1607]|       [#000000, #000000]|\n",
      "+--------------------+----+----------+---------------+---------------+-------------------------+\n",
      "only showing top 20 rows\n",
      "\n"
     ]
    },
    {
     "name": "stderr",
     "output_type": "stream",
     "text": [
      "                                                                                \r"
     ]
    }
   ],
   "source": [
    "grouped = timeUserGrouped.dropDuplicates(['user_id'])\n",
    "grouped.show()"
   ]
  },
  {
   "cell_type": "code",
   "execution_count": 9,
   "metadata": {},
   "outputs": [
    {
     "name": "stderr",
     "output_type": "stream",
     "text": [
      "22/06/05 18:17:46 WARN RowBasedKeyValueBatch: Calling spill() on RowBasedKeyValueBatch. Will not spill but return 0.\n",
      "22/06/05 18:17:46 WARN RowBasedKeyValueBatch: Calling spill() on RowBasedKeyValueBatch. Will not spill but return 0.\n",
      "22/06/05 18:17:46 WARN RowBasedKeyValueBatch: Calling spill() on RowBasedKeyValueBatch. Will not spill but return 0.\n",
      "22/06/05 18:17:46 WARN RowBasedKeyValueBatch: Calling spill() on RowBasedKeyValueBatch. Will not spill but return 0.\n",
      "22/06/05 18:17:46 WARN RowBasedKeyValueBatch: Calling spill() on RowBasedKeyValueBatch. Will not spill but return 0.\n",
      "22/06/05 18:17:46 WARN RowBasedKeyValueBatch: Calling spill() on RowBasedKeyValueBatch. Will not spill but return 0.\n",
      "22/06/05 18:17:46 WARN RowBasedKeyValueBatch: Calling spill() on RowBasedKeyValueBatch. Will not spill but return 0.\n",
      "22/06/05 18:17:46 WARN RowBasedKeyValueBatch: Calling spill() on RowBasedKeyValueBatch. Will not spill but return 0.\n",
      "[Stage 22:================================================>         (5 + 1) / 6]\r"
     ]
    },
    {
     "name": "stdout",
     "output_type": "stream",
     "text": [
      "733458\n"
     ]
    },
    {
     "name": "stderr",
     "output_type": "stream",
     "text": [
      "                                                                                \r"
     ]
    }
   ],
   "source": [
    "print(grouped.count())"
   ]
  },
  {
   "cell_type": "code",
   "execution_count": 4,
   "metadata": {},
   "outputs": [
    {
     "ename": "TypeError",
     "evalue": "count() takes 1 positional argument but 2 were given",
     "output_type": "error",
     "traceback": [
      "\u001b[0;31m---------------------------------------------------------------------------\u001b[0m",
      "\u001b[0;31mTypeError\u001b[0m                                 Traceback (most recent call last)",
      "\u001b[1;32m/workspaces/placegroups/notebooks/0.1-derr-statistiken-moderaotren2.ipynb Cell 9'\u001b[0m in \u001b[0;36m<cell line: 1>\u001b[0;34m()\u001b[0m\n\u001b[0;32m----> <a href='vscode-notebook-cell://dev-container%2B2f55736572732f6e69636f6c65646572722f446f63756d656e74732f4769744875622f706c61636567726f757073/workspaces/placegroups/notebooks/0.1-derr-statistiken-moderaotren2.ipynb#ch0000008vscode-remote?line=0'>1</a>\u001b[0m row \u001b[39m=\u001b[39m dataFrame\u001b[39m.\u001b[39;49mcount(\u001b[39m'\u001b[39;49m\u001b[39muser_id\u001b[39;49m\u001b[39m'\u001b[39;49m)\n\u001b[1;32m      <a href='vscode-notebook-cell://dev-container%2B2f55736572732f6e69636f6c65646572722f446f63756d656e74732f4769744875622f706c61636567726f757073/workspaces/placegroups/notebooks/0.1-derr-statistiken-moderaotren2.ipynb#ch0000008vscode-remote?line=1'>2</a>\u001b[0m \u001b[39mprint\u001b[39m(\u001b[39mf\u001b[39m\u001b[39m'\u001b[39m\u001b[39mAnzahl der herkömmlichen Zeilen: \u001b[39m\u001b[39m{\u001b[39;00mrow\u001b[39m}\u001b[39;00m\u001b[39m'\u001b[39m)\n\u001b[1;32m      <a href='vscode-notebook-cell://dev-container%2B2f55736572732f6e69636f6c65646572722f446f63756d656e74732f4769744875622f706c61636567726f757073/workspaces/placegroups/notebooks/0.1-derr-statistiken-moderaotren2.ipynb#ch0000008vscode-remote?line=3'>4</a>\u001b[0m row_sel \u001b[39m=\u001b[39m timeUserGrouped\u001b[39m.\u001b[39mcount(\u001b[39m'\u001b[39m\u001b[39muser_id\u001b[39m\u001b[39m'\u001b[39m)\n",
      "\u001b[0;31mTypeError\u001b[0m: count() takes 1 positional argument but 2 were given"
     ]
    }
   ],
   "source": [
    "row = dataFrame.count('user_id')\n",
    "print(f'Anzahl der herkömmlichen Zeilen: {row}')\n",
    "\n",
    "row_sel = timeUserGrouped.count('user_id')\n",
    "print(f'Anzahl der angeblichen Moderatoren: {row_sel}')"
   ]
  },
  {
   "cell_type": "markdown",
   "metadata": {},
   "source": [
    "<div style=\"color:lightgreen\">\n",
    "Vllt doch besser nur über Zeit zu gruppieren?\n",
    "</div>"
   ]
  },
  {
   "cell_type": "code",
   "execution_count": 4,
   "metadata": {},
   "outputs": [
    {
     "name": "stdout",
     "output_type": "stream",
     "text": [
      "root\n",
      " |-- t: long (nullable = true)\n",
      " |-- count: long (nullable = false)\n",
      " |-- collect_list(user_id): array (nullable = false)\n",
      " |    |-- element: string (containsNull = false)\n",
      " |-- collect_list(x): array (nullable = false)\n",
      " |    |-- element: integer (containsNull = false)\n",
      " |-- collect_list(y): array (nullable = false)\n",
      " |    |-- element: integer (containsNull = false)\n",
      " |-- collect_list(pixel_color): array (nullable = false)\n",
      " |    |-- element: string (containsNull = false)\n",
      "\n"
     ]
    }
   ],
   "source": [
    "from src.features.feature_functions import group_dataframe_by_time\n",
    "\n",
    "timeGrouped = group_dataframe_by_time(dataFrame)\n",
    "timeGrouped.printSchema()"
   ]
  },
  {
   "cell_type": "code",
   "execution_count": 5,
   "metadata": {},
   "outputs": [
    {
     "name": "stdout",
     "output_type": "stream",
     "text": [
      "root\n",
      " |-- t: long (nullable = true)\n",
      " |-- time_count: long (nullable = false)\n",
      " |-- collect_list(user_id): array (nullable = false)\n",
      " |    |-- element: string (containsNull = false)\n",
      " |-- collect_list(x): array (nullable = false)\n",
      " |    |-- element: integer (containsNull = false)\n",
      " |-- collect_list(y): array (nullable = false)\n",
      " |    |-- element: integer (containsNull = false)\n",
      " |-- collect_list(pixel_color): array (nullable = false)\n",
      " |    |-- element: string (containsNull = false)\n",
      "\n"
     ]
    }
   ],
   "source": [
    "timeGrouped = timeGrouped.withColumnRenamed('count','time_count')\n",
    "timeGrouped.printSchema()"
   ]
  },
  {
   "cell_type": "code",
   "execution_count": 6,
   "metadata": {},
   "outputs": [
    {
     "name": "stderr",
     "output_type": "stream",
     "text": [
      "                                                                                \r"
     ]
    },
    {
     "name": "stdout",
     "output_type": "stream",
     "text": [
      "+---+----------+---------------------+--------------------+--------------------+-------------------------+\n",
      "|  t|time_count|collect_list(user_id)|     collect_list(x)|     collect_list(y)|collect_list(pixel_color)|\n",
      "+---+----------+---------------------+--------------------+--------------------+-------------------------+\n",
      "|502|      1372| [fl3fslGUutRFVv5s...|[1803, 1307, 1073...|[828, 537, 180, 1...|     [#000000, #FFFFFF...|\n",
      "|503|      1352| [KhKhrQXoREif0iKG...|[453, 1813, 1812,...|[1216, 820, 814, ...|     [#000000, #FFFFFF...|\n",
      "|506|      1352| [RtdCr10DU/ryVoyP...|[862, 1794, 1580,...|[807, 743, 1500, ...|     [#FF4500, #51E9F4...|\n",
      "|518|      1336| [0ri9DdoyY1cUGgPO...|[1813, 539, 918, ...|[810, 1240, 575, ...|     [#FFFFFF, #DE107F...|\n",
      "|510|      1336| [SuvkvnbkdYwMBLGl...|[1538, 1146, 1812...|[507, 551, 815, 1...|     [#D4D7D9, #FFD635...|\n",
      "|800|      1328| [vLy9enKCuqE5Lfz5...|[939, 1795, 71, 2...|[1640, 949, 1717,...|     [#FFA800, #9C6926...|\n",
      "|665|      1328| [/Z19GH2yLv1t/Rwn...|[285, 121, 1818, ...|[1669, 1819, 842,...|     [#515252, #FFB470...|\n",
      "|512|      1320| [OiXUUFiS09e43mbt...|[726, 42, 1271, 1...|[1749, 1780, 340,...|     [#515252, #2450A4...|\n",
      "|517|      1318| [kO8v5t9qQcVGH2jc...|[1023, 15, 89, 17...|[56, 107, 1750, 6...|     [#000000, #FFA800...|\n",
      "|509|      1314| [47cBtZB9Io6HDvkx...|[1805, 357, 344, ...|[807, 651, 1455, ...|     [#000000, #2450A4...|\n",
      "|511|      1310| [8X81sGoyIyFjlMGA...|[1613, 1746, 1157...|[1150, 604, 1995,...|     [#009EAA, #2450A4...|\n",
      "|504|      1310| [jNvbu72zK1ym3mbn...|[1023, 1985, 1036...|[56, 1027, 397, 1...|     [#000000, #2450A4...|\n",
      "|496|      1298| [ln0Wl8R3QfmA+vHi...|[1970, 548, 538, ...|[1323, 1825, 1418...|     [#000000, #D4D7D9...|\n",
      "|508|      1294| [/ovdrfnI5wHVb10l...|[1205, 1035, 1820...|[1706, 1812, 825,...|     [#6D482F, #FF99AA...|\n",
      "|816|      1294| [gDoibmO3IFsdZG4o...|[1847, 1747, 1786...|[535, 658, 602, 1...|     [#000000, #FFD635...|\n",
      "|514|      1290| [S0deEoFnPuCIDPtC...|[1293, 1808, 30, ...|[599, 829, 1160, ...|     [#000000, #000000...|\n",
      "|692|      1290| [VwAHZ5/Lrh5ehY3k...|[1961, 1693, 96, ...|[1814, 967, 1760,...|     [#94B3FF, #00A368...|\n",
      "|505|      1288| [31jd2vAVrOBHCNUF...|[200, 1679, 690, ...|[467, 1301, 361, ...|     [#E4ABFF, #898D90...|\n",
      "|974|      1286| [oTkkJ2uY7S8RVXDZ...|[649, 1067, 1303,...|[969, 82, 600, 12...|     [#000000, #000000...|\n",
      "|673|      1282| [0zdlmGBfhD1unCE9...|[505, 537, 583, 4...|[558, 476, 489, 5...|     [#FF3881, #000000...|\n",
      "+---+----------+---------------------+--------------------+--------------------+-------------------------+\n",
      "only showing top 20 rows\n",
      "\n"
     ]
    }
   ],
   "source": [
    "timeGrouped = timeGrouped.filter(timeGrouped.time_count > 1)\n",
    "timeGrouped.show()"
   ]
  },
  {
   "cell_type": "markdown",
   "metadata": {},
   "source": [
    "<div style=\"color:lightgreen\">\n",
    "Jz muss für jeden Zeitpunkt die Userliste betrachtet werden.\n",
    "\n",
    "Dabei muss geschaut werden, welcher User mehrmals vorkommt.\n",
    "\n",
    "D.h. Vorkommen zählen.\n",
    "</div>"
   ]
  },
  {
   "cell_type": "markdown",
   "metadata": {},
   "source": [
    "<div style=\"color:#b0e0e6\">\n",
    "Alle Spalten bis auf 't' und 'collect_list(user_id)' können entfernt werden, da unwichtig.\n",
    "</div>"
   ]
  },
  {
   "cell_type": "code",
   "execution_count": 7,
   "metadata": {},
   "outputs": [
    {
     "name": "stdout",
     "output_type": "stream",
     "text": [
      "root\n",
      " |-- t: long (nullable = true)\n",
      " |-- collect_list(user_id): array (nullable = false)\n",
      " |    |-- element: string (containsNull = false)\n",
      "\n"
     ]
    }
   ],
   "source": [
    "timeDroped = timeGrouped.drop('time_count').drop('collect_list(x)').drop('collect_list(y)').drop('collect_list(pixel_color)')\n",
    "timeDroped.printSchema()"
   ]
  },
  {
   "cell_type": "code",
   "execution_count": 8,
   "metadata": {},
   "outputs": [
    {
     "name": "stderr",
     "output_type": "stream",
     "text": [
      "[Stage 8:=============================>                             (2 + 2) / 4]\r"
     ]
    },
    {
     "name": "stdout",
     "output_type": "stream",
     "text": [
      "+---+---------------------+\n",
      "|  t|collect_list(user_id)|\n",
      "+---+---------------------+\n",
      "|502| [fl3fslGUutRFVv5s...|\n",
      "|506| [RtdCr10DU/ryVoyP...|\n",
      "|503| [KhKhrQXoREif0iKG...|\n",
      "|510| [SuvkvnbkdYwMBLGl...|\n",
      "|518| [0ri9DdoyY1cUGgPO...|\n",
      "|800| [vLy9enKCuqE5Lfz5...|\n",
      "|665| [/Z19GH2yLv1t/Rwn...|\n",
      "|512| [OiXUUFiS09e43mbt...|\n",
      "|517| [kO8v5t9qQcVGH2jc...|\n",
      "|509| [47cBtZB9Io6HDvkx...|\n",
      "|511| [8X81sGoyIyFjlMGA...|\n",
      "|504| [jNvbu72zK1ym3mbn...|\n",
      "|496| [ln0Wl8R3QfmA+vHi...|\n",
      "|816| [gDoibmO3IFsdZG4o...|\n",
      "|508| [/ovdrfnI5wHVb10l...|\n",
      "|692| [VwAHZ5/Lrh5ehY3k...|\n",
      "|514| [S0deEoFnPuCIDPtC...|\n",
      "|505| [31jd2vAVrOBHCNUF...|\n",
      "|974| [oTkkJ2uY7S8RVXDZ...|\n",
      "|673| [0zdlmGBfhD1unCE9...|\n",
      "+---+---------------------+\n",
      "only showing top 20 rows\n",
      "\n"
     ]
    },
    {
     "name": "stderr",
     "output_type": "stream",
     "text": [
      "                                                                                \r"
     ]
    }
   ],
   "source": [
    "timeDroped.show()"
   ]
  },
  {
   "cell_type": "code",
   "execution_count": 9,
   "metadata": {},
   "outputs": [
    {
     "name": "stderr",
     "output_type": "stream",
     "text": [
      "                                                                                \r"
     ]
    },
    {
     "name": "stdout",
     "output_type": "stream",
     "text": [
      "[]\n"
     ]
    }
   ],
   "source": [
    "collected = timeDroped.collect()\n",
    "count = 0\n",
    "moderator = []\n",
    "\n",
    "for row in collected:\n",
    "    time,users = list(row)\n",
    "    for user in users:\n",
    "        for comp in users:\n",
    "            if (user == comp): \n",
    "                count +1\n",
    "            if(user in moderator) : \n",
    "                break #in äußere Spalte zurückkehren\n",
    "            if(count >= 2) : \n",
    "                moderator.append(user)\n",
    "                break #in äußere Spalte zurückkehren\n",
    "        count = 0\n",
    "print(moderator)   "
   ]
  },
  {
   "cell_type": "markdown",
   "metadata": {},
   "source": [
    "<div style=\"color:#b0e0e6\">\n",
    "Es ergibt sich eine leere Liste, ist das so korrekt?\n",
    "Denn das würde bedeuten, es gäbe in der einen Stunde keine Moderatoren...\n",
    "(Siehe auch Anmerkung unten)\n",
    "</div>"
   ]
  },
  {
   "cell_type": "code",
   "execution_count": 12,
   "metadata": {},
   "outputs": [
    {
     "name": "stderr",
     "output_type": "stream",
     "text": [
      "[Stage 21:>                                                         (0 + 4) / 4]\r"
     ]
    },
    {
     "name": "stdout",
     "output_type": "stream",
     "text": [
      "+--------------------+----+----+----+-----------+\n",
      "|             user_id|   x|   y|   t|pixel_color|\n",
      "+--------------------+----+----+----+-----------+\n",
      "|++++KubvRsRI2sZI3...|1434| 360|1827|    #9C6926|\n",
      "|++++KubvRsRI2sZI3...|1434| 360|1827|    #9C6926|\n",
      "|+++GYtxEzILnCHvgI...|1122| 535|3059|    #6D482F|\n",
      "|+++GYtxEzILnCHvgI...|1122| 535|3059|    #6D482F|\n",
      "|+++L0Cq2acDZLU86l...|  84|1814| 852|    #FFFFFF|\n",
      "|+++L0Cq2acDZLU86l...|  84|1814| 852|    #FFFFFF|\n",
      "|+++ypsBxRdwrVDGfj...| 286|1087|2280|    #FFFFFF|\n",
      "|+++ypsBxRdwrVDGfj...| 286|1087|2280|    #FFFFFF|\n",
      "|++/5WaPt9reXoCE3/...| 667| 507|2258|    #FFFFFF|\n",
      "|++/5WaPt9reXoCE3/...| 667| 507|2258|    #FFFFFF|\n",
      "|++/a8YPlilhzOTJEW...| 926|1038|2995|    #3690EA|\n",
      "|++/a8YPlilhzOTJEW...| 934|1056|1427|    #3690EA|\n",
      "|++/a8YPlilhzOTJEW...| 934|1056|1427|    #3690EA|\n",
      "|++/a8YPlilhzOTJEW...| 974|1049|1087|    #FFFFFF|\n",
      "|++/a8YPlilhzOTJEW...| 926|1038|2995|    #3690EA|\n",
      "|++/a8YPlilhzOTJEW...| 974|1049|1087|    #FFFFFF|\n",
      "|++/iKk3F3ZlK4sJxa...|1917| 907|2174|    #9C6926|\n",
      "|++/iKk3F3ZlK4sJxa...|1922| 879| 870|    #51E9F4|\n",
      "|++/iKk3F3ZlK4sJxa...|1914| 883| 548|    #BE0039|\n",
      "|++/iKk3F3ZlK4sJxa...|1922| 877|1553|    #FFFFFF|\n",
      "+--------------------+----+----+----+-----------+\n",
      "only showing top 20 rows\n",
      "\n"
     ]
    },
    {
     "name": "stderr",
     "output_type": "stream",
     "text": [
      "                                                                                \r"
     ]
    }
   ],
   "source": [
    "dataFrame.orderBy(['user_id'], ascending = [True]).show()"
   ]
  },
  {
   "cell_type": "markdown",
   "metadata": {},
   "source": [
    "<div style=\"color:#b0e0e6\">\n",
    "Warum gibt's bei manchen Usern Dopplungen der selben Zeit in Kombo mit den selben Koordinaten und bei manchen nicht?\n",
    "Deutet das auf Moderatoren hin?\n",
    "Evtl. müsste man den Datensatz selbst im Original nochmal anschauen.\n",
    "\n",
    "Was ich mich auch frage ist, ob die Aufspaltung in x und y Koordinaten so korrekt ist,\n",
    "da Moderatoren x1,x2,y1,y2 Angaben in der Spalte haben und nicht x,y....\n",
    "Also ob die Anpassung des Datensatzes, wie Sebastian es vorbereitet hat, so passend ist mit den Moderatoren?\n",
    "</div>"
   ]
  }
 ],
 "metadata": {
  "interpreter": {
   "hash": "949777d72b0d2535278d3dc13498b2535136f6dfe0678499012e853ee9abcab1"
  },
  "kernelspec": {
   "display_name": "Python 3.9.2 64-bit",
   "language": "python",
   "name": "python3"
  },
  "language_info": {
   "codemirror_mode": {
    "name": "ipython",
    "version": 3
   },
   "file_extension": ".py",
   "mimetype": "text/x-python",
   "name": "python",
   "nbconvert_exporter": "python",
   "pygments_lexer": "ipython3",
   "version": "3.9.2"
  },
  "orig_nbformat": 4
 },
 "nbformat": 4,
 "nbformat_minor": 2
}
