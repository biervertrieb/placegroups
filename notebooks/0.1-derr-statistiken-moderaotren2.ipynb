{
 "cells": [
  {
   "cell_type": "code",
   "execution_count": 1,
   "metadata": {},
   "outputs": [
    {
     "name": "stdout",
     "output_type": "stream",
     "text": [
      "providing ../data/raw/2022_place_canvas_history-000000000050.csv ...\n",
      "../data/raw/2022_place_canvas_history-000000000050.csv is already in data/raw\n",
      ":: loading settings :: url = jar:file:/usr/local/lib/python3.9/site-packages/pyspark/jars/ivy-2.5.0.jar!/org/apache/ivy/core/settings/ivysettings.xml\n"
     ]
    },
    {
     "name": "stderr",
     "output_type": "stream",
     "text": [
      "Ivy Default Cache set to: /home/vscode/.ivy2/cache\n",
      "The jars for the packages stored in: /home/vscode/.ivy2/jars\n",
      "graphframes#graphframes added as a dependency\n",
      ":: resolving dependencies :: org.apache.spark#spark-submit-parent-d9649d57-8901-4fc2-9acf-1a0fab7b81fd;1.0\n",
      "\tconfs: [default]\n",
      "\tfound graphframes#graphframes;0.8.2-spark3.2-s_2.12 in spark-packages\n",
      "\tfound org.slf4j#slf4j-api;1.7.16 in central\n",
      ":: resolution report :: resolve 81ms :: artifacts dl 3ms\n",
      "\t:: modules in use:\n",
      "\tgraphframes#graphframes;0.8.2-spark3.2-s_2.12 from spark-packages in [default]\n",
      "\torg.slf4j#slf4j-api;1.7.16 from central in [default]\n",
      "\t---------------------------------------------------------------------\n",
      "\t|                  |            modules            ||   artifacts   |\n",
      "\t|       conf       | number| search|dwnlded|evicted|| number|dwnlded|\n",
      "\t---------------------------------------------------------------------\n",
      "\t|      default     |   2   |   0   |   0   |   0   ||   2   |   0   |\n",
      "\t---------------------------------------------------------------------\n",
      ":: retrieving :: org.apache.spark#spark-submit-parent-d9649d57-8901-4fc2-9acf-1a0fab7b81fd\n",
      "\tconfs: [default]\n",
      "\t0 artifacts copied, 2 already retrieved (0kB/2ms)\n",
      "22/06/05 18:11:37 WARN NativeCodeLoader: Unable to load native-hadoop library for your platform... using builtin-java classes where applicable\n",
      "Using Spark's default log4j profile: org/apache/spark/log4j-defaults.properties\n",
      "Setting default log level to \"WARN\".\n",
      "To adjust logging level use sc.setLogLevel(newLevel). For SparkR, use setLogLevel(newLevel).\n",
      "[Stage 1:=============================>                             (2 + 2) / 4]\r"
     ]
    },
    {
     "name": "stdout",
     "output_type": "stream",
     "text": [
      "root\n",
      " |-- user_id: string (nullable = true)\n",
      " |-- x: integer (nullable = true)\n",
      " |-- y: integer (nullable = true)\n",
      " |-- t: long (nullable = true)\n",
      " |-- pixel_color: string (nullable = true)\n",
      "\n"
     ]
    },
    {
     "name": "stderr",
     "output_type": "stream",
     "text": [
      "                                                                                \r"
     ]
    }
   ],
   "source": [
    "from src.data.dataset_functions import get_dataframe\n",
    "\n",
    "dataFrame = get_dataframe(True)\n",
    "dataFrame.printSchema()"
   ]
  },
  {
   "cell_type": "markdown",
   "metadata": {},
   "source": [
    "<div style=\"color:lightgreen\">\n",
    "Eine zweite zu betrachtende Situation ist, dass Moderatoren auch mehrere Pixel auf einmal ändern können.\n",
    "\n",
    "```\n",
    "SELECT user_id, COUNT(x) --es reicht aus die x Koordinate zu zählen\n",
    "FROM dataFrame\n",
    "WHERE --Wie könnte die Where-Clause angegeben werden, dass nur ein bestimmter Zeitpunkt betrachtet wird?\n",
    "HAVING COUNT(x) > 1\n",
    "GROUP BY user_id;\n",
    "```\n",
    "\n",
    "\n",
    "Vorschlag Sebastian:\n",
    "<div style=\"color:lightblue\">(Sebastian): Gruppieren nach t-Spalte und dann gucken wo count(t) > 1 ?</div>\n",
    "</div>"
   ]
  },
  {
   "cell_type": "markdown",
   "metadata": {},
   "source": [
    "<div style=\"color:lightgreen\">\n",
    "\n",
    "Mein Vorschlag:\n",
    "\n",
    "Ist es nicht besser direkt nach Nutzer und Zeit zu gruppieren? Dann hat man für jeden Nutzer direkt angezeigt, wie oft zu einem Zeitpunkt Pixel platziert wurden?\n",
    "Dann wäre auch die Bereinigung der Daten effektiver als oben.\n",
    "\n",
    "Hier der Versuch:\n",
    "</div>"
   ]
  },
  {
   "cell_type": "code",
   "execution_count": 2,
   "metadata": {},
   "outputs": [
    {
     "name": "stdout",
     "output_type": "stream",
     "text": [
      "root\n",
      " |-- user_id: string (nullable = true)\n",
      " |-- t: long (nullable = true)\n",
      " |-- count: long (nullable = false)\n",
      " |-- collect_list(x): array (nullable = false)\n",
      " |    |-- element: integer (containsNull = false)\n",
      " |-- collect_list(y): array (nullable = false)\n",
      " |    |-- element: integer (containsNull = false)\n",
      " |-- collect_list(pixel_color): array (nullable = false)\n",
      " |    |-- element: string (containsNull = false)\n",
      "\n"
     ]
    }
   ],
   "source": [
    "from src.features.feature_functions import group_dataframe_by_time_and_user\n",
    "import pyspark.sql.functions as F\n",
    "\n",
    "timeUserGrouped = group_dataframe_by_time_and_user(dataFrame)\n",
    "#timeUserGrouped = group_dataframe_by_columns(dataFrame, ['t', 'user_id'])\n",
    "timeUserGrouped.printSchema()"
   ]
  },
  {
   "cell_type": "code",
   "execution_count": 3,
   "metadata": {},
   "outputs": [
    {
     "name": "stderr",
     "output_type": "stream",
     "text": [
      "[Stage 4:=================================>                         (4 + 3) / 7]\r"
     ]
    },
    {
     "name": "stdout",
     "output_type": "stream",
     "text": [
      "+--------------------+----+----------+--------------------+--------------------+-------------------------+\n",
      "|             user_id|   t|time_count|     collect_list(x)|     collect_list(y)|collect_list(pixel_color)|\n",
      "+--------------------+----+----------+--------------------+--------------------+-------------------------+\n",
      "|X8gpDfO6+Z87SKKTy...|2974|         8|[1685, 904, 932, ...|[228, 1865, 1850,...|     [#FFD635, #000000...|\n",
      "|AxBTmhBMbr1sbDw/2...|2344|         6|[1403, 777, 1741,...|[2, 8, 10, 2, 8, 10]|     [#FFA800, #FFA800...|\n",
      "|DIECtVqoJqBlL6A0C...|1200|         6|[932, 920, 933, 9...|[1757, 1832, 1838...|     [#FFFFFF, #BE0039...|\n",
      "|AxBTmhBMbr1sbDw/2...|1726|         6|[655, 612, 1575, ...|[1896, 1917, 7, 1...|     [#B44AC0, #E4ABFF...|\n",
      "|FjHp8Fg+uuheibUWk...|3300|         4|[998, 998, 998, 998]|[1466, 1466, 1466...|     [#000000, #000000...|\n",
      "|MsdvGyv1KSfWjE8OI...|1444|         4|[957, 954, 957, 954]|[1844, 1844, 1844...|     [#FFA800, #FFA800...|\n",
      "|AxBTmhBMbr1sbDw/2...|3577|         4|[584, 1765, 584, ...|      [26, 8, 26, 8]|     [#000000, #FFA800...|\n",
      "|slIR+v2EkYcEW/5dM...|2790|         4|[1459, 1459, 1459...|[1748, 1748, 1748...|     [#00A368, #00A368...|\n",
      "|UHCTBiKzVoFjs/Peh...|  95|         4|[916, 913, 916, 913]|[1872, 1867, 1872...|     [#3690EA, #51E9F4...|\n",
      "|1Vf7BYDE+PHunSWrr...| 436|         4|[447, 447, 447, 447]|[1268, 1268, 1268...|     [#000000, #000000...|\n",
      "|V916U1J4oUQtIKfDX...|2790|         4|[136, 136, 136, 136]|[1705, 1705, 1705...|     [#FFFFFF, #FFFFFF...|\n",
      "|VcHUE/HttS4Zm0734...|2623|         4|[1537, 1537, 1537...|[1844, 1844, 1844...|     [#000000, #000000...|\n",
      "|n4WuXdvUfoQFr8mhM...| 166|         4|[1745, 1745, 1745...|[1649, 1649, 1649...|     [#FFF8B8, #FFF8B8...|\n",
      "|zr4zPH9hAud2ggres...|2096|         4|[1341, 1341, 1341...|[570, 570, 570, 570]|     [#000000, #000000...|\n",
      "|VcHUE/HttS4Zm0734...|1903|         4|[1537, 1537, 1537...|[1844, 1844, 1844...|     [#000000, #000000...|\n",
      "|AxBTmhBMbr1sbDw/2...|2961|         4|[788, 656, 788, 656]|[11, 1884, 11, 1884]|     [#000000, #E4ABFF...|\n",
      "|fpKrh6ow1NI4uuWHw...| 984|         4|    [40, 40, 40, 40]|[1646, 1646, 1646...|     [#FFFFFF, #FFFFFF...|\n",
      "|DIECtVqoJqBlL6A0C...| 897|         4|[909, 916, 909, 916]|[1856, 1851, 1856...|     [#3690EA, #3690EA...|\n",
      "|tc273UiqS0wKa6Vwi...| 663|         4|[914, 916, 914, 916]|[1868, 1760, 1868...|     [#51E9F4, #3690EA...|\n",
      "|SXF5Vf5UlWU1UW/0F...|1929|         4|[921, 959, 921, 959]|[1857, 1844, 1857...|     [#FFFFFF, #FFA800...|\n",
      "+--------------------+----+----------+--------------------+--------------------+-------------------------+\n",
      "only showing top 20 rows\n",
      "\n"
     ]
    },
    {
     "name": "stderr",
     "output_type": "stream",
     "text": [
      "                                                                                \r"
     ]
    }
   ],
   "source": [
    "timeUserGrouped = timeUserGrouped.withColumnRenamed('count','time_count')\n",
    "\n",
    "timeUserGrouped = timeUserGrouped.filter(timeUserGrouped.time_count > 1)\n",
    "timeUserGrouped.show()"
   ]
  },
  {
   "cell_type": "code",
   "execution_count": 8,
   "metadata": {},
   "outputs": [
    {
     "name": "stderr",
     "output_type": "stream",
     "text": [
      "[Stage 15:>                                                         (0 + 1) / 1]\r"
     ]
    },
    {
     "name": "stdout",
     "output_type": "stream",
     "text": [
      "+--------------------+----+----------+---------------+---------------+-------------------------+\n",
      "|             user_id|   t|time_count|collect_list(x)|collect_list(y)|collect_list(pixel_color)|\n",
      "+--------------------+----+----------+---------------+---------------+-------------------------+\n",
      "|++++KubvRsRI2sZI3...|1827|         2|   [1434, 1434]|     [360, 360]|       [#9C6926, #9C6926]|\n",
      "|++0nCmngtZ68vbg6p...| 734|         2|     [757, 757]|     [592, 592]|       [#000000, #000000]|\n",
      "|++3Ki0p8wbp0g7xQv...|3424|         2|   [1975, 1975]|       [92, 92]|       [#FFFFFF, #FFFFFF]|\n",
      "|++3gcvcX6sgZwlgO7...|1574|         2|     [982, 982]|   [1528, 1528]|       [#000000, #000000]|\n",
      "|++3l0k1HSXKiAsHkH...|1721|         2|     [664, 664]|   [1240, 1240]|       [#9C6926, #9C6926]|\n",
      "|++4/asfR6j/RbsvIF...|2741|         2|     [467, 467]|     [937, 937]|       [#FFFFFF, #FFFFFF]|\n",
      "|++4PiR2T1Y0vPxBnK...|3505|         2|     [205, 205]|   [1852, 1852]|       [#000000, #000000]|\n",
      "|++5bQtHNJxwF1lYE2...| 349|         2|   [1976, 1976]|   [1564, 1564]|       [#FFB470, #FFB470]|\n",
      "|++5pPvIjDpotsn52i...| 987|         2|     [788, 788]|   [1170, 1170]|       [#898D90, #898D90]|\n",
      "|++68jL6836M7tZ/bi...| 530|         2|   [1453, 1453]|     [488, 488]|       [#000000, #000000]|\n",
      "|++BAHZwh4NyNQDlTI...|2428|         2|     [196, 196]|     [510, 510]|       [#D4D7D9, #D4D7D9]|\n",
      "|++EyHs8HzYaxFSt9N...| 954|         2|   [1805, 1805]|     [801, 801]|       [#000000, #000000]|\n",
      "|++FcT9Zjq2p/nfGM/...| 238|         2|     [255, 255]|   [1694, 1694]|       [#811E9F, #811E9F]|\n",
      "|++Hm3pf0ZJpanNHYS...|2712|         2|   [1672, 1672]|     [802, 802]|       [#6D001A, #6D001A]|\n",
      "|++JMNsqUbdSDUTzJX...|3030|         2|     [148, 148]|   [1240, 1240]|       [#000000, #000000]|\n",
      "|++JvSfBwK8A7jM1dV...|2425|         2|     [657, 657]|     [678, 678]|       [#FFFFFF, #FFFFFF]|\n",
      "|++KYqw+gZ7SRFb1Hh...| 452|         2|   [1769, 1769]|     [658, 658]|       [#000000, #000000]|\n",
      "|++LrzgJgFUXrNd4U2...|2648|         2|         [4, 4]|         [3, 3]|       [#515252, #515252]|\n",
      "|++NVr4GigsWftWIUE...| 130|         2|     [910, 910]|     [566, 566]|       [#FF4500, #FF4500]|\n",
      "|++O8vT6ryRLAAHS8z...|2484|         2|   [1159, 1159]|   [1607, 1607]|       [#000000, #000000]|\n",
      "+--------------------+----+----------+---------------+---------------+-------------------------+\n",
      "only showing top 20 rows\n",
      "\n"
     ]
    },
    {
     "name": "stderr",
     "output_type": "stream",
     "text": [
      "                                                                                \r"
     ]
    }
   ],
   "source": [
    "grouped = timeUserGrouped.dropDuplicates(['user_id'])\n",
    "grouped.show()"
   ]
  },
  {
   "cell_type": "code",
   "execution_count": 9,
   "metadata": {},
   "outputs": [
    {
     "name": "stderr",
     "output_type": "stream",
     "text": [
      "22/06/05 18:17:46 WARN RowBasedKeyValueBatch: Calling spill() on RowBasedKeyValueBatch. Will not spill but return 0.\n",
      "22/06/05 18:17:46 WARN RowBasedKeyValueBatch: Calling spill() on RowBasedKeyValueBatch. Will not spill but return 0.\n",
      "22/06/05 18:17:46 WARN RowBasedKeyValueBatch: Calling spill() on RowBasedKeyValueBatch. Will not spill but return 0.\n",
      "22/06/05 18:17:46 WARN RowBasedKeyValueBatch: Calling spill() on RowBasedKeyValueBatch. Will not spill but return 0.\n",
      "22/06/05 18:17:46 WARN RowBasedKeyValueBatch: Calling spill() on RowBasedKeyValueBatch. Will not spill but return 0.\n",
      "22/06/05 18:17:46 WARN RowBasedKeyValueBatch: Calling spill() on RowBasedKeyValueBatch. Will not spill but return 0.\n",
      "22/06/05 18:17:46 WARN RowBasedKeyValueBatch: Calling spill() on RowBasedKeyValueBatch. Will not spill but return 0.\n",
      "22/06/05 18:17:46 WARN RowBasedKeyValueBatch: Calling spill() on RowBasedKeyValueBatch. Will not spill but return 0.\n",
      "[Stage 22:================================================>         (5 + 1) / 6]\r"
     ]
    },
    {
     "name": "stdout",
     "output_type": "stream",
     "text": [
      "733458\n"
     ]
    },
    {
     "name": "stderr",
     "output_type": "stream",
     "text": [
      "                                                                                \r"
     ]
    }
   ],
   "source": [
    "print(grouped.count())"
   ]
  },
  {
   "cell_type": "code",
   "execution_count": 5,
   "metadata": {},
   "outputs": [],
   "source": [
    "# holder = timeUserGrouped.drop('collect_list(x)').drop('collect_list(y)').drop('t').drop('time_count').drop('collect_list(pixel_color)')\n",
    "\n",
    "# user = holder.take(2)\n",
    "# print(user)\n",
    "# a = user[1]\n",
    "# print(a)\n",
    "# b = a[9:]\n",
    "# print(b)"
   ]
  },
  {
   "cell_type": "markdown",
   "metadata": {},
   "source": [
    "<div style=\"color:lightgreen\">\n",
    "Mein Ziel damit war es, den Substring 'user_id=' aus dem Ergebnisstring zu entfernen und die Zeichen '\n",
    "\n",
    "Damit ich das Ergebnis unten kontrollieren kann.\n",
    "Hat aber nicht geklappt...\n",
    "</div>"
   ]
  },
  {
   "cell_type": "code",
   "execution_count": 6,
   "metadata": {},
   "outputs": [],
   "source": [
    "\n",
    "#user = timeUserGrouped.select('user_id').show(2)\n",
    "#print(f'{user}')\n",
    "#a = user[1]\n",
    "#timeUserGrouped.where('user_id = a').show()"
   ]
  },
  {
   "cell_type": "code",
   "execution_count": 4,
   "metadata": {},
   "outputs": [
    {
     "ename": "TypeError",
     "evalue": "count() takes 1 positional argument but 2 were given",
     "output_type": "error",
     "traceback": [
      "\u001b[0;31m---------------------------------------------------------------------------\u001b[0m",
      "\u001b[0;31mTypeError\u001b[0m                                 Traceback (most recent call last)",
      "\u001b[1;32m/workspaces/placegroups/notebooks/0.1-derr-statistiken-moderaotren2.ipynb Cell 9'\u001b[0m in \u001b[0;36m<cell line: 1>\u001b[0;34m()\u001b[0m\n\u001b[0;32m----> <a href='vscode-notebook-cell://dev-container%2B2f55736572732f6e69636f6c65646572722f446f63756d656e74732f4769744875622f706c61636567726f757073/workspaces/placegroups/notebooks/0.1-derr-statistiken-moderaotren2.ipynb#ch0000008vscode-remote?line=0'>1</a>\u001b[0m row \u001b[39m=\u001b[39m dataFrame\u001b[39m.\u001b[39;49mcount(\u001b[39m'\u001b[39;49m\u001b[39muser_id\u001b[39;49m\u001b[39m'\u001b[39;49m)\n\u001b[1;32m      <a href='vscode-notebook-cell://dev-container%2B2f55736572732f6e69636f6c65646572722f446f63756d656e74732f4769744875622f706c61636567726f757073/workspaces/placegroups/notebooks/0.1-derr-statistiken-moderaotren2.ipynb#ch0000008vscode-remote?line=1'>2</a>\u001b[0m \u001b[39mprint\u001b[39m(\u001b[39mf\u001b[39m\u001b[39m'\u001b[39m\u001b[39mAnzahl der herkömmlichen Zeilen: \u001b[39m\u001b[39m{\u001b[39;00mrow\u001b[39m}\u001b[39;00m\u001b[39m'\u001b[39m)\n\u001b[1;32m      <a href='vscode-notebook-cell://dev-container%2B2f55736572732f6e69636f6c65646572722f446f63756d656e74732f4769744875622f706c61636567726f757073/workspaces/placegroups/notebooks/0.1-derr-statistiken-moderaotren2.ipynb#ch0000008vscode-remote?line=3'>4</a>\u001b[0m row_sel \u001b[39m=\u001b[39m timeUserGrouped\u001b[39m.\u001b[39mcount(\u001b[39m'\u001b[39m\u001b[39muser_id\u001b[39m\u001b[39m'\u001b[39m)\n",
      "\u001b[0;31mTypeError\u001b[0m: count() takes 1 positional argument but 2 were given"
     ]
    }
   ],
   "source": [
    "row = dataFrame.count('user_id')\n",
    "print(f'Anzahl der herkömmlichen Zeilen: {row}')\n",
    "\n",
    "row_sel = timeUserGrouped.count('user_id')\n",
    "print(f'Anzahl der angeblichen Moderatoren: {row_sel}')"
   ]
  }
 ],
 "metadata": {
  "interpreter": {
   "hash": "949777d72b0d2535278d3dc13498b2535136f6dfe0678499012e853ee9abcab1"
  },
  "kernelspec": {
   "display_name": "Python 3.9.2 64-bit",
   "language": "python",
   "name": "python3"
  },
  "language_info": {
   "codemirror_mode": {
    "name": "ipython",
    "version": 3
   },
   "file_extension": ".py",
   "mimetype": "text/x-python",
   "name": "python",
   "nbconvert_exporter": "python",
   "pygments_lexer": "ipython3",
   "version": "3.9.2"
  },
  "orig_nbformat": 4
 },
 "nbformat": 4,
 "nbformat_minor": 2
}
