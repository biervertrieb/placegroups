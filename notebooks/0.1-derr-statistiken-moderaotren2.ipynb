{
 "cells": [
  {
   "cell_type": "code",
   "execution_count": 21,
   "metadata": {},
   "outputs": [
    {
     "name": "stdout",
     "output_type": "stream",
     "text": [
      "root\n",
      " |-- user_id: string (nullable = true)\n",
      " |-- x: integer (nullable = true)\n",
      " |-- y: integer (nullable = true)\n",
      " |-- t: long (nullable = true)\n",
      " |-- pixel_color: string (nullable = true)\n",
      "\n"
     ]
    }
   ],
   "source": [
    "from src.data.dataset_functions import get_dataframe\n",
    "\n",
    "dataFrame = get_dataframe(True)\n",
    "dataFrame.printSchema()"
   ]
  },
  {
   "cell_type": "markdown",
   "metadata": {},
   "source": [
    "<div style=\"color:lightgreen\">\n",
    "Eine zweite zu betrachtende Situation ist, dass Moderatoren auch mehrere Pixel auf einmal ändern können.\n",
    "\n",
    "```\n",
    "SELECT user_id, COUNT(x) --es reicht aus die x Koordinate zu zählen\n",
    "FROM dataFrame\n",
    "WHERE --Wie könnte die Where-Clause angegeben werden, dass nur ein bestimmter Zeitpunkt betrachtet wird?\n",
    "HAVING COUNT(x) > 1\n",
    "GROUP BY user_id;\n",
    "```\n",
    "\n",
    "\n",
    "Vorschlag Sebastian:\n",
    "<div style=\"color:lightblue\">(Sebastian): Gruppieren nach t-Spalte und dann gucken wo count(t) > 1 ?</div>\n",
    "</div>"
   ]
  },
  {
   "cell_type": "markdown",
   "metadata": {},
   "source": [
    "<div style=\"color:lightgreen\">\n",
    "\n",
    "Mein Vorschlag:\n",
    "\n",
    "Ist es nicht besser direkt nach Nutzer und Zeit zu gruppieren? Dann hat man für jeden Nutzer direkt angezeigt, wie oft zu einem Zeitpunkt Pixel platziert wurden?\n",
    "Dann wäre auch die Bereinigung der Daten effektiver als oben.\n",
    "\n",
    "Hier der Versuch:\n",
    "</div>"
   ]
  },
  {
   "cell_type": "code",
   "execution_count": 2,
   "metadata": {},
   "outputs": [
    {
     "name": "stdout",
     "output_type": "stream",
     "text": [
      "root\n",
      " |-- user_id: string (nullable = true)\n",
      " |-- t: long (nullable = true)\n",
      " |-- count: long (nullable = false)\n",
      " |-- collect_list(x): array (nullable = false)\n",
      " |    |-- element: integer (containsNull = false)\n",
      " |-- collect_list(y): array (nullable = false)\n",
      " |    |-- element: integer (containsNull = false)\n",
      " |-- collect_list(pixel_color): array (nullable = false)\n",
      " |    |-- element: string (containsNull = false)\n",
      "\n"
     ]
    }
   ],
   "source": [
    "from src.features.feature_functions import group_dataframe_by_time_and_user\n",
    "import pyspark.sql.functions as F\n",
    "\n",
    "timeUserGrouped = group_dataframe_by_time_and_user(dataFrame)\n",
    "timeUserGrouped.printSchema()"
   ]
  },
  {
   "cell_type": "code",
   "execution_count": 3,
   "metadata": {},
   "outputs": [
    {
     "name": "stderr",
     "output_type": "stream",
     "text": [
      "[Stage 4:====================================================>    (11 + 1) / 12]\r"
     ]
    },
    {
     "name": "stdout",
     "output_type": "stream",
     "text": [
      "+--------------------+-----+----------+--------------------+--------------------+-------------------------+\n",
      "|             user_id|    t|time_count|     collect_list(x)|     collect_list(y)|collect_list(pixel_color)|\n",
      "+--------------------+-----+----------+--------------------+--------------------+-------------------------+\n",
      "|X8gpDfO6+Z87SKKTy...|29312|         8|[1685, 904, 932, ...|[228, 1865, 1850,...|     [#FFD635, #000000...|\n",
      "|AxBTmhBMbr1sbDw/2...|28682|         6|[1403, 777, 1741,...|[2, 8, 10, 2, 8, 10]|     [#FFA800, #FFA800...|\n",
      "|DIECtVqoJqBlL6A0C...|27538|         6|[932, 920, 933, 9...|[1757, 1832, 1838...|     [#FFFFFF, #BE0039...|\n",
      "|AxBTmhBMbr1sbDw/2...|28064|         6|[655, 612, 1575, ...|[1896, 1917, 7, 1...|     [#B44AC0, #E4ABFF...|\n",
      "|tSD0qKwzfmmglNjOQ...|28913|         4|[941, 913, 941, 913]|[1869, 1865, 1869...|     [#FFFFFF, #51E9F4...|\n",
      "|AxBTmhBMbr1sbDw/2...|27139|         4|[1287, 1926, 1287...|      [8, 19, 8, 19]|     [#3690EA, #BE0039...|\n",
      "|SXF5Vf5UlWU1UW/0F...|27967|         4|[930, 926, 930, 926]|[1847, 1832, 1847...|     [#51E9F4, #BE0039...|\n",
      "|VmiTfdqG3P1MlZokx...|27595|         4|[957, 936, 957, 936]|[1833, 1833, 1833...|     [#BE0039, #BE0039...|\n",
      "|gE8PEUVI0U2LZ1z9G...|28169|         4|[990, 939, 990, 939]|[1846, 1841, 1846...|     [#3690EA, #FFA800...|\n",
      "|LIVvK+L7Y5WOXCwhH...|29321|         4|[542, 886, 542, 886]|[1942, 10, 1942, 10]|     [#000000, #FFA800...|\n",
      "|slIR+v2EkYcEW/5dM...|29128|         4|[1459, 1459, 1459...|[1748, 1748, 1748...|     [#00A368, #00A368...|\n",
      "|FjHp8Fg+uuheibUWk...|28198|         4|[998, 998, 998, 998]|[1466, 1466, 1466...|     [#000000, #000000...|\n",
      "|VcHUE/HttS4Zm0734...|27161|         4|[1537, 1537, 1537...|[1844, 1844, 1844...|     [#000000, #000000...|\n",
      "|zr4zPH9hAud2ggres...|27830|         4|[1339, 1339, 1339...|[570, 570, 570, 570]|     [#000000, #000000...|\n",
      "|WxRshRaXtIweLY+Ii...|27306|         4|[925, 925, 925, 925]|[1863, 1863, 1863...|     [#51E9F4, #51E9F4...|\n",
      "|xw+BT8X4gip2hBtcg...|27226|         4|  [105, 92, 105, 92]|[139, 133, 139, 133]|     [#BE0039, #BE0039...|\n",
      "|1Vf7BYDE+PHunSWrr...|26774|         4|[447, 447, 447, 447]|[1268, 1268, 1268...|     [#000000, #000000...|\n",
      "|VcHUE/HttS4Zm0734...|28241|         4|[1537, 1537, 1537...|[1844, 1844, 1844...|     [#000000, #000000...|\n",
      "|AxBTmhBMbr1sbDw/2...|29299|         4|[788, 656, 788, 656]|[11, 1884, 11, 1884]|     [#000000, #E4ABFF...|\n",
      "|FqWlYosC7Oca6Vvqp...|28505|         4|[595, 681, 595, 681]|[504, 504, 504, 504]|     [#FFFFFF, #898D90...|\n",
      "+--------------------+-----+----------+--------------------+--------------------+-------------------------+\n",
      "only showing top 20 rows\n",
      "\n"
     ]
    },
    {
     "name": "stderr",
     "output_type": "stream",
     "text": [
      "                                                                                \r"
     ]
    }
   ],
   "source": [
    "timeUserGrouped = timeUserGrouped.withColumnRenamed('count','time_count')\n",
    "\n",
    "timeUserGrouped = timeUserGrouped.filter(timeUserGrouped.time_count > 1)\n",
    "timeUserGrouped.show()"
   ]
  },
  {
   "cell_type": "code",
   "execution_count": 4,
   "metadata": {},
   "outputs": [
    {
     "name": "stderr",
     "output_type": "stream",
     "text": [
      "[Stage 12:>                                                         (0 + 1) / 1]\r"
     ]
    },
    {
     "name": "stdout",
     "output_type": "stream",
     "text": [
      "+--------------------+-----+----------+---------------+---------------+-------------------------+\n",
      "|             user_id|    t|time_count|collect_list(x)|collect_list(y)|collect_list(pixel_color)|\n",
      "+--------------------+-----+----------+---------------+---------------+-------------------------+\n",
      "|++++KubvRsRI2sZI3...|28165|         2|   [1434, 1434]|     [360, 360]|       [#9C6926, #9C6926]|\n",
      "|++0nCmngtZ68vbg6p...|27072|         2|     [757, 757]|     [592, 592]|       [#000000, #000000]|\n",
      "|++3Ki0p8wbp0g7xQv...|29762|         2|   [1975, 1975]|       [92, 92]|       [#FFFFFF, #FFFFFF]|\n",
      "|++3gcvcX6sgZwlgO7...|28565|         2|     [983, 983]|   [1529, 1529]|       [#000000, #000000]|\n",
      "|++3l0k1HSXKiAsHkH...|27719|         2|     [668, 668]|   [1211, 1211]|       [#D4D7D9, #D4D7D9]|\n",
      "|++4/asfR6j/RbsvIF...|29079|         2|     [467, 467]|     [937, 937]|       [#FFFFFF, #FFFFFF]|\n",
      "|++4PiR2T1Y0vPxBnK...|29843|         2|     [205, 205]|   [1852, 1852]|       [#000000, #000000]|\n",
      "|++5bQtHNJxwF1lYE2...|26356|         2|   [1359, 1359]|     [516, 516]|       [#FFA800, #FFA800]|\n",
      "|++5pPvIjDpotsn52i...|27325|         2|     [788, 788]|   [1170, 1170]|       [#898D90, #898D90]|\n",
      "|++68jL6836M7tZ/bi...|26868|         2|   [1453, 1453]|     [488, 488]|       [#000000, #000000]|\n",
      "|++BAHZwh4NyNQDlTI...|28766|         2|     [196, 196]|     [510, 510]|       [#D4D7D9, #D4D7D9]|\n",
      "|++EyHs8HzYaxFSt9N...|27292|         2|   [1805, 1805]|     [801, 801]|       [#000000, #000000]|\n",
      "|++FcT9Zjq2p/nfGM/...|26576|         2|     [255, 255]|   [1694, 1694]|       [#811E9F, #811E9F]|\n",
      "|++Hm3pf0ZJpanNHYS...|29050|         2|   [1672, 1672]|     [802, 802]|       [#6D001A, #6D001A]|\n",
      "|++JMNsqUbdSDUTzJX...|29368|         2|     [148, 148]|   [1240, 1240]|       [#000000, #000000]|\n",
      "|++JvSfBwK8A7jM1dV...|28763|         2|     [657, 657]|     [678, 678]|       [#FFFFFF, #FFFFFF]|\n",
      "|++KYqw+gZ7SRFb1Hh...|26478|         2|   [1484, 1484]|     [490, 490]|       [#000000, #000000]|\n",
      "|++LrzgJgFUXrNd4U2...|28986|         2|         [4, 4]|         [3, 3]|       [#515252, #515252]|\n",
      "|++NVr4GigsWftWIUE...|26468|         2|     [910, 910]|     [566, 566]|       [#FF4500, #FF4500]|\n",
      "|++O8vT6ryRLAAHS8z...|29562|         2|   [1178, 1178]|   [1555, 1555]|       [#009EAA, #009EAA]|\n",
      "+--------------------+-----+----------+---------------+---------------+-------------------------+\n",
      "only showing top 20 rows\n",
      "\n"
     ]
    },
    {
     "name": "stderr",
     "output_type": "stream",
     "text": [
      "                                                                                \r"
     ]
    }
   ],
   "source": [
    "grouped = timeUserGrouped.dropDuplicates(['user_id'])\n",
    "grouped.show()"
   ]
  },
  {
   "cell_type": "code",
   "execution_count": 5,
   "metadata": {},
   "outputs": [
    {
     "name": "stderr",
     "output_type": "stream",
     "text": [
      "22/06/07 14:53:36 WARN RowBasedKeyValueBatch: Calling spill() on RowBasedKeyValueBatch. Will not spill but return 0.\n",
      "22/06/07 14:53:36 WARN RowBasedKeyValueBatch: Calling spill() on RowBasedKeyValueBatch. Will not spill but return 0.\n",
      "22/06/07 14:53:36 WARN RowBasedKeyValueBatch: Calling spill() on RowBasedKeyValueBatch. Will not spill but return 0.\n",
      "22/06/07 14:53:36 WARN RowBasedKeyValueBatch: Calling spill() on RowBasedKeyValueBatch. Will not spill but return 0.\n",
      "22/06/07 14:53:36 WARN RowBasedKeyValueBatch: Calling spill() on RowBasedKeyValueBatch. Will not spill but return 0.\n",
      "22/06/07 14:53:36 WARN RowBasedKeyValueBatch: Calling spill() on RowBasedKeyValueBatch. Will not spill but return 0.\n",
      "22/06/07 14:53:36 WARN RowBasedKeyValueBatch: Calling spill() on RowBasedKeyValueBatch. Will not spill but return 0.\n",
      "22/06/07 14:53:36 WARN RowBasedKeyValueBatch: Calling spill() on RowBasedKeyValueBatch. Will not spill but return 0.\n",
      "22/06/07 14:53:36 WARN RowBasedKeyValueBatch: Calling spill() on RowBasedKeyValueBatch. Will not spill but return 0.\n",
      "22/06/07 14:53:36 WARN RowBasedKeyValueBatch: Calling spill() on RowBasedKeyValueBatch. Will not spill but return 0.\n",
      "[Stage 19:===================================================>      (8 + 1) / 9]\r"
     ]
    },
    {
     "name": "stdout",
     "output_type": "stream",
     "text": [
      "733580\n"
     ]
    },
    {
     "name": "stderr",
     "output_type": "stream",
     "text": [
      "                                                                                \r"
     ]
    }
   ],
   "source": [
    "print(grouped.count())"
   ]
  },
  {
   "cell_type": "code",
   "execution_count": 4,
   "metadata": {},
   "outputs": [
    {
     "ename": "TypeError",
     "evalue": "count() takes 1 positional argument but 2 were given",
     "output_type": "error",
     "traceback": [
      "\u001b[0;31m---------------------------------------------------------------------------\u001b[0m",
      "\u001b[0;31mTypeError\u001b[0m                                 Traceback (most recent call last)",
      "\u001b[1;32m/workspaces/placegroups/notebooks/0.1-derr-statistiken-moderaotren2.ipynb Cell 9'\u001b[0m in \u001b[0;36m<cell line: 1>\u001b[0;34m()\u001b[0m\n\u001b[0;32m----> <a href='vscode-notebook-cell://dev-container%2B2f55736572732f6e69636f6c65646572722f446f63756d656e74732f4769744875622f706c61636567726f757073/workspaces/placegroups/notebooks/0.1-derr-statistiken-moderaotren2.ipynb#ch0000008vscode-remote?line=0'>1</a>\u001b[0m row \u001b[39m=\u001b[39m dataFrame\u001b[39m.\u001b[39;49mcount(\u001b[39m'\u001b[39;49m\u001b[39muser_id\u001b[39;49m\u001b[39m'\u001b[39;49m)\n\u001b[1;32m      <a href='vscode-notebook-cell://dev-container%2B2f55736572732f6e69636f6c65646572722f446f63756d656e74732f4769744875622f706c61636567726f757073/workspaces/placegroups/notebooks/0.1-derr-statistiken-moderaotren2.ipynb#ch0000008vscode-remote?line=1'>2</a>\u001b[0m \u001b[39mprint\u001b[39m(\u001b[39mf\u001b[39m\u001b[39m'\u001b[39m\u001b[39mAnzahl der herkömmlichen Zeilen: \u001b[39m\u001b[39m{\u001b[39;00mrow\u001b[39m}\u001b[39;00m\u001b[39m'\u001b[39m)\n\u001b[1;32m      <a href='vscode-notebook-cell://dev-container%2B2f55736572732f6e69636f6c65646572722f446f63756d656e74732f4769744875622f706c61636567726f757073/workspaces/placegroups/notebooks/0.1-derr-statistiken-moderaotren2.ipynb#ch0000008vscode-remote?line=3'>4</a>\u001b[0m row_sel \u001b[39m=\u001b[39m timeUserGrouped\u001b[39m.\u001b[39mcount(\u001b[39m'\u001b[39m\u001b[39muser_id\u001b[39m\u001b[39m'\u001b[39m)\n",
      "\u001b[0;31mTypeError\u001b[0m: count() takes 1 positional argument but 2 were given"
     ]
    }
   ],
   "source": [
    "row = dataFrame.count('user_id')\n",
    "print(f'Anzahl der herkömmlichen Zeilen: {row}')\n",
    "\n",
    "row_sel = timeUserGrouped.count('user_id')\n",
    "print(f'Anzahl der angeblichen Moderatoren: {row_sel}')"
   ]
  },
  {
   "cell_type": "markdown",
   "metadata": {},
   "source": [
    "<div style=\"color:lightgreen\">\n",
    "Vllt doch besser nur über Zeit zu gruppieren?\n",
    "</div>"
   ]
  },
  {
   "cell_type": "code",
   "execution_count": 22,
   "metadata": {},
   "outputs": [
    {
     "name": "stdout",
     "output_type": "stream",
     "text": [
      "root\n",
      " |-- t: long (nullable = true)\n",
      " |-- count: long (nullable = false)\n",
      " |-- collect_list(user_id): array (nullable = false)\n",
      " |    |-- element: string (containsNull = false)\n",
      " |-- collect_list(x): array (nullable = false)\n",
      " |    |-- element: integer (containsNull = false)\n",
      " |-- collect_list(y): array (nullable = false)\n",
      " |    |-- element: integer (containsNull = false)\n",
      " |-- collect_list(pixel_color): array (nullable = false)\n",
      " |    |-- element: string (containsNull = false)\n",
      "\n"
     ]
    }
   ],
   "source": [
    "from src.features.feature_functions import group_dataframe_by_time\n",
    "\n",
    "timeGrouped = group_dataframe_by_time(dataFrame)\n",
    "timeGrouped.printSchema()"
   ]
  },
  {
   "cell_type": "code",
   "execution_count": 23,
   "metadata": {},
   "outputs": [
    {
     "name": "stdout",
     "output_type": "stream",
     "text": [
      "root\n",
      " |-- t: long (nullable = true)\n",
      " |-- time_count: long (nullable = false)\n",
      " |-- collect_list(user_id): array (nullable = false)\n",
      " |    |-- element: string (containsNull = false)\n",
      " |-- collect_list(x): array (nullable = false)\n",
      " |    |-- element: integer (containsNull = false)\n",
      " |-- collect_list(y): array (nullable = false)\n",
      " |    |-- element: integer (containsNull = false)\n",
      " |-- collect_list(pixel_color): array (nullable = false)\n",
      " |    |-- element: string (containsNull = false)\n",
      "\n"
     ]
    }
   ],
   "source": [
    "timeGrouped = timeGrouped.withColumnRenamed('count','time_count')\n",
    "timeGrouped.printSchema()"
   ]
  },
  {
   "cell_type": "code",
   "execution_count": 24,
   "metadata": {},
   "outputs": [
    {
     "name": "stderr",
     "output_type": "stream",
     "text": [
      "                                                                                \r"
     ]
    },
    {
     "name": "stdout",
     "output_type": "stream",
     "text": [
      "+----+----------+---------------------+--------------------+--------------------+-------------------------+\n",
      "|   t|time_count|collect_list(user_id)|     collect_list(x)|     collect_list(y)|collect_list(pixel_color)|\n",
      "+----+----------+---------------------+--------------------+--------------------+-------------------------+\n",
      "|1576|      2670| [HCpm+67Bk9Hnia1k...|[151, 0, 29, 1780...|[1884, 1672, 1815...|     [#000000, #000000...|\n",
      "|1573|      2670| [opKWRQuucm7TrBLu...|[44, 120, 0, 1777...|[1713, 1737, 1120...|     [#000000, #FFA800...|\n",
      "|1575|      2639| [hnp8WrkaEwMXOvXJ...|[154, 143, 89, 11...|[1867, 1696, 1675...|     [#000000, #000000...|\n",
      "|1574|      2593| [2IbpXz/9Gtjfgfo5...|[182, 189, 42, 13...|[1761, 1722, 1708...|     [#000000, #BE0039...|\n",
      "|1578|      2591| [3vSAHWRA4lxx0P73...|[104, 224, 62, 14...|[1860, 1790, 1957...|     [#000000, #BE0039...|\n",
      "|1577|      2560| [MF1wnz7k+eu72s6l...|[180, 208, 48, 18...|[227, 1749, 1740,...|     [#FFA800, #000000...|\n",
      "|1579|      2500| [6TUrLNzZBX5PjodW...|[87, 142, 64, 183...|[1885, 1589, 1689...|     [#000000, #51E9F4...|\n",
      "|1571|      2479| [4IpCxhkBwhPQpR4z...|[147, 194, 1273, ...|[1704, 1742, 91, ...|     [#000000, #000000...|\n",
      "|1580|      2471| [crx8iMrGIkGP57xg...|[184, 279, 64, 96...|[1754, 1784, 788,...|     [#BE0039, #FFF8B8...|\n",
      "|1572|      2442| [oaeb4agaHZiqaCh+...|[215, 37, 113, 22...|[1660, 1713, 1793...|     [#BE0039, #2450A4...|\n",
      "|1570|      2385| [RkARTAsTKwgf5n0/...|[157, 106, 116, 1...|[1872, 1915, 1603...|     [#000000, #000000...|\n",
      "|1581|      2380| [iWlP3jeQPASmW+TJ...|[134, 61, 198, 37...|[1862, 1815, 1734...|     [#FFFFFF, #000000...|\n",
      "|1560|      2378| [y2uAe1fKExqOPuuh...|[1962, 239, 762, ...|[52, 1703, 897, 1...|     [#000000, #000000...|\n",
      "|1585|      2376| [2VXxrykKv3MmhgAG...|[132, 347, 37, 12...|[1805, 1151, 963,...|     [#000000, #FFD635...|\n",
      "|1583|      2374| [MUo7SggrxHsKAmif...|[194, 215, 18, 27...|[1718, 1778, 1822...|     [#BE0039, #6D001A...|\n",
      "|1584|      2369| [10Gm0bGFon6ciTm6...|[1974, 115, 91, 2...|[59, 1780, 1767, ...|     [#FFFFFF, #000000...|\n",
      "|1161|      2338| [2notc2uVA+WK6TIx...|[676, 134, 215, 1...|[415, 1816, 1825,...|     [#FFFFFF, #000000...|\n",
      "|1569|      2311| [uS+hbQGNmBfaa0dM...|[1113, 193, 117, ...|[133, 1744, 1804,...|     [#000000, #BE0039...|\n",
      "|1164|      2304| [QCxllnKX36d7cWja...|[91, 222, 93, 119...|[1797, 1849, 1777...|     [#000000, #BE0039...|\n",
      "|1582|      2297| [OB8ScyBUpVGAy4aF...|[801, 1307, 1785,...|[370, 1152, 1144,...|     [#D4D7D9, #FFFFFF...|\n",
      "+----+----------+---------------------+--------------------+--------------------+-------------------------+\n",
      "only showing top 20 rows\n",
      "\n"
     ]
    }
   ],
   "source": [
    "timeGrouped = timeGrouped.filter(timeGrouped.time_count > 1)\n",
    "timeGrouped.show()"
   ]
  },
  {
   "cell_type": "markdown",
   "metadata": {},
   "source": [
    "<div style=\"color:lightgreen\">\n",
    "Jz muss für jeden Zeitpunkt die Userliste betrachtet werden.\n",
    "\n",
    "Dabei muss geschaut werden, welcher User mehrmals vorkommt.\n",
    "\n",
    "D.h. Vorkommen zählen.\n",
    "</div>"
   ]
  },
  {
   "cell_type": "markdown",
   "metadata": {},
   "source": [
    "<div style=\"color:#cb4861\">\n",
    "Neuer Ansatz:\n",
    "\n",
    "Self-Join über Nutzer & quasi den selben Zeitpunkt, dann sagen, dass t1 < t2 sein soll.\n",
    "Anschließend schauen ob Nutzer mehrfach vorkommt.\n",
    "</div>"
   ]
  },
  {
   "cell_type": "code",
   "execution_count": 25,
   "metadata": {},
   "outputs": [
    {
     "name": "stderr",
     "output_type": "stream",
     "text": [
      "                                                                                \r"
     ]
    },
    {
     "name": "stdout",
     "output_type": "stream",
     "text": [
      "+--------------------+----+----+-----+-----------+--------------------+----+----+-----+-----------+\n",
      "|             user_id|   x|   y|    t|pixel_color|             user_id|   x|   y|    t|pixel_color|\n",
      "+--------------------+----+----+-----+-----------+--------------------+----+----+-----+-----------+\n",
      "|Qafq4ohzHG2/BRgOZ...|1757| 919|26613|    #000000|Qafq4ohzHG2/BRgOZ...| 948|1877|26613|    #FFA800|\n",
      "|Qafq4ohzHG2/BRgOZ...| 948|1877|26613|    #FFA800|Qafq4ohzHG2/BRgOZ...|1757| 919|26613|    #000000|\n",
      "|i6Hv8krtoGNymbs3c...| 916|1848|27172|    #51E9F4|i6Hv8krtoGNymbs3c...| 938|1840|27172|    #FFFFFF|\n",
      "|i6Hv8krtoGNymbs3c...| 938|1840|27172|    #FFFFFF|i6Hv8krtoGNymbs3c...| 916|1848|27172|    #51E9F4|\n",
      "|SXF5Vf5UlWU1UW/0F...| 926|1832|27967|    #BE0039|SXF5Vf5UlWU1UW/0F...| 930|1847|27967|    #51E9F4|\n",
      "|vw/fG+wFQWr02Vraf...|1647| 126|28269|    #7EED56|vw/fG+wFQWr02Vraf...|1650| 127|28269|    #000000|\n",
      "|SXF5Vf5UlWU1UW/0F...| 981|1844|28807|    #000000|SXF5Vf5UlWU1UW/0F...| 991|1840|28807|    #9C6926|\n",
      "|SXF5Vf5UlWU1UW/0F...| 991|1840|28807|    #9C6926|SXF5Vf5UlWU1UW/0F...| 981|1844|28807|    #000000|\n",
      "|BmjXARzU+xyFQLSPJ...|1539|   8|  535|    #898D90|BmjXARzU+xyFQLSPJ...| 707|1930|  535|    #6D482F|\n",
      "|BmjXARzU+xyFQLSPJ...| 707|1930|  535|    #6D482F|BmjXARzU+xyFQLSPJ...|1539|   8|  535|    #898D90|\n",
      "|E7dwXBrzqR3gjN1LF...| 688|1858|  559|    #6D482F|E7dwXBrzqR3gjN1LF...| 700|1870|  559|    #6D482F|\n",
      "|os0SvQIUe7Ezdo+UM...|1975| 396| 1054|    #D4D7D9|os0SvQIUe7Ezdo+UM...|1993| 384| 1054|    #D4D7D9|\n",
      "|os0SvQIUe7Ezdo+UM...|1993| 384| 1054|    #D4D7D9|os0SvQIUe7Ezdo+UM...|1975| 396| 1054|    #D4D7D9|\n",
      "|os0SvQIUe7Ezdo+UM...|1651| 254| 1054|    #D4D7D9|os0SvQIUe7Ezdo+UM...|1975| 396| 1054|    #D4D7D9|\n",
      "|os0SvQIUe7Ezdo+UM...|1651| 254| 1054|    #D4D7D9|os0SvQIUe7Ezdo+UM...|1993| 384| 1054|    #D4D7D9|\n",
      "|K+xJuAvIjsDUc9iPJ...| 684|1863|  450|    #6D001A|K+xJuAvIjsDUc9iPJ...| 711|1918|  450|    #9C6926|\n",
      "|C5UJR4VvOj3EJTEEb...|1649| 237|  777|    #B44AC0|C5UJR4VvOj3EJTEEb...|1979| 380|  777|    #FFD635|\n",
      "|Yosa4ArHwnXDGUyZJ...|1650| 252|  991|    #D4D7D9|Yosa4ArHwnXDGUyZJ...|1651| 229|  991|    #B44AC0|\n",
      "|Yosa4ArHwnXDGUyZJ...|1651| 229|  991|    #B44AC0|Yosa4ArHwnXDGUyZJ...|1650| 252|  991|    #D4D7D9|\n",
      "|LPGe0TJTM3jja4dtJ...| 558|1943| 1635|    #000000|LPGe0TJTM3jja4dtJ...| 574|1913| 1635|    #6D482F|\n",
      "+--------------------+----+----+-----+-----------+--------------------+----+----+-----+-----------+\n",
      "only showing top 20 rows\n",
      "\n"
     ]
    }
   ],
   "source": [
    "import pyspark.sql.functions as F\n",
    "\n",
    "selfJoinTime = dataFrame.alias('t1').join(dataFrame.alias('t2'), F.col('t1.user_id') == F.col('t2.user_id'),'inner')\n",
    "selfJoinTime = selfJoinTime.where('t1.t == t2.t').where('t1.x < t2.x OR t1.y < t2.y')\n",
    "selfJoinTime.distinct().show()"
   ]
  },
  {
   "cell_type": "code",
   "execution_count": 26,
   "metadata": {},
   "outputs": [
    {
     "name": "stderr",
     "output_type": "stream",
     "text": [
      "[Stage 64:============================================>           (16 + 4) / 20]\r"
     ]
    },
    {
     "name": "stdout",
     "output_type": "stream",
     "text": [
      "+--------------------+\n",
      "|             user_id|\n",
      "+--------------------+\n",
      "|SXF5Vf5UlWU1UW/0F...|\n",
      "|Qafq4ohzHG2/BRgOZ...|\n",
      "|i6Hv8krtoGNymbs3c...|\n",
      "|vw/fG+wFQWr02Vraf...|\n",
      "|BmjXARzU+xyFQLSPJ...|\n",
      "|E7dwXBrzqR3gjN1LF...|\n",
      "|os0SvQIUe7Ezdo+UM...|\n",
      "|FqWlYosC7Oca6Vvqp...|\n",
      "|K+xJuAvIjsDUc9iPJ...|\n",
      "|kYhL/Z4Y2RcSpKmTD...|\n",
      "|LPGe0TJTM3jja4dtJ...|\n",
      "|Yosa4ArHwnXDGUyZJ...|\n",
      "|C5UJR4VvOj3EJTEEb...|\n",
      "|MTsePTaE/v1L9+xpz...|\n",
      "|AxBTmhBMbr1sbDw/2...|\n",
      "|6dbHlCcUjHtb8ZwtH...|\n",
      "|n6JR4vSag3sih2kpE...|\n",
      "|HpaGMZJYSrz/K5y8f...|\n",
      "|WjSSJUeYPQxt8+3yR...|\n",
      "|UHCTBiKzVoFjs/Peh...|\n",
      "+--------------------+\n",
      "only showing top 20 rows\n",
      "\n"
     ]
    },
    {
     "name": "stderr",
     "output_type": "stream",
     "text": [
      "                                                                                \r"
     ]
    }
   ],
   "source": [
    "selfJoinTime.select('t1.user_id').distinct().show()"
   ]
  },
  {
   "cell_type": "markdown",
   "metadata": {},
   "source": [
    "<div style=\"color:#cb4861\">\n",
    "Eventuell sind das nun wirklich alle Moderatoren...\n",
    "</div>"
   ]
  },
  {
   "cell_type": "code",
   "execution_count": 27,
   "metadata": {},
   "outputs": [
    {
     "name": "stderr",
     "output_type": "stream",
     "text": [
      "                                                                                \r"
     ]
    }
   ],
   "source": [
    "mods = selfJoinTime.select('t1.user_id').distinct().collect()\n",
    "mod = []\n",
    "\n",
    "for row in mods:\n",
    "    mod.append(list(row))"
   ]
  },
  {
   "cell_type": "code",
   "execution_count": 28,
   "metadata": {},
   "outputs": [
    {
     "name": "stderr",
     "output_type": "stream",
     "text": [
      "                                                                                \r"
     ]
    },
    {
     "data": {
      "text/plain": [
       "98"
      ]
     },
     "execution_count": 28,
     "metadata": {},
     "output_type": "execute_result"
    }
   ],
   "source": [
    "selfJoinTime.select('t1.user_id').distinct().count()"
   ]
  },
  {
   "cell_type": "markdown",
   "metadata": {},
   "source": [
    "<div style=\"color:#cb4861\">\n",
    "Angeblich haben wir im Datensatz 51 folgende Anzahl an Mods: 98\n",
    "</div>"
   ]
  },
  {
   "cell_type": "code",
   "execution_count": 29,
   "metadata": {},
   "outputs": [
    {
     "name": "stdout",
     "output_type": "stream",
     "text": [
      "['SXF5Vf5UlWU1UW/0FtsA+EBcgjJpb8kseydlLzfWRbD024834DAUQMzi8qgpIvI/hoIf7yw9rd+RLCCHD4eZ8g==']\n",
      "['Qafq4ohzHG2/BRgOZP3UKYSAnmaLB4txrV82QG57+GkOx4Xf0lK0Qr06Ym69Xq3XB79O+KMIV8BSySnHwgJA9Q==']\n",
      "['i6Hv8krtoGNymbs3c8iWVSq7AzoV0vUvOMbNU0GvQyC4klKLPBVigV/JecsN39+PQfR4QFzLBNf1vJZw5ZlW1A==']\n",
      "['vw/fG+wFQWr02VrafWaTOE2lF/6+Gr2nq2Sb6t9TUUc4UlAZEMnh06KYG5Z7uuQGwjGJGwKCnWiEccdFNa/GRg==']\n",
      "['BmjXARzU+xyFQLSPJcgItYh/JTWExwfb6rtGN4lPAMCNXzIgfw1oLOaInLfX0z2OLS0Cya5YmRaNL63Cx/cMew==']\n",
      "['E7dwXBrzqR3gjN1LFc4crkPmPukLP7vs4g6O8YQSz2dhIwLD7gUOYRVqOwsfl+/o/rvYl7zWDwS8m+7Cn7zNfQ==']\n",
      "['os0SvQIUe7Ezdo+UMmzj3F9EnRQ3Ma6F/jfcUKSExtbdxJdux+sPzZxJ7+2Q5dC1hX8uexhj5KUyggFep5aIwA==']\n",
      "['FqWlYosC7Oca6Vvqp16Gwjs7g4vVTr2BPRUggGnTaRrr46IrtkzTK9nGYqIdw1R6rglsHydp7VZQmhEN4w7Zlg==']\n",
      "['K+xJuAvIjsDUc9iPJiLJCusV2YfAVPWhgIvLKBsXjZ4o8T0Xq8dUxYO1oUfZqjhUxOn1++pvI59mE4gx4STihw==']\n",
      "['kYhL/Z4Y2RcSpKmTDoNrfCfhbbyE70y7ORonAbJWYylWlf6IBaCZ8tok8rogu2syFcBIRrQGUDjHfGTeIh22aw==']\n",
      "['LPGe0TJTM3jja4dtJaP5tRL4Dp1fvIab9VENNoUh7j/7NbK4U1fiA/Cji6N4DRgYyrd3IZwRllj4Zjk+/6C3SA==']\n",
      "['Yosa4ArHwnXDGUyZJBQMcMjwqecc5VZ0nV5iYbx0KW+NggSwTW29Xwqf2eHiZSwUuMonex0EHG4eGxd5D885sw==']\n",
      "['C5UJR4VvOj3EJTEEbrBsNnpm2XgcP8eju0EC3cy68MHnYrwDnFwBvX8ii6dSCIIPlZXIkrxeKY8B+Uk6AZJbXA==']\n",
      "['MTsePTaE/v1L9+xpz7VCc/sdRSBurD+ic4rDN0T2xMl1BvhSjaU/MTv9mYj1XwyTa1Basu3G/gaS0IH7/hd+Ow==']\n",
      "['AxBTmhBMbr1sbDw/2liFySQ4h6lH1bZSyjS9RtcBxvMyafVj+e2grv9teqbU9JkFDCPlgIfWH+L2CzKeSBdB4w==']\n",
      "['6dbHlCcUjHtb8ZwtHYHUxUgQDadn35v+5i2zPBvGmPV0OiBg/1IZ7WzHEn3lAxCOMyDQWxmDjxw0C290zZpZdw==']\n",
      "['n6JR4vSag3sih2kpErJMdBLHjz9IiqC1ZYhkQgTYoAofwPDejKtfau5bz8CUKE2GJ1SInwNDsuVoiKFIjvFawg==']\n",
      "['HpaGMZJYSrz/K5y8ftUU+0RM9ZFKe3wHCJNZdKlY9/KxdCQtdFEGyt8SQBHXkAhe1YAzEsSTWIy5IwbhLJB8HQ==']\n",
      "['WjSSJUeYPQxt8+3yRqReRPos6bjx+cbGzuIGJpRR0n2iQlPEz8jLudWsfpvoB7oqIs65pCgYa+iq2XZ4DTxq/w==']\n",
      "['UHCTBiKzVoFjs/Peh1qVeW/bLq0/wTekvOZq9x5YpC2okN3vZjG5Jryd0e8wKolzRXYZdBzoyPROc2bJR5kw0g==']\n",
      "['cpbZOckjoulgwLL11hPwJxCNqWHy8nynLyFNVwnKuNfXeGOqPkVxx3BDEFXgzYhTh2nXMD5aEY0oSLg9BadScw==']\n",
      "['Jd5C4JQX3tZVurPJomRK9j09Mu3kHY8tD9TWrvX3iHC2CycFqGi5f9/zVgUUSblwPg/W20VcnY/V5tyd1k+YVA==']\n",
      "['qF7Hfnka3m0m1ZjnC6WINeGNh+gwFM3td5k1yeD8WEXWBYTpK3J/GbJmylyHDR+Fg3cBEYJsehjXWIitETiFBQ==']\n",
      "['9bbXPhR/gqy2hH766w12NdIV7d7UUFbQ1rPm0dTHVxqHgpQHU0pUI3z7AOnXxs39p8WifdWlQ57j+npnDhplnA==']\n",
      "['53V8eoZwPhpVV17ywO01r4OA+zNk8sbKMPukm+JwK4LEjQN2MM8E8s5Q5lIcsp/VYLaXD1V5Xju23VsrKXDdcg==']\n",
      "['DTweHgzpx8ciy1S7Qew6swyMLgKuqhE437YrUOk49w+Bg9JcV5ua3wcuLnWgNL8/TGFP5M1puM7dvqj1w1gUcw==']\n",
      "['dSYKvOYzY1od2bYMI9MwqfXjahjjeGTQV6iKHOsZ8PbYFBNvUhjyLwC4wykZuaigfwR6NVR562Li6AjwhIRISw==']\n",
      "['z2C0X65ub5c/LkRc0eT3D+tZPcgCwtSMihRo4NsZaFZDP2Wqxq1GHq2QFLCKepl02GXwIRRxUKmNUa3IYsFc8A==']\n",
      "['E+zVPQHtUBT1gJoOP6x/ogOBTWaLqNzvmLlZExouZM3409k/aBclNqZK+Q36HJjiXTwwUdE2OSL2E1u6K3fAXg==']\n",
      "['7hEaUymVjW6P+2gYtfIYWlUHqTRJyhfSqq+ZW+6vT+SN8qLnAOW1XwLIMlWEqcQM1T4fiOIBBC5FT1DTBrSiuw==']\n",
      "['iNPw8KSy6NYTLfd4gWcCKfUghhzhX80/gTn22DIUZLQmZv3DTLNUbBEmynYs2yx63gtru040P/enkc6BqSCb2g==']\n",
      "['Kp8WfuGEw2Aq4WJpA0EiYVtiF8K7JGZ3YUYScpz6GuVke9H1EgQcIf0CPhsgV2IhTUXfIcL1iF/ybWrI0cGdDw==']\n",
      "['tSD0qKwzfmmglNjOQMrfdxKTjAJo6pQwy78gK+xl56TtW/tQTNCefz5DUY5i7r79W1r6A6EIY9z6FeTdQCFk3A==']\n",
      "['J0vznspbV3NrS5GOl0sM0iVie9kFKGQKpPBwauTX3BwkHPnkO7njVn1bfm5gdBFmuMsSzdDmZMLd8c2oAD66Kw==']\n",
      "['MsdvGyv1KSfWjE8OIW01fWhkAEqu272+LvX99fPjfONyKvX21s57srh/eblcd9SqYwT+2PCnAvUBd4E2wL+BCg==']\n",
      "['0ak1zOP/S9EUWAu3Q1OeKVTzWO+XjGJkNIHk2Vk2+PNwjp1w7sFeIMY+RzPy06AH6uMz8x9xO8ES6Gzeh/gLlA==']\n",
      "['LIVvK+L7Y5WOXCwhHqOuxBbfMhNb+lor5M1ssJcWXnFh8aEnZo1VXAforcle3cjXGfYd1PiotCY82/EnIGw/+w==']\n",
      "['gE8PEUVI0U2LZ1z9Go2DxEbz1pNA9DZJTN12A0RU42xNO2tqWxvSVeyI5HPcNeJ8NM1Sh+nf3+T3r6clOiEJRw==']\n",
      "['8tjc7wPcKhYRZpZvPaLSCfCx7WFGEvRxwkWewFlJ28cxBE3buGygB1cJ/5VxXHedR7aEl3jrZiTPugWPAeN9Iw==']\n",
      "['NIpXsNVfh8y5z+Qcdvv0PwxMSG6YGfGR2vStsR+l8iA4l2sPEb//IxgyoXAifkuxVRG+8NBUQDxS48ePgp4nVw==']\n",
      "['5ohJybX26Ec6VekCQ2OOt1/Br458h7g4cIttdyYg+g4wXoI+6Muqj+Dk6lZDjA3GQTqVddVE+4PpzZGL68lK7g==']\n",
      "['ejhTQSHBeW4np3x5vDJ1/euz78tyxbMdjPv3KZXN+EhOjLhyFPe9ghheBFNDp/5K5sQdoT8XF5Xev3kBXpbSbA==']\n",
      "['v7CdsY7cmJFRnTKsBgGJATSGvA+j2RqO/pNtsTCPF5G0y7mW2DMoKPMQbbs5lqIhyhzAW2n6rHeEXmiu0/KWVw==']\n",
      "['JMg0r0xC2z/tWiKqayka08nLPbaNdipzhd2Ywceywxgnp9C+2j0lSXtJ9N/heWNbOuC7kXjO9DnubNYcTRKAHQ==']\n",
      "['yKU2aHsJh1D0nnUYqQ3480nGnF03D8iws5BE8KurBXZDF2l3scmH3XyV1hFJGhCRdVVzDbk1yEjidObbytd0fA==']\n",
      "['VmiTfdqG3P1MlZokxyYd35oQExCxExV291jd+QNJAA6IIRhD+Xi7f66DgVtBHHW3tymHnLcF9SnMLAHpkTti/Q==']\n",
      "['hG0B3aUaLX0H6yAIjicASdAEQgAg1xoG3GPPphZyVwcl/E6FgeoEwMCZ6JYFOzm92Aa79LbGDRXs4Oecc6GvNA==']\n",
      "['DIECtVqoJqBlL6A0CMGRw6TfCIlTowT+hQoDyEz3S91RmjngeAKnaUmssE670zOhwyktblGM5JkKDyXk45Rdpg==']\n",
      "['4aBmTzmIIfyQG3DR4mw6t15bKhrBfb3tSPR+eSu7T1LP09SBZnNde3koFO3MpBDFOfK+4oHNf1YK9b1w5y+kGA==']\n",
      "['X8gpDfO6+Z87SKKTyoQs5vE6vbsjplXI78sASTOPf6gIXkgbdWk5zlu6O/qzkS8rLNvDsnvZo4g+TV0AeMDnmQ==']\n",
      "['5zx6jQdv38K+gQhet48C2rhUih+0dzC2uOntpEk7EuYGreajH9dHk7UwP/RputHVHJLk+mn3tViDGYgcaNkOtw==']\n",
      "['A9eItebk/q3fCJo+VjStbIANbXY9QQxNgeA8msLNd4PTd59H7/KVYGVphLEmXsryCshgseumSYOs0JbCw+qKdg==']\n",
      "['V5p+ax5rGUYizW6DAiYiYOe57WJy9kkKlSVh26bzXhJBGv4/w9YiTg0zzcbdt613X306L9VNMvkaVHOBBuUMAw==']\n",
      "['FWKJw/bDGGeKOhFUOWkDPSOLW8fYKVpHNqaVAh6q4VDi16wga6hKlJ5rgTZItiMmC06sJRgw8Mv8IusHRmI0ow==']\n",
      "['YcEvoWbE9DFR5hqKDcWf0I6SgT5ljBvdV+iRWirT9GJ3z29jg23oHCZzq1VoLfRxILiYcI7h3kw5OpfKM4sS0w==']\n",
      "['5hjtc0hokxkOgDXAHKf6jkGDZ9RSzGWSEHmiiZTFeKuEFC5uxgRar3hAC8q1W3AmO2wXEMUqg0Q9bC84U4Yr5w==']\n",
      "['NtnnrJ0CeTKEDWJtAsvg6UQgHtyz6h14iegC+3jdKDOxUghAreSvplOQCVbYyL3W/SaIXf5oQrIc77PPugM0Sw==']\n",
      "['230WoBwfd8iAsvZ7SQ7A8iifCbd/XS1aFQnSpYnV3Lww+iZPOlNR7puoF1NBeinR+C0cQY1StMTNCo1bWd5LJA==']\n",
      "['l0QzOE7jwTVZlVNaRyFasOhGBxM3NcOG2lV/0AVi9rgtKtLvSDi/6wMOESf+7RBTLlKaQSKXKX5WERaUBSV/LQ==']\n",
      "['ujYMxZS61d+qc76ESpNBObvrpbq/9SSIpxdO+kG4SAb7u48pqW9Mbqof8cBlGTHVzh++JMgJkoqcCtoG5VKUiw==']\n",
      "['Xj9YgBtndUp/eyAAF1BT5C01gOJUOY9tIeFxpqzUdzXK+E2yc7mHJb65otjJtFOVV8I7ZGK2lNRHASQOQhejpA==']\n",
      "['Wt1lecgB9QdKbWnFEpCuE3NigedeGJfD20CTzhbIFhYDwvCoTGHxjM1Ftuz4GR+XeX475rsaN4fyIVeh1bzrSw==']\n",
      "['X5BfRQry4wyKI1DNjKf7GHxhq/xH6QsX6R5mQDx/ePOGiFYGxyFqigKun7uRw/ktvCwXpdTGEWsrEsB5cHifEg==']\n",
      "['6xVYRRm/5uIgQtZ6/3kVmYLwIFkWH5jgkNtAzCEMvmvf4GqclqwvKtQMQP1aHKiR4bfbecBpLkYRH8Ofvufgsw==']\n",
      "['v4Z2LWxy8AVoWYohWt4htF1fj6Q/8+xjphZSrOAfi8kG1ssut2rnlKYMPtdClsQV0wlO0T4niO0oc3xUSy76lA==']\n",
      "['HyEqaU8yDfLDzEqsOZuIu7fJXloeuZsjh6CXW71RT1kzVgYNpFQTm7smUrqD85bKSHsUcjAOHl6fKQmctjzT3A==']\n",
      "['Jxep5qMbZ6FA1WYQHgPHQuxbCsOqoLvNI1AeCumlmniZbXGnRgO42RL/M35RWlujGjGPozxHQGImpBhnhnOEMw==']\n",
      "['bEggNU0a5Whsl8ebXXaj35+kx1ywNmoeYcQuEyrBKHv7ePqUrG/KLRScEdeLg7K7iDeyl+P9wuTZjWvJfm0Mwg==']\n",
      "['Y8r6dAb4gUEQVT8k3hBpMSFEI82HDcpPbPCL8X+ykmr3oGPosYTw5aJMAvA8U6/GjddKPzsxZkksq8eSoRqBmw==']\n",
      "['PbcaQ0KIBFurAwz/pmObjaX9qm9JJP0+1pICcyj4Yft8kJCplBLhieuVMyNUx/9eBF18vr6dkkl76y/BkgAL1w==']\n",
      "['thZTb/EToTMSoaQDhW4aHoFrB3kgzQ/jFAOuhKaHYdbcKDhE8eSKMZULFGiKImSegV0s5PeaA8dfy56r1I/ufg==']\n",
      "['JCJqyJ2FQBCLvFzhUDtrkAEA2fphnV2/2XTgxZS/xMOu9DIx/kpgF3kGxhPiCAci9blUS+8IizGdAzYCE8s2Sw==']\n",
      "['5p5dv8DyGdpdydRzmcND5m5DppW6/436Z1t/jcCPkG5K3mVSen/EOD/BbtySWIJMoY7TYBmabjzgCxFW3pxccg==']\n",
      "['ezWoF8D0K6RAYAr7OuAQryYE67H5z3uhTebXHZWtV/tHWwRs2KR+tF2qqD6KpII0s75t5Juh+umzOjF2MzN8qQ==']\n",
      "['p33RNniWG15X7PA/eJRB/eyVugmYuoAURTyXGUGTQQgLDj/FCKYt1n8JGd+0YRzN/7KI5KtKJNsfhgcELf44Bw==']\n",
      "['XlL5uSNSdoXTYnfjlW3QRUIK0jcXnZqtxOAG9EURyeAlXBJQe9Oe6ogiJbMZA1jKhmog9fpkiMGY/xqllcbEfQ==']\n",
      "['Zsarh3tqtvqwcphuo5uorR5+louhcAI4gAz15+lElcYKGMsyIAUqK1TD2L+h2aGzv+hTACz5XRXIcMPRKWJFUw==']\n",
      "['QSfZ9zP5adyr32VaXRqVQJk0r+orix4LfX3l+EP4dMj9RkqNJXkiJfJ/PMNQnleFfcNxO/pZgyXBPsarkyKEwA==']\n",
      "['apQ4wv5uMJuWAvw8HBeKYne0/ufL33oPqV7zR1TaiU1Vqgsr8LboYJIl7VAODQHbFf1oa6RA0Ze6zLvSvKfMAg==']\n",
      "['OKZxIz9gFCV3aAwAaTHNBOT0IZhpyLgsTedy16LVlF9Jn8LXTgLjYHaxB7qo4+ecqSEFO8VlJ08p88jk1wNBWA==']\n",
      "['HQTLZNG/+n4RCbQZfWKWflZsnxmMo9kRPohmTAuDZz9NHufdxOXe/090uJkExf8qXboQ236NICHesKlUSIVJWg==']\n",
      "['KShFlL/gmw/JK8b/EPRnBaE79dk3FxX7m3KjHRxZ0Qiy+2j7Iuka6x1vht5UQKtZWHHunF9KO23dD1QI6SRDTg==']\n",
      "['tc273UiqS0wKa6VwiOs/iz/t4LyPYrhL2Q347awn11IQQELrEzZBCmGe28NWM+O1IdfH4CieCpEnE5sHecW9Ow==']\n",
      "['UDkyhqRc0zuNU9PY/oPHAEjxys4fS0xObS0L4StXRNLlXWRwhsF96HQRgDYujaJ6VT1F60EHrubS4YGQYe+Dbw==']\n",
      "['Mxt5mHrNXt8bSujY3xWdlelstwZ6ZbKbPs6vLl5LUAf7+MGZXM3syIgNPOR+f5oU8HDX2VB/5j1A/eGZl/772A==']\n",
      "['aJTQ6ZoxQmhohjuFyqEGOd4yrUX513jbpCsyVbIdEtD6WWFsC82A64thepCNP7nWtn1mcHNgqsxaA9oEggKVDw==']\n",
      "['6q6uM44W5kNUzSN53pj7lgl2QLhSWz4nroIcXPkEV4mTUgyXxr2Hn9a3H9tiUQK1WIQ8PzsBwk7f/TQLozABlw==']\n",
      "['o5gKUWAovBSm8WndZxUP42sC1btDvs+ybc1WGE7wgWtFjRjbsp2Iur5GJCx+/QoZkanyTLcpAlHj5zP3GK2gEg==']\n",
      "['v4bPS5jTquhz6CdPgfpTrk7EncdH3HaXYL0+1l98W8TlRpKVqHOVatc0nrPmKp7pYp9zGshvk0KplLmvcN8vkw==']\n",
      "['8GviOLIfRTg2/rkNmqR/JFxl7uXCjPizCwGK9E+aLgllojrjzt8ZlywwPPbwpaoMSI9lqqOJ8IweUnylsuoXTA==']\n",
      "['LZJOhxK1kvm3L+scHZm9mfftXul0p16dTmFyK6mhLqODM/2NdUuBS+Kpp3BRquWYPWdErTuGNE3weZ5mJpodCA==']\n",
      "['iQO6fb4EQCTEuwPUQ/i4RsPq2mHbI0uPORCOhO/p2Sb7b2DaK8dwllbmq7r9k6GzYXgsxUD4kECZyKBTelI/kg==']\n",
      "['d779rmI8b1riPm+emc4ccYmXJRzD1rLdtFCyue7JnLZuwjCmrqmtKu3YWfquEx7hE6sQ1kTnFxHJEObnHddwHQ==']\n",
      "['aMaDauDj0oynWyRlkaVyag4sA8KBpgBMHHLYBpAcxgnWi/Xb+UmRIXb5uRlfT6fc5EEmBF9LroWkscfk5ukiNQ==']\n",
      "['nbA9BdoIxG68BTaopDYGqihAURtoJB3DMIFfy1H+t6M+L+Jonbh/RllZpOB3ak/X5ktiXwo13JtfC0VHUTR5ag==']\n",
      "['ucFwxzRdIm6hFapxhlj1In5wgnL5C1OvhuQbNJnx2zdqah6riyxpfX4kyCsy4+cdZKTuSL229s+Mb+b51HDUuA==']\n",
      "['xw+BT8X4gip2hBtcgLKqCaRwzDD9xZcf5ivNafmhk6l1qE3pt7LGqXtH6rP+OX4wFD+g5cQJ6f1keJ8TZohhKg==']\n",
      "['bbXPXKjxpgGpcXwDNJZw0E+Ec/WBEudHzFl4pcUcjVcZkwgQUaA6ZtfLwMDxp4XXL0EU0m8bEG7vBOTgB8chjg==']\n"
     ]
    }
   ],
   "source": [
    "for i in mod:\n",
    "    print(i)"
   ]
  },
  {
   "cell_type": "code",
   "execution_count": 10,
   "metadata": {},
   "outputs": [
    {
     "name": "stderr",
     "output_type": "stream",
     "text": [
      "[Stage 5:==================================================>        (6 + 1) / 7]\r"
     ]
    },
    {
     "name": "stdout",
     "output_type": "stream",
     "text": [
      "+--------------------+----+----+---+-----------+--------------------+\n",
      "|             user_id|   x|   y|  t|pixel_color|             grouped|\n",
      "+--------------------+----+----+---+-----------+--------------------+\n",
      "|IAAh6iWxJGaf1oRm9...|1809|1267|  0|    #FFFFFF|[IAAh6iWxJGaf1oRm...|\n",
      "|9N16/SSHrZHFYJQ7J...| 349|1367|  0|    #FFD635|[IAAh6iWxJGaf1oRm...|\n",
      "|vA+Y4DI6U+VaV6mV4...| 436| 688|  0|    #6D001A|[IAAh6iWxJGaf1oRm...|\n",
      "|KcbN7QDEAXzyWiU+m...|  93|1565|  0|    #FFFFFF|[IAAh6iWxJGaf1oRm...|\n",
      "|YrIQFGoonXdkvhtZh...|  91|1431|  0|    #FFFFFF|[IAAh6iWxJGaf1oRm...|\n",
      "|I/NZyXUfBFL0TMi4U...| 142|1392|  0|    #FFFFFF|[IAAh6iWxJGaf1oRm...|\n",
      "|eMPTc99SeWVocVEEC...| 906| 596|  0|    #D4D7D9|[IAAh6iWxJGaf1oRm...|\n",
      "|o9KAXWkMVk0OHxDhm...| 963|1014|  0|    #2450A4|[IAAh6iWxJGaf1oRm...|\n",
      "|/YlplpLkn1LWaKsPk...|1491| 425|  0|    #000000|[IAAh6iWxJGaf1oRm...|\n",
      "|7xeRfKvCtScl/SJt1...|1883|1185|  0|    #898D90|[IAAh6iWxJGaf1oRm...|\n",
      "|bN8SueTAmrhyH7IuZ...| 339|1179|  0|    #FFFFFF|[IAAh6iWxJGaf1oRm...|\n",
      "|D1/xXtaq13nImIUxH...| 145|1440|  0|    #FFF8B8|[IAAh6iWxJGaf1oRm...|\n",
      "|qtWlmUI7gaiK8chd7...| 123|1469|  0|    #FFFFFF|[IAAh6iWxJGaf1oRm...|\n",
      "|PWHKwgWyILNay343+...| 122|1430|  0|    #FFFFFF|[IAAh6iWxJGaf1oRm...|\n",
      "|8bhp61oA6Udvb8+Zw...|  92|1631|  0|    #FFFFFF|[IAAh6iWxJGaf1oRm...|\n",
      "|wtc43RoYytI/1C7l5...| 184|  14|  0|    #000000|[IAAh6iWxJGaf1oRm...|\n",
      "|fxcPR8cEUFtLcLAU4...|1087| 765|  0|    #000000|[IAAh6iWxJGaf1oRm...|\n",
      "|4FkDPRwahwKyk+Sy9...| 122|1432|  0|    #FFFFFF|[IAAh6iWxJGaf1oRm...|\n",
      "|i7LaMJjuYzLVO63J4...| 273| 776|  0|    #FF99AA|[IAAh6iWxJGaf1oRm...|\n",
      "|XLqv+H76tVCYursyb...|1898|1491|  0|    #7EED56|[IAAh6iWxJGaf1oRm...|\n",
      "+--------------------+----+----+---+-----------+--------------------+\n",
      "only showing top 20 rows\n",
      "\n"
     ]
    },
    {
     "name": "stderr",
     "output_type": "stream",
     "text": [
      "                                                                                \r"
     ]
    }
   ],
   "source": [
    "from pyspark.sql.window import Window\n",
    "\n",
    "time = dataFrame.select('*', F.collect_list(dataFrame.user_id).over(Window.partitionBy('t').orderBy('t')).alias('grouped')).show()"
   ]
  },
  {
   "cell_type": "markdown",
   "metadata": {},
   "source": [
    "<div style=\"color:#b0e0e6\">\n",
    "Alle Spalten bis auf 't' und 'collect_list(user_id)' können entfernt werden, da unwichtig.\n",
    "</div>"
   ]
  },
  {
   "cell_type": "code",
   "execution_count": 9,
   "metadata": {},
   "outputs": [
    {
     "name": "stdout",
     "output_type": "stream",
     "text": [
      "root\n",
      " |-- t: long (nullable = true)\n",
      " |-- collect_list(user_id): array (nullable = false)\n",
      " |    |-- element: string (containsNull = false)\n",
      "\n"
     ]
    }
   ],
   "source": [
    "timeDroped = timeGrouped.drop('time_count').drop('collect_list(x)').drop('collect_list(y)').drop('collect_list(pixel_color)')\n",
    "timeDroped.printSchema()"
   ]
  },
  {
   "cell_type": "code",
   "execution_count": 10,
   "metadata": {},
   "outputs": [
    {
     "name": "stderr",
     "output_type": "stream",
     "text": [
      "[Stage 30:=========================================>                (5 + 2) / 7]\r"
     ]
    },
    {
     "name": "stdout",
     "output_type": "stream",
     "text": [
      "+----+---------------------+\n",
      "|   t|collect_list(user_id)|\n",
      "+----+---------------------+\n",
      "|1576| [HCpm+67Bk9Hnia1k...|\n",
      "|1573| [opKWRQuucm7TrBLu...|\n",
      "|1575| [hnp8WrkaEwMXOvXJ...|\n",
      "|1574| [2IbpXz/9Gtjfgfo5...|\n",
      "|1578| [3vSAHWRA4lxx0P73...|\n",
      "|1577| [MF1wnz7k+eu72s6l...|\n",
      "|1579| [6TUrLNzZBX5PjodW...|\n",
      "|1571| [4IpCxhkBwhPQpR4z...|\n",
      "|1580| [crx8iMrGIkGP57xg...|\n",
      "|1572| [oaeb4agaHZiqaCh+...|\n",
      "|1570| [RkARTAsTKwgf5n0/...|\n",
      "|1581| [iWlP3jeQPASmW+TJ...|\n",
      "|1560| [y2uAe1fKExqOPuuh...|\n",
      "|1585| [2VXxrykKv3MmhgAG...|\n",
      "|1583| [MUo7SggrxHsKAmif...|\n",
      "|1584| [10Gm0bGFon6ciTm6...|\n",
      "|1161| [2notc2uVA+WK6TIx...|\n",
      "|1569| [uS+hbQGNmBfaa0dM...|\n",
      "|1164| [QCxllnKX36d7cWja...|\n",
      "|1582| [OB8ScyBUpVGAy4aF...|\n",
      "+----+---------------------+\n",
      "only showing top 20 rows\n",
      "\n"
     ]
    },
    {
     "name": "stderr",
     "output_type": "stream",
     "text": [
      "                                                                                \r"
     ]
    }
   ],
   "source": [
    "timeDroped.show()"
   ]
  },
  {
   "cell_type": "code",
   "execution_count": 11,
   "metadata": {},
   "outputs": [
    {
     "name": "stderr",
     "output_type": "stream",
     "text": [
      "22/06/07 14:54:33 ERROR Utils: Uncaught exception in thread task-result-getter-1\n",
      "java.lang.OutOfMemoryError: Java heap space\n",
      "\tat java.lang.reflect.Array.newInstance(Array.java:75)\n",
      "\tat java.io.ObjectInputStream.readArray(ObjectInputStream.java:2083)\n",
      "\tat java.io.ObjectInputStream.readObject0(ObjectInputStream.java:1657)\n",
      "\tat java.io.ObjectInputStream.defaultReadFields(ObjectInputStream.java:2431)\n",
      "\tat java.io.ObjectInputStream.readSerialData(ObjectInputStream.java:2355)\n",
      "\tat java.io.ObjectInputStream.readOrdinaryObject(ObjectInputStream.java:2213)\n",
      "\tat java.io.ObjectInputStream.readObject0(ObjectInputStream.java:1669)\n",
      "\tat java.io.ObjectInputStream.readArray(ObjectInputStream.java:2119)\n",
      "\tat java.io.ObjectInputStream.readObject0(ObjectInputStream.java:1657)\n",
      "\tat java.io.ObjectInputStream.readObject(ObjectInputStream.java:503)\n",
      "\tat java.io.ObjectInputStream.readObject(ObjectInputStream.java:461)\n",
      "\tat org.apache.spark.serializer.JavaDeserializationStream.readObject(JavaSerializer.scala:76)\n",
      "\tat org.apache.spark.serializer.JavaSerializerInstance.deserialize(JavaSerializer.scala:109)\n",
      "\tat org.apache.spark.scheduler.DirectTaskResult.value(TaskResult.scala:103)\n",
      "\tat org.apache.spark.scheduler.TaskResultGetter$$anon$3.$anonfun$run$1(TaskResultGetter.scala:100)\n",
      "\tat org.apache.spark.scheduler.TaskResultGetter$$anon$3$$Lambda$2523/796654625.apply$mcV$sp(Unknown Source)\n",
      "\tat scala.runtime.java8.JFunction0$mcV$sp.apply(JFunction0$mcV$sp.java:23)\n",
      "\tat org.apache.spark.util.Utils$.logUncaughtExceptions(Utils.scala:2019)\n",
      "\tat org.apache.spark.scheduler.TaskResultGetter$$anon$3.run(TaskResultGetter.scala:63)\n",
      "\tat java.util.concurrent.ThreadPoolExecutor.runWorker(ThreadPoolExecutor.java:1149)\n",
      "\tat java.util.concurrent.ThreadPoolExecutor$Worker.run(ThreadPoolExecutor.java:624)\n",
      "\tat java.lang.Thread.run(Thread.java:750)\n",
      "Exception in thread \"task-result-getter-1\" java.lang.OutOfMemoryError: Java heap space\n",
      "\tat java.lang.reflect.Array.newInstance(Array.java:75)\n",
      "\tat java.io.ObjectInputStream.readArray(ObjectInputStream.java:2083)\n",
      "\tat java.io.ObjectInputStream.readObject0(ObjectInputStream.java:1657)\n",
      "\tat java.io.ObjectInputStream.defaultReadFields(ObjectInputStream.java:2431)\n",
      "\tat java.io.ObjectInputStream.readSerialData(ObjectInputStream.java:2355)\n",
      "\tat java.io.ObjectInputStream.readOrdinaryObject(ObjectInputStream.java:2213)\n",
      "\tat java.io.ObjectInputStream.readObject0(ObjectInputStream.java:1669)\n",
      "\tat java.io.ObjectInputStream.readArray(ObjectInputStream.java:2119)\n",
      "\tat java.io.ObjectInputStream.readObject0(ObjectInputStream.java:1657)\n",
      "\tat java.io.ObjectInputStream.readObject(ObjectInputStream.java:503)\n",
      "\tat java.io.ObjectInputStream.readObject(ObjectInputStream.java:461)\n",
      "\tat org.apache.spark.serializer.JavaDeserializationStream.readObject(JavaSerializer.scala:76)\n",
      "\tat org.apache.spark.serializer.JavaSerializerInstance.deserialize(JavaSerializer.scala:109)\n",
      "\tat org.apache.spark.scheduler.DirectTaskResult.value(TaskResult.scala:103)\n",
      "\tat org.apache.spark.scheduler.TaskResultGetter$$anon$3.$anonfun$run$1(TaskResultGetter.scala:100)\n",
      "\tat org.apache.spark.scheduler.TaskResultGetter$$anon$3$$Lambda$2523/796654625.apply$mcV$sp(Unknown Source)\n",
      "\tat scala.runtime.java8.JFunction0$mcV$sp.apply(JFunction0$mcV$sp.java:23)\n",
      "\tat org.apache.spark.util.Utils$.logUncaughtExceptions(Utils.scala:2019)\n",
      "\tat org.apache.spark.scheduler.TaskResultGetter$$anon$3.run(TaskResultGetter.scala:63)\n",
      "\tat java.util.concurrent.ThreadPoolExecutor.runWorker(ThreadPoolExecutor.java:1149)\n",
      "\tat java.util.concurrent.ThreadPoolExecutor$Worker.run(ThreadPoolExecutor.java:624)\n",
      "\tat java.lang.Thread.run(Thread.java:750)\n",
      "22/06/07 14:54:34 ERROR Utils: Uncaught exception in thread task-result-getter-3\n",
      "java.lang.OutOfMemoryError: Java heap space\n",
      "\tat java.lang.reflect.Array.newInstance(Array.java:75)\n",
      "\tat java.io.ObjectInputStream.readArray(ObjectInputStream.java:2083)\n",
      "\tat java.io.ObjectInputStream.readObject0(ObjectInputStream.java:1657)\n",
      "\tat java.io.ObjectInputStream.defaultReadFields(ObjectInputStream.java:2431)\n",
      "\tat java.io.ObjectInputStream.readSerialData(ObjectInputStream.java:2355)\n",
      "\tat java.io.ObjectInputStream.readOrdinaryObject(ObjectInputStream.java:2213)\n",
      "\tat java.io.ObjectInputStream.readObject0(ObjectInputStream.java:1669)\n",
      "\tat java.io.ObjectInputStream.readArray(ObjectInputStream.java:2119)\n",
      "\tat java.io.ObjectInputStream.readObject0(ObjectInputStream.java:1657)\n",
      "\tat java.io.ObjectInputStream.readObject(ObjectInputStream.java:503)\n",
      "\tat java.io.ObjectInputStream.readObject(ObjectInputStream.java:461)\n",
      "\tat org.apache.spark.serializer.JavaDeserializationStream.readObject(JavaSerializer.scala:76)\n",
      "\tat org.apache.spark.serializer.JavaSerializerInstance.deserialize(JavaSerializer.scala:109)\n",
      "\tat org.apache.spark.scheduler.DirectTaskResult.value(TaskResult.scala:103)\n",
      "\tat org.apache.spark.scheduler.TaskResultGetter$$anon$3.$anonfun$run$1(TaskResultGetter.scala:100)\n",
      "\tat org.apache.spark.scheduler.TaskResultGetter$$anon$3$$Lambda$2523/796654625.apply$mcV$sp(Unknown Source)\n",
      "\tat scala.runtime.java8.JFunction0$mcV$sp.apply(JFunction0$mcV$sp.java:23)\n",
      "\tat org.apache.spark.util.Utils$.logUncaughtExceptions(Utils.scala:2019)\n",
      "\tat org.apache.spark.scheduler.TaskResultGetter$$anon$3.run(TaskResultGetter.scala:63)\n",
      "\tat java.util.concurrent.ThreadPoolExecutor.runWorker(ThreadPoolExecutor.java:1149)\n",
      "\tat java.util.concurrent.ThreadPoolExecutor$Worker.run(ThreadPoolExecutor.java:624)\n",
      "\tat java.lang.Thread.run(Thread.java:750)\n",
      "Exception in thread \"task-result-getter-3\" java.lang.OutOfMemoryError: Java heap space\n",
      "\tat java.lang.reflect.Array.newInstance(Array.java:75)\n",
      "\tat java.io.ObjectInputStream.readArray(ObjectInputStream.java:2083)\n",
      "\tat java.io.ObjectInputStream.readObject0(ObjectInputStream.java:1657)\n",
      "\tat java.io.ObjectInputStream.defaultReadFields(ObjectInputStream.java:2431)\n",
      "\tat java.io.ObjectInputStream.readSerialData(ObjectInputStream.java:2355)\n",
      "\tat java.io.ObjectInputStream.readOrdinaryObject(ObjectInputStream.java:2213)\n",
      "\tat java.io.ObjectInputStream.readObject0(ObjectInputStream.java:1669)\n",
      "\tat java.io.ObjectInputStream.readArray(ObjectInputStream.java:2119)\n",
      "\tat java.io.ObjectInputStream.readObject0(ObjectInputStream.java:1657)\n",
      "\tat java.io.ObjectInputStream.readObject(ObjectInputStream.java:503)\n",
      "\tat java.io.ObjectInputStream.readObject(ObjectInputStream.java:461)\n",
      "\tat org.apache.spark.serializer.JavaDeserializationStream.readObject(JavaSerializer.scala:76)\n",
      "\tat org.apache.spark.serializer.JavaSerializerInstance.deserialize(JavaSerializer.scala:109)\n",
      "\tat org.apache.spark.scheduler.DirectTaskResult.value(TaskResult.scala:103)\n",
      "\tat org.apache.spark.scheduler.TaskResultGetter$$anon$3.$anonfun$run$1(TaskResultGetter.scala:100)\n",
      "\tat org.apache.spark.scheduler.TaskResultGetter$$anon$3$$Lambda$2523/796654625.apply$mcV$sp(Unknown Source)\n",
      "\tat scala.runtime.java8.JFunction0$mcV$sp.apply(JFunction0$mcV$sp.java:23)\n",
      "\tat org.apache.spark.util.Utils$.logUncaughtExceptions(Utils.scala:2019)\n",
      "\tat org.apache.spark.scheduler.TaskResultGetter$$anon$3.run(TaskResultGetter.scala:63)\n",
      "\tat java.util.concurrent.ThreadPoolExecutor.runWorker(ThreadPoolExecutor.java:1149)\n",
      "\tat java.util.concurrent.ThreadPoolExecutor$Worker.run(ThreadPoolExecutor.java:624)\n",
      "\tat java.lang.Thread.run(Thread.java:750)\n",
      "22/06/07 14:54:35 ERROR Executor: Exception in task 8.0 in stage 40.0 (TID 148)]\n",
      "java.lang.OutOfMemoryError: Java heap space\n",
      "22/06/07 14:54:35 ERROR SparkUncaughtExceptionHandler: Uncaught exception in thread Thread[Executor task launch worker for task 8.0 in stage 40.0 (TID 148),5,main]\n",
      "java.lang.OutOfMemoryError: Java heap space\n",
      "22/06/07 14:54:35 WARN TaskSetManager: Lost task 8.0 in stage 40.0 (TID 148) (82e49a868b7b executor driver): java.lang.OutOfMemoryError: Java heap space\n",
      "\n",
      "22/06/07 14:54:35 ERROR TaskSetManager: Task 8 in stage 40.0 failed 1 times; aborting job\n",
      "22/06/07 14:54:36 ERROR Utils: Uncaught exception in thread task-result-getter-5\n",
      "java.lang.InterruptedException\n",
      "\tat java.util.concurrent.locks.AbstractQueuedSynchronizer.doAcquireSharedInterruptibly(AbstractQueuedSynchronizer.java:998)\n",
      "\tat java.util.concurrent.locks.AbstractQueuedSynchronizer.acquireSharedInterruptibly(AbstractQueuedSynchronizer.java:1304)\n",
      "\tat scala.concurrent.impl.Promise$DefaultPromise.tryAwait(Promise.scala:242)\n",
      "\tat scala.concurrent.impl.Promise$DefaultPromise.ready(Promise.scala:258)\n",
      "\tat scala.concurrent.impl.Promise$DefaultPromise.result(Promise.scala:263)\n",
      "\tat org.apache.spark.util.ThreadUtils$.awaitResult(ThreadUtils.scala:293)\n",
      "\tat org.apache.spark.network.BlockTransferService.fetchBlockSync(BlockTransferService.scala:103)\n",
      "\tat org.apache.spark.storage.BlockManager.fetchRemoteManagedBuffer(BlockManager.scala:1119)\n",
      "\tat org.apache.spark.storage.BlockManager.$anonfun$getRemoteBlock$8(BlockManager.scala:1063)\n",
      "\tat scala.Option.orElse(Option.scala:447)\n",
      "\tat org.apache.spark.storage.BlockManager.getRemoteBlock(BlockManager.scala:1063)\n",
      "\tat org.apache.spark.storage.BlockManager.getRemoteBytes(BlockManager.scala:1201)\n",
      "\tat org.apache.spark.scheduler.TaskResultGetter$$anon$3.$anonfun$run$1(TaskResultGetter.scala:88)\n",
      "\tat scala.runtime.java8.JFunction0$mcV$sp.apply(JFunction0$mcV$sp.java:23)\n",
      "\tat org.apache.spark.util.Utils$.logUncaughtExceptions(Utils.scala:2019)\n",
      "\tat org.apache.spark.scheduler.TaskResultGetter$$anon$3.run(TaskResultGetter.scala:63)\n",
      "\tat java.util.concurrent.ThreadPoolExecutor.runWorker(ThreadPoolExecutor.java:1149)\n",
      "\tat java.util.concurrent.ThreadPoolExecutor$Worker.run(ThreadPoolExecutor.java:624)\n",
      "\tat java.lang.Thread.run(Thread.java:750)\n",
      "Exception in thread \"task-result-getter-5\" java.lang.Error: java.lang.InterruptedException\n",
      "\tat java.util.concurrent.ThreadPoolExecutor.runWorker(ThreadPoolExecutor.java:1155)\n",
      "\tat java.util.concurrent.ThreadPoolExecutor$Worker.run(ThreadPoolExecutor.java:624)\n",
      "\tat java.lang.Thread.run(Thread.java:750)\n",
      "Caused by: java.lang.InterruptedException\n",
      "\tat java.util.concurrent.locks.AbstractQueuedSynchronizer.doAcquireSharedInterruptibly(AbstractQueuedSynchronizer.java:998)\n",
      "\tat java.util.concurrent.locks.AbstractQueuedSynchronizer.acquireSharedInterruptibly(AbstractQueuedSynchronizer.java:1304)\n",
      "\tat scala.concurrent.impl.Promise$DefaultPromise.tryAwait(Promise.scala:242)\n",
      "\tat scala.concurrent.impl.Promise$DefaultPromise.ready(Promise.scala:258)\n",
      "\tat scala.concurrent.impl.Promise$DefaultPromise.result(Promise.scala:263)\n",
      "\tat org.apache.spark.util.ThreadUtils$.awaitResult(ThreadUtils.scala:293)\n",
      "\tat org.apache.spark.network.BlockTransferService.fetchBlockSync(BlockTransferService.scala:103)\n",
      "\tat org.apache.spark.storage.BlockManager.fetchRemoteManagedBuffer(BlockManager.scala:1119)\n",
      "\tat org.apache.spark.storage.BlockManager.$anonfun$getRemoteBlock$8(BlockManager.scala:1063)\n",
      "\tat scala.Option.orElse(Option.scala:447)\n",
      "\tat org.apache.spark.storage.BlockManager.getRemoteBlock(BlockManager.scala:1063)\n",
      "\tat org.apache.spark.storage.BlockManager.getRemoteBytes(BlockManager.scala:1201)\n",
      "\tat org.apache.spark.scheduler.TaskResultGetter$$anon$3.$anonfun$run$1(TaskResultGetter.scala:88)\n",
      "\tat scala.runtime.java8.JFunction0$mcV$sp.apply(JFunction0$mcV$sp.java:23)\n",
      "\tat org.apache.spark.util.Utils$.logUncaughtExceptions(Utils.scala:2019)\n",
      "\tat org.apache.spark.scheduler.TaskResultGetter$$anon$3.run(TaskResultGetter.scala:63)\n",
      "\tat java.util.concurrent.ThreadPoolExecutor.runWorker(ThreadPoolExecutor.java:1149)\n",
      "\t... 2 more\n",
      "22/06/07 14:54:36 ERROR Utils: Uncaught exception in thread task-result-getter-4\n",
      "java.lang.InterruptedException\n",
      "\tat java.util.concurrent.locks.AbstractQueuedSynchronizer.doAcquireSharedInterruptibly(AbstractQueuedSynchronizer.java:998)\n",
      "\tat java.util.concurrent.locks.AbstractQueuedSynchronizer.acquireSharedInterruptibly(AbstractQueuedSynchronizer.java:1304)\n",
      "\tat scala.concurrent.impl.Promise$DefaultPromise.tryAwait(Promise.scala:242)\n",
      "\tat scala.concurrent.impl.Promise$DefaultPromise.ready(Promise.scala:258)\n",
      "\tat scala.concurrent.impl.Promise$DefaultPromise.result(Promise.scala:263)\n",
      "\tat org.apache.spark.util.ThreadUtils$.awaitResult(ThreadUtils.scala:293)\n",
      "\tat org.apache.spark.network.BlockTransferService.fetchBlockSync(BlockTransferService.scala:103)\n",
      "\tat org.apache.spark.storage.BlockManager.fetchRemoteManagedBuffer(BlockManager.scala:1119)\n",
      "\tat org.apache.spark.storage.BlockManager.$anonfun$getRemoteBlock$8(BlockManager.scala:1063)\n",
      "\tat scala.Option.orElse(Option.scala:447)\n",
      "\tat org.apache.spark.storage.BlockManager.getRemoteBlock(BlockManager.scala:1063)\n",
      "\tat org.apache.spark.storage.BlockManager.getRemoteBytes(BlockManager.scala:1201)\n",
      "\tat org.apache.spark.scheduler.TaskResultGetter$$anon$3.$anonfun$run$1(TaskResultGetter.scala:88)\n",
      "\tat scala.runtime.java8.JFunction0$mcV$sp.apply(JFunction0$mcV$sp.java:23)\n",
      "\tat org.apache.spark.util.Utils$.logUncaughtExceptions(Utils.scala:2019)\n",
      "\tat org.apache.spark.scheduler.TaskResultGetter$$anon$3.run(TaskResultGetter.scala:63)\n",
      "\tat java.util.concurrent.ThreadPoolExecutor.runWorker(ThreadPoolExecutor.java:1149)\n",
      "\tat java.util.concurrent.ThreadPoolExecutor$Worker.run(ThreadPoolExecutor.java:624)\n",
      "\tat java.lang.Thread.run(Thread.java:750)\n",
      "Exception in thread \"task-result-getter-4\" java.lang.Error: java.lang.InterruptedException\n",
      "\tat java.util.concurrent.ThreadPoolExecutor.runWorker(ThreadPoolExecutor.java:1155)\n",
      "\tat java.util.concurrent.ThreadPoolExecutor$Worker.run(ThreadPoolExecutor.java:624)\n",
      "\tat java.lang.Thread.run(Thread.java:750)\n",
      "Caused by: java.lang.InterruptedException\n",
      "\tat java.util.concurrent.locks.AbstractQueuedSynchronizer.doAcquireSharedInterruptibly(AbstractQueuedSynchronizer.java:998)\n",
      "\tat java.util.concurrent.locks.AbstractQueuedSynchronizer.acquireSharedInterruptibly(AbstractQueuedSynchronizer.java:1304)\n",
      "\tat scala.concurrent.impl.Promise$DefaultPromise.tryAwait(Promise.scala:242)\n",
      "\tat scala.concurrent.impl.Promise$DefaultPromise.ready(Promise.scala:258)\n",
      "\tat scala.concurrent.impl.Promise$DefaultPromise.result(Promise.scala:263)\n",
      "\tat org.apache.spark.util.ThreadUtils$.awaitResult(ThreadUtils.scala:293)\n",
      "\tat org.apache.spark.network.BlockTransferService.fetchBlockSync(BlockTransferService.scala:103)\n",
      "\tat org.apache.spark.storage.BlockManager.fetchRemoteManagedBuffer(BlockManager.scala:1119)\n",
      "\tat org.apache.spark.storage.BlockManager.$anonfun$getRemoteBlock$8(BlockManager.scala:1063)\n",
      "\tat scala.Option.orElse(Option.scala:447)\n",
      "\tat org.apache.spark.storage.BlockManager.getRemoteBlock(BlockManager.scala:1063)\n",
      "\tat org.apache.spark.storage.BlockManager.getRemoteBytes(BlockManager.scala:1201)\n",
      "\tat org.apache.spark.scheduler.TaskResultGetter$$anon$3.$anonfun$run$1(TaskResultGetter.scala:88)\n",
      "\tat scala.runtime.java8.JFunction0$mcV$sp.apply(JFunction0$mcV$sp.java:23)\n",
      "\tat org.apache.spark.util.Utils$.logUncaughtExceptions(Utils.scala:2019)\n",
      "\tat org.apache.spark.scheduler.TaskResultGetter$$anon$3.run(TaskResultGetter.scala:63)\n",
      "\tat java.util.concurrent.ThreadPoolExecutor.runWorker(ThreadPoolExecutor.java:1149)\n",
      "\t... 2 more\n",
      "22/06/07 14:54:36 ERROR ChunkFetchRequestHandler: Error sending result ChunkFetchSuccess[streamChunkId=StreamChunkId[streamId=2026028597025,chunkIndex=0],buffer=org.apache.spark.storage.BlockManagerManagedBuffer@921a0f7] to /172.17.0.2:37580; closing connection\n",
      "io.netty.channel.StacklessClosedChannelException\n",
      "\tat io.netty.channel.AbstractChannel.close(ChannelPromise)(Unknown Source)\n",
      "22/06/07 14:54:36 ERROR ChunkFetchRequestHandler: Error sending result ChunkFetchSuccess[streamChunkId=StreamChunkId[streamId=2026028597026,chunkIndex=0],buffer=org.apache.spark.storage.BlockManagerManagedBuffer@4fc2cee9] to /172.17.0.2:37580; closing connection\n",
      "io.netty.channel.StacklessClosedChannelException\n",
      "\tat io.netty.channel.AbstractChannel.close(ChannelPromise)(Unknown Source)\n",
      "22/06/07 14:54:36 ERROR TransportResponseHandler: Still have 2 requests outstanding when connection from 82e49a868b7b/172.17.0.2:37343 is closed\n",
      "----------------------------------------\n",
      "Exception occurred during processing of request from ('127.0.0.1', 37396)\n",
      "ERROR:root:Exception while sending command.\n",
      "Traceback (most recent call last):\n",
      "  File \"/home/vscode/.local/lib/python3.9/site-packages/IPython/core/interactiveshell.py\", line 3397, in run_code\n",
      "    exec(code_obj, self.user_global_ns, self.user_ns)\n",
      "  File \"/tmp/ipykernel_524/3409121921.py\", line 1, in <cell line: 1>\n",
      "    collected = timeDroped.collect()\n",
      "  File \"/usr/local/lib/python3.9/site-packages/pyspark/sql/dataframe.py\", line 693, in collect\n",
      "    sock_info = self._jdf.collectToPython()\n",
      "  File \"/usr/local/lib/python3.9/site-packages/py4j/java_gateway.py\", line 1321, in __call__\n",
      "    return_value = get_return_value(\n",
      "  File \"/usr/local/lib/python3.9/site-packages/pyspark/sql/utils.py\", line 111, in deco\n",
      "    return f(*a, **kw)\n",
      "  File \"/usr/local/lib/python3.9/site-packages/py4j/protocol.py\", line 326, in get_return_value\n",
      "    raise Py4JJavaError(\n",
      "py4j.protocol.Py4JJavaError: <unprintable Py4JJavaError object>\n",
      "\n",
      "During handling of the above exception, another exception occurred:\n",
      "\n",
      "Traceback (most recent call last):\n",
      "  File \"/usr/local/lib/python3.9/site-packages/py4j/clientserver.py\", line 480, in send_command\n",
      "    raise Py4JNetworkError(\"Answer from Java side is empty\")\n",
      "py4j.protocol.Py4JNetworkError: Answer from Java side is empty\n",
      "\n",
      "During handling of the above exception, another exception occurred:\n",
      "\n",
      "Traceback (most recent call last):\n",
      "  File \"/usr/local/lib/python3.9/site-packages/py4j/java_gateway.py\", line 1038, in send_command\n",
      "    response = connection.send_command(command)\n",
      "  File \"/usr/local/lib/python3.9/site-packages/py4j/clientserver.py\", line 503, in send_command\n",
      "    raise Py4JNetworkError(\n",
      "py4j.protocol.Py4JNetworkError: Error while sending or receiving\n",
      "ERROR:root:Exception while sending command.\n",
      "Traceback (most recent call last):\n",
      "  File \"/usr/local/lib/python3.9/site-packages/py4j/clientserver.py\", line 480, in send_command\n",
      "    raise Py4JNetworkError(\"Answer from Java side is empty\")\n",
      "py4j.protocol.Py4JNetworkError: Answer from Java side is empty\n",
      "\n",
      "During handling of the above exception, another exception occurred:\n",
      "\n",
      "Traceback (most recent call last):\n",
      "  File \"/usr/local/lib/python3.9/site-packages/py4j/java_gateway.py\", line 1038, in send_command\n",
      "    response = connection.send_command(command)\n",
      "  File \"/usr/local/lib/python3.9/site-packages/py4j/clientserver.py\", line 503, in send_command\n",
      "    raise Py4JNetworkError(\n",
      "py4j.protocol.Py4JNetworkError: Error while sending or receiving\n",
      "Traceback (most recent call last):\n",
      "  File \"/usr/local/lib/python3.9/socketserver.py\", line 316, in _handle_request_noblock\n",
      "    self.process_request(request, client_address)\n",
      "  File \"/usr/local/lib/python3.9/socketserver.py\", line 347, in process_request\n",
      "    self.finish_request(request, client_address)\n",
      "  File \"/usr/local/lib/python3.9/socketserver.py\", line 360, in finish_request\n",
      "    self.RequestHandlerClass(request, client_address, self)\n",
      "  File \"/usr/local/lib/python3.9/socketserver.py\", line 747, in __init__\n",
      "    self.handle()\n",
      "  File \"/usr/local/lib/python3.9/site-packages/pyspark/accumulators.py\", line 262, in handle\n",
      "    poll(accum_updates)\n",
      "  File \"/usr/local/lib/python3.9/site-packages/pyspark/accumulators.py\", line 235, in poll\n",
      "    if func():\n",
      "  File \"/usr/local/lib/python3.9/site-packages/pyspark/accumulators.py\", line 239, in accum_updates\n",
      "    num_updates = read_int(self.rfile)\n",
      "  File \"/usr/local/lib/python3.9/site-packages/pyspark/serializers.py\", line 564, in read_int\n",
      "    raise EOFError\n",
      "EOFError\n",
      "----------------------------------------\n"
     ]
    },
    {
     "ename": "ConnectionRefusedError",
     "evalue": "[Errno 111] Connection refused",
     "output_type": "error",
     "traceback": [
      "\u001b[0;31m---------------------------------------------------------------------------\u001b[0m",
      "\u001b[0;31mPy4JJavaError\u001b[0m                             Traceback (most recent call last)",
      "    \u001b[0;31m[... skipping hidden 1 frame]\u001b[0m\n",
      "\u001b[1;32m/workspaces/placegroups/notebooks/0.1-derr-statistiken-moderaotren2.ipynb Cell 17'\u001b[0m in \u001b[0;36m<cell line: 1>\u001b[0;34m()\u001b[0m\n\u001b[0;32m----> <a href='vscode-notebook-cell://dev-container%2B2f55736572732f6e69636f6c65646572722f446f63756d656e74732f4769744875622f706c61636567726f757073/workspaces/placegroups/notebooks/0.1-derr-statistiken-moderaotren2.ipynb#ch0000016vscode-remote?line=0'>1</a>\u001b[0m collected \u001b[39m=\u001b[39m timeDroped\u001b[39m.\u001b[39;49mcollect()\n\u001b[1;32m      <a href='vscode-notebook-cell://dev-container%2B2f55736572732f6e69636f6c65646572722f446f63756d656e74732f4769744875622f706c61636567726f757073/workspaces/placegroups/notebooks/0.1-derr-statistiken-moderaotren2.ipynb#ch0000016vscode-remote?line=1'>2</a>\u001b[0m count \u001b[39m=\u001b[39m \u001b[39m0\u001b[39m\n",
      "File \u001b[0;32m/usr/local/lib/python3.9/site-packages/pyspark/sql/dataframe.py:693\u001b[0m, in \u001b[0;36mDataFrame.collect\u001b[0;34m(self)\u001b[0m\n\u001b[1;32m    <a href='file:///usr/local/lib/python3.9/site-packages/pyspark/sql/dataframe.py?line=691'>692</a>\u001b[0m \u001b[39mwith\u001b[39;00m SCCallSiteSync(\u001b[39mself\u001b[39m\u001b[39m.\u001b[39m_sc) \u001b[39mas\u001b[39;00m css:\n\u001b[0;32m--> <a href='file:///usr/local/lib/python3.9/site-packages/pyspark/sql/dataframe.py?line=692'>693</a>\u001b[0m     sock_info \u001b[39m=\u001b[39m \u001b[39mself\u001b[39;49m\u001b[39m.\u001b[39;49m_jdf\u001b[39m.\u001b[39;49mcollectToPython()\n\u001b[1;32m    <a href='file:///usr/local/lib/python3.9/site-packages/pyspark/sql/dataframe.py?line=693'>694</a>\u001b[0m \u001b[39mreturn\u001b[39;00m \u001b[39mlist\u001b[39m(_load_from_socket(sock_info, BatchedSerializer(PickleSerializer())))\n",
      "File \u001b[0;32m/usr/local/lib/python3.9/site-packages/py4j/java_gateway.py:1321\u001b[0m, in \u001b[0;36mJavaMember.__call__\u001b[0;34m(self, *args)\u001b[0m\n\u001b[1;32m   <a href='file:///usr/local/lib/python3.9/site-packages/py4j/java_gateway.py?line=1319'>1320</a>\u001b[0m answer \u001b[39m=\u001b[39m \u001b[39mself\u001b[39m\u001b[39m.\u001b[39mgateway_client\u001b[39m.\u001b[39msend_command(command)\n\u001b[0;32m-> <a href='file:///usr/local/lib/python3.9/site-packages/py4j/java_gateway.py?line=1320'>1321</a>\u001b[0m return_value \u001b[39m=\u001b[39m get_return_value(\n\u001b[1;32m   <a href='file:///usr/local/lib/python3.9/site-packages/py4j/java_gateway.py?line=1321'>1322</a>\u001b[0m     answer, \u001b[39mself\u001b[39;49m\u001b[39m.\u001b[39;49mgateway_client, \u001b[39mself\u001b[39;49m\u001b[39m.\u001b[39;49mtarget_id, \u001b[39mself\u001b[39;49m\u001b[39m.\u001b[39;49mname)\n\u001b[1;32m   <a href='file:///usr/local/lib/python3.9/site-packages/py4j/java_gateway.py?line=1323'>1324</a>\u001b[0m \u001b[39mfor\u001b[39;00m temp_arg \u001b[39min\u001b[39;00m temp_args:\n",
      "File \u001b[0;32m/usr/local/lib/python3.9/site-packages/pyspark/sql/utils.py:111\u001b[0m, in \u001b[0;36mcapture_sql_exception.<locals>.deco\u001b[0;34m(*a, **kw)\u001b[0m\n\u001b[1;32m    <a href='file:///usr/local/lib/python3.9/site-packages/pyspark/sql/utils.py?line=109'>110</a>\u001b[0m \u001b[39mtry\u001b[39;00m:\n\u001b[0;32m--> <a href='file:///usr/local/lib/python3.9/site-packages/pyspark/sql/utils.py?line=110'>111</a>\u001b[0m     \u001b[39mreturn\u001b[39;00m f(\u001b[39m*\u001b[39;49ma, \u001b[39m*\u001b[39;49m\u001b[39m*\u001b[39;49mkw)\n\u001b[1;32m    <a href='file:///usr/local/lib/python3.9/site-packages/pyspark/sql/utils.py?line=111'>112</a>\u001b[0m \u001b[39mexcept\u001b[39;00m py4j\u001b[39m.\u001b[39mprotocol\u001b[39m.\u001b[39mPy4JJavaError \u001b[39mas\u001b[39;00m e:\n",
      "File \u001b[0;32m/usr/local/lib/python3.9/site-packages/py4j/protocol.py:326\u001b[0m, in \u001b[0;36mget_return_value\u001b[0;34m(answer, gateway_client, target_id, name)\u001b[0m\n\u001b[1;32m    <a href='file:///usr/local/lib/python3.9/site-packages/py4j/protocol.py?line=324'>325</a>\u001b[0m \u001b[39mif\u001b[39;00m answer[\u001b[39m1\u001b[39m] \u001b[39m==\u001b[39m REFERENCE_TYPE:\n\u001b[0;32m--> <a href='file:///usr/local/lib/python3.9/site-packages/py4j/protocol.py?line=325'>326</a>\u001b[0m     \u001b[39mraise\u001b[39;00m Py4JJavaError(\n\u001b[1;32m    <a href='file:///usr/local/lib/python3.9/site-packages/py4j/protocol.py?line=326'>327</a>\u001b[0m         \u001b[39m\"\u001b[39m\u001b[39mAn error occurred while calling \u001b[39m\u001b[39m{0}\u001b[39;00m\u001b[39m{1}\u001b[39;00m\u001b[39m{2}\u001b[39;00m\u001b[39m.\u001b[39m\u001b[39m\\n\u001b[39;00m\u001b[39m\"\u001b[39m\u001b[39m.\u001b[39m\n\u001b[1;32m    <a href='file:///usr/local/lib/python3.9/site-packages/py4j/protocol.py?line=327'>328</a>\u001b[0m         \u001b[39mformat\u001b[39m(target_id, \u001b[39m\"\u001b[39m\u001b[39m.\u001b[39m\u001b[39m\"\u001b[39m, name), value)\n\u001b[1;32m    <a href='file:///usr/local/lib/python3.9/site-packages/py4j/protocol.py?line=328'>329</a>\u001b[0m \u001b[39melse\u001b[39;00m:\n",
      "\u001b[0;31m<class 'str'>\u001b[0m: (<class 'ConnectionRefusedError'>, ConnectionRefusedError(111, 'Connection refused'))",
      "\nDuring handling of the above exception, another exception occurred:\n",
      "\u001b[0;31mConnectionRefusedError\u001b[0m                    Traceback (most recent call last)",
      "    \u001b[0;31m[... skipping hidden 1 frame]\u001b[0m\n",
      "File \u001b[0;32m~/.local/lib/python3.9/site-packages/IPython/core/interactiveshell.py:2003\u001b[0m, in \u001b[0;36mInteractiveShell.showtraceback\u001b[0;34m(self, exc_tuple, filename, tb_offset, exception_only, running_compiled_code)\u001b[0m\n\u001b[1;32m   <a href='file:///home/vscode/.local/lib/python3.9/site-packages/IPython/core/interactiveshell.py?line=1999'>2000</a>\u001b[0m     traceback\u001b[39m.\u001b[39mprint_exc()\n\u001b[1;32m   <a href='file:///home/vscode/.local/lib/python3.9/site-packages/IPython/core/interactiveshell.py?line=2000'>2001</a>\u001b[0m     \u001b[39mreturn\u001b[39;00m \u001b[39mNone\u001b[39;00m\n\u001b[0;32m-> <a href='file:///home/vscode/.local/lib/python3.9/site-packages/IPython/core/interactiveshell.py?line=2002'>2003</a>\u001b[0m \u001b[39mself\u001b[39;49m\u001b[39m.\u001b[39;49m_showtraceback(etype, value, stb)\n\u001b[1;32m   <a href='file:///home/vscode/.local/lib/python3.9/site-packages/IPython/core/interactiveshell.py?line=2003'>2004</a>\u001b[0m \u001b[39mif\u001b[39;00m \u001b[39mself\u001b[39m\u001b[39m.\u001b[39mcall_pdb:\n\u001b[1;32m   <a href='file:///home/vscode/.local/lib/python3.9/site-packages/IPython/core/interactiveshell.py?line=2004'>2005</a>\u001b[0m     \u001b[39m# drop into debugger\u001b[39;00m\n\u001b[1;32m   <a href='file:///home/vscode/.local/lib/python3.9/site-packages/IPython/core/interactiveshell.py?line=2005'>2006</a>\u001b[0m     \u001b[39mself\u001b[39m\u001b[39m.\u001b[39mdebugger(force\u001b[39m=\u001b[39m\u001b[39mTrue\u001b[39;00m)\n",
      "File \u001b[0;32m~/.local/lib/python3.9/site-packages/ipykernel/zmqshell.py:538\u001b[0m, in \u001b[0;36mZMQInteractiveShell._showtraceback\u001b[0;34m(self, etype, evalue, stb)\u001b[0m\n\u001b[1;32m    <a href='file:///home/vscode/.local/lib/python3.9/site-packages/ipykernel/zmqshell.py?line=531'>532</a>\u001b[0m sys\u001b[39m.\u001b[39mstdout\u001b[39m.\u001b[39mflush()\n\u001b[1;32m    <a href='file:///home/vscode/.local/lib/python3.9/site-packages/ipykernel/zmqshell.py?line=532'>533</a>\u001b[0m sys\u001b[39m.\u001b[39mstderr\u001b[39m.\u001b[39mflush()\n\u001b[1;32m    <a href='file:///home/vscode/.local/lib/python3.9/site-packages/ipykernel/zmqshell.py?line=534'>535</a>\u001b[0m exc_content \u001b[39m=\u001b[39m {\n\u001b[1;32m    <a href='file:///home/vscode/.local/lib/python3.9/site-packages/ipykernel/zmqshell.py?line=535'>536</a>\u001b[0m     \u001b[39m\"\u001b[39m\u001b[39mtraceback\u001b[39m\u001b[39m\"\u001b[39m: stb,\n\u001b[1;32m    <a href='file:///home/vscode/.local/lib/python3.9/site-packages/ipykernel/zmqshell.py?line=536'>537</a>\u001b[0m     \u001b[39m\"\u001b[39m\u001b[39mename\u001b[39m\u001b[39m\"\u001b[39m: \u001b[39mstr\u001b[39m(etype\u001b[39m.\u001b[39m\u001b[39m__name__\u001b[39m),\n\u001b[0;32m--> <a href='file:///home/vscode/.local/lib/python3.9/site-packages/ipykernel/zmqshell.py?line=537'>538</a>\u001b[0m     \u001b[39m\"\u001b[39m\u001b[39mevalue\u001b[39m\u001b[39m\"\u001b[39m: \u001b[39mstr\u001b[39;49m(evalue),\n\u001b[1;32m    <a href='file:///home/vscode/.local/lib/python3.9/site-packages/ipykernel/zmqshell.py?line=538'>539</a>\u001b[0m }\n\u001b[1;32m    <a href='file:///home/vscode/.local/lib/python3.9/site-packages/ipykernel/zmqshell.py?line=540'>541</a>\u001b[0m dh \u001b[39m=\u001b[39m \u001b[39mself\u001b[39m\u001b[39m.\u001b[39mdisplayhook\n\u001b[1;32m    <a href='file:///home/vscode/.local/lib/python3.9/site-packages/ipykernel/zmqshell.py?line=541'>542</a>\u001b[0m \u001b[39m# Send exception info over pub socket for other clients than the caller\u001b[39;00m\n\u001b[1;32m    <a href='file:///home/vscode/.local/lib/python3.9/site-packages/ipykernel/zmqshell.py?line=542'>543</a>\u001b[0m \u001b[39m# to pick up\u001b[39;00m\n",
      "File \u001b[0;32m/usr/local/lib/python3.9/site-packages/py4j/protocol.py:471\u001b[0m, in \u001b[0;36mPy4JJavaError.__str__\u001b[0;34m(self)\u001b[0m\n\u001b[1;32m    <a href='file:///usr/local/lib/python3.9/site-packages/py4j/protocol.py?line=468'>469</a>\u001b[0m \u001b[39mdef\u001b[39;00m \u001b[39m__str__\u001b[39m(\u001b[39mself\u001b[39m):\n\u001b[1;32m    <a href='file:///usr/local/lib/python3.9/site-packages/py4j/protocol.py?line=469'>470</a>\u001b[0m     gateway_client \u001b[39m=\u001b[39m \u001b[39mself\u001b[39m\u001b[39m.\u001b[39mjava_exception\u001b[39m.\u001b[39m_gateway_client\n\u001b[0;32m--> <a href='file:///usr/local/lib/python3.9/site-packages/py4j/protocol.py?line=470'>471</a>\u001b[0m     answer \u001b[39m=\u001b[39m gateway_client\u001b[39m.\u001b[39;49msend_command(\u001b[39mself\u001b[39;49m\u001b[39m.\u001b[39;49mexception_cmd)\n\u001b[1;32m    <a href='file:///usr/local/lib/python3.9/site-packages/py4j/protocol.py?line=471'>472</a>\u001b[0m     return_value \u001b[39m=\u001b[39m get_return_value(answer, gateway_client, \u001b[39mNone\u001b[39;00m, \u001b[39mNone\u001b[39;00m)\n\u001b[1;32m    <a href='file:///usr/local/lib/python3.9/site-packages/py4j/protocol.py?line=472'>473</a>\u001b[0m     \u001b[39m# Note: technically this should return a bytestring 'str' rather than\u001b[39;00m\n\u001b[1;32m    <a href='file:///usr/local/lib/python3.9/site-packages/py4j/protocol.py?line=473'>474</a>\u001b[0m     \u001b[39m# unicodes in Python 2; however, it can return unicodes for now.\u001b[39;00m\n\u001b[1;32m    <a href='file:///usr/local/lib/python3.9/site-packages/py4j/protocol.py?line=474'>475</a>\u001b[0m     \u001b[39m# See https://github.com/bartdag/py4j/issues/306 for more details.\u001b[39;00m\n",
      "File \u001b[0;32m/usr/local/lib/python3.9/site-packages/py4j/java_gateway.py:1036\u001b[0m, in \u001b[0;36mGatewayClient.send_command\u001b[0;34m(self, command, retry, binary)\u001b[0m\n\u001b[1;32m   <a href='file:///usr/local/lib/python3.9/site-packages/py4j/java_gateway.py?line=1014'>1015</a>\u001b[0m \u001b[39mdef\u001b[39;00m \u001b[39msend_command\u001b[39m(\u001b[39mself\u001b[39m, command, retry\u001b[39m=\u001b[39m\u001b[39mTrue\u001b[39;00m, binary\u001b[39m=\u001b[39m\u001b[39mFalse\u001b[39;00m):\n\u001b[1;32m   <a href='file:///usr/local/lib/python3.9/site-packages/py4j/java_gateway.py?line=1015'>1016</a>\u001b[0m     \u001b[39m\"\"\"Sends a command to the JVM. This method is not intended to be\u001b[39;00m\n\u001b[1;32m   <a href='file:///usr/local/lib/python3.9/site-packages/py4j/java_gateway.py?line=1016'>1017</a>\u001b[0m \u001b[39m       called directly by Py4J users. It is usually called by\u001b[39;00m\n\u001b[1;32m   <a href='file:///usr/local/lib/python3.9/site-packages/py4j/java_gateway.py?line=1017'>1018</a>\u001b[0m \u001b[39m       :class:`JavaMember` instances.\u001b[39;00m\n\u001b[0;32m   (...)\u001b[0m\n\u001b[1;32m   <a href='file:///usr/local/lib/python3.9/site-packages/py4j/java_gateway.py?line=1033'>1034</a>\u001b[0m \u001b[39m     if `binary` is `True`.\u001b[39;00m\n\u001b[1;32m   <a href='file:///usr/local/lib/python3.9/site-packages/py4j/java_gateway.py?line=1034'>1035</a>\u001b[0m \u001b[39m    \"\"\"\u001b[39;00m\n\u001b[0;32m-> <a href='file:///usr/local/lib/python3.9/site-packages/py4j/java_gateway.py?line=1035'>1036</a>\u001b[0m     connection \u001b[39m=\u001b[39m \u001b[39mself\u001b[39;49m\u001b[39m.\u001b[39;49m_get_connection()\n\u001b[1;32m   <a href='file:///usr/local/lib/python3.9/site-packages/py4j/java_gateway.py?line=1036'>1037</a>\u001b[0m     \u001b[39mtry\u001b[39;00m:\n\u001b[1;32m   <a href='file:///usr/local/lib/python3.9/site-packages/py4j/java_gateway.py?line=1037'>1038</a>\u001b[0m         response \u001b[39m=\u001b[39m connection\u001b[39m.\u001b[39msend_command(command)\n",
      "File \u001b[0;32m/usr/local/lib/python3.9/site-packages/py4j/clientserver.py:281\u001b[0m, in \u001b[0;36mJavaClient._get_connection\u001b[0;34m(self)\u001b[0m\n\u001b[1;32m    <a href='file:///usr/local/lib/python3.9/site-packages/py4j/clientserver.py?line=277'>278</a>\u001b[0m     \u001b[39mpass\u001b[39;00m\n\u001b[1;32m    <a href='file:///usr/local/lib/python3.9/site-packages/py4j/clientserver.py?line=279'>280</a>\u001b[0m \u001b[39mif\u001b[39;00m connection \u001b[39mis\u001b[39;00m \u001b[39mNone\u001b[39;00m \u001b[39mor\u001b[39;00m connection\u001b[39m.\u001b[39msocket \u001b[39mis\u001b[39;00m \u001b[39mNone\u001b[39;00m:\n\u001b[0;32m--> <a href='file:///usr/local/lib/python3.9/site-packages/py4j/clientserver.py?line=280'>281</a>\u001b[0m     connection \u001b[39m=\u001b[39m \u001b[39mself\u001b[39;49m\u001b[39m.\u001b[39;49m_create_new_connection()\n\u001b[1;32m    <a href='file:///usr/local/lib/python3.9/site-packages/py4j/clientserver.py?line=281'>282</a>\u001b[0m \u001b[39mreturn\u001b[39;00m connection\n",
      "File \u001b[0;32m/usr/local/lib/python3.9/site-packages/py4j/clientserver.py:288\u001b[0m, in \u001b[0;36mJavaClient._create_new_connection\u001b[0;34m(self)\u001b[0m\n\u001b[1;32m    <a href='file:///usr/local/lib/python3.9/site-packages/py4j/clientserver.py?line=283'>284</a>\u001b[0m \u001b[39mdef\u001b[39;00m \u001b[39m_create_new_connection\u001b[39m(\u001b[39mself\u001b[39m):\n\u001b[1;32m    <a href='file:///usr/local/lib/python3.9/site-packages/py4j/clientserver.py?line=284'>285</a>\u001b[0m     connection \u001b[39m=\u001b[39m ClientServerConnection(\n\u001b[1;32m    <a href='file:///usr/local/lib/python3.9/site-packages/py4j/clientserver.py?line=285'>286</a>\u001b[0m         \u001b[39mself\u001b[39m\u001b[39m.\u001b[39mjava_parameters, \u001b[39mself\u001b[39m\u001b[39m.\u001b[39mpython_parameters,\n\u001b[1;32m    <a href='file:///usr/local/lib/python3.9/site-packages/py4j/clientserver.py?line=286'>287</a>\u001b[0m         \u001b[39mself\u001b[39m\u001b[39m.\u001b[39mgateway_property, \u001b[39mself\u001b[39m)\n\u001b[0;32m--> <a href='file:///usr/local/lib/python3.9/site-packages/py4j/clientserver.py?line=287'>288</a>\u001b[0m     connection\u001b[39m.\u001b[39;49mconnect_to_java_server()\n\u001b[1;32m    <a href='file:///usr/local/lib/python3.9/site-packages/py4j/clientserver.py?line=288'>289</a>\u001b[0m     \u001b[39mself\u001b[39m\u001b[39m.\u001b[39mset_thread_connection(connection)\n\u001b[1;32m    <a href='file:///usr/local/lib/python3.9/site-packages/py4j/clientserver.py?line=289'>290</a>\u001b[0m     \u001b[39mreturn\u001b[39;00m connection\n",
      "File \u001b[0;32m/usr/local/lib/python3.9/site-packages/py4j/clientserver.py:402\u001b[0m, in \u001b[0;36mClientServerConnection.connect_to_java_server\u001b[0;34m(self)\u001b[0m\n\u001b[1;32m    <a href='file:///usr/local/lib/python3.9/site-packages/py4j/clientserver.py?line=398'>399</a>\u001b[0m \u001b[39mif\u001b[39;00m \u001b[39mself\u001b[39m\u001b[39m.\u001b[39mssl_context:\n\u001b[1;32m    <a href='file:///usr/local/lib/python3.9/site-packages/py4j/clientserver.py?line=399'>400</a>\u001b[0m     \u001b[39mself\u001b[39m\u001b[39m.\u001b[39msocket \u001b[39m=\u001b[39m \u001b[39mself\u001b[39m\u001b[39m.\u001b[39mssl_context\u001b[39m.\u001b[39mwrap_socket(\n\u001b[1;32m    <a href='file:///usr/local/lib/python3.9/site-packages/py4j/clientserver.py?line=400'>401</a>\u001b[0m         \u001b[39mself\u001b[39m\u001b[39m.\u001b[39msocket, server_hostname\u001b[39m=\u001b[39m\u001b[39mself\u001b[39m\u001b[39m.\u001b[39mjava_address)\n\u001b[0;32m--> <a href='file:///usr/local/lib/python3.9/site-packages/py4j/clientserver.py?line=401'>402</a>\u001b[0m \u001b[39mself\u001b[39;49m\u001b[39m.\u001b[39;49msocket\u001b[39m.\u001b[39;49mconnect((\u001b[39mself\u001b[39;49m\u001b[39m.\u001b[39;49mjava_address, \u001b[39mself\u001b[39;49m\u001b[39m.\u001b[39;49mjava_port))\n\u001b[1;32m    <a href='file:///usr/local/lib/python3.9/site-packages/py4j/clientserver.py?line=402'>403</a>\u001b[0m \u001b[39mself\u001b[39m\u001b[39m.\u001b[39mstream \u001b[39m=\u001b[39m \u001b[39mself\u001b[39m\u001b[39m.\u001b[39msocket\u001b[39m.\u001b[39mmakefile(\u001b[39m\"\u001b[39m\u001b[39mrb\u001b[39m\u001b[39m\"\u001b[39m)\n\u001b[1;32m    <a href='file:///usr/local/lib/python3.9/site-packages/py4j/clientserver.py?line=403'>404</a>\u001b[0m \u001b[39mself\u001b[39m\u001b[39m.\u001b[39mis_connected \u001b[39m=\u001b[39m \u001b[39mTrue\u001b[39;00m\n",
      "\u001b[0;31mConnectionRefusedError\u001b[0m: [Errno 111] Connection refused"
     ]
    }
   ],
   "source": [
    "collected = timeDroped.collect()\n",
    "count = 0\n",
    "moderator = []\n",
    "\n",
    "for row in collected:\n",
    "    time,users = list(row)\n",
    "    for user in users:\n",
    "        for comp in users:\n",
    "            if (user == comp): \n",
    "                count +1\n",
    "            if(user in moderator) : \n",
    "                break #in äußere Spalte zurückkehren\n",
    "            if(count >= 2) : \n",
    "                moderator.append(user)\n",
    "                break #in äußere Spalte zurückkehren\n",
    "        count = 0\n",
    "print(moderator)   "
   ]
  },
  {
   "cell_type": "markdown",
   "metadata": {},
   "source": [
    "<div style=\"color:#b0e0e6\">\n",
    "Es ergibt sich eine leere Liste, ist das so korrekt?\n",
    "Denn das würde bedeuten, es gäbe in der einen Stunde keine Moderatoren...\n",
    "(Siehe auch Anmerkung unten)\n",
    "</div>"
   ]
  },
  {
   "cell_type": "code",
   "execution_count": 12,
   "metadata": {},
   "outputs": [
    {
     "ename": "ConnectionRefusedError",
     "evalue": "[Errno 111] Connection refused",
     "output_type": "error",
     "traceback": [
      "\u001b[0;31m---------------------------------------------------------------------------\u001b[0m",
      "\u001b[0;31mConnectionRefusedError\u001b[0m                    Traceback (most recent call last)",
      "\u001b[1;32m/workspaces/placegroups/notebooks/0.1-derr-statistiken-moderaotren2.ipynb Cell 19'\u001b[0m in \u001b[0;36m<cell line: 1>\u001b[0;34m()\u001b[0m\n\u001b[0;32m----> <a href='vscode-notebook-cell://dev-container%2B2f55736572732f6e69636f6c65646572722f446f63756d656e74732f4769744875622f706c61636567726f757073/workspaces/placegroups/notebooks/0.1-derr-statistiken-moderaotren2.ipynb#ch0000018vscode-remote?line=0'>1</a>\u001b[0m dataFrame\u001b[39m.\u001b[39;49morderBy([\u001b[39m'\u001b[39;49m\u001b[39muser_id\u001b[39;49m\u001b[39m'\u001b[39;49m], ascending \u001b[39m=\u001b[39;49m [\u001b[39mTrue\u001b[39;49;00m])\u001b[39m.\u001b[39mshow()\n",
      "File \u001b[0;32m/usr/local/lib/python3.9/site-packages/pyspark/sql/dataframe.py:1421\u001b[0m, in \u001b[0;36mDataFrame.sort\u001b[0;34m(self, *cols, **kwargs)\u001b[0m\n\u001b[1;32m   <a href='file:///usr/local/lib/python3.9/site-packages/pyspark/sql/dataframe.py?line=1387'>1388</a>\u001b[0m \u001b[39mdef\u001b[39;00m \u001b[39msort\u001b[39m(\u001b[39mself\u001b[39m, \u001b[39m*\u001b[39mcols, \u001b[39m*\u001b[39m\u001b[39m*\u001b[39mkwargs):\n\u001b[1;32m   <a href='file:///usr/local/lib/python3.9/site-packages/pyspark/sql/dataframe.py?line=1388'>1389</a>\u001b[0m     \u001b[39m\"\"\"Returns a new :class:`DataFrame` sorted by the specified column(s).\u001b[39;00m\n\u001b[1;32m   <a href='file:///usr/local/lib/python3.9/site-packages/pyspark/sql/dataframe.py?line=1389'>1390</a>\u001b[0m \n\u001b[1;32m   <a href='file:///usr/local/lib/python3.9/site-packages/pyspark/sql/dataframe.py?line=1390'>1391</a>\u001b[0m \u001b[39m    .. versionadded:: 1.3.0\u001b[39;00m\n\u001b[0;32m   (...)\u001b[0m\n\u001b[1;32m   <a href='file:///usr/local/lib/python3.9/site-packages/pyspark/sql/dataframe.py?line=1418'>1419</a>\u001b[0m \u001b[39m    [Row(age=5, name='Bob'), Row(age=2, name='Alice')]\u001b[39;00m\n\u001b[1;32m   <a href='file:///usr/local/lib/python3.9/site-packages/pyspark/sql/dataframe.py?line=1419'>1420</a>\u001b[0m \u001b[39m    \"\"\"\u001b[39;00m\n\u001b[0;32m-> <a href='file:///usr/local/lib/python3.9/site-packages/pyspark/sql/dataframe.py?line=1420'>1421</a>\u001b[0m     jdf \u001b[39m=\u001b[39m \u001b[39mself\u001b[39m\u001b[39m.\u001b[39m_jdf\u001b[39m.\u001b[39msort(\u001b[39mself\u001b[39;49m\u001b[39m.\u001b[39;49m_sort_cols(cols, kwargs))\n\u001b[1;32m   <a href='file:///usr/local/lib/python3.9/site-packages/pyspark/sql/dataframe.py?line=1421'>1422</a>\u001b[0m     \u001b[39mreturn\u001b[39;00m DataFrame(jdf, \u001b[39mself\u001b[39m\u001b[39m.\u001b[39msql_ctx)\n",
      "File \u001b[0;32m/usr/local/lib/python3.9/site-packages/pyspark/sql/dataframe.py:1450\u001b[0m, in \u001b[0;36mDataFrame._sort_cols\u001b[0;34m(self, cols, kwargs)\u001b[0m\n\u001b[1;32m   <a href='file:///usr/local/lib/python3.9/site-packages/pyspark/sql/dataframe.py?line=1447'>1448</a>\u001b[0m \u001b[39mif\u001b[39;00m \u001b[39mlen\u001b[39m(cols) \u001b[39m==\u001b[39m \u001b[39m1\u001b[39m \u001b[39mand\u001b[39;00m \u001b[39misinstance\u001b[39m(cols[\u001b[39m0\u001b[39m], \u001b[39mlist\u001b[39m):\n\u001b[1;32m   <a href='file:///usr/local/lib/python3.9/site-packages/pyspark/sql/dataframe.py?line=1448'>1449</a>\u001b[0m     cols \u001b[39m=\u001b[39m cols[\u001b[39m0\u001b[39m]\n\u001b[0;32m-> <a href='file:///usr/local/lib/python3.9/site-packages/pyspark/sql/dataframe.py?line=1449'>1450</a>\u001b[0m jcols \u001b[39m=\u001b[39m [_to_java_column(c) \u001b[39mfor\u001b[39;00m c \u001b[39min\u001b[39;00m cols]\n\u001b[1;32m   <a href='file:///usr/local/lib/python3.9/site-packages/pyspark/sql/dataframe.py?line=1450'>1451</a>\u001b[0m ascending \u001b[39m=\u001b[39m kwargs\u001b[39m.\u001b[39mget(\u001b[39m'\u001b[39m\u001b[39mascending\u001b[39m\u001b[39m'\u001b[39m, \u001b[39mTrue\u001b[39;00m)\n\u001b[1;32m   <a href='file:///usr/local/lib/python3.9/site-packages/pyspark/sql/dataframe.py?line=1451'>1452</a>\u001b[0m \u001b[39mif\u001b[39;00m \u001b[39misinstance\u001b[39m(ascending, (\u001b[39mbool\u001b[39m, \u001b[39mint\u001b[39m)):\n",
      "File \u001b[0;32m/usr/local/lib/python3.9/site-packages/pyspark/sql/dataframe.py:1450\u001b[0m, in \u001b[0;36m<listcomp>\u001b[0;34m(.0)\u001b[0m\n\u001b[1;32m   <a href='file:///usr/local/lib/python3.9/site-packages/pyspark/sql/dataframe.py?line=1447'>1448</a>\u001b[0m \u001b[39mif\u001b[39;00m \u001b[39mlen\u001b[39m(cols) \u001b[39m==\u001b[39m \u001b[39m1\u001b[39m \u001b[39mand\u001b[39;00m \u001b[39misinstance\u001b[39m(cols[\u001b[39m0\u001b[39m], \u001b[39mlist\u001b[39m):\n\u001b[1;32m   <a href='file:///usr/local/lib/python3.9/site-packages/pyspark/sql/dataframe.py?line=1448'>1449</a>\u001b[0m     cols \u001b[39m=\u001b[39m cols[\u001b[39m0\u001b[39m]\n\u001b[0;32m-> <a href='file:///usr/local/lib/python3.9/site-packages/pyspark/sql/dataframe.py?line=1449'>1450</a>\u001b[0m jcols \u001b[39m=\u001b[39m [_to_java_column(c) \u001b[39mfor\u001b[39;00m c \u001b[39min\u001b[39;00m cols]\n\u001b[1;32m   <a href='file:///usr/local/lib/python3.9/site-packages/pyspark/sql/dataframe.py?line=1450'>1451</a>\u001b[0m ascending \u001b[39m=\u001b[39m kwargs\u001b[39m.\u001b[39mget(\u001b[39m'\u001b[39m\u001b[39mascending\u001b[39m\u001b[39m'\u001b[39m, \u001b[39mTrue\u001b[39;00m)\n\u001b[1;32m   <a href='file:///usr/local/lib/python3.9/site-packages/pyspark/sql/dataframe.py?line=1451'>1452</a>\u001b[0m \u001b[39mif\u001b[39;00m \u001b[39misinstance\u001b[39m(ascending, (\u001b[39mbool\u001b[39m, \u001b[39mint\u001b[39m)):\n",
      "File \u001b[0;32m/usr/local/lib/python3.9/site-packages/pyspark/sql/column.py:43\u001b[0m, in \u001b[0;36m_to_java_column\u001b[0;34m(col)\u001b[0m\n\u001b[1;32m     <a href='file:///usr/local/lib/python3.9/site-packages/pyspark/sql/column.py?line=40'>41</a>\u001b[0m     jcol \u001b[39m=\u001b[39m col\u001b[39m.\u001b[39m_jc\n\u001b[1;32m     <a href='file:///usr/local/lib/python3.9/site-packages/pyspark/sql/column.py?line=41'>42</a>\u001b[0m \u001b[39melif\u001b[39;00m \u001b[39misinstance\u001b[39m(col, \u001b[39mstr\u001b[39m):\n\u001b[0;32m---> <a href='file:///usr/local/lib/python3.9/site-packages/pyspark/sql/column.py?line=42'>43</a>\u001b[0m     jcol \u001b[39m=\u001b[39m _create_column_from_name(col)\n\u001b[1;32m     <a href='file:///usr/local/lib/python3.9/site-packages/pyspark/sql/column.py?line=43'>44</a>\u001b[0m \u001b[39melse\u001b[39;00m:\n\u001b[1;32m     <a href='file:///usr/local/lib/python3.9/site-packages/pyspark/sql/column.py?line=44'>45</a>\u001b[0m     \u001b[39mraise\u001b[39;00m \u001b[39mTypeError\u001b[39;00m(\n\u001b[1;32m     <a href='file:///usr/local/lib/python3.9/site-packages/pyspark/sql/column.py?line=45'>46</a>\u001b[0m         \u001b[39m\"\u001b[39m\u001b[39mInvalid argument, not a string or column: \u001b[39m\u001b[39m\"\u001b[39m\n\u001b[1;32m     <a href='file:///usr/local/lib/python3.9/site-packages/pyspark/sql/column.py?line=46'>47</a>\u001b[0m         \u001b[39m\"\u001b[39m\u001b[39m{0}\u001b[39;00m\u001b[39m of type \u001b[39m\u001b[39m{1}\u001b[39;00m\u001b[39m. \u001b[39m\u001b[39m\"\u001b[39m\n\u001b[1;32m     <a href='file:///usr/local/lib/python3.9/site-packages/pyspark/sql/column.py?line=47'>48</a>\u001b[0m         \u001b[39m\"\u001b[39m\u001b[39mFor column literals, use \u001b[39m\u001b[39m'\u001b[39m\u001b[39mlit\u001b[39m\u001b[39m'\u001b[39m\u001b[39m, \u001b[39m\u001b[39m'\u001b[39m\u001b[39marray\u001b[39m\u001b[39m'\u001b[39m\u001b[39m, \u001b[39m\u001b[39m'\u001b[39m\u001b[39mstruct\u001b[39m\u001b[39m'\u001b[39m\u001b[39m or \u001b[39m\u001b[39m'\u001b[39m\u001b[39mcreate_map\u001b[39m\u001b[39m'\u001b[39m\u001b[39m \u001b[39m\u001b[39m\"\u001b[39m\n\u001b[1;32m     <a href='file:///usr/local/lib/python3.9/site-packages/pyspark/sql/column.py?line=48'>49</a>\u001b[0m         \u001b[39m\"\u001b[39m\u001b[39mfunction.\u001b[39m\u001b[39m\"\u001b[39m\u001b[39m.\u001b[39mformat(col, \u001b[39mtype\u001b[39m(col)))\n",
      "File \u001b[0;32m/usr/local/lib/python3.9/site-packages/pyspark/sql/column.py:36\u001b[0m, in \u001b[0;36m_create_column_from_name\u001b[0;34m(name)\u001b[0m\n\u001b[1;32m     <a href='file:///usr/local/lib/python3.9/site-packages/pyspark/sql/column.py?line=33'>34</a>\u001b[0m \u001b[39mdef\u001b[39;00m \u001b[39m_create_column_from_name\u001b[39m(name):\n\u001b[1;32m     <a href='file:///usr/local/lib/python3.9/site-packages/pyspark/sql/column.py?line=34'>35</a>\u001b[0m     sc \u001b[39m=\u001b[39m SparkContext\u001b[39m.\u001b[39m_active_spark_context\n\u001b[0;32m---> <a href='file:///usr/local/lib/python3.9/site-packages/pyspark/sql/column.py?line=35'>36</a>\u001b[0m     \u001b[39mreturn\u001b[39;00m sc\u001b[39m.\u001b[39;49m_jvm\u001b[39m.\u001b[39;49mfunctions\u001b[39m.\u001b[39mcol(name)\n",
      "File \u001b[0;32m/usr/local/lib/python3.9/site-packages/py4j/java_gateway.py:1709\u001b[0m, in \u001b[0;36mJVMView.__getattr__\u001b[0;34m(self, name)\u001b[0m\n\u001b[1;32m   <a href='file:///usr/local/lib/python3.9/site-packages/py4j/java_gateway.py?line=1705'>1706</a>\u001b[0m \u001b[39mif\u001b[39;00m name \u001b[39m==\u001b[39m UserHelpAutoCompletion\u001b[39m.\u001b[39mKEY:\n\u001b[1;32m   <a href='file:///usr/local/lib/python3.9/site-packages/py4j/java_gateway.py?line=1706'>1707</a>\u001b[0m     \u001b[39mreturn\u001b[39;00m UserHelpAutoCompletion()\n\u001b[0;32m-> <a href='file:///usr/local/lib/python3.9/site-packages/py4j/java_gateway.py?line=1708'>1709</a>\u001b[0m answer \u001b[39m=\u001b[39m \u001b[39mself\u001b[39;49m\u001b[39m.\u001b[39;49m_gateway_client\u001b[39m.\u001b[39;49msend_command(\n\u001b[1;32m   <a href='file:///usr/local/lib/python3.9/site-packages/py4j/java_gateway.py?line=1709'>1710</a>\u001b[0m     proto\u001b[39m.\u001b[39;49mREFLECTION_COMMAND_NAME \u001b[39m+\u001b[39;49m\n\u001b[1;32m   <a href='file:///usr/local/lib/python3.9/site-packages/py4j/java_gateway.py?line=1710'>1711</a>\u001b[0m     proto\u001b[39m.\u001b[39;49mREFL_GET_UNKNOWN_SUB_COMMAND_NAME \u001b[39m+\u001b[39;49m name \u001b[39m+\u001b[39;49m \u001b[39m\"\u001b[39;49m\u001b[39m\\n\u001b[39;49;00m\u001b[39m\"\u001b[39;49m \u001b[39m+\u001b[39;49m \u001b[39mself\u001b[39;49m\u001b[39m.\u001b[39;49m_id \u001b[39m+\u001b[39;49m\n\u001b[1;32m   <a href='file:///usr/local/lib/python3.9/site-packages/py4j/java_gateway.py?line=1711'>1712</a>\u001b[0m     \u001b[39m\"\u001b[39;49m\u001b[39m\\n\u001b[39;49;00m\u001b[39m\"\u001b[39;49m \u001b[39m+\u001b[39;49m proto\u001b[39m.\u001b[39;49mEND_COMMAND_PART)\n\u001b[1;32m   <a href='file:///usr/local/lib/python3.9/site-packages/py4j/java_gateway.py?line=1712'>1713</a>\u001b[0m \u001b[39mif\u001b[39;00m answer \u001b[39m==\u001b[39m proto\u001b[39m.\u001b[39mSUCCESS_PACKAGE:\n\u001b[1;32m   <a href='file:///usr/local/lib/python3.9/site-packages/py4j/java_gateway.py?line=1713'>1714</a>\u001b[0m     \u001b[39mreturn\u001b[39;00m JavaPackage(name, \u001b[39mself\u001b[39m\u001b[39m.\u001b[39m_gateway_client, jvm_id\u001b[39m=\u001b[39m\u001b[39mself\u001b[39m\u001b[39m.\u001b[39m_id)\n",
      "File \u001b[0;32m/usr/local/lib/python3.9/site-packages/py4j/java_gateway.py:1036\u001b[0m, in \u001b[0;36mGatewayClient.send_command\u001b[0;34m(self, command, retry, binary)\u001b[0m\n\u001b[1;32m   <a href='file:///usr/local/lib/python3.9/site-packages/py4j/java_gateway.py?line=1014'>1015</a>\u001b[0m \u001b[39mdef\u001b[39;00m \u001b[39msend_command\u001b[39m(\u001b[39mself\u001b[39m, command, retry\u001b[39m=\u001b[39m\u001b[39mTrue\u001b[39;00m, binary\u001b[39m=\u001b[39m\u001b[39mFalse\u001b[39;00m):\n\u001b[1;32m   <a href='file:///usr/local/lib/python3.9/site-packages/py4j/java_gateway.py?line=1015'>1016</a>\u001b[0m     \u001b[39m\"\"\"Sends a command to the JVM. This method is not intended to be\u001b[39;00m\n\u001b[1;32m   <a href='file:///usr/local/lib/python3.9/site-packages/py4j/java_gateway.py?line=1016'>1017</a>\u001b[0m \u001b[39m       called directly by Py4J users. It is usually called by\u001b[39;00m\n\u001b[1;32m   <a href='file:///usr/local/lib/python3.9/site-packages/py4j/java_gateway.py?line=1017'>1018</a>\u001b[0m \u001b[39m       :class:`JavaMember` instances.\u001b[39;00m\n\u001b[0;32m   (...)\u001b[0m\n\u001b[1;32m   <a href='file:///usr/local/lib/python3.9/site-packages/py4j/java_gateway.py?line=1033'>1034</a>\u001b[0m \u001b[39m     if `binary` is `True`.\u001b[39;00m\n\u001b[1;32m   <a href='file:///usr/local/lib/python3.9/site-packages/py4j/java_gateway.py?line=1034'>1035</a>\u001b[0m \u001b[39m    \"\"\"\u001b[39;00m\n\u001b[0;32m-> <a href='file:///usr/local/lib/python3.9/site-packages/py4j/java_gateway.py?line=1035'>1036</a>\u001b[0m     connection \u001b[39m=\u001b[39m \u001b[39mself\u001b[39;49m\u001b[39m.\u001b[39;49m_get_connection()\n\u001b[1;32m   <a href='file:///usr/local/lib/python3.9/site-packages/py4j/java_gateway.py?line=1036'>1037</a>\u001b[0m     \u001b[39mtry\u001b[39;00m:\n\u001b[1;32m   <a href='file:///usr/local/lib/python3.9/site-packages/py4j/java_gateway.py?line=1037'>1038</a>\u001b[0m         response \u001b[39m=\u001b[39m connection\u001b[39m.\u001b[39msend_command(command)\n",
      "File \u001b[0;32m/usr/local/lib/python3.9/site-packages/py4j/clientserver.py:281\u001b[0m, in \u001b[0;36mJavaClient._get_connection\u001b[0;34m(self)\u001b[0m\n\u001b[1;32m    <a href='file:///usr/local/lib/python3.9/site-packages/py4j/clientserver.py?line=277'>278</a>\u001b[0m     \u001b[39mpass\u001b[39;00m\n\u001b[1;32m    <a href='file:///usr/local/lib/python3.9/site-packages/py4j/clientserver.py?line=279'>280</a>\u001b[0m \u001b[39mif\u001b[39;00m connection \u001b[39mis\u001b[39;00m \u001b[39mNone\u001b[39;00m \u001b[39mor\u001b[39;00m connection\u001b[39m.\u001b[39msocket \u001b[39mis\u001b[39;00m \u001b[39mNone\u001b[39;00m:\n\u001b[0;32m--> <a href='file:///usr/local/lib/python3.9/site-packages/py4j/clientserver.py?line=280'>281</a>\u001b[0m     connection \u001b[39m=\u001b[39m \u001b[39mself\u001b[39;49m\u001b[39m.\u001b[39;49m_create_new_connection()\n\u001b[1;32m    <a href='file:///usr/local/lib/python3.9/site-packages/py4j/clientserver.py?line=281'>282</a>\u001b[0m \u001b[39mreturn\u001b[39;00m connection\n",
      "File \u001b[0;32m/usr/local/lib/python3.9/site-packages/py4j/clientserver.py:288\u001b[0m, in \u001b[0;36mJavaClient._create_new_connection\u001b[0;34m(self)\u001b[0m\n\u001b[1;32m    <a href='file:///usr/local/lib/python3.9/site-packages/py4j/clientserver.py?line=283'>284</a>\u001b[0m \u001b[39mdef\u001b[39;00m \u001b[39m_create_new_connection\u001b[39m(\u001b[39mself\u001b[39m):\n\u001b[1;32m    <a href='file:///usr/local/lib/python3.9/site-packages/py4j/clientserver.py?line=284'>285</a>\u001b[0m     connection \u001b[39m=\u001b[39m ClientServerConnection(\n\u001b[1;32m    <a href='file:///usr/local/lib/python3.9/site-packages/py4j/clientserver.py?line=285'>286</a>\u001b[0m         \u001b[39mself\u001b[39m\u001b[39m.\u001b[39mjava_parameters, \u001b[39mself\u001b[39m\u001b[39m.\u001b[39mpython_parameters,\n\u001b[1;32m    <a href='file:///usr/local/lib/python3.9/site-packages/py4j/clientserver.py?line=286'>287</a>\u001b[0m         \u001b[39mself\u001b[39m\u001b[39m.\u001b[39mgateway_property, \u001b[39mself\u001b[39m)\n\u001b[0;32m--> <a href='file:///usr/local/lib/python3.9/site-packages/py4j/clientserver.py?line=287'>288</a>\u001b[0m     connection\u001b[39m.\u001b[39;49mconnect_to_java_server()\n\u001b[1;32m    <a href='file:///usr/local/lib/python3.9/site-packages/py4j/clientserver.py?line=288'>289</a>\u001b[0m     \u001b[39mself\u001b[39m\u001b[39m.\u001b[39mset_thread_connection(connection)\n\u001b[1;32m    <a href='file:///usr/local/lib/python3.9/site-packages/py4j/clientserver.py?line=289'>290</a>\u001b[0m     \u001b[39mreturn\u001b[39;00m connection\n",
      "File \u001b[0;32m/usr/local/lib/python3.9/site-packages/py4j/clientserver.py:402\u001b[0m, in \u001b[0;36mClientServerConnection.connect_to_java_server\u001b[0;34m(self)\u001b[0m\n\u001b[1;32m    <a href='file:///usr/local/lib/python3.9/site-packages/py4j/clientserver.py?line=398'>399</a>\u001b[0m \u001b[39mif\u001b[39;00m \u001b[39mself\u001b[39m\u001b[39m.\u001b[39mssl_context:\n\u001b[1;32m    <a href='file:///usr/local/lib/python3.9/site-packages/py4j/clientserver.py?line=399'>400</a>\u001b[0m     \u001b[39mself\u001b[39m\u001b[39m.\u001b[39msocket \u001b[39m=\u001b[39m \u001b[39mself\u001b[39m\u001b[39m.\u001b[39mssl_context\u001b[39m.\u001b[39mwrap_socket(\n\u001b[1;32m    <a href='file:///usr/local/lib/python3.9/site-packages/py4j/clientserver.py?line=400'>401</a>\u001b[0m         \u001b[39mself\u001b[39m\u001b[39m.\u001b[39msocket, server_hostname\u001b[39m=\u001b[39m\u001b[39mself\u001b[39m\u001b[39m.\u001b[39mjava_address)\n\u001b[0;32m--> <a href='file:///usr/local/lib/python3.9/site-packages/py4j/clientserver.py?line=401'>402</a>\u001b[0m \u001b[39mself\u001b[39;49m\u001b[39m.\u001b[39;49msocket\u001b[39m.\u001b[39;49mconnect((\u001b[39mself\u001b[39;49m\u001b[39m.\u001b[39;49mjava_address, \u001b[39mself\u001b[39;49m\u001b[39m.\u001b[39;49mjava_port))\n\u001b[1;32m    <a href='file:///usr/local/lib/python3.9/site-packages/py4j/clientserver.py?line=402'>403</a>\u001b[0m \u001b[39mself\u001b[39m\u001b[39m.\u001b[39mstream \u001b[39m=\u001b[39m \u001b[39mself\u001b[39m\u001b[39m.\u001b[39msocket\u001b[39m.\u001b[39mmakefile(\u001b[39m\"\u001b[39m\u001b[39mrb\u001b[39m\u001b[39m\"\u001b[39m)\n\u001b[1;32m    <a href='file:///usr/local/lib/python3.9/site-packages/py4j/clientserver.py?line=403'>404</a>\u001b[0m \u001b[39mself\u001b[39m\u001b[39m.\u001b[39mis_connected \u001b[39m=\u001b[39m \u001b[39mTrue\u001b[39;00m\n",
      "\u001b[0;31mConnectionRefusedError\u001b[0m: [Errno 111] Connection refused"
     ]
    }
   ],
   "source": [
    "dataFrame.orderBy(['user_id'], ascending = [True]).show()"
   ]
  },
  {
   "cell_type": "markdown",
   "metadata": {},
   "source": [
    "<div style=\"color:#b0e0e6\">\n",
    "Warum gibt's bei manchen Usern Dopplungen der selben Zeit in Kombo mit den selben Koordinaten und bei manchen nicht?\n",
    "Deutet das auf Moderatoren hin?\n",
    "Evtl. müsste man den Datensatz selbst im Original nochmal anschauen.\n",
    "\n",
    "Was ich mich auch frage ist, ob die Aufspaltung in x und y Koordinaten so korrekt ist,\n",
    "da Moderatoren x1,x2,y1,y2 Angaben in der Spalte haben und nicht x,y....\n",
    "Also ob die Anpassung des Datensatzes, wie Sebastian es vorbereitet hat, so passend ist mit den Moderatoren?\n",
    "</div>"
   ]
  }
 ],
 "metadata": {
  "interpreter": {
   "hash": "949777d72b0d2535278d3dc13498b2535136f6dfe0678499012e853ee9abcab1"
  },
  "kernelspec": {
   "display_name": "Python 3.9.2 64-bit",
   "language": "python",
   "name": "python3"
  },
  "language_info": {
   "codemirror_mode": {
    "name": "ipython",
    "version": 3
   },
   "file_extension": ".py",
   "mimetype": "text/x-python",
   "name": "python",
   "nbconvert_exporter": "python",
   "pygments_lexer": "ipython3",
   "version": "3.9.2"
  },
  "orig_nbformat": 4
 },
 "nbformat": 4,
 "nbformat_minor": 2
}
