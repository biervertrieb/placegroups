{
 "cells": [
  {
   "cell_type": "code",
   "execution_count": 2,
   "metadata": {},
   "outputs": [
    {
     "name": "stdout",
     "output_type": "stream",
     "text": [
      "providing ../data/raw/2022_place_canvas_history-000000000050.csv ...\n",
      "../data/raw/2022_place_canvas_history-000000000050.csv is already in data/raw\n",
      ":: loading settings :: url = jar:file:/usr/local/lib/python3.9/site-packages/pyspark/jars/ivy-2.5.0.jar!/org/apache/ivy/core/settings/ivysettings.xml\n"
     ]
    },
    {
     "name": "stderr",
     "output_type": "stream",
     "text": [
      "Ivy Default Cache set to: /home/vscode/.ivy2/cache\n",
      "The jars for the packages stored in: /home/vscode/.ivy2/jars\n",
      "graphframes#graphframes added as a dependency\n",
      ":: resolving dependencies :: org.apache.spark#spark-submit-parent-0fb09a32-b101-4b4b-9d52-dba7cea45f82;1.0\n",
      "\tconfs: [default]\n",
      "\tfound graphframes#graphframes;0.8.2-spark3.2-s_2.12 in spark-packages\n",
      "\tfound org.slf4j#slf4j-api;1.7.16 in central\n",
      ":: resolution report :: resolve 75ms :: artifacts dl 4ms\n",
      "\t:: modules in use:\n",
      "\tgraphframes#graphframes;0.8.2-spark3.2-s_2.12 from spark-packages in [default]\n",
      "\torg.slf4j#slf4j-api;1.7.16 from central in [default]\n",
      "\t---------------------------------------------------------------------\n",
      "\t|                  |            modules            ||   artifacts   |\n",
      "\t|       conf       | number| search|dwnlded|evicted|| number|dwnlded|\n",
      "\t---------------------------------------------------------------------\n",
      "\t|      default     |   2   |   0   |   0   |   0   ||   2   |   0   |\n",
      "\t---------------------------------------------------------------------\n",
      ":: retrieving :: org.apache.spark#spark-submit-parent-0fb09a32-b101-4b4b-9d52-dba7cea45f82\n",
      "\tconfs: [default]\n",
      "\t0 artifacts copied, 2 already retrieved (0kB/2ms)\n",
      "22/06/05 14:59:39 WARN NativeCodeLoader: Unable to load native-hadoop library for your platform... using builtin-java classes where applicable\n",
      "Using Spark's default log4j profile: org/apache/spark/log4j-defaults.properties\n",
      "Setting default log level to \"WARN\".\n",
      "To adjust logging level use sc.setLogLevel(newLevel). For SparkR, use setLogLevel(newLevel).\n",
      "22/06/05 14:59:40 WARN Utils: Service 'SparkUI' could not bind on port 4040. Attempting port 4041.\n",
      "                                                                                \r"
     ]
    },
    {
     "name": "stdout",
     "output_type": "stream",
     "text": [
      "root\n",
      " |-- user_id: string (nullable = true)\n",
      " |-- x: integer (nullable = true)\n",
      " |-- y: integer (nullable = true)\n",
      " |-- t: long (nullable = true)\n",
      " |-- pixel_color: string (nullable = true)\n",
      "\n"
     ]
    }
   ],
   "source": [
    "from src.data.dataset_functions import get_dataframe\n",
    "\n",
    "dataFrame = get_dataframe(True)\n",
    "dataFrame.printSchema()"
   ]
  },
  {
   "cell_type": "markdown",
   "metadata": {},
   "source": [
    "<div style=\"color:lightgreen\">\n",
    "Eine zweite zu betrachtende Situation ist, dass Moderatoren auch mehrere Pixel auf einmal ändern können.\n",
    "\n",
    "```\n",
    "SELECT user_id, COUNT(x) --es reicht aus die x Koordinate zu zählen\n",
    "FROM dataFrame\n",
    "WHERE --Wie könnte die Where-Clause angegeben werden, dass nur ein bestimmter Zeitpunkt betrachtet wird?\n",
    "HAVING COUNT(x) > 1\n",
    "GROUP BY user_id;\n",
    "```\n",
    "\n",
    "\n",
    "Vorschlag Sebastian:\n",
    "<div style=\"color:lightblue\">(Sebastian): Gruppieren nach t-Spalte und dann gucken wo count(t) > 1 ?</div>\n",
    "</div>"
   ]
  },
  {
   "cell_type": "markdown",
   "metadata": {},
   "source": [
    "<div style=\"color:lightgreen\">\n",
    "\n",
    "Mein Vorschlag:\n",
    "\n",
    "Ist es nicht besser direkt nach Nutzer und Zeit zu gruppieren? Dann hat man für jeden Nutzer direkt angezeigt, wie oft zu einem Zeitpunkt Pixel platziert wurden?\n",
    "Dann wäre auch die Bereinigung der Daten effektiver als oben.\n",
    "\n",
    "Hier der Versuch:\n",
    "</div>"
   ]
  },
  {
   "cell_type": "code",
   "execution_count": 3,
   "metadata": {},
   "outputs": [
    {
     "name": "stdout",
     "output_type": "stream",
     "text": [
      "root\n",
      " |-- user_id: string (nullable = true)\n",
      " |-- t: long (nullable = true)\n",
      " |-- count: long (nullable = false)\n",
      " |-- collect_list(x): array (nullable = false)\n",
      " |    |-- element: integer (containsNull = false)\n",
      " |-- collect_list(y): array (nullable = false)\n",
      " |    |-- element: integer (containsNull = false)\n",
      " |-- collect_list(pixel_color): array (nullable = false)\n",
      " |    |-- element: string (containsNull = false)\n",
      "\n"
     ]
    }
   ],
   "source": [
    "from src.features.feature_functions import group_dataframe_by_time_and_user\n",
    "\n",
    "timeUserGrouped = group_dataframe_by_time_and_user(dataFrame)\n",
    "#timeUserGrouped = group_dataframe_by_columns(dataFrame, ['t', 'user_id'])\n",
    "timeUserGrouped.printSchema()"
   ]
  },
  {
   "cell_type": "code",
   "execution_count": 4,
   "metadata": {},
   "outputs": [
    {
     "name": "stderr",
     "output_type": "stream",
     "text": [
      "[Stage 4:=================================>                         (4 + 3) / 7]\r"
     ]
    },
    {
     "name": "stdout",
     "output_type": "stream",
     "text": [
      "+--------------------+----+----------+--------------------+--------------------+-------------------------+\n",
      "|             user_id|   t|time_count|     collect_list(x)|     collect_list(y)|collect_list(pixel_color)|\n",
      "+--------------------+----+----------+--------------------+--------------------+-------------------------+\n",
      "|X8gpDfO6+Z87SKKTy...|2974|         8|[1685, 904, 932, ...|[228, 1865, 1850,...|     [#FFD635, #000000...|\n",
      "|AxBTmhBMbr1sbDw/2...|2344|         6|[1403, 777, 1741,...|[2, 8, 10, 2, 8, 10]|     [#FFA800, #FFA800...|\n",
      "|DIECtVqoJqBlL6A0C...|1200|         6|[932, 920, 933, 9...|[1757, 1832, 1838...|     [#FFFFFF, #BE0039...|\n",
      "|AxBTmhBMbr1sbDw/2...|1726|         6|[655, 612, 1575, ...|[1896, 1917, 7, 1...|     [#B44AC0, #E4ABFF...|\n",
      "|LIVvK+L7Y5WOXCwhH...|2983|         4|[542, 886, 542, 886]|[1942, 10, 1942, 10]|     [#000000, #FFA800...|\n",
      "|MsdvGyv1KSfWjE8OI...|1444|         4|[957, 954, 957, 954]|[1844, 1844, 1844...|     [#FFA800, #FFA800...|\n",
      "|x1FP8fj5v0RvrYdDE...| 436|         4|    [22, 22, 22, 22]|[629, 629, 629, 629]|     [#51E9F4, #51E9F4...|\n",
      "|slIR+v2EkYcEW/5dM...|2790|         4|[1459, 1459, 1459...|[1748, 1748, 1748...|     [#00A368, #00A368...|\n",
      "|FjHp8Fg+uuheibUWk...|1860|         4|[998, 998, 998, 998]|[1466, 1466, 1466...|     [#000000, #000000...|\n",
      "|1Vf7BYDE+PHunSWrr...| 436|         4|[447, 447, 447, 447]|[1268, 1268, 1268...|     [#000000, #000000...|\n",
      "|uekG383QBM2sRK0En...|2791|         4|[144, 144, 144, 144]|[1796, 1796, 1796...|     [#000000, #000000...|\n",
      "|AxBTmhBMbr1sbDw/2...|3577|         4|[584, 1765, 584, ...|      [26, 8, 26, 8]|     [#000000, #FFA800...|\n",
      "|Mxt5mHrNXt8bSujY3...|1144|         4|[1533, 1551, 1533...|[1884, 1881, 1884...|     [#FFFFFF, #000000...|\n",
      "|zr4zPH9hAud2ggres...|2096|         4|[1341, 1341, 1341...|[570, 570, 570, 570]|     [#000000, #000000...|\n",
      "|VcHUE/HttS4Zm0734...|1903|         4|[1537, 1537, 1537...|[1844, 1844, 1844...|     [#000000, #000000...|\n",
      "|AxBTmhBMbr1sbDw/2...|2961|         4|[788, 656, 788, 656]|[11, 1884, 11, 1884]|     [#000000, #E4ABFF...|\n",
      "|fpKrh6ow1NI4uuWHw...| 984|         4|    [40, 40, 40, 40]|[1646, 1646, 1646...|     [#FFFFFF, #FFFFFF...|\n",
      "|mXocH/Hqd79QOGHv4...| 984|         4|    [22, 22, 22, 22]|[1988, 1988, 1988...|     [#FFD635, #FFD635...|\n",
      "|tc273UiqS0wKa6Vwi...| 663|         4|[914, 916, 914, 916]|[1868, 1760, 1868...|     [#51E9F4, #3690EA...|\n",
      "|SXF5Vf5UlWU1UW/0F...|1929|         4|[921, 959, 921, 959]|[1857, 1844, 1857...|     [#FFFFFF, #FFA800...|\n",
      "+--------------------+----+----------+--------------------+--------------------+-------------------------+\n",
      "only showing top 20 rows\n",
      "\n"
     ]
    },
    {
     "name": "stderr",
     "output_type": "stream",
     "text": [
      "                                                                                \r"
     ]
    }
   ],
   "source": [
    "timeUserGrouped = timeUserGrouped.withColumnRenamed('count','time_count')\n",
    "\n",
    "timeUserGrouped = timeUserGrouped.filter(timeUserGrouped.time_count > 1)\n",
    "timeUserGrouped.show()"
   ]
  },
  {
   "cell_type": "code",
   "execution_count": 5,
   "metadata": {},
   "outputs": [
    {
     "name": "stderr",
     "output_type": "stream",
     "text": [
      "                                                                                \r"
     ]
    },
    {
     "name": "stdout",
     "output_type": "stream",
     "text": [
      "Anzahl der herkömmlichen Zeilen: 733458\n"
     ]
    },
    {
     "name": "stderr",
     "output_type": "stream",
     "text": [
      "22/06/05 15:00:24 WARN RowBasedKeyValueBatch: Calling spill() on RowBasedKeyValueBatch. Will not spill but return 0.\n",
      "22/06/05 15:00:24 WARN RowBasedKeyValueBatch: Calling spill() on RowBasedKeyValueBatch. Will not spill but return 0.\n",
      "22/06/05 15:00:24 WARN RowBasedKeyValueBatch: Calling spill() on RowBasedKeyValueBatch. Will not spill but return 0.\n",
      "22/06/05 15:00:24 WARN RowBasedKeyValueBatch: Calling spill() on RowBasedKeyValueBatch. Will not spill but return 0.\n",
      "22/06/05 15:00:24 WARN RowBasedKeyValueBatch: Calling spill() on RowBasedKeyValueBatch. Will not spill but return 0.\n",
      "22/06/05 15:00:24 WARN RowBasedKeyValueBatch: Calling spill() on RowBasedKeyValueBatch. Will not spill but return 0.\n",
      "22/06/05 15:00:24 WARN RowBasedKeyValueBatch: Calling spill() on RowBasedKeyValueBatch. Will not spill but return 0.\n",
      "22/06/05 15:00:24 WARN RowBasedKeyValueBatch: Calling spill() on RowBasedKeyValueBatch. Will not spill but return 0.\n",
      "22/06/05 15:00:24 WARN RowBasedKeyValueBatch: Calling spill() on RowBasedKeyValueBatch. Will not spill but return 0.\n",
      "[Stage 13:================================================>         (5 + 1) / 6]\r"
     ]
    },
    {
     "name": "stdout",
     "output_type": "stream",
     "text": [
      "Anzahl der angeblichen Moderatoren: 733458\n"
     ]
    },
    {
     "name": "stderr",
     "output_type": "stream",
     "text": [
      "                                                                                \r"
     ]
    }
   ],
   "source": [
    "row = dataFrame.select('user_id').distinct().count()\n",
    "print(f'Anzahl der herkömmlichen Zeilen: {row}')\n",
    "\n",
    "row_sel = timeUserGrouped.select('user_id').distinct().count()\n",
    "print(f'Anzahl der angeblichen Moderatoren: {row_sel}')"
   ]
  }
 ],
 "metadata": {
  "interpreter": {
   "hash": "949777d72b0d2535278d3dc13498b2535136f6dfe0678499012e853ee9abcab1"
  },
  "kernelspec": {
   "display_name": "Python 3.9.2 64-bit",
   "language": "python",
   "name": "python3"
  },
  "language_info": {
   "codemirror_mode": {
    "name": "ipython",
    "version": 3
   },
   "file_extension": ".py",
   "mimetype": "text/x-python",
   "name": "python",
   "nbconvert_exporter": "python",
   "pygments_lexer": "ipython3",
   "version": "3.9.2"
  },
  "orig_nbformat": 4
 },
 "nbformat": 4,
 "nbformat_minor": 2
}
