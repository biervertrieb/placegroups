{
 "cells": [
  {
   "cell_type": "code",
   "execution_count": 1,
   "metadata": {},
   "outputs": [
    {
     "name": "stdout",
     "output_type": "stream",
     "text": [
      "providing ../data/raw/2022_place_canvas_history-000000000050.csv ...\n",
      "../data/raw/2022_place_canvas_history-000000000050.csv is already in data/raw\n",
      ":: loading settings :: url = jar:file:/usr/local/lib/python3.9/site-packages/pyspark/jars/ivy-2.5.0.jar!/org/apache/ivy/core/settings/ivysettings.xml\n"
     ]
    },
    {
     "name": "stderr",
     "output_type": "stream",
     "text": [
      "Ivy Default Cache set to: /home/vscode/.ivy2/cache\n",
      "The jars for the packages stored in: /home/vscode/.ivy2/jars\n",
      "graphframes#graphframes added as a dependency\n",
      ":: resolving dependencies :: org.apache.spark#spark-submit-parent-f4981333-df23-4bce-ab4b-fa7833816298;1.0\n",
      "\tconfs: [default]\n",
      "\tfound graphframes#graphframes;0.8.2-spark3.2-s_2.12 in spark-packages\n",
      "\tfound org.slf4j#slf4j-api;1.7.16 in central\n",
      ":: resolution report :: resolve 68ms :: artifacts dl 3ms\n",
      "\t:: modules in use:\n",
      "\tgraphframes#graphframes;0.8.2-spark3.2-s_2.12 from spark-packages in [default]\n",
      "\torg.slf4j#slf4j-api;1.7.16 from central in [default]\n",
      "\t---------------------------------------------------------------------\n",
      "\t|                  |            modules            ||   artifacts   |\n",
      "\t|       conf       | number| search|dwnlded|evicted|| number|dwnlded|\n",
      "\t---------------------------------------------------------------------\n",
      "\t|      default     |   2   |   0   |   0   |   0   ||   2   |   0   |\n",
      "\t---------------------------------------------------------------------\n",
      ":: retrieving :: org.apache.spark#spark-submit-parent-f4981333-df23-4bce-ab4b-fa7833816298\n",
      "\tconfs: [default]\n",
      "\t0 artifacts copied, 2 already retrieved (0kB/3ms)\n",
      "22/06/05 15:41:48 WARN NativeCodeLoader: Unable to load native-hadoop library for your platform... using builtin-java classes where applicable\n",
      "Using Spark's default log4j profile: org/apache/spark/log4j-defaults.properties\n",
      "Setting default log level to \"WARN\".\n",
      "To adjust logging level use sc.setLogLevel(newLevel). For SparkR, use setLogLevel(newLevel).\n",
      "                                                                                \r"
     ]
    },
    {
     "name": "stdout",
     "output_type": "stream",
     "text": [
      "root\n",
      " |-- user_id: string (nullable = true)\n",
      " |-- x: integer (nullable = true)\n",
      " |-- y: integer (nullable = true)\n",
      " |-- t: long (nullable = true)\n",
      " |-- pixel_color: string (nullable = true)\n",
      "\n"
     ]
    }
   ],
   "source": [
    "from src.data.dataset_functions import get_dataframe\n",
    "\n",
    "dataFrame = get_dataframe(True)\n",
    "dataFrame.printSchema()"
   ]
  },
  {
   "cell_type": "markdown",
   "metadata": {},
   "source": [
    "<div style=\"color:lightgreen\">\n",
    "Eine zweite zu betrachtende Situation ist, dass Moderatoren auch mehrere Pixel auf einmal ändern können.\n",
    "\n",
    "```\n",
    "SELECT user_id, COUNT(x) --es reicht aus die x Koordinate zu zählen\n",
    "FROM dataFrame\n",
    "WHERE --Wie könnte die Where-Clause angegeben werden, dass nur ein bestimmter Zeitpunkt betrachtet wird?\n",
    "HAVING COUNT(x) > 1\n",
    "GROUP BY user_id;\n",
    "```\n",
    "\n",
    "\n",
    "Vorschlag Sebastian:\n",
    "<div style=\"color:lightblue\">(Sebastian): Gruppieren nach t-Spalte und dann gucken wo count(t) > 1 ?</div>\n",
    "</div>"
   ]
  },
  {
   "cell_type": "markdown",
   "metadata": {},
   "source": [
    "<div style=\"color:lightgreen\">\n",
    "\n",
    "Mein Vorschlag:\n",
    "\n",
    "Ist es nicht besser direkt nach Nutzer und Zeit zu gruppieren? Dann hat man für jeden Nutzer direkt angezeigt, wie oft zu einem Zeitpunkt Pixel platziert wurden?\n",
    "Dann wäre auch die Bereinigung der Daten effektiver als oben.\n",
    "\n",
    "Hier der Versuch:\n",
    "</div>"
   ]
  },
  {
   "cell_type": "code",
   "execution_count": 2,
   "metadata": {},
   "outputs": [
    {
     "name": "stdout",
     "output_type": "stream",
     "text": [
      "root\n",
      " |-- user_id: string (nullable = true)\n",
      " |-- t: long (nullable = true)\n",
      " |-- count: long (nullable = false)\n",
      " |-- collect_list(x): array (nullable = false)\n",
      " |    |-- element: integer (containsNull = false)\n",
      " |-- collect_list(y): array (nullable = false)\n",
      " |    |-- element: integer (containsNull = false)\n",
      " |-- collect_list(pixel_color): array (nullable = false)\n",
      " |    |-- element: string (containsNull = false)\n",
      "\n"
     ]
    }
   ],
   "source": [
    "from src.features.feature_functions import group_dataframe_by_time_and_user\n",
    "import pyspark.sql.functions as F\n",
    "\n",
    "timeUserGrouped = group_dataframe_by_time_and_user(dataFrame)\n",
    "#timeUserGrouped = group_dataframe_by_columns(dataFrame, ['t', 'user_id'])\n",
    "timeUserGrouped.printSchema()"
   ]
  },
  {
   "cell_type": "code",
   "execution_count": 3,
   "metadata": {},
   "outputs": [
    {
     "name": "stderr",
     "output_type": "stream",
     "text": [
      "[Stage 4:=================================>                         (4 + 3) / 7]\r"
     ]
    },
    {
     "name": "stdout",
     "output_type": "stream",
     "text": [
      "+--------------------+----+----------+--------------------+--------------------+-------------------------+\n",
      "|             user_id|   t|time_count|     collect_list(x)|     collect_list(y)|collect_list(pixel_color)|\n",
      "+--------------------+----+----------+--------------------+--------------------+-------------------------+\n",
      "|X8gpDfO6+Z87SKKTy...|2974|         8|[1685, 904, 932, ...|[228, 1865, 1850,...|     [#FFD635, #000000...|\n",
      "|AxBTmhBMbr1sbDw/2...|2344|         6|[1403, 777, 1741,...|[2, 8, 10, 2, 8, 10]|     [#FFA800, #FFA800...|\n",
      "|DIECtVqoJqBlL6A0C...|1200|         6|[932, 920, 933, 9...|[1757, 1832, 1838...|     [#FFFFFF, #BE0039...|\n",
      "|AxBTmhBMbr1sbDw/2...|1726|         6|[655, 612, 1575, ...|[1896, 1917, 7, 1...|     [#B44AC0, #E4ABFF...|\n",
      "|AxBTmhBMbr1sbDw/2...| 801|         4|[1287, 1926, 1287...|      [8, 19, 8, 19]|     [#3690EA, #BE0039...|\n",
      "|FjHp8Fg+uuheibUWk...|1860|         4|[998, 998, 998, 998]|[1466, 1466, 1466...|     [#000000, #000000...|\n",
      "|AxBTmhBMbr1sbDw/2...|3577|         4|[584, 1765, 584, ...|      [26, 8, 26, 8]|     [#000000, #FFA800...|\n",
      "|T74DMBdoBp6v8y1/z...| 435|         4|[321, 321, 321, 321]|[1922, 1922, 1922...|     [#7EED56, #7EED56...|\n",
      "|xw+BT8X4gip2hBtcg...| 888|         4|  [105, 92, 105, 92]|[139, 133, 139, 133]|     [#BE0039, #BE0039...|\n",
      "|LIVvK+L7Y5WOXCwhH...|2983|         4|[542, 886, 542, 886]|[1942, 10, 1942, 10]|     [#000000, #FFA800...|\n",
      "|Mxt5mHrNXt8bSujY3...|1144|         4|[1533, 1551, 1533...|[1884, 1881, 1884...|     [#FFFFFF, #000000...|\n",
      "|FjHp8Fg+uuheibUWk...|2220|         4|[998, 998, 998, 998]|[1466, 1466, 1466...|     [#FFFFFF, #FFFFFF...|\n",
      "|8GviOLIfRTg2/rkNm...|2039|         4|[911, 1758, 911, ...|[101, 900, 101, 900]|     [#D4D7D9, #000000...|\n",
      "|iQO6fb4EQCTEuwPUQ...| 566|         4|[614, 659, 614, 659]|[532, 530, 532, 530]|     [#3690EA, #FFFFFF...|\n",
      "|mXocH/Hqd79QOGHv4...| 984|         4|    [22, 22, 22, 22]|[1988, 1988, 1988...|     [#FFD635, #FFD635...|\n",
      "|uekG383QBM2sRK0En...|2791|         4|[144, 144, 144, 144]|[1796, 1796, 1796...|     [#000000, #000000...|\n",
      "|x1FP8fj5v0RvrYdDE...| 436|         4|    [22, 22, 22, 22]|[629, 629, 629, 629]|     [#51E9F4, #51E9F4...|\n",
      "|zr4zPH9hAud2ggres...|1492|         4|[1339, 1339, 1339...|[570, 570, 570, 570]|     [#000000, #000000...|\n",
      "|VmiTfdqG3P1MlZokx...|  44|         4|[1631, 935, 1631,...|[220, 1847, 220, ...|     [#FFD635, #51E9F4...|\n",
      "|5zx6jQdv38K+gQhet...|1299|         4|[1710, 1694, 1710...|[1105, 1102, 1105...|     [#BE0039, #BE0039...|\n",
      "+--------------------+----+----------+--------------------+--------------------+-------------------------+\n",
      "only showing top 20 rows\n",
      "\n"
     ]
    },
    {
     "name": "stderr",
     "output_type": "stream",
     "text": [
      "                                                                                \r"
     ]
    }
   ],
   "source": [
    "timeUserGrouped = timeUserGrouped.withColumnRenamed('count','time_count')\n",
    "\n",
    "timeUserGrouped = timeUserGrouped.filter(timeUserGrouped.time_count > 1)\n",
    "timeUserGrouped.show()"
   ]
  },
  {
   "cell_type": "code",
   "execution_count": 8,
   "metadata": {},
   "outputs": [
    {
     "name": "stderr",
     "output_type": "stream",
     "text": [
      "22/06/05 15:58:58 WARN RowBasedKeyValueBatch: Calling spill() on RowBasedKeyValueBatch. Will not spill but return 0.\n",
      "22/06/05 15:58:58 WARN RowBasedKeyValueBatch: Calling spill() on RowBasedKeyValueBatch. Will not spill but return 0.\n",
      "22/06/05 15:58:58 WARN RowBasedKeyValueBatch: Calling spill() on RowBasedKeyValueBatch. Will not spill but return 0.\n",
      "22/06/05 15:58:58 WARN RowBasedKeyValueBatch: Calling spill() on RowBasedKeyValueBatch. Will not spill but return 0.\n",
      "22/06/05 15:58:58 WARN RowBasedKeyValueBatch: Calling spill() on RowBasedKeyValueBatch. Will not spill but return 0.\n",
      "22/06/05 15:58:58 WARN RowBasedKeyValueBatch: Calling spill() on RowBasedKeyValueBatch. Will not spill but return 0.\n",
      "22/06/05 15:58:58 WARN RowBasedKeyValueBatch: Calling spill() on RowBasedKeyValueBatch. Will not spill but return 0.\n",
      "22/06/05 15:58:59 WARN RowBasedKeyValueBatch: Calling spill() on RowBasedKeyValueBatch. Will not spill but return 0.\n",
      "[Stage 17:==============>                                           (1 + 3) / 4]\r"
     ]
    },
    {
     "name": "stdout",
     "output_type": "stream",
     "text": [
      "[Row(user_id='X8gpDfO6+Z87SKKTyoQs5vE6vbsjplXI78sASTOPf6gIXkgbdWk5zlu6O/qzkS8rLNvDsnvZo4g+TV0AeMDnmQ=='), Row(user_id='DIECtVqoJqBlL6A0CMGRw6TfCIlTowT+hQoDyEz3S91RmjngeAKnaUmssE670zOhwyktblGM5JkKDyXk45Rdpg==')]\n",
      "Row(user_id='DIECtVqoJqBlL6A0CMGRw6TfCIlTowT+hQoDyEz3S91RmjngeAKnaUmssE670zOhwyktblGM5JkKDyXk45Rdpg==')\n",
      "()\n"
     ]
    },
    {
     "name": "stderr",
     "output_type": "stream",
     "text": [
      "                                                                                \r"
     ]
    }
   ],
   "source": [
    "holder = timeUserGrouped.drop('collect_list(x)').drop('collect_list(y)').drop('t').drop('time_count').drop('collect_list(pixel_color)')\n",
    "\n",
    "user = holder.take(2)\n",
    "print(user)\n",
    "a = user[1]\n",
    "print(a)\n",
    "b = a[9:]\n",
    "print(b)"
   ]
  },
  {
   "cell_type": "markdown",
   "metadata": {},
   "source": [
    "<div style=\"color:lightgreen\">\n",
    "Mein Ziel damit war es, den Substring 'user_id=' aus dem Ergebnisstring zu entfernen und die Zeichen '\n",
    "\n",
    "Damit ich das Ergebnis unten kontrollieren kann.\n",
    "Hat aber nicht geklappt...\n",
    "</div>"
   ]
  },
  {
   "cell_type": "code",
   "execution_count": 9,
   "metadata": {},
   "outputs": [
    {
     "name": "stderr",
     "output_type": "stream",
     "text": [
      "22/06/05 15:37:06 WARN RowBasedKeyValueBatch: Calling spill() on RowBasedKeyValueBatch. Will not spill but return 0.\n",
      "22/06/05 15:37:06 WARN RowBasedKeyValueBatch: Calling spill() on RowBasedKeyValueBatch. Will not spill but return 0.\n",
      "22/06/05 15:37:06 WARN RowBasedKeyValueBatch: Calling spill() on RowBasedKeyValueBatch. Will not spill but return 0.\n",
      "22/06/05 15:37:06 WARN RowBasedKeyValueBatch: Calling spill() on RowBasedKeyValueBatch. Will not spill but return 0.\n",
      "22/06/05 15:37:06 WARN RowBasedKeyValueBatch: Calling spill() on RowBasedKeyValueBatch. Will not spill but return 0.\n",
      "22/06/05 15:37:06 WARN RowBasedKeyValueBatch: Calling spill() on RowBasedKeyValueBatch. Will not spill but return 0.\n",
      "22/06/05 15:37:06 WARN RowBasedKeyValueBatch: Calling spill() on RowBasedKeyValueBatch. Will not spill but return 0.\n",
      "22/06/05 15:37:06 WARN RowBasedKeyValueBatch: Calling spill() on RowBasedKeyValueBatch. Will not spill but return 0.\n",
      "[Stage 11:==============>                                           (1 + 3) / 4]\r"
     ]
    },
    {
     "name": "stdout",
     "output_type": "stream",
     "text": [
      "+--------------------+\n",
      "|             user_id|\n",
      "+--------------------+\n",
      "|X8gpDfO6+Z87SKKTy...|\n",
      "|DIECtVqoJqBlL6A0C...|\n",
      "+--------------------+\n",
      "only showing top 2 rows\n",
      "\n",
      "None\n"
     ]
    },
    {
     "name": "stderr",
     "output_type": "stream",
     "text": [
      "                                                                                \r"
     ]
    },
    {
     "ename": "TypeError",
     "evalue": "'NoneType' object is not subscriptable",
     "output_type": "error",
     "traceback": [
      "\u001b[0;31m---------------------------------------------------------------------------\u001b[0m",
      "\u001b[0;31mTypeError\u001b[0m                                 Traceback (most recent call last)",
      "\u001b[1;32m/workspaces/placegroups/notebooks/0.1-derr-statistiken-moderaotren2.ipynb Cell 6'\u001b[0m in \u001b[0;36m<cell line: 3>\u001b[0;34m()\u001b[0m\n\u001b[1;32m      <a href='vscode-notebook-cell://dev-container%2B2f55736572732f6e69636f6c65646572722f446f63756d656e74732f4769744875622f706c61636567726f757073/workspaces/placegroups/notebooks/0.1-derr-statistiken-moderaotren2.ipynb#ch0000005vscode-remote?line=0'>1</a>\u001b[0m user \u001b[39m=\u001b[39m timeUserGrouped\u001b[39m.\u001b[39mselect(\u001b[39m'\u001b[39m\u001b[39muser_id\u001b[39m\u001b[39m'\u001b[39m)\u001b[39m.\u001b[39mshow(\u001b[39m2\u001b[39m)\n\u001b[1;32m      <a href='vscode-notebook-cell://dev-container%2B2f55736572732f6e69636f6c65646572722f446f63756d656e74732f4769744875622f706c61636567726f757073/workspaces/placegroups/notebooks/0.1-derr-statistiken-moderaotren2.ipynb#ch0000005vscode-remote?line=1'>2</a>\u001b[0m \u001b[39mprint\u001b[39m(\u001b[39mf\u001b[39m\u001b[39m'\u001b[39m\u001b[39m{\u001b[39;00muser\u001b[39m}\u001b[39;00m\u001b[39m'\u001b[39m)\n\u001b[0;32m----> <a href='vscode-notebook-cell://dev-container%2B2f55736572732f6e69636f6c65646572722f446f63756d656e74732f4769744875622f706c61636567726f757073/workspaces/placegroups/notebooks/0.1-derr-statistiken-moderaotren2.ipynb#ch0000005vscode-remote?line=2'>3</a>\u001b[0m a \u001b[39m=\u001b[39m user[\u001b[39m1\u001b[39;49m]\n",
      "\u001b[0;31mTypeError\u001b[0m: 'NoneType' object is not subscriptable"
     ]
    }
   ],
   "source": [
    "\n",
    "#user = timeUserGrouped.select('user_id').show(2)\n",
    "#print(f'{user}')\n",
    "#a = user[1]\n",
    "#timeUserGrouped.where('user_id = a').show()"
   ]
  },
  {
   "cell_type": "code",
   "execution_count": 8,
   "metadata": {},
   "outputs": [
    {
     "ename": "TypeError",
     "evalue": "count() takes 1 positional argument but 2 were given",
     "output_type": "error",
     "traceback": [
      "\u001b[0;31m---------------------------------------------------------------------------\u001b[0m",
      "\u001b[0;31mTypeError\u001b[0m                                 Traceback (most recent call last)",
      "\u001b[1;32m/workspaces/placegroups/notebooks/0.1-derr-statistiken-moderaotren2.ipynb Cell 6'\u001b[0m in \u001b[0;36m<cell line: 1>\u001b[0;34m()\u001b[0m\n\u001b[0;32m----> <a href='vscode-notebook-cell://dev-container%2B2f55736572732f6e69636f6c65646572722f446f63756d656e74732f4769744875622f706c61636567726f757073/workspaces/placegroups/notebooks/0.1-derr-statistiken-moderaotren2.ipynb#ch0000007vscode-remote?line=0'>1</a>\u001b[0m row \u001b[39m=\u001b[39m dataFrame\u001b[39m.\u001b[39;49mcount(F\u001b[39m.\u001b[39;49mcol(\u001b[39m'\u001b[39;49m\u001b[39muser_id\u001b[39;49m\u001b[39m'\u001b[39;49m))\n\u001b[1;32m      <a href='vscode-notebook-cell://dev-container%2B2f55736572732f6e69636f6c65646572722f446f63756d656e74732f4769744875622f706c61636567726f757073/workspaces/placegroups/notebooks/0.1-derr-statistiken-moderaotren2.ipynb#ch0000007vscode-remote?line=1'>2</a>\u001b[0m \u001b[39mprint\u001b[39m(\u001b[39mf\u001b[39m\u001b[39m'\u001b[39m\u001b[39mAnzahl der herkömmlichen Zeilen: \u001b[39m\u001b[39m{\u001b[39;00mrow\u001b[39m}\u001b[39;00m\u001b[39m'\u001b[39m)\n\u001b[1;32m      <a href='vscode-notebook-cell://dev-container%2B2f55736572732f6e69636f6c65646572722f446f63756d656e74732f4769744875622f706c61636567726f757073/workspaces/placegroups/notebooks/0.1-derr-statistiken-moderaotren2.ipynb#ch0000007vscode-remote?line=3'>4</a>\u001b[0m row_sel \u001b[39m=\u001b[39m timeUserGrouped\u001b[39m.\u001b[39mcount(F\u001b[39m.\u001b[39mcol(\u001b[39m'\u001b[39m\u001b[39muser_id\u001b[39m\u001b[39m'\u001b[39m))\n",
      "\u001b[0;31mTypeError\u001b[0m: count() takes 1 positional argument but 2 were given"
     ]
    }
   ],
   "source": [
    "row = dataFrame.count(F.col('user_id'))\n",
    "print(f'Anzahl der herkömmlichen Zeilen: {row}')\n",
    "\n",
    "row_sel = timeUserGrouped.count(F.col('user_id'))\n",
    "print(f'Anzahl der angeblichen Moderatoren: {row_sel}')"
   ]
  }
 ],
 "metadata": {
  "interpreter": {
   "hash": "949777d72b0d2535278d3dc13498b2535136f6dfe0678499012e853ee9abcab1"
  },
  "kernelspec": {
   "display_name": "Python 3.9.2 64-bit",
   "language": "python",
   "name": "python3"
  },
  "language_info": {
   "codemirror_mode": {
    "name": "ipython",
    "version": 3
   },
   "file_extension": ".py",
   "mimetype": "text/x-python",
   "name": "python",
   "nbconvert_exporter": "python",
   "pygments_lexer": "ipython3",
   "version": "3.9.2"
  },
  "orig_nbformat": 4
 },
 "nbformat": 4,
 "nbformat_minor": 2
}
