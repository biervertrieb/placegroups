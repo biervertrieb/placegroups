{
 "cells": [
  {
   "cell_type": "code",
   "execution_count": 1,
   "metadata": {},
   "outputs": [
    {
     "name": "stdout",
     "output_type": "stream",
     "text": [
      "providing ../data/raw/2022_place_canvas_history-000000000004.csv ...\n",
      "../data/raw/2022_place_canvas_history-000000000004.csv is already in data/raw\n",
      ":: loading settings :: url = jar:file:/usr/local/lib/python3.9/site-packages/pyspark/jars/ivy-2.5.0.jar!/org/apache/ivy/core/settings/ivysettings.xml\n"
     ]
    },
    {
     "name": "stderr",
     "output_type": "stream",
     "text": [
      "Ivy Default Cache set to: /home/vscode/.ivy2/cache\n",
      "The jars for the packages stored in: /home/vscode/.ivy2/jars\n",
      "graphframes#graphframes added as a dependency\n",
      ":: resolving dependencies :: org.apache.spark#spark-submit-parent-13e9cb61-1c51-4ce3-972a-c5ac1f7f425f;1.0\n",
      "\tconfs: [default]\n",
      "\tfound graphframes#graphframes;0.8.2-spark3.2-s_2.12 in spark-packages\n",
      "\tfound org.slf4j#slf4j-api;1.7.16 in central\n",
      ":: resolution report :: resolve 69ms :: artifacts dl 3ms\n",
      "\t:: modules in use:\n",
      "\tgraphframes#graphframes;0.8.2-spark3.2-s_2.12 from spark-packages in [default]\n",
      "\torg.slf4j#slf4j-api;1.7.16 from central in [default]\n",
      "\t---------------------------------------------------------------------\n",
      "\t|                  |            modules            ||   artifacts   |\n",
      "\t|       conf       | number| search|dwnlded|evicted|| number|dwnlded|\n",
      "\t---------------------------------------------------------------------\n",
      "\t|      default     |   2   |   0   |   0   |   0   ||   2   |   0   |\n",
      "\t---------------------------------------------------------------------\n",
      ":: retrieving :: org.apache.spark#spark-submit-parent-13e9cb61-1c51-4ce3-972a-c5ac1f7f425f\n",
      "\tconfs: [default]\n",
      "\t0 artifacts copied, 2 already retrieved (0kB/2ms)\n",
      "22/06/27 09:24:49 WARN NativeCodeLoader: Unable to load native-hadoop library for your platform... using builtin-java classes where applicable\n",
      "Using Spark's default log4j profile: org/apache/spark/log4j-defaults.properties\n",
      "Setting default log level to \"WARN\".\n",
      "To adjust logging level use sc.setLogLevel(newLevel). For SparkR, use setLogLevel(newLevel).\n"
     ]
    }
   ],
   "source": [
    "from src.data.dataset_functions import get_dataframei_onlymods\n",
    "\n",
    "mod_dataframe = get_dataframei_onlymods(4) #Der Parameter steht für den Datensatz, der verwendet werden soll"
   ]
  },
  {
   "cell_type": "markdown",
   "metadata": {},
   "source": [
    "<div style=\"color:#246fd6\">\n",
    "Im folgenden sollen die Statistiken für Mods bestimmt werden:\n",
    "\n",
    "\n",
    "1) Wie oft mussten Mods zensieren im jeweiligen Datensatz?\n",
    "\n",
    "2) Wie viele Pixel wurden insgesamt von einem Mod im jeweiligen Datensatz zensiert?\n",
    "\n",
    "3) Werden Regionen deutlich, in denen Mods häufiger eingreifen mussten?\n",
    "\n",
    "    3.1) Wenn ja, welche Regionen und welchen Artworks ist das zugeordnet?\n",
    "\n",
    "    3.2) Zu bestimmen, welche Pixel mehr als einmal zensiert wurden, also min. 2-mal.\n",
    "\n",
    "    -> wird von diesem Ansatz her verworfen!!!\n",
    "\n",
    "    -> Es soll nun ein Canvas erstellt werden, in dem die Quadrate der Mods nachgezeichnet werden sollen in verschiedenen Farben,\n",
    "    um so evtl. Gebiete direkt optisch darstellen zu können.\n",
    "\n",
    "4) Evtl.: Wurden von Bots gesetzte Pixel zensiert?\n",
    "\n",
    "-> viel zu umfangreich & komplex, genauso wie das Nachzeichnen der von Mods zensierten Artworks,\n",
    "da dies viele Apsekte verücksichtigen muss, wie welche Pixel zuletzt vorher gesetzt wurden etc.\n",
    "\n",
    "</div>"
   ]
  },
  {
   "cell_type": "markdown",
   "metadata": {},
   "source": [
    "<div style=\"color:#246fd6\">\n",
    "Zur Beantwortung der ersten Frage:\n",
    "\n",
    "Mods sind im \"StandardDataFrame\" nicht enthalen, nur noch im spezifischen ModsDataFrame!\n",
    "\n",
    "Um die Frage zu beantworten muss gezählt werden, wie viele Einträge für Mods im jeweiligen Datensatz exitieren.\n",
    "D.h. auch Duplikate von User_IDs sind relevant, sodass einfach nur gezählt werden muss, wie viele Einträge insgesamt im ModsDataFrame existieren.\n",
    "\n",
    "Das wäre dann auch schon die Antwort darauf, wie oft Mods im jeweiligen Datensatz zensieren mussten.\n",
    "</div>"
   ]
  },
  {
   "cell_type": "code",
   "execution_count": 2,
   "metadata": {},
   "outputs": [
    {
     "name": "stderr",
     "output_type": "stream",
     "text": [
      "[Stage 1:>                                                          (0 + 4) / 4]\r"
     ]
    },
    {
     "name": "stdout",
     "output_type": "stream",
     "text": [
      "3\n"
     ]
    },
    {
     "name": "stderr",
     "output_type": "stream",
     "text": [
      "                                                                                \r"
     ]
    }
   ],
   "source": [
    "#Allgemein die Häufigkeit, wie oft in einem Datensatz zensiert wurde\n",
    "amount_of_censorship = mod_dataframe.count()\n",
    "print(amount_of_censorship)"
   ]
  },
  {
   "cell_type": "code",
   "execution_count": 3,
   "metadata": {},
   "outputs": [
    {
     "name": "stderr",
     "output_type": "stream",
     "text": [
      "[Stage 4:>                                                          (0 + 4) / 4]\r"
     ]
    },
    {
     "name": "stdout",
     "output_type": "stream",
     "text": [
      "3\n"
     ]
    },
    {
     "name": "stderr",
     "output_type": "stream",
     "text": [
      "                                                                                \r"
     ]
    }
   ],
   "source": [
    "#Anzahl der Mods, die im Datensatz aktiv waren (Duplikate wurden entfernt)\n",
    "amount_of_mods = mod_dataframe.drop('x1').drop('y1').drop('x2').drop('y2').drop('t').drop('pixel_color')\n",
    "amount_of_mods = amount_of_mods.distinct().count()\n",
    "print(amount_of_mods)"
   ]
  },
  {
   "cell_type": "markdown",
   "metadata": {},
   "source": [
    "<div style=\"color:#246fd6\">\n",
    "Beantwortung der 2. Frage:\n",
    "Betrachtung der zensierten Pixel pro Mod.\n",
    "\n",
    "D.h. hier muss jeder Mod einzeln betrachtet werden und dabei noch berechnet werden, wie viele Pixel dabei das Quadrat aufgespannt haben.\n",
    "\n",
    "Berechnung der Pixel: \n",
    "x1,y1 => obere linke Ecke des Quadrates \n",
    "x2,y2 => untere rechte Ecke des Quadrates\n",
    "\n",
    "Damit ergibt sich:\n",
    "```\n",
    " x1,y1----------------------x2,y1\n",
    "      |                    |\n",
    "      |                    |\n",
    "      |                    |\n",
    "    a |                    |\n",
    "      |                    |\n",
    "      |                    |\n",
    "      |                    |\n",
    " x1,y2----------------------x2,y2\n",
    "                b\n",
    "```\n",
    "Dann ergibt a * b die Anzahl an Pixel, die dabei berührt wurden und somit auch die Anzahl der Pixel, die dabei zensiert wurden.\n",
    "\n",
    "a = y2 - y1\n",
    "\n",
    "b = x2 - x1\n",
    "\n",
    "Anzahl der zensierten Pixel pro Eintrag = (y2 - y1) * (x2 - x1)\n",
    "</div>"
   ]
  },
  {
   "cell_type": "code",
   "execution_count": 4,
   "metadata": {},
   "outputs": [
    {
     "name": "stdout",
     "output_type": "stream",
     "text": [
      "root\n",
      " |-- user_id: string (nullable = true)\n",
      " |-- x1: integer (nullable = true)\n",
      " |-- y1: integer (nullable = true)\n",
      " |-- x2: integer (nullable = true)\n",
      " |-- y2: integer (nullable = true)\n",
      " |-- t: long (nullable = true)\n",
      " |-- pixel_color: string (nullable = true)\n",
      " |-- amount: integer (nullable = true)\n",
      "\n"
     ]
    },
    {
     "name": "stderr",
     "output_type": "stream",
     "text": [
      "[Stage 11:>                                                         (0 + 3) / 3]\r"
     ]
    },
    {
     "name": "stdout",
     "output_type": "stream",
     "text": [
      "+--------------------+---+----+---+----+----------+-----------+------+\n",
      "|             user_id| x1|  y1| x2|  y2|         t|pixel_color|amount|\n",
      "+--------------------+---+----+---+----+----------+-----------+------+\n",
      "|gXOuxCyb/dslyRb5G...| 23|1523|172|1792|1649045540|    #000000| 40081|\n",
      "|Tqn87vyPxAHtPMu4x...| 51|1691|154|1807|1649046581|    #000000| 11948|\n",
      "|oPv1iZrj4UMjfhzOT...| 44|1652|165|1899|1649045770|    #000000| 29887|\n",
      "+--------------------+---+----+---+----+----------+-----------+------+\n",
      "\n"
     ]
    },
    {
     "name": "stderr",
     "output_type": "stream",
     "text": [
      "                                                                                \r"
     ]
    }
   ],
   "source": [
    "#Vorbereitung um Anzahl der zensierten Pixel pro Mod zu bestimmen\n",
    "pixel_amount = mod_dataframe.withColumn(\"amount\",(mod_dataframe.y2 - mod_dataframe.y1) * (mod_dataframe.x2 - mod_dataframe.x1))\n",
    "#pixel_amount = pixel_amount.orderBy('x','y')\n",
    "pixel_amount.printSchema()\n",
    "pixel_amount.show()"
   ]
  },
  {
   "cell_type": "code",
   "execution_count": 5,
   "metadata": {},
   "outputs": [
    {
     "name": "stderr",
     "output_type": "stream",
     "text": [
      "[Stage 12:>                                                         (0 + 4) / 4]\r"
     ]
    },
    {
     "name": "stdout",
     "output_type": "stream",
     "text": [
      "+--------------------+-----------+\n",
      "|             user_id|sum(amount)|\n",
      "+--------------------+-----------+\n",
      "|gXOuxCyb/dslyRb5G...|      40081|\n",
      "|oPv1iZrj4UMjfhzOT...|      29887|\n",
      "|Tqn87vyPxAHtPMu4x...|      11948|\n",
      "+--------------------+-----------+\n",
      "\n"
     ]
    },
    {
     "name": "stderr",
     "output_type": "stream",
     "text": [
      "                                                                                \r"
     ]
    }
   ],
   "source": [
    "#Anzahl der zensierten Pixel pro Mod zusammengefasst würden jeden Mod\n",
    "amount_per_mod = pixel_amount.groupBy('user_id').sum('amount')\n",
    "amount_per_mod.show()"
   ]
  },
  {
   "cell_type": "markdown",
   "metadata": {},
   "source": [
    "<div style=\"color:#246fd6\">\n",
    "Nochmal über alle Mods summiert:\n",
    "</div>"
   ]
  },
  {
   "cell_type": "code",
   "execution_count": 6,
   "metadata": {},
   "outputs": [
    {
     "name": "stdout",
     "output_type": "stream",
     "text": [
      "+-----------+\n",
      "|sum(amount)|\n",
      "+-----------+\n",
      "|      81916|\n",
      "+-----------+\n",
      "\n"
     ]
    }
   ],
   "source": [
    "#Anzahl der insgesamt zensierten Pixel im jeweiligen Datensatz über alle Mods summiert\n",
    "amounts = pixel_amount.agg({'amount': 'sum'}).show()"
   ]
  },
  {
   "cell_type": "code",
   "execution_count": 7,
   "metadata": {},
   "outputs": [
    {
     "name": "stdout",
     "output_type": "stream",
     "text": [
      "providing ../data/raw/2022_place_canvas_history-000000000004.csv ...\n",
      "../data/raw/2022_place_canvas_history-000000000004.csv is already in data/raw\n",
      "root\n",
      " |-- user_id: string (nullable = true)\n",
      " |-- x: integer (nullable = true)\n",
      " |-- y: integer (nullable = true)\n",
      " |-- t: long (nullable = true)\n",
      " |-- pixel_color: string (nullable = true)\n",
      "\n"
     ]
    }
   ],
   "source": [
    "#Im Verhältnis dazu bestimmen, wie viele Pixel von \"normalen Nutzern\" dagegen platziert wurden im Datensatz?\n",
    "from src.data.dataset_functions import get_dataframe\n",
    "\n",
    "dataFrame = get_dataframe(True)\n",
    "dataFrame.printSchema()"
   ]
  },
  {
   "cell_type": "code",
   "execution_count": 8,
   "metadata": {},
   "outputs": [
    {
     "name": "stderr",
     "output_type": "stream",
     "text": [
      "[Stage 19:===================================================>    (32 + 3) / 35]\r"
     ]
    },
    {
     "name": "stdout",
     "output_type": "stream",
     "text": [
      "32772070\n"
     ]
    },
    {
     "name": "stderr",
     "output_type": "stream",
     "text": [
      "                                                                                \r"
     ]
    }
   ],
   "source": [
    "#Um herauszufinden, wie viele Pixel insgesamt platziert wurden, müssen nur alle Zeilen gezählt werden, \n",
    "# da eine Zeile = 1 platzierter Pixel\n",
    "amount_placed_pixel = dataFrame.count()\n",
    "print(amount_placed_pixel)"
   ]
  },
  {
   "cell_type": "markdown",
   "metadata": {},
   "source": [
    "<div style=\"color:#246fd6\">\n",
    "Beantwortung der 3.Frage:\n",
    "Regionen bestimmen, in denen häufiger eingegriffen wurde.\n",
    "\n",
    "Dafür Überschneidungen zwischen den Pixeln der Einträge bestimmen.\n",
    "\n",
    "Zu beachten dabei: Es müssen alle von der Zensur berührten Pixel betrachtet werden bei der Überschneidung.\n",
    "Es müssen verschiedene Fälle betrachtet werden:\n",
    "\n",
    "1) Eins der beiden Quadrate liegt genau im anderen.\n",
    "\n",
    "    Dann ist x1b < x1s & x2s < x2b & y1b < y1s & y2b > y2s\n",
    "\n",
    "    s => Quadrat s das vollständig im Quadrat b liegt\n",
    "\n",
    "2) Teilweise Überschneidungen.\n",
    "\n",
    "    Hier wirds schwierig, denn hier dürfen nur die in der Überschneidung liegenden Gebiete als \"Mehrfach zensiert\" gelabelt werden.\n",
    "</div>\n",
    "\n",
    "<div style=\"color:#17dd84\">\n",
    "Da das mit den Fallunterscheidungen zu komplex wird, mache ich ein Canvas (wie Greta bereits) und zeichne dort die Quadrate ein,\n",
    "\n",
    "dann sieht man wo sich Quadrate überschneiden anhand unterschiedlicher Farben,\n",
    "\n",
    "denn Quadrate werden nur mit sehr geringer Wahrscheinlichkeit gleich groß sein mit genau den selben Koordinaten.\n",
    "\n",
    "Es sollte daher was zu sehen sein.\n",
    "</div>"
   ]
  },
  {
   "cell_type": "markdown",
   "metadata": {},
   "source": [
    "Inner-Join, sodass paarweiser Verlgeich zwischen Mods möglich ist"
   ]
  },
  {
   "cell_type": "code",
   "execution_count": 4,
   "metadata": {},
   "outputs": [
    {
     "name": "stderr",
     "output_type": "stream",
     "text": [
      "[Stage 10:=========================================>               (8 + 3) / 11]\r"
     ]
    },
    {
     "name": "stdout",
     "output_type": "stream",
     "text": [
      "+--------------------+---+----+---+----+----------+-----------+--------------------+---+----+---+----+----------+-----------+\n",
      "|             user_id| x1|  y1| x2|  y2|         t|pixel_color|             user_id| x1|  y1| x2|  y2|         t|pixel_color|\n",
      "+--------------------+---+----+---+----+----------+-----------+--------------------+---+----+---+----+----------+-----------+\n",
      "|gXOuxCyb/dslyRb5G...| 23|1523|172|1792|1649045540|    #000000|Tqn87vyPxAHtPMu4x...| 51|1691|154|1807|1649046581|    #000000|\n",
      "|gXOuxCyb/dslyRb5G...| 23|1523|172|1792|1649045540|    #000000|oPv1iZrj4UMjfhzOT...| 44|1652|165|1899|1649045770|    #000000|\n",
      "|Tqn87vyPxAHtPMu4x...| 51|1691|154|1807|1649046581|    #000000|gXOuxCyb/dslyRb5G...| 23|1523|172|1792|1649045540|    #000000|\n",
      "|Tqn87vyPxAHtPMu4x...| 51|1691|154|1807|1649046581|    #000000|oPv1iZrj4UMjfhzOT...| 44|1652|165|1899|1649045770|    #000000|\n",
      "|oPv1iZrj4UMjfhzOT...| 44|1652|165|1899|1649045770|    #000000|gXOuxCyb/dslyRb5G...| 23|1523|172|1792|1649045540|    #000000|\n",
      "|oPv1iZrj4UMjfhzOT...| 44|1652|165|1899|1649045770|    #000000|Tqn87vyPxAHtPMu4x...| 51|1691|154|1807|1649046581|    #000000|\n",
      "+--------------------+---+----+---+----+----------+-----------+--------------------+---+----+---+----+----------+-----------+\n",
      "\n"
     ]
    },
    {
     "name": "stderr",
     "output_type": "stream",
     "text": [
      "                                                                                \r"
     ]
    }
   ],
   "source": [
    "import pyspark.sql.functions as F\n",
    "\n",
    "if(amount_of_censorship > 1):\n",
    "    selfjoinedFrame = mod_dataframe.alias('df1').join(mod_dataframe.alias('df2'))\n",
    "    selfjoinedFrame = selfjoinedFrame.where('df2.user_id <> df1.user_id')\n",
    "# selfjoinedFrame = selfjoinedFrame.where('Abs(df2.x - df1.x) <= 2*'+str(RZModel.max_xy_dist))\n",
    "# selfjoinedFrame = selfjoinedFrame.where('Abs(df2.y - df1.y) <= 2*'+str(RZModel.max_xy_dist))\n",
    "# selfjoinedFrame = selfjoinedFrame.select(F.col('df1.user_id'),F.col('df1.x').alias(\"x1\"),F.col('df2.x').alias('x2'),F.col('df1.y').alias(\"y1\"),F.col('df2.y').alias('y2'),F.col('df1.t').alias(\"t1\"),F.col('df2.t').alias('t2'),F.col('df1.pixel_color').alias(\"c1\"),F.col('df2.pixel_color').alias('c2'))\n",
    "selfjoinedFrame.show()"
   ]
  },
  {
   "cell_type": "markdown",
   "metadata": {},
   "source": [
    "Jetzt schauen, ob's überhaupt Überschneidungen gibt"
   ]
  },
  {
   "cell_type": "code",
   "execution_count": 6,
   "metadata": {},
   "outputs": [
    {
     "name": "stderr",
     "output_type": "stream",
     "text": [
      "[Stage 13:=========================================>               (8 + 3) / 11]\r"
     ]
    },
    {
     "name": "stdout",
     "output_type": "stream",
     "text": [
      "+--------------------+---+----+---+----+----------+-----------+--------------------+---+----+---+----+----------+-----------+\n",
      "|             user_id| x1|  y1| x2|  y2|         t|pixel_color|             user_id| x1|  y1| x2|  y2|         t|pixel_color|\n",
      "+--------------------+---+----+---+----+----------+-----------+--------------------+---+----+---+----+----------+-----------+\n",
      "|gXOuxCyb/dslyRb5G...| 23|1523|172|1792|1649045540|    #000000|Tqn87vyPxAHtPMu4x...| 51|1691|154|1807|1649046581|    #000000|\n",
      "|gXOuxCyb/dslyRb5G...| 23|1523|172|1792|1649045540|    #000000|oPv1iZrj4UMjfhzOT...| 44|1652|165|1899|1649045770|    #000000|\n",
      "|oPv1iZrj4UMjfhzOT...| 44|1652|165|1899|1649045770|    #000000|Tqn87vyPxAHtPMu4x...| 51|1691|154|1807|1649046581|    #000000|\n",
      "+--------------------+---+----+---+----+----------+-----------+--------------------+---+----+---+----+----------+-----------+\n",
      "\n"
     ]
    },
    {
     "name": "stderr",
     "output_type": "stream",
     "text": [
      "                                                                                \r"
     ]
    }
   ],
   "source": [
    "pair_comp = selfjoinedFrame.where('(df1.x1 < df2.x1 AND df2.x1 < df1.x2 AND df1.y1 < df2.y1 AND df2.y1 < df1.y2) OR (df1.x1 < df2.x2 AND df2.x2 < df1.x2 AND df1.y1 < df2.y1 AND df2.y1 < df1.y2) OR (df1.x1 < df2.x1 AND df2.x1 < df1.x2 AND df1.y1 < df2.y2 AND df2.y2 < df1.y2) OR (df1.x1 < df2.x2 AND df2.x2 < df1.x2 AND df1.y1 < df2.y2 AND df2.y2 < df1.y2)')\n",
    "pair_comp.show()"
   ]
  },
  {
   "cell_type": "markdown",
   "metadata": {},
   "source": [
    "Jetzt müssen die Überschneidungen grob bestimmt werden, sodass Gebiete besser benannt werden können.\n",
    "\n",
    "Die Gebiete sollte jedoch nicht mit 100% Genauigkeit benannt werden, da dies schwierig wird.\n",
    "\n",
    "Anhand des DataFrames pair_comp weiß man nun, dass df2.user_id in df1.user_id liegen muss.\n",
    "\n",
    "Dadurch vereinfacht sich der Vergleich, um die Gebiete genauer zu bestimmen."
   ]
  },
  {
   "cell_type": "code",
   "execution_count": 8,
   "metadata": {},
   "outputs": [
    {
     "name": "stderr",
     "output_type": "stream",
     "text": [
      "[Stage 16:=========================================>               (8 + 3) / 11]\r"
     ]
    },
    {
     "name": "stdout",
     "output_type": "stream",
     "text": [
      "+--------------------+---+----+---+----+----------+-----------+--------------------+---+----+---+----+----------+-----------+\n",
      "|             user_id| x1|  y1| x2|  y2|         t|pixel_color|             user_id| x1|  y1| x2|  y2|         t|pixel_color|\n",
      "+--------------------+---+----+---+----+----------+-----------+--------------------+---+----+---+----+----------+-----------+\n",
      "|oPv1iZrj4UMjfhzOT...| 44|1652|165|1899|1649045770|    #000000|Tqn87vyPxAHtPMu4x...| 51|1691|154|1807|1649046581|    #000000|\n",
      "+--------------------+---+----+---+----+----------+-----------+--------------------+---+----+---+----+----------+-----------+\n",
      "\n"
     ]
    },
    {
     "name": "stderr",
     "output_type": "stream",
     "text": [
      "                                                                                \r"
     ]
    }
   ],
   "source": [
    "#1. Fall, Quadrat von df2 liegt genau in df1\n",
    "#Dann ist x1b < x1s & x2s < x2b & y1b < y1s & y2b > y2s\n",
    "#Erhält man hier ein Ergebnis, so wurden die Pixel des Quadrates aus df2 mindestens 2 Mal zensiert!\n",
    "#Hier kann also ein genaues Gebiet angegeben werden\n",
    "case_one = pair_comp.where('df1.x1 < df2.x1 AND df2.x2 < df1.x2 AND df1.y1 < df2.y1 AND df2.y2 < df1.y2')\n",
    "case_one.show()"
   ]
  },
  {
   "cell_type": "markdown",
   "metadata": {},
   "source": [
    "Nun kommen weitere Fallunterscheidungen.\n",
    "\n",
    "2.Fall: die linke obere Ecke von df2 ist in der rechten unteren Ecke von df1."
   ]
  },
  {
   "cell_type": "code",
   "execution_count": 9,
   "metadata": {},
   "outputs": [
    {
     "name": "stderr",
     "output_type": "stream",
     "text": [
      "[Stage 19:=========================================>               (8 + 3) / 11]\r"
     ]
    },
    {
     "name": "stdout",
     "output_type": "stream",
     "text": [
      "+-------+---+---+---+---+---+-----------+-------+---+---+---+---+---+-----------+\n",
      "|user_id| x1| y1| x2| y2|  t|pixel_color|user_id| x1| y1| x2| y2|  t|pixel_color|\n",
      "+-------+---+---+---+---+---+-----------+-------+---+---+---+---+---+-----------+\n",
      "+-------+---+---+---+---+---+-----------+-------+---+---+---+---+---+-----------+\n",
      "\n"
     ]
    },
    {
     "name": "stderr",
     "output_type": "stream",
     "text": [
      "                                                                                \r"
     ]
    }
   ],
   "source": [
    "case_two = pair_comp.where('df2.x1 < df1.x2 AND df1.x2 < df2.x2 AND df2.y1 < df2.y2 AND df1.y2 < df2.y2')\n",
    "case_two.show()"
   ]
  },
  {
   "cell_type": "markdown",
   "metadata": {},
   "source": [
    "3.Fall: linke untere Ecke von df2 ist in df1"
   ]
  },
  {
   "cell_type": "code",
   "execution_count": 10,
   "metadata": {},
   "outputs": [
    {
     "name": "stderr",
     "output_type": "stream",
     "text": [
      "[Stage 22:=========================================>               (8 + 3) / 11]\r"
     ]
    },
    {
     "name": "stdout",
     "output_type": "stream",
     "text": [
      "+-------+---+---+---+---+---+-----------+-------+---+---+---+---+---+-----------+\n",
      "|user_id| x1| y1| x2| y2|  t|pixel_color|user_id| x1| y1| x2| y2|  t|pixel_color|\n",
      "+-------+---+---+---+---+---+-----------+-------+---+---+---+---+---+-----------+\n",
      "+-------+---+---+---+---+---+-----------+-------+---+---+---+---+---+-----------+\n",
      "\n"
     ]
    },
    {
     "name": "stderr",
     "output_type": "stream",
     "text": [
      "                                                                                \r"
     ]
    }
   ],
   "source": [
    "case_three = pair_comp.where('df1.x2 < df2.x2 AND df1.x1 < df2.x1 AND df2.y2 > df1.y1 AND df2.y2 < df1.y2')\n",
    "case_three.show()"
   ]
  },
  {
   "cell_type": "markdown",
   "metadata": {},
   "source": [
    "4.Fall: rechte obere Ecke von df2 ist in df1."
   ]
  },
  {
   "cell_type": "code",
   "execution_count": 11,
   "metadata": {},
   "outputs": [
    {
     "name": "stderr",
     "output_type": "stream",
     "text": [
      "[Stage 25:=========================================>               (8 + 3) / 11]\r"
     ]
    },
    {
     "name": "stdout",
     "output_type": "stream",
     "text": [
      "+--------------------+---+----+---+----+----------+-----------+--------------------+---+----+---+----+----------+-----------+\n",
      "|             user_id| x1|  y1| x2|  y2|         t|pixel_color|             user_id| x1|  y1| x2|  y2|         t|pixel_color|\n",
      "+--------------------+---+----+---+----+----------+-----------+--------------------+---+----+---+----+----------+-----------+\n",
      "|gXOuxCyb/dslyRb5G...| 23|1523|172|1792|1649045540|    #000000|Tqn87vyPxAHtPMu4x...| 51|1691|154|1807|1649046581|    #000000|\n",
      "|gXOuxCyb/dslyRb5G...| 23|1523|172|1792|1649045540|    #000000|oPv1iZrj4UMjfhzOT...| 44|1652|165|1899|1649045770|    #000000|\n",
      "|oPv1iZrj4UMjfhzOT...| 44|1652|165|1899|1649045770|    #000000|Tqn87vyPxAHtPMu4x...| 51|1691|154|1807|1649046581|    #000000|\n",
      "+--------------------+---+----+---+----+----------+-----------+--------------------+---+----+---+----+----------+-----------+\n",
      "\n"
     ]
    },
    {
     "name": "stderr",
     "output_type": "stream",
     "text": [
      "                                                                                \r"
     ]
    }
   ],
   "source": [
    "case_four = pair_comp.where('df1.x1 < df2.x2 AND df2.x2 < df1.x2 AND df1.y1 < df2.y1 AND df2.y1 < df1.y2')\n",
    "case_four.show()"
   ]
  },
  {
   "cell_type": "markdown",
   "metadata": {},
   "source": [
    "5.Fall: rechte untere Ecke von df2 ist in df1."
   ]
  },
  {
   "cell_type": "code",
   "execution_count": 12,
   "metadata": {},
   "outputs": [
    {
     "name": "stderr",
     "output_type": "stream",
     "text": [
      "[Stage 28:=========================================>               (8 + 3) / 11]\r"
     ]
    },
    {
     "name": "stdout",
     "output_type": "stream",
     "text": [
      "+--------------------+---+----+---+----+----------+-----------+--------------------+---+----+---+----+----------+-----------+\n",
      "|             user_id| x1|  y1| x2|  y2|         t|pixel_color|             user_id| x1|  y1| x2|  y2|         t|pixel_color|\n",
      "+--------------------+---+----+---+----+----------+-----------+--------------------+---+----+---+----+----------+-----------+\n",
      "|oPv1iZrj4UMjfhzOT...| 44|1652|165|1899|1649045770|    #000000|Tqn87vyPxAHtPMu4x...| 51|1691|154|1807|1649046581|    #000000|\n",
      "+--------------------+---+----+---+----+----------+-----------+--------------------+---+----+---+----+----------+-----------+\n",
      "\n"
     ]
    },
    {
     "name": "stderr",
     "output_type": "stream",
     "text": [
      "                                                                                \r"
     ]
    }
   ],
   "source": [
    "case_five = pair_comp.where('df1.x1 < df2.x2 AND df2.x2 < df1.x2 AND df1.y1 < df2.y2 AND df2.y2 < df1.y2')\n",
    "case_five.show()"
   ]
  },
  {
   "cell_type": "markdown",
   "metadata": {},
   "source": [
    "6.Fall: die komplette rechte Seite von df2 ist in df1."
   ]
  },
  {
   "cell_type": "code",
   "execution_count": 13,
   "metadata": {},
   "outputs": [
    {
     "name": "stderr",
     "output_type": "stream",
     "text": [
      "[Stage 31:=========================================>               (8 + 3) / 11]\r"
     ]
    },
    {
     "name": "stdout",
     "output_type": "stream",
     "text": [
      "+--------------------+---+----+---+----+----------+-----------+--------------------+---+----+---+----+----------+-----------+\n",
      "|             user_id| x1|  y1| x2|  y2|         t|pixel_color|             user_id| x1|  y1| x2|  y2|         t|pixel_color|\n",
      "+--------------------+---+----+---+----+----------+-----------+--------------------+---+----+---+----+----------+-----------+\n",
      "|oPv1iZrj4UMjfhzOT...| 44|1652|165|1899|1649045770|    #000000|Tqn87vyPxAHtPMu4x...| 51|1691|154|1807|1649046581|    #000000|\n",
      "+--------------------+---+----+---+----+----------+-----------+--------------------+---+----+---+----+----------+-----------+\n",
      "\n"
     ]
    },
    {
     "name": "stderr",
     "output_type": "stream",
     "text": [
      "                                                                                \r"
     ]
    }
   ],
   "source": [
    "case_six = pair_comp.where('df1.x1 < df2.x2 AND df2.x2 < df1.x2 AND df1.y1 < df2.y1 AND df2.y2 < df1.y2')\n",
    "case_six.show()"
   ]
  },
  {
   "cell_type": "markdown",
   "metadata": {},
   "source": [
    "7.Fall: die untere Seite von df2 ist in df1."
   ]
  },
  {
   "cell_type": "code",
   "execution_count": 14,
   "metadata": {},
   "outputs": [
    {
     "name": "stderr",
     "output_type": "stream",
     "text": [
      "[Stage 34:=========================================>               (8 + 3) / 11]\r"
     ]
    },
    {
     "name": "stdout",
     "output_type": "stream",
     "text": [
      "+--------------------+---+----+---+----+----------+-----------+--------------------+---+----+---+----+----------+-----------+\n",
      "|             user_id| x1|  y1| x2|  y2|         t|pixel_color|             user_id| x1|  y1| x2|  y2|         t|pixel_color|\n",
      "+--------------------+---+----+---+----+----------+-----------+--------------------+---+----+---+----+----------+-----------+\n",
      "|oPv1iZrj4UMjfhzOT...| 44|1652|165|1899|1649045770|    #000000|Tqn87vyPxAHtPMu4x...| 51|1691|154|1807|1649046581|    #000000|\n",
      "+--------------------+---+----+---+----+----------+-----------+--------------------+---+----+---+----+----------+-----------+\n",
      "\n"
     ]
    },
    {
     "name": "stderr",
     "output_type": "stream",
     "text": [
      "                                                                                \r"
     ]
    }
   ],
   "source": [
    "case_seven = pair_comp.where('df1.x1 < df2.x1 AND df2.x2 < df1.x2 AND df1.y1 < df2.y2 AND df2.y2 < df1.y2')\n",
    "case_seven.show()"
   ]
  },
  {
   "cell_type": "markdown",
   "metadata": {},
   "source": [
    "8.Fall: die linke Seite von df2 ist in df1."
   ]
  },
  {
   "cell_type": "code",
   "execution_count": 15,
   "metadata": {},
   "outputs": [
    {
     "name": "stderr",
     "output_type": "stream",
     "text": [
      "[Stage 37:=========================================>               (8 + 3) / 11]\r"
     ]
    },
    {
     "name": "stdout",
     "output_type": "stream",
     "text": [
      "+--------------------+---+----+---+----+----------+-----------+--------------------+---+----+---+----+----------+-----------+\n",
      "|             user_id| x1|  y1| x2|  y2|         t|pixel_color|             user_id| x1|  y1| x2|  y2|         t|pixel_color|\n",
      "+--------------------+---+----+---+----+----------+-----------+--------------------+---+----+---+----+----------+-----------+\n",
      "|oPv1iZrj4UMjfhzOT...| 44|1652|165|1899|1649045770|    #000000|Tqn87vyPxAHtPMu4x...| 51|1691|154|1807|1649046581|    #000000|\n",
      "+--------------------+---+----+---+----+----------+-----------+--------------------+---+----+---+----+----------+-----------+\n",
      "\n"
     ]
    },
    {
     "name": "stderr",
     "output_type": "stream",
     "text": [
      "                                                                                \r"
     ]
    }
   ],
   "source": [
    "case_eight = pair_comp.where('df1.x1 < df2.x1 AND df2.x1 < df1.x2 AND df1.y1 < df2.y1 AND df2.y2 < df1.y2')\n",
    "case_eight.show()"
   ]
  },
  {
   "cell_type": "markdown",
   "metadata": {},
   "source": [
    "Letzter Fall 9. : obere Seite von df2 ist in df1."
   ]
  },
  {
   "cell_type": "code",
   "execution_count": 16,
   "metadata": {},
   "outputs": [
    {
     "name": "stderr",
     "output_type": "stream",
     "text": [
      "[Stage 40:=========================================>               (8 + 3) / 11]\r"
     ]
    },
    {
     "name": "stdout",
     "output_type": "stream",
     "text": [
      "+--------------------+---+----+---+----+----------+-----------+--------------------+---+----+---+----+----------+-----------+\n",
      "|             user_id| x1|  y1| x2|  y2|         t|pixel_color|             user_id| x1|  y1| x2|  y2|         t|pixel_color|\n",
      "+--------------------+---+----+---+----+----------+-----------+--------------------+---+----+---+----+----------+-----------+\n",
      "|gXOuxCyb/dslyRb5G...| 23|1523|172|1792|1649045540|    #000000|Tqn87vyPxAHtPMu4x...| 51|1691|154|1807|1649046581|    #000000|\n",
      "|gXOuxCyb/dslyRb5G...| 23|1523|172|1792|1649045540|    #000000|oPv1iZrj4UMjfhzOT...| 44|1652|165|1899|1649045770|    #000000|\n",
      "|oPv1iZrj4UMjfhzOT...| 44|1652|165|1899|1649045770|    #000000|Tqn87vyPxAHtPMu4x...| 51|1691|154|1807|1649046581|    #000000|\n",
      "+--------------------+---+----+---+----+----------+-----------+--------------------+---+----+---+----+----------+-----------+\n",
      "\n"
     ]
    },
    {
     "name": "stderr",
     "output_type": "stream",
     "text": [
      "                                                                                \r"
     ]
    }
   ],
   "source": [
    "case_nine = pair_comp.where('df1.x1 < df2.x1 AND df2.x2 < df1.x2 AND df1.y1 < df2.y1 AND df2.y1 < df1.y2')\n",
    "case_nine.show()"
   ]
  }
 ],
 "metadata": {
  "kernelspec": {
   "display_name": "Python 3.9.2 64-bit",
   "language": "python",
   "name": "python3"
  },
  "language_info": {
   "codemirror_mode": {
    "name": "ipython",
    "version": 3
   },
   "file_extension": ".py",
   "mimetype": "text/x-python",
   "name": "python",
   "nbconvert_exporter": "python",
   "pygments_lexer": "ipython3",
   "version": "3.9.2"
  },
  "orig_nbformat": 4,
  "vscode": {
   "interpreter": {
    "hash": "949777d72b0d2535278d3dc13498b2535136f6dfe0678499012e853ee9abcab1"
   }
  }
 },
 "nbformat": 4,
 "nbformat_minor": 2
}
