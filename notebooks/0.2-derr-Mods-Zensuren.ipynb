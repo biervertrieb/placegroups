{
 "cells": [
  {
   "cell_type": "code",
   "execution_count": 2,
   "metadata": {},
   "outputs": [
    {
     "name": "stdout",
     "output_type": "stream",
     "text": [
      "providing ../data/raw/2022_place_canvas_history-000000000001.csv ...\n",
      "../data/raw/2022_place_canvas_history-000000000001.csv is already in data/raw\n",
      ":: loading settings :: url = jar:file:/usr/local/lib/python3.9/site-packages/pyspark/jars/ivy-2.5.0.jar!/org/apache/ivy/core/settings/ivysettings.xml\n"
     ]
    },
    {
     "name": "stderr",
     "output_type": "stream",
     "text": [
      "Ivy Default Cache set to: /home/vscode/.ivy2/cache\n",
      "The jars for the packages stored in: /home/vscode/.ivy2/jars\n",
      "graphframes#graphframes added as a dependency\n",
      ":: resolving dependencies :: org.apache.spark#spark-submit-parent-add7f80d-d57a-4974-af8a-753c7488e812;1.0\n",
      "\tconfs: [default]\n",
      "\tfound graphframes#graphframes;0.8.2-spark3.2-s_2.12 in spark-packages\n",
      "\tfound org.slf4j#slf4j-api;1.7.16 in central\n",
      ":: resolution report :: resolve 78ms :: artifacts dl 15ms\n",
      "\t:: modules in use:\n",
      "\tgraphframes#graphframes;0.8.2-spark3.2-s_2.12 from spark-packages in [default]\n",
      "\torg.slf4j#slf4j-api;1.7.16 from central in [default]\n",
      "\t---------------------------------------------------------------------\n",
      "\t|                  |            modules            ||   artifacts   |\n",
      "\t|       conf       | number| search|dwnlded|evicted|| number|dwnlded|\n",
      "\t---------------------------------------------------------------------\n",
      "\t|      default     |   2   |   0   |   0   |   0   ||   2   |   0   |\n",
      "\t---------------------------------------------------------------------\n",
      ":: retrieving :: org.apache.spark#spark-submit-parent-add7f80d-d57a-4974-af8a-753c7488e812\n",
      "\tconfs: [default]\n",
      "\t0 artifacts copied, 2 already retrieved (0kB/4ms)\n",
      "22/06/21 16:15:58 WARN NativeCodeLoader: Unable to load native-hadoop library for your platform... using builtin-java classes where applicable\n",
      "Using Spark's default log4j profile: org/apache/spark/log4j-defaults.properties\n",
      "Setting default log level to \"WARN\".\n",
      "To adjust logging level use sc.setLogLevel(newLevel). For SparkR, use setLogLevel(newLevel).\n",
      "22/06/21 16:15:59 WARN Utils: Service 'SparkUI' could not bind on port 4040. Attempting port 4041.\n"
     ]
    }
   ],
   "source": [
    "from src.data.dataset_functions import get_dataframei_onlymods\n",
    "\n",
    "mod_dataframe = get_dataframei_onlymods(1) #Der Parameter steht für den Datensatz, der verwendet werden soll"
   ]
  },
  {
   "cell_type": "markdown",
   "metadata": {},
   "source": [
    "<div style=\"color:#246fd6\">\n",
    "Im folgenden sollen die Statistiken für Mods bestimmt werden:\n",
    "\n",
    "\n",
    "1) Wie oft mussten Mods zensieren im jeweiligen Datensatz?\n",
    "\n",
    "2) Wie viele Pixel wurden insgesamt von einem Mod im jeweiligen Datensatz zensiert?\n",
    "\n",
    "3) Werden Regionen deutlich, in denen Mods häufiger eingreifen mussten?\n",
    "\n",
    "    3.1) Wenn ja, welche Regionen und welchen Artworks ist das zugeordnet?\n",
    "\n",
    "    3.2) Zu bestimmen, welche Pixel mehr als einmal zensiert wurden, also min. 2-mal.\n",
    "\n",
    "4) Evtl.: Wurden von Bots gesetzte Pixel zensiert?\n",
    "\n",
    "</div>"
   ]
  },
  {
   "cell_type": "markdown",
   "metadata": {},
   "source": [
    "<div style=\"color:#246fd6\">\n",
    "Zur Beantwortung der ersten Frage:\n",
    "\n",
    "Mods sind im \"StandardDataFrame\" nicht enthalen, nur noch im spezifischen ModsDataFrame!\n",
    "\n",
    "Um die Frage zu beantworten muss gezählt werden, wie viele Einträge für Mods im jeweiligen Datensatz exitieren.\n",
    "D.h. auch Duplikate von User_IDs sind relevant, sodass einfach nur gezählt werden muss, wie viele Einträge insgesamt im ModsDataFrame existieren.\n",
    "\n",
    "Das wäre dann auch schon die Antwort darauf, wie oft Mods im jeweiligen Datensatz zensieren mussten.\n",
    "</div>"
   ]
  },
  {
   "cell_type": "code",
   "execution_count": 3,
   "metadata": {},
   "outputs": [
    {
     "name": "stderr",
     "output_type": "stream",
     "text": [
      "                                                                                \r"
     ]
    },
    {
     "name": "stdout",
     "output_type": "stream",
     "text": [
      "1\n"
     ]
    }
   ],
   "source": [
    "amount_of_censorship = mod_dataframe.count()\n",
    "print(amount_of_censorship)"
   ]
  },
  {
   "cell_type": "markdown",
   "metadata": {},
   "source": [
    "<div style=\"color:#246fd6\">\n",
    "Beantwortung der 2. Frage:\n",
    "Betrachtung der zensierten Pixel pro Mod.\n",
    "\n",
    "D.h. hier muss jeder Mod einzeln betrachtet werden und dabei noch berechnet werden, wie viele Pixel dabei das Quadrat aufgespannt haben.\n",
    "\n",
    "Berechnung der Pixel: \n",
    "x1,y1 => obere linke Ecke des Quadrates \n",
    "x2,y2 => untere rechte Ecke des Quadrates\n",
    "\n",
    "Damit ergibt sich:\n",
    "```\n",
    " x1,y1----------------------x2,y1\n",
    "      |                    |\n",
    "      |                    |\n",
    "      |                    |\n",
    "    a |                    |\n",
    "      |                    |\n",
    "      |                    |\n",
    "      |                    |\n",
    " x1,y2----------------------x2,y2\n",
    "                b\n",
    "```\n",
    "Dann ergibt a * b die Anzahl an Pixel, die dabei berührt wurden und somit auch die Anzahl der Pixel, die dabei zensiert wurden.\n",
    "\n",
    "a = y2 - y1\n",
    "\n",
    "b = x2 - x1\n",
    "\n",
    "Anzahl der zensierten Pixel pro Eintrag = (y2 - y1) * (x2 - x1)\n",
    "</div>"
   ]
  },
  {
   "cell_type": "code",
   "execution_count": 9,
   "metadata": {},
   "outputs": [
    {
     "name": "stdout",
     "output_type": "stream",
     "text": [
      "root\n",
      " |-- user_id: string (nullable = true)\n",
      " |-- x1: integer (nullable = true)\n",
      " |-- y1: integer (nullable = true)\n",
      " |-- x2: integer (nullable = true)\n",
      " |-- y2: integer (nullable = true)\n",
      " |-- t: long (nullable = true)\n",
      " |-- pixel_color: string (nullable = true)\n",
      " |-- amount: integer (nullable = true)\n",
      "\n",
      "+--------------------+----+----+----+----+----------+-----------+------+\n",
      "|             user_id|  x1|  y1|  x2|  y2|         t|pixel_color|amount|\n",
      "+--------------------+----+----+----+----+----------+-----------+------+\n",
      "|q+XjkQ6WRx0aBLtb2...|1349|1718|1424|1752|1649035370|    #000000|  2550|\n",
      "+--------------------+----+----+----+----+----------+-----------+------+\n",
      "\n"
     ]
    }
   ],
   "source": [
    "pixel_amount = mod_dataframe.withColumn(\"amount\",(mod_dataframe.y2 - mod_dataframe.y1) * (mod_dataframe.x2 - mod_dataframe.x1))\n",
    "pixel_amount.printSchema()\n",
    "pixel_amount.show()"
   ]
  },
  {
   "cell_type": "markdown",
   "metadata": {},
   "source": [
    "<div style=\"color:#246fd6\">\n",
    "Nochmal über alle Mods summiert:\n",
    "</div>"
   ]
  },
  {
   "cell_type": "code",
   "execution_count": 10,
   "metadata": {},
   "outputs": [
    {
     "name": "stdout",
     "output_type": "stream",
     "text": [
      "+-----------+\n",
      "|sum(amount)|\n",
      "+-----------+\n",
      "|       2550|\n",
      "+-----------+\n",
      "\n"
     ]
    }
   ],
   "source": [
    "amounts = pixel_amount.agg({'amount': 'sum'}).show()"
   ]
  },
  {
   "cell_type": "markdown",
   "metadata": {},
   "source": [
    "<div style=\"color:#246fd6\">\n",
    "Beantwortung der 3.Frage:\n",
    "Regionen bestimmen, in denen häufiger eingegriffen wurde.\n",
    "\n",
    "Dafür Überschneidungen zwischen den Pixeln der Einträge bestimmen.\n",
    "\n",
    "Zu beachten dabei: Es müssen alle von der Zensur berührten Pixel betrachtet werden bei der Überschneidung.\n",
    "Es müssen verschiedene Fälle betrachtet werden:\n",
    "\n",
    "1) Eins der beiden Quadrate liegt genau im anderen.\n",
    "\n",
    "    Dann ist x1b < x1s & x2s < x2b & y1b < y1s & y2b > y2s\n",
    "\n",
    "    s => Quadrat s das vollständig im Quadrat b liegt\n",
    "\n",
    "2) Teilweise Überschneidungen.\n",
    "\n",
    "    Hier wirds schwierig, denn hier dürfen nur die in der Überschneidung liegenden Gebiete als \"Mehrfach zensiert\" gelabelt werden.\n",
    "</div>"
   ]
  }
 ],
 "metadata": {
  "kernelspec": {
   "display_name": "Python 3.9.2 64-bit",
   "language": "python",
   "name": "python3"
  },
  "language_info": {
   "codemirror_mode": {
    "name": "ipython",
    "version": 3
   },
   "file_extension": ".py",
   "mimetype": "text/x-python",
   "name": "python",
   "nbconvert_exporter": "python",
   "pygments_lexer": "ipython3",
   "version": "3.9.2"
  },
  "orig_nbformat": 4,
  "vscode": {
   "interpreter": {
    "hash": "949777d72b0d2535278d3dc13498b2535136f6dfe0678499012e853ee9abcab1"
   }
  }
 },
 "nbformat": 4,
 "nbformat_minor": 2
}
