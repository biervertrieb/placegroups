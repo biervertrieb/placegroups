{
 "cells": [
  {
   "cell_type": "code",
   "execution_count": 2,
   "metadata": {},
   "outputs": [
    {
     "name": "stdout",
     "output_type": "stream",
     "text": [
      "providing ../data/raw/2022_place_canvas_history-000000000078.csv ...\n",
      "not found. need to download ../data/raw/2022_place_canvas_history-000000000078.csv.gzip ...\n",
      "downloading from https://placedata.reddit.com/data/canvas-history/2022_place_canvas_history-000000000078.csv.gzip to ../data/raw/2022_place_canvas_history-000000000078.csv.gzip\n",
      "unpacking ../data/raw/2022_place_canvas_history-000000000078.csv.gzip into ../data/raw/2022_place_canvas_history-000000000078.csv\n",
      "deleting ../data/raw/2022_place_canvas_history-000000000078.csv.gzip\n"
     ]
    },
    {
     "name": "stderr",
     "output_type": "stream",
     "text": [
      "[Stage 9:>                                                          (0 + 3) / 3]\r"
     ]
    },
    {
     "name": "stdout",
     "output_type": "stream",
     "text": [
      "+-------+---+---+---+---+---+-----------+\n",
      "|user_id| x1| y1| x2| y2|  t|pixel_color|\n",
      "+-------+---+---+---+---+---+-----------+\n",
      "+-------+---+---+---+---+---+-----------+\n",
      "\n"
     ]
    },
    {
     "name": "stderr",
     "output_type": "stream",
     "text": [
      "                                                                                \r"
     ]
    }
   ],
   "source": [
    "from src.data.dataset_functions import get_dataframei_onlymods\n",
    "\n",
    "modframe = get_dataframei_onlymods(78)\n",
    "\n",
    "modframe.show(5)"
   ]
  },
  {
   "cell_type": "markdown",
   "metadata": {},
   "source": [
    "Na dann gucken wir mal was bei (271,1835)-(296,1859) zum Zeitpunkt 562 übermalt wurde"
   ]
  },
  {
   "cell_type": "code",
   "execution_count": 29,
   "metadata": {},
   "outputs": [
    {
     "name": "stdout",
     "output_type": "stream",
     "text": [
      "providing ../data/raw/2022_place_canvas_history-000000000003.csv ...\n",
      "../data/raw/2022_place_canvas_history-000000000003.csv is already in data/raw\n"
     ]
    },
    {
     "name": "stderr",
     "output_type": "stream",
     "text": [
      "                                                                                \r"
     ]
    }
   ],
   "source": [
    "from src.data.dataset_functions import get_dataframei\n",
    "\n",
    "dataFrame = get_dataframei(3)"
   ]
  },
  {
   "cell_type": "code",
   "execution_count": 30,
   "metadata": {},
   "outputs": [],
   "source": [
    "min_x = 271\n",
    "max_x = 296\n",
    "min_y = 1835\n",
    "max_y = 1859\n",
    "tz = 562"
   ]
  },
  {
   "cell_type": "code",
   "execution_count": 31,
   "metadata": {},
   "outputs": [],
   "source": [
    "from src.features.feature_functions import get_latestpixels_from_box\n",
    "\n",
    "censoredData = get_latestpixels_from_box(dataFrame,min_x,min_y,max_x,max_y,tz)"
   ]
  },
  {
   "cell_type": "code",
   "execution_count": 32,
   "metadata": {},
   "outputs": [
    {
     "name": "stderr",
     "output_type": "stream",
     "text": [
      "                                                                                \r"
     ]
    },
    {
     "name": "stdout",
     "output_type": "stream",
     "text": [
      "+---+----+--------------------+---+-----------+\n",
      "|  x|   y|             user_id|  t|pixel_color|\n",
      "+---+----+--------------------+---+-----------+\n",
      "|272|1859|z90rX9xnUC9Tfb/T7...|359|    #000000|\n",
      "|273|1853|GuF+xzrhhROmfacr6...|147|    #FF4500|\n",
      "|274|1852|HHV4dR8dNHXWZsQjL...| 27|    #FF4500|\n",
      "|274|1857|I35ca7LfMboIZJhOz...|328|    #FF99AA|\n",
      "|275|1843|L1axPsUn4/6uJMpN3...|556|    #FFF8B8|\n",
      "+---+----+--------------------+---+-----------+\n",
      "only showing top 5 rows\n",
      "\n"
     ]
    },
    {
     "name": "stderr",
     "output_type": "stream",
     "text": [
      "                                                                                \r"
     ]
    },
    {
     "data": {
      "text/plain": [
       "151"
      ]
     },
     "execution_count": 32,
     "metadata": {},
     "output_type": "execute_result"
    }
   ],
   "source": [
    "censoredData.show(5)\n",
    "censoredData.count()"
   ]
  },
  {
   "cell_type": "markdown",
   "metadata": {},
   "source": [
    "Koordinaten normalisieren..."
   ]
  },
  {
   "cell_type": "code",
   "execution_count": 33,
   "metadata": {},
   "outputs": [
    {
     "name": "stderr",
     "output_type": "stream",
     "text": [
      "                                                                                \r"
     ]
    },
    {
     "name": "stdout",
     "output_type": "stream",
     "text": [
      "+---+---+--------------------+---+-----------+\n",
      "|  x|  y|             user_id|  t|pixel_color|\n",
      "+---+---+--------------------+---+-----------+\n",
      "|  1| 24|z90rX9xnUC9Tfb/T7...|359|    #000000|\n",
      "|  2| 18|GuF+xzrhhROmfacr6...|147|    #FF4500|\n",
      "|  3| 17|HHV4dR8dNHXWZsQjL...| 27|    #FF4500|\n",
      "|  3| 22|I35ca7LfMboIZJhOz...|328|    #FF99AA|\n",
      "|  4|  8|L1axPsUn4/6uJMpN3...|556|    #FFF8B8|\n",
      "+---+---+--------------------+---+-----------+\n",
      "only showing top 5 rows\n",
      "\n"
     ]
    }
   ],
   "source": [
    "censoredData = censoredData.withColumn('x' , censoredData['x'] - min_x).withColumn('y', censoredData['y'] - min_y)\n",
    "censoredData.show(5)"
   ]
  },
  {
   "cell_type": "code",
   "execution_count": 34,
   "metadata": {},
   "outputs": [
    {
     "name": "stdout",
     "output_type": "stream",
     "text": [
      "26\n",
      "25\n"
     ]
    }
   ],
   "source": [
    "len_x = max_x-min_x+1\n",
    "print(len_x)\n",
    "len_y = max_y-min_y+1\n",
    "print(len_y)"
   ]
  },
  {
   "cell_type": "code",
   "execution_count": 35,
   "metadata": {},
   "outputs": [],
   "source": [
    "import numpy as np\n",
    "import matplotlib.pyplot as plt\n",
    "import matplotlib.image as mpimg"
   ]
  },
  {
   "cell_type": "code",
   "execution_count": 36,
   "metadata": {},
   "outputs": [],
   "source": [
    "def hex_to_rbg(hexcolor):\n",
    "    hexcolor = hexcolor.lstrip('#')\n",
    "    lv = len(hexcolor)\n",
    "    return [int(hexcolor[i:i + lv // 3], 16) for i in range(0, lv, lv // 3)]\n",
    "\n",
    "def hex_to_float(hexcolor):\n",
    "    hexcolor = hexcolor.lstrip('#')\n",
    "    lv = len(hexcolor)\n",
    "    return [int(hexcolor[i:i + lv // 3], 16) / 255.0 for i in range(0, lv, lv // 3)]\n"
   ]
  },
  {
   "cell_type": "code",
   "execution_count": 37,
   "metadata": {},
   "outputs": [
    {
     "name": "stderr",
     "output_type": "stream",
     "text": [
      "                                                                                \r"
     ]
    }
   ],
   "source": [
    "data = np.zeros([len_x,len_y,3])\n",
    "\n",
    "collectedData = censoredData.collect()\n",
    "\n",
    "for row in collectedData:\n",
    "    xs , ys , user_id , ts , hexcolor = list(row)\n",
    "    data[xs][ys] = hex_to_float(hexcolor)"
   ]
  },
  {
   "cell_type": "code",
   "execution_count": 38,
   "metadata": {},
   "outputs": [],
   "source": [
    "mpimg.imsave(\"test.jpg\",data)"
   ]
  }
 ],
 "metadata": {
  "kernelspec": {
   "display_name": "Python 3.10.4 64-bit",
   "language": "python",
   "name": "python3"
  },
  "language_info": {
   "codemirror_mode": {
    "name": "ipython",
    "version": 3
   },
   "file_extension": ".py",
   "mimetype": "text/x-python",
   "name": "python",
   "nbconvert_exporter": "python",
   "pygments_lexer": "ipython3",
   "version": "3.10.4"
  },
  "orig_nbformat": 4,
  "vscode": {
   "interpreter": {
    "hash": "949777d72b0d2535278d3dc13498b2535136f6dfe0678499012e853ee9abcab1"
   }
  }
 },
 "nbformat": 4,
 "nbformat_minor": 2
}
