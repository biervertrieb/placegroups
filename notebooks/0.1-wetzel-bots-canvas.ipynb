{
 "cells": [
  {
   "cell_type": "markdown",
   "metadata": {},
   "source": [
    "<div style=\"color:pink\">\n",
    "hier möchte ich einmal versuchen, die Pixel, die von Bots gesetzt wurden, nachzuzeichnen\n",
    "</div>"
   ]
  },
  {
   "cell_type": "code",
   "execution_count": null,
   "metadata": {},
   "outputs": [],
   "source": [
    "#alle Schritte, die nötig waren, um die Bots einzustufen\n",
    "from src.data.dataset_functions import get_dataframe\n",
    "import pyspark.sql.functions as F\n",
    "\n",
    "dataFrame = get_dataframe(True)\n",
    "\n",
    "timeFrame = dataFrame.alias('df1').join(dataFrame.alias('df2'),F.col('df1.user_id') == F.col('df2.user_id'),'inner')\n",
    "timeFrame = timeFrame.where('df2.t > df1.t')\n",
    "timeFrame = timeFrame.orderBy(['df1.user_id', 'df1.t'])\n",
    "timeFrame = timeFrame.select(F.col('df1.user_id'),F.col('df1.t').alias('t1'),F.col('df2.t').alias('t2'),(F.col('df2.t') - F.col('df1.t')).alias('diff'))\n",
    "timeReduced = timeFrame.dropDuplicates(['user_id', 't1'])\n",
    "\n",
    "bot = timeReduced.alias('tdr1').join(timeReduced.alias('tdr2'),F.col('tdr1.user_id') == F.col('tdr2.user_id'),'inner')\n",
    "bot = bot.where('tdr1.diff == tdr2.diff').where('tdr1.t2 == tdr2.t1')\n",
    "bot = bot.select('tdr1.user_id','tdr1.diff')\n",
    "bot = bot.dropDuplicates(['user_id'])"
   ]
  },
  {
   "cell_type": "code",
   "execution_count": null,
   "metadata": {},
   "outputs": [],
   "source": [
    "botsTotal = dataFrame.alias('df').join(bot.alias('bd'),F.col('df.user_id') == F.col('bd.user_id'), 'inner')\n",
    "botsTotal = botsTotal.select(F.col('df.user_id'),F.col('df.x'),F.col('df.y'),F.col('df.t'),F.col('pixel_color'))\n",
    "botsTotal = botsTotal.orderBy(['user_id', 't'])\n",
    "botsTotal = botsTotal.dropDuplicates(['user_id', 't']) #jeder Nutzer kann zu jeder Zeit nur einen Pixel gesetzt haben  \n",
    "botsTotal = botsTotal.drop('t')"
   ]
  },
  {
   "cell_type": "markdown",
   "metadata": {},
   "source": [
    "<div style=\"color:pink\">\n",
    "<s>-aktuell verzweifle ich noch daran, die Werte aus dem dataframe iterativ fürs Zeichnen auf mein Canvas zu benutzen <br>\n",
    "-aus mir unbekannten Gründen nimmt python nämlich nicht die tatsächlichen Werte aus den Spalten, sondern lediglich die Namen der Spalten selbst<br>\n",
    "-weiterhin muss ich noch irgendwie hinbekommen, dass die hex-codes der farben in die richtigen rgb-werte umgewandelt werden <br> </s>\n",
    "<br>\n",
    "Geschafft! :))))\n",
    "</div>"
   ]
  },
  {
   "cell_type": "code",
   "execution_count": null,
   "metadata": {},
   "outputs": [],
   "source": [
    "from PIL import Image\n",
    "from src.visualization.visuialization_functions import hex_to_rgb\n",
    "  \n",
    "#ich konvertiere den Datensatz, damit mir das Iterieren etwas leichter fällt\n",
    "pandasDF = botsTotal.toPandas()\n",
    "canvas = Image.new(\"RGB\", (2000,2000), \"WHITE\")\n",
    "\n",
    "#Schritt für Schritt wird wirklich jeder einzelne Pixel geändert\n",
    "for index, row in pandasDF.iterrows():\n",
    "    canvas.putpixel((row['x'],row['y']), hex_to_rgb(row['pixel_color']))\n",
    "\n",
    "canvas.show()\n",
    "canvas.save('../reports/figures/bots-canvas.jpg')  "
   ]
  }
 ],
 "metadata": {
  "interpreter": {
   "hash": "949777d72b0d2535278d3dc13498b2535136f6dfe0678499012e853ee9abcab1"
  },
  "kernelspec": {
   "display_name": "Python 3.10.4 64-bit",
   "language": "python",
   "name": "python3"
  },
  "language_info": {
   "codemirror_mode": {
    "name": "ipython",
    "version": 3
   },
   "file_extension": ".py",
   "mimetype": "text/x-python",
   "name": "python",
   "nbconvert_exporter": "python",
   "pygments_lexer": "ipython3",
   "version": "3.10.4"
  },
  "orig_nbformat": 4
 },
 "nbformat": 4,
 "nbformat_minor": 2
}
