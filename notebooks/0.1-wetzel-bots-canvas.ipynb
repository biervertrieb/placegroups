{
 "cells": [
  {
   "cell_type": "markdown",
   "metadata": {},
   "source": [
    "<div style=\"color:pink\">\n",
    "hier möchte ich einmal versuchen, die Pixel, die von Bots gesetzt wurden, nachzuzeichnen\n",
    "</div>"
   ]
  },
  {
   "cell_type": "code",
   "execution_count": 16,
   "metadata": {},
   "outputs": [
    {
     "name": "stderr",
     "output_type": "stream",
     "text": [
      "[Stage 206:====================================================>  (20 + 1) / 21]\r"
     ]
    },
    {
     "name": "stdout",
     "output_type": "stream",
     "text": [
      "22/06/21 16:43:35 WARN RowBasedKeyValueBatch: Calling spill() on RowBasedKeyValueBatch. Will not spill but return 0.\n",
      "22/06/21 16:43:35 WARN RowBasedKeyValueBatch: Calling spill() on RowBasedKeyValueBatch. Will not spill but return 0.\n",
      "22/06/21 16:43:35 WARN RowBasedKeyValueBatch: Calling spill() on RowBasedKeyValueBatch. Will not spill but return 0.\n",
      "22/06/21 16:43:35 WARN RowBasedKeyValueBatch: Calling spill() on RowBasedKeyValueBatch. Will not spill but return 0.\n",
      "22/06/21 16:43:35 WARN RowBasedKeyValueBatch: Calling spill() on RowBasedKeyValueBatch. Will not spill but return 0.\n",
      "22/06/21 16:43:35 WARN RowBasedKeyValueBatch: Calling spill() on RowBasedKeyValueBatch. Will not spill but return 0.\n",
      "22/06/21 16:43:35 WARN RowBasedKeyValueBatch: Calling spill() on RowBasedKeyValueBatch. Will not spill but return 0.\n",
      "22/06/21 16:43:35 WARN RowBasedKeyValueBatch: Calling spill() on RowBasedKeyValueBatch. Will not spill but return 0.\n",
      "22/06/21 16:43:35 WARN RowBasedKeyValueBatch: Calling spill() on RowBasedKeyValueBatch. Will not spill but return 0.\n",
      "22/06/21 16:43:35 WARN RowBasedKeyValueBatch: Calling spill() on RowBasedKeyValueBatch. Will not spill but return 0.\n",
      "22/06/21 16:43:35 WARN RowBasedKeyValueBatch: Calling spill() on RowBasedKeyValueBatch. Will not spill but return 0.\n",
      "22/06/21 16:43:35 WARN RowBasedKeyValueBatch: Calling spill() on RowBasedKeyValueBatch. Will not spill but return 0.\n",
      "22/06/21 16:43:35 WARN RowBasedKeyValueBatch: Calling spill() on RowBasedKeyValueBatch. Will not spill but return 0.\n",
      "22/06/21 16:43:35 WARN RowBasedKeyValueBatch: Calling spill() on RowBasedKeyValueBatch. Will not spill but return 0.\n",
      "22/06/21 16:43:35 WARN RowBasedKeyValueBatch: Calling spill() on RowBasedKeyValueBatch. Will not spill but return 0.\n",
      "22/06/21 16:43:35 WARN RowBasedKeyValueBatch: Calling spill() on RowBasedKeyValueBatch. Will not spill but return 0.\n",
      "22/06/21 16:43:35 WARN RowBasedKeyValueBatch: Calling spill() on RowBasedKeyValueBatch. Will not spill but return 0.\n",
      "22/06/21 16:43:35 WARN RowBasedKeyValueBatch: Calling spill() on RowBasedKeyValueBatch. Will not spill but return 0.\n",
      "22/06/21 16:43:35 WARN RowBasedKeyValueBatch: Calling spill() on RowBasedKeyValueBatch. Will not spill but return 0.\n",
      "22/06/21 16:43:35 WARN RowBasedKeyValueBatch: Calling spill() on RowBasedKeyValueBatch. Will not spill but return 0.\n",
      "22/06/21 16:43:35 WARN RowBasedKeyValueBatch: Calling spill() on RowBasedKeyValueBatch. Will not spill but return 0.\n",
      "22/06/21 16:43:35 WARN RowBasedKeyValueBatch: Calling spill() on RowBasedKeyValueBatch. Will not spill but return 0.\n",
      "22/06/21 16:43:35 WARN RowBasedKeyValueBatch: Calling spill() on RowBasedKeyValueBatch. Will not spill but return 0.\n",
      "22/06/21 16:43:35 WARN RowBasedKeyValueBatch: Calling spill() on RowBasedKeyValueBatch. Will not spill but return 0.\n",
      "22/06/21 16:43:35 WARN RowBasedKeyValueBatch: Calling spill() on RowBasedKeyValueBatch. Will not spill but return 0.\n",
      "22/06/21 16:43:35 WARN RowBasedKeyValueBatch: Calling spill() on RowBasedKeyValueBatch. Will not spill but return 0.\n",
      "22/06/21 16:43:35 WARN RowBasedKeyValueBatch: Calling spill() on RowBasedKeyValueBatch. Will not spill but return 0.\n",
      "22/06/21 16:43:35 WARN RowBasedKeyValueBatch: Calling spill() on RowBasedKeyValueBatch. Will not spill but return 0.\n",
      "22/06/21 16:43:35 WARN RowBasedKeyValueBatch: Calling spill() on RowBasedKeyValueBatch. Will not spill but return 0.\n",
      "22/06/21 16:43:35 WARN RowBasedKeyValueBatch: Calling spill() on RowBasedKeyValueBatch. Will not spill but return 0.\n"
     ]
    },
    {
     "name": "stderr",
     "output_type": "stream",
     "text": [
      "[Stage 209:>                (0 + 5) / 6][Stage 210:>              (0 + 0) / 200]\r"
     ]
    },
    {
     "name": "stdout",
     "output_type": "stream",
     "text": [
      "22/06/21 16:43:35 WARN RowBasedKeyValueBatch: Calling spill() on RowBasedKeyValueBatch. Will not spill but return 0.\n",
      "22/06/21 16:43:35 WARN RowBasedKeyValueBatch: Calling spill() on RowBasedKeyValueBatch. Will not spill but return 0.\n",
      "22/06/21 16:43:35 WARN RowBasedKeyValueBatch: Calling spill() on RowBasedKeyValueBatch. Will not spill but return 0.\n",
      "22/06/21 16:43:35 WARN RowBasedKeyValueBatch: Calling spill() on RowBasedKeyValueBatch. Will not spill but return 0.\n",
      "22/06/21 16:43:36 WARN RowBasedKeyValueBatch: Calling spill() on RowBasedKeyValueBatch. Will not spill but return 0.\n",
      "22/06/21 16:43:36 WARN RowBasedKeyValueBatch: Calling spill() on RowBasedKeyValueBatch. Will not spill but return 0.\n",
      "22/06/21 16:43:36 WARN RowBasedKeyValueBatch: Calling spill() on RowBasedKeyValueBatch. Will not spill but return 0.\n",
      "22/06/21 16:43:36 WARN RowBasedKeyValueBatch: Calling spill() on RowBasedKeyValueBatch. Will not spill but return 0.\n",
      "22/06/21 16:43:36 WARN RowBasedKeyValueBatch: Calling spill() on RowBasedKeyValueBatch. Will not spill but return 0.\n",
      "22/06/21 16:43:36 WARN RowBasedKeyValueBatch: Calling spill() on RowBasedKeyValueBatch. Will not spill but return 0.\n",
      "22/06/21 16:43:36 WARN RowBasedKeyValueBatch: Calling spill() on RowBasedKeyValueBatch. Will not spill but return 0.\n",
      "22/06/21 16:43:36 WARN RowBasedKeyValueBatch: Calling spill() on RowBasedKeyValueBatch. Will not spill but return 0.\n",
      "22/06/21 16:43:36 WARN RowBasedKeyValueBatch: Calling spill() on RowBasedKeyValueBatch. Will not spill but return 0.\n",
      "22/06/21 16:43:36 WARN RowBasedKeyValueBatch: Calling spill() on RowBasedKeyValueBatch. Will not spill but return 0.\n",
      "22/06/21 16:43:36 WARN RowBasedKeyValueBatch: Calling spill() on RowBasedKeyValueBatch. Will not spill but return 0.\n",
      "22/06/21 16:43:36 WARN RowBasedKeyValueBatch: Calling spill() on RowBasedKeyValueBatch. Will not spill but return 0.\n",
      "22/06/21 16:43:36 WARN RowBasedKeyValueBatch: Calling spill() on RowBasedKeyValueBatch. Will not spill but return 0.\n",
      "22/06/21 16:43:36 WARN RowBasedKeyValueBatch: Calling spill() on RowBasedKeyValueBatch. Will not spill but return 0.\n",
      "22/06/21 16:43:36 WARN RowBasedKeyValueBatch: Calling spill() on RowBasedKeyValueBatch. Will not spill but return 0.\n",
      "22/06/21 16:43:36 WARN RowBasedKeyValueBatch: Calling spill() on RowBasedKeyValueBatch. Will not spill but return 0.\n",
      "22/06/21 16:43:36 WARN RowBasedKeyValueBatch: Calling spill() on RowBasedKeyValueBatch. Will not spill but return 0.\n",
      "22/06/21 16:43:36 WARN RowBasedKeyValueBatch: Calling spill() on RowBasedKeyValueBatch. Will not spill but return 0.\n",
      "22/06/21 16:43:36 WARN RowBasedKeyValueBatch: Calling spill() on RowBasedKeyValueBatch. Will not spill but return 0.\n",
      "22/06/21 16:43:36 WARN RowBasedKeyValueBatch: Calling spill() on RowBasedKeyValueBatch. Will not spill but return 0.\n",
      "22/06/21 16:43:36 WARN RowBasedKeyValueBatch: Calling spill() on RowBasedKeyValueBatch. Will not spill but return 0.\n",
      "22/06/21 16:43:36 WARN RowBasedKeyValueBatch: Calling spill() on RowBasedKeyValueBatch. Will not spill but return 0.\n",
      "22/06/21 16:43:36 WARN RowBasedKeyValueBatch: Calling spill() on RowBasedKeyValueBatch. Will not spill but return 0.\n",
      "22/06/21 16:43:36 WARN RowBasedKeyValueBatch: Calling spill() on RowBasedKeyValueBatch. Will not spill but return 0.\n",
      "22/06/21 16:43:36 WARN RowBasedKeyValueBatch: Calling spill() on RowBasedKeyValueBatch. Will not spill but return 0.\n",
      "22/06/21 16:43:36 WARN RowBasedKeyValueBatch: Calling spill() on RowBasedKeyValueBatch. Will not spill but return 0.\n",
      "22/06/21 16:43:36 WARN RowBasedKeyValueBatch: Calling spill() on RowBasedKeyValueBatch. Will not spill but return 0.\n",
      "22/06/21 16:43:36 WARN RowBasedKeyValueBatch: Calling spill() on RowBasedKeyValueBatch. Will not spill but return 0.\n",
      "22/06/21 16:43:36 WARN RowBasedKeyValueBatch: Calling spill() on RowBasedKeyValueBatch. Will not spill but return 0.\n",
      "22/06/21 16:43:36 WARN RowBasedKeyValueBatch: Calling spill() on RowBasedKeyValueBatch. Will not spill but return 0.\n",
      "22/06/21 16:43:36 WARN RowBasedKeyValueBatch: Calling spill() on RowBasedKeyValueBatch. Will not spill but return 0.\n",
      "22/06/21 16:43:36 WARN RowBasedKeyValueBatch: Calling spill() on RowBasedKeyValueBatch. Will not spill but return 0.\n",
      "22/06/21 16:43:36 WARN RowBasedKeyValueBatch: Calling spill() on RowBasedKeyValueBatch. Will not spill but return 0.\n",
      "22/06/21 16:43:36 WARN RowBasedKeyValueBatch: Calling spill() on RowBasedKeyValueBatch. Will not spill but return 0.\n",
      "22/06/21 16:43:36 WARN RowBasedKeyValueBatch: Calling spill() on RowBasedKeyValueBatch. Will not spill but return 0.\n",
      "22/06/21 16:43:36 WARN RowBasedKeyValueBatch: Calling spill() on RowBasedKeyValueBatch. Will not spill but return 0.\n",
      "22/06/21 16:43:36 WARN RowBasedKeyValueBatch: Calling spill() on RowBasedKeyValueBatch. Will not spill but return 0.\n",
      "22/06/21 16:43:36 WARN RowBasedKeyValueBatch: Calling spill() on RowBasedKeyValueBatch. Will not spill but return 0.\n",
      "22/06/21 16:43:36 WARN RowBasedKeyValueBatch: Calling spill() on RowBasedKeyValueBatch. Will not spill but return 0.\n",
      "22/06/21 16:43:36 WARN RowBasedKeyValueBatch: Calling spill() on RowBasedKeyValueBatch. Will not spill but return 0.\n",
      "22/06/21 16:43:37 WARN RowBasedKeyValueBatch: Calling spill() on RowBasedKeyValueBatch. Will not spill but return 0.\n",
      "22/06/21 16:43:37 WARN RowBasedKeyValueBatch: Calling spill() on RowBasedKeyValueBatch. Will not spill but return 0.\n",
      "22/06/21 16:43:37 WARN RowBasedKeyValueBatch: Calling spill() on RowBasedKeyValueBatch. Will not spill but return 0.\n",
      "22/06/21 16:43:37 WARN RowBasedKeyValueBatch: Calling spill() on RowBasedKeyValueBatch. Will not spill but return 0.\n",
      "22/06/21 16:43:37 WARN RowBasedKeyValueBatch: Calling spill() on RowBasedKeyValueBatch. Will not spill but return 0.\n",
      "22/06/21 16:43:37 WARN RowBasedKeyValueBatch: Calling spill() on RowBasedKeyValueBatch. Will not spill but return 0.\n",
      "22/06/21 16:43:38 WARN RowBasedKeyValueBatch: Calling spill() on RowBasedKeyValueBatch. Will not spill but return 0.\n",
      "22/06/21 16:43:38 WARN RowBasedKeyValueBatch: Calling spill() on RowBasedKeyValueBatch. Will not spill but return 0.\n",
      "22/06/21 16:43:38 WARN RowBasedKeyValueBatch: Calling spill() on RowBasedKeyValueBatch. Will not spill but return 0.\n",
      "22/06/21 16:43:38 WARN RowBasedKeyValueBatch: Calling spill() on RowBasedKeyValueBatch. Will not spill but return 0.\n",
      "22/06/21 16:43:38 WARN RowBasedKeyValueBatch: Calling spill() on RowBasedKeyValueBatch. Will not spill but return 0.\n",
      "22/06/21 16:43:39 WARN RowBasedKeyValueBatch: Calling spill() on RowBasedKeyValueBatch. Will not spill but return 0.\n",
      "22/06/21 16:43:39 WARN RowBasedKeyValueBatch: Calling spill() on RowBasedKeyValueBatch. Will not spill but return 0.\n",
      "22/06/21 16:43:39 WARN RowBasedKeyValueBatch: Calling spill() on RowBasedKeyValueBatch. Will not spill but return 0.\n",
      "22/06/21 16:43:40 WARN RowBasedKeyValueBatch: Calling spill() on RowBasedKeyValueBatch. Will not spill but return 0.\n",
      "22/06/21 16:43:40 WARN RowBasedKeyValueBatch: Calling spill() on RowBasedKeyValueBatch. Will not spill but return 0.\n",
      "22/06/21 16:43:40 WARN RowBasedKeyValueBatch: Calling spill() on RowBasedKeyValueBatch. Will not spill but return 0.\n",
      "22/06/21 16:43:40 WARN RowBasedKeyValueBatch: Calling spill() on RowBasedKeyValueBatch. Will not spill but return 0.\n",
      "22/06/21 16:43:40 WARN RowBasedKeyValueBatch: Calling spill() on RowBasedKeyValueBatch. Will not spill but return 0.\n",
      "22/06/21 16:43:40 WARN RowBasedKeyValueBatch: Calling spill() on RowBasedKeyValueBatch. Will not spill but return 0.\n"
     ]
    },
    {
     "name": "stderr",
     "output_type": "stream",
     "text": [
      "[Stage 210:====================================================>(197 + 3) / 200]\r"
     ]
    },
    {
     "name": "stdout",
     "output_type": "stream",
     "text": [
      "22/06/21 16:43:48 WARN RowBasedKeyValueBatch: Calling spill() on RowBasedKeyValueBatch. Will not spill but return 0.\n",
      "22/06/21 16:43:48 WARN RowBasedKeyValueBatch: Calling spill() on RowBasedKeyValueBatch. Will not spill but return 0.\n",
      "22/06/21 16:43:48 WARN RowBasedKeyValueBatch: Calling spill() on RowBasedKeyValueBatch. Will not spill but return 0.\n",
      "22/06/21 16:43:48 WARN RowBasedKeyValueBatch: Calling spill() on RowBasedKeyValueBatch. Will not spill but return 0.\n",
      "22/06/21 16:43:48 WARN RowBasedKeyValueBatch: Calling spill() on RowBasedKeyValueBatch. Will not spill but return 0.\n"
     ]
    },
    {
     "name": "stderr",
     "output_type": "stream",
     "text": [
      "[Stage 215:=======================>                                (5 + 5) / 12]\r"
     ]
    },
    {
     "name": "stdout",
     "output_type": "stream",
     "text": [
      "22/06/21 16:43:49 WARN RowBasedKeyValueBatch: Calling spill() on RowBasedKeyValueBatch. Will not spill but return 0.\n",
      "22/06/21 16:43:49 WARN RowBasedKeyValueBatch: Calling spill() on RowBasedKeyValueBatch. Will not spill but return 0.\n",
      "22/06/21 16:43:49 WARN RowBasedKeyValueBatch: Calling spill() on RowBasedKeyValueBatch. Will not spill but return 0.\n",
      "22/06/21 16:43:49 WARN RowBasedKeyValueBatch: Calling spill() on RowBasedKeyValueBatch. Will not spill but return 0.\n",
      "22/06/21 16:43:49 WARN RowBasedKeyValueBatch: Calling spill() on RowBasedKeyValueBatch. Will not spill but return 0.\n"
     ]
    },
    {
     "name": "stderr",
     "output_type": "stream",
     "text": [
      "                                                                                \r"
     ]
    }
   ],
   "source": [
    "#alle Schritte, die nötig waren, um die Bots einzustufen\n",
    "from src.data.dataset_functions import get_dataframe\n",
    "\n",
    "dataFrame = get_dataframe(True)\n",
    "\n",
    "import pyspark.sql.functions as F\n",
    "timeDiffFrame = dataFrame.alias('df1').join(dataFrame.alias('df2'),F.col('df1.user_id') == F.col('df2.user_id'),'inner')\n",
    "timeDiffFrame = timeDiffFrame.where('df2.t > df1.t')\n",
    "timeDiffFrame = timeDiffFrame.orderBy(['df1.user_id', 'df1.t'])\n",
    "timeDiffFrame = timeDiffFrame.select(F.col('df1.user_id'),F.col('df1.t').alias('t1'),F.col('df2.t').alias('t2'),(F.col('df2.t') - F.col('df1.t')).alias('diff'))\n",
    "timeDiffReduced = timeDiffFrame.dropDuplicates(['user_id', 't1'])\n",
    "timeDiffReduced = timeDiffReduced.orderBy(['user_id', 't1'])\n",
    "\n",
    "botDiff = timeDiffReduced.alias('tdr1').join(timeDiffReduced.alias('tdr2'),F.col('tdr1.user_id') == F.col('tdr2.user_id'),'inner')\n",
    "botDiff = botDiff.where('tdr1.diff == tdr2.diff').where('tdr1.t2 == tdr2.t1')\n",
    "botDiff = botDiff.select('tdr1.user_id','tdr1.diff')\n",
    "botDiff = botDiff.dropDuplicates(['user_id'])\n",
    "botDiff = botDiff.orderBy(['user_id'])"
   ]
  },
  {
   "cell_type": "code",
   "execution_count": 92,
   "metadata": {},
   "outputs": [
    {
     "name": "stdout",
     "output_type": "stream",
     "text": [
      "root\n",
      " |-- user_id: string (nullable = true)\n",
      " |-- x: integer (nullable = true)\n",
      " |-- y: integer (nullable = true)\n",
      " |-- t: long (nullable = true)\n",
      " |-- pixel_color: string (nullable = true)\n",
      "\n"
     ]
    },
    {
     "name": "stderr",
     "output_type": "stream",
     "text": [
      "[Stage 335:====================================================>  (20 + 1) / 21]\r"
     ]
    },
    {
     "name": "stdout",
     "output_type": "stream",
     "text": [
      "22/06/21 17:40:04 WARN RowBasedKeyValueBatch: Calling spill() on RowBasedKeyValueBatch. Will not spill but return 0.\n",
      "22/06/21 17:40:04 WARN RowBasedKeyValueBatch: Calling spill() on RowBasedKeyValueBatch. Will not spill but return 0.\n",
      "22/06/21 17:40:04 WARN RowBasedKeyValueBatch: Calling spill() on RowBasedKeyValueBatch. Will not spill but return 0.\n",
      "22/06/21 17:40:04 WARN RowBasedKeyValueBatch: Calling spill() on RowBasedKeyValueBatch. Will not spill but return 0.\n",
      "22/06/21 17:40:04 WARN RowBasedKeyValueBatch: Calling spill() on RowBasedKeyValueBatch. Will not spill but return 0.\n",
      "22/06/21 17:40:04 WARN RowBasedKeyValueBatch: Calling spill() on RowBasedKeyValueBatch. Will not spill but return 0.\n",
      "22/06/21 17:40:04 WARN RowBasedKeyValueBatch: Calling spill() on RowBasedKeyValueBatch. Will not spill but return 0.\n",
      "22/06/21 17:40:04 WARN RowBasedKeyValueBatch: Calling spill() on RowBasedKeyValueBatch. Will not spill but return 0.\n",
      "22/06/21 17:40:04 WARN RowBasedKeyValueBatch: Calling spill() on RowBasedKeyValueBatch. Will not spill but return 0.\n",
      "22/06/21 17:40:04 WARN RowBasedKeyValueBatch: Calling spill() on RowBasedKeyValueBatch. Will not spill but return 0.\n",
      "22/06/21 17:40:04 WARN RowBasedKeyValueBatch: Calling spill() on RowBasedKeyValueBatch. Will not spill but return 0.\n",
      "22/06/21 17:40:04 WARN RowBasedKeyValueBatch: Calling spill() on RowBasedKeyValueBatch. Will not spill but return 0.\n",
      "22/06/21 17:40:04 WARN RowBasedKeyValueBatch: Calling spill() on RowBasedKeyValueBatch. Will not spill but return 0.\n",
      "22/06/21 17:40:04 WARN RowBasedKeyValueBatch: Calling spill() on RowBasedKeyValueBatch. Will not spill but return 0.\n",
      "22/06/21 17:40:04 WARN RowBasedKeyValueBatch: Calling spill() on RowBasedKeyValueBatch. Will not spill but return 0.\n",
      "22/06/21 17:40:04 WARN RowBasedKeyValueBatch: Calling spill() on RowBasedKeyValueBatch. Will not spill but return 0.\n",
      "22/06/21 17:40:04 WARN RowBasedKeyValueBatch: Calling spill() on RowBasedKeyValueBatch. Will not spill but return 0.\n",
      "22/06/21 17:40:04 WARN RowBasedKeyValueBatch: Calling spill() on RowBasedKeyValueBatch. Will not spill but return 0.\n",
      "22/06/21 17:40:04 WARN RowBasedKeyValueBatch: Calling spill() on RowBasedKeyValueBatch. Will not spill but return 0.\n",
      "22/06/21 17:40:04 WARN RowBasedKeyValueBatch: Calling spill() on RowBasedKeyValueBatch. Will not spill but return 0.\n",
      "22/06/21 17:40:04 WARN RowBasedKeyValueBatch: Calling spill() on RowBasedKeyValueBatch. Will not spill but return 0.\n",
      "22/06/21 17:40:04 WARN RowBasedKeyValueBatch: Calling spill() on RowBasedKeyValueBatch. Will not spill but return 0.\n",
      "22/06/21 17:40:04 WARN RowBasedKeyValueBatch: Calling spill() on RowBasedKeyValueBatch. Will not spill but return 0.\n",
      "22/06/21 17:40:04 WARN RowBasedKeyValueBatch: Calling spill() on RowBasedKeyValueBatch. Will not spill but return 0.\n",
      "22/06/21 17:40:04 WARN RowBasedKeyValueBatch: Calling spill() on RowBasedKeyValueBatch. Will not spill but return 0.\n",
      "22/06/21 17:40:04 WARN RowBasedKeyValueBatch: Calling spill() on RowBasedKeyValueBatch. Will not spill but return 0.\n",
      "22/06/21 17:40:04 WARN RowBasedKeyValueBatch: Calling spill() on RowBasedKeyValueBatch. Will not spill but return 0.\n",
      "22/06/21 17:40:04 WARN RowBasedKeyValueBatch: Calling spill() on RowBasedKeyValueBatch. Will not spill but return 0.\n",
      "22/06/21 17:40:04 WARN RowBasedKeyValueBatch: Calling spill() on RowBasedKeyValueBatch. Will not spill but return 0.\n",
      "22/06/21 17:40:04 WARN RowBasedKeyValueBatch: Calling spill() on RowBasedKeyValueBatch. Will not spill but return 0.\n"
     ]
    },
    {
     "name": "stderr",
     "output_type": "stream",
     "text": [
      "[Stage 338:>                (0 + 5) / 6][Stage 339:>              (0 + 0) / 200]\r"
     ]
    },
    {
     "name": "stdout",
     "output_type": "stream",
     "text": [
      "22/06/21 17:40:04 WARN RowBasedKeyValueBatch: Calling spill() on RowBasedKeyValueBatch. Will not spill but return 0.\n",
      "22/06/21 17:40:04 WARN RowBasedKeyValueBatch: Calling spill() on RowBasedKeyValueBatch. Will not spill but return 0.\n",
      "22/06/21 17:40:04 WARN RowBasedKeyValueBatch: Calling spill() on RowBasedKeyValueBatch. Will not spill but return 0.\n",
      "22/06/21 17:40:04 WARN RowBasedKeyValueBatch: Calling spill() on RowBasedKeyValueBatch. Will not spill but return 0.\n",
      "22/06/21 17:40:04 WARN RowBasedKeyValueBatch: Calling spill() on RowBasedKeyValueBatch. Will not spill but return 0.\n",
      "22/06/21 17:40:04 WARN RowBasedKeyValueBatch: Calling spill() on RowBasedKeyValueBatch. Will not spill but return 0.\n",
      "22/06/21 17:40:04 WARN RowBasedKeyValueBatch: Calling spill() on RowBasedKeyValueBatch. Will not spill but return 0.\n",
      "22/06/21 17:40:04 WARN RowBasedKeyValueBatch: Calling spill() on RowBasedKeyValueBatch. Will not spill but return 0.\n",
      "22/06/21 17:40:04 WARN RowBasedKeyValueBatch: Calling spill() on RowBasedKeyValueBatch. Will not spill but return 0.\n",
      "22/06/21 17:40:04 WARN RowBasedKeyValueBatch: Calling spill() on RowBasedKeyValueBatch. Will not spill but return 0.\n",
      "22/06/21 17:40:05 WARN RowBasedKeyValueBatch: Calling spill() on RowBasedKeyValueBatch. Will not spill but return 0.\n",
      "22/06/21 17:40:05 WARN RowBasedKeyValueBatch: Calling spill() on RowBasedKeyValueBatch. Will not spill but return 0.\n",
      "22/06/21 17:40:05 WARN RowBasedKeyValueBatch: Calling spill() on RowBasedKeyValueBatch. Will not spill but return 0.\n",
      "22/06/21 17:40:05 WARN RowBasedKeyValueBatch: Calling spill() on RowBasedKeyValueBatch. Will not spill but return 0.\n",
      "22/06/21 17:40:05 WARN RowBasedKeyValueBatch: Calling spill() on RowBasedKeyValueBatch. Will not spill but return 0.\n",
      "22/06/21 17:40:05 WARN RowBasedKeyValueBatch: Calling spill() on RowBasedKeyValueBatch. Will not spill but return 0.\n",
      "22/06/21 17:40:05 WARN RowBasedKeyValueBatch: Calling spill() on RowBasedKeyValueBatch. Will not spill but return 0.\n",
      "22/06/21 17:40:05 WARN RowBasedKeyValueBatch: Calling spill() on RowBasedKeyValueBatch. Will not spill but return 0.\n",
      "22/06/21 17:40:05 WARN RowBasedKeyValueBatch: Calling spill() on RowBasedKeyValueBatch. Will not spill but return 0.\n",
      "22/06/21 17:40:05 WARN RowBasedKeyValueBatch: Calling spill() on RowBasedKeyValueBatch. Will not spill but return 0.\n",
      "22/06/21 17:40:05 WARN RowBasedKeyValueBatch: Calling spill() on RowBasedKeyValueBatch. Will not spill but return 0.\n",
      "22/06/21 17:40:05 WARN RowBasedKeyValueBatch: Calling spill() on RowBasedKeyValueBatch. Will not spill but return 0.\n",
      "22/06/21 17:40:05 WARN RowBasedKeyValueBatch: Calling spill() on RowBasedKeyValueBatch. Will not spill but return 0.\n",
      "22/06/21 17:40:05 WARN RowBasedKeyValueBatch: Calling spill() on RowBasedKeyValueBatch. Will not spill but return 0.\n",
      "22/06/21 17:40:05 WARN RowBasedKeyValueBatch: Calling spill() on RowBasedKeyValueBatch. Will not spill but return 0.\n",
      "22/06/21 17:40:05 WARN RowBasedKeyValueBatch: Calling spill() on RowBasedKeyValueBatch. Will not spill but return 0.\n",
      "22/06/21 17:40:05 WARN RowBasedKeyValueBatch: Calling spill() on RowBasedKeyValueBatch. Will not spill but return 0.\n",
      "22/06/21 17:40:05 WARN RowBasedKeyValueBatch: Calling spill() on RowBasedKeyValueBatch. Will not spill but return 0.\n",
      "22/06/21 17:40:05 WARN RowBasedKeyValueBatch: Calling spill() on RowBasedKeyValueBatch. Will not spill but return 0.\n",
      "22/06/21 17:40:05 WARN RowBasedKeyValueBatch: Calling spill() on RowBasedKeyValueBatch. Will not spill but return 0.\n",
      "22/06/21 17:40:05 WARN RowBasedKeyValueBatch: Calling spill() on RowBasedKeyValueBatch. Will not spill but return 0.\n",
      "22/06/21 17:40:05 WARN RowBasedKeyValueBatch: Calling spill() on RowBasedKeyValueBatch. Will not spill but return 0.\n",
      "22/06/21 17:40:05 WARN RowBasedKeyValueBatch: Calling spill() on RowBasedKeyValueBatch. Will not spill but return 0.\n",
      "22/06/21 17:40:05 WARN RowBasedKeyValueBatch: Calling spill() on RowBasedKeyValueBatch. Will not spill but return 0.\n",
      "22/06/21 17:40:05 WARN RowBasedKeyValueBatch: Calling spill() on RowBasedKeyValueBatch. Will not spill but return 0.\n",
      "22/06/21 17:40:05 WARN RowBasedKeyValueBatch: Calling spill() on RowBasedKeyValueBatch. Will not spill but return 0.\n",
      "22/06/21 17:40:05 WARN RowBasedKeyValueBatch: Calling spill() on RowBasedKeyValueBatch. Will not spill but return 0.\n",
      "22/06/21 17:40:05 WARN RowBasedKeyValueBatch: Calling spill() on RowBasedKeyValueBatch. Will not spill but return 0.\n",
      "22/06/21 17:40:05 WARN RowBasedKeyValueBatch: Calling spill() on RowBasedKeyValueBatch. Will not spill but return 0.\n",
      "22/06/21 17:40:05 WARN RowBasedKeyValueBatch: Calling spill() on RowBasedKeyValueBatch. Will not spill but return 0.\n",
      "22/06/21 17:40:05 WARN RowBasedKeyValueBatch: Calling spill() on RowBasedKeyValueBatch. Will not spill but return 0.\n",
      "22/06/21 17:40:05 WARN RowBasedKeyValueBatch: Calling spill() on RowBasedKeyValueBatch. Will not spill but return 0.\n",
      "22/06/21 17:40:05 WARN RowBasedKeyValueBatch: Calling spill() on RowBasedKeyValueBatch. Will not spill but return 0.\n",
      "22/06/21 17:40:05 WARN RowBasedKeyValueBatch: Calling spill() on RowBasedKeyValueBatch. Will not spill but return 0.\n",
      "22/06/21 17:40:05 WARN RowBasedKeyValueBatch: Calling spill() on RowBasedKeyValueBatch. Will not spill but return 0.\n",
      "22/06/21 17:40:05 WARN RowBasedKeyValueBatch: Calling spill() on RowBasedKeyValueBatch. Will not spill but return 0.\n",
      "22/06/21 17:40:06 WARN RowBasedKeyValueBatch: Calling spill() on RowBasedKeyValueBatch. Will not spill but return 0.\n",
      "22/06/21 17:40:06 WARN RowBasedKeyValueBatch: Calling spill() on RowBasedKeyValueBatch. Will not spill but return 0.\n",
      "22/06/21 17:40:06 WARN RowBasedKeyValueBatch: Calling spill() on RowBasedKeyValueBatch. Will not spill but return 0.\n",
      "22/06/21 17:40:06 WARN RowBasedKeyValueBatch: Calling spill() on RowBasedKeyValueBatch. Will not spill but return 0.\n",
      "22/06/21 17:40:07 WARN RowBasedKeyValueBatch: Calling spill() on RowBasedKeyValueBatch. Will not spill but return 0.\n",
      "22/06/21 17:40:08 WARN RowBasedKeyValueBatch: Calling spill() on RowBasedKeyValueBatch. Will not spill but return 0.\n",
      "22/06/21 17:40:08 WARN RowBasedKeyValueBatch: Calling spill() on RowBasedKeyValueBatch. Will not spill but return 0.\n",
      "22/06/21 17:40:08 WARN RowBasedKeyValueBatch: Calling spill() on RowBasedKeyValueBatch. Will not spill but return 0.\n",
      "22/06/21 17:40:08 WARN RowBasedKeyValueBatch: Calling spill() on RowBasedKeyValueBatch. Will not spill but return 0.\n",
      "22/06/21 17:40:08 WARN RowBasedKeyValueBatch: Calling spill() on RowBasedKeyValueBatch. Will not spill but return 0.\n",
      "22/06/21 17:40:08 WARN RowBasedKeyValueBatch: Calling spill() on RowBasedKeyValueBatch. Will not spill but return 0.\n",
      "22/06/21 17:40:08 WARN RowBasedKeyValueBatch: Calling spill() on RowBasedKeyValueBatch. Will not spill but return 0.\n",
      "22/06/21 17:40:08 WARN RowBasedKeyValueBatch: Calling spill() on RowBasedKeyValueBatch. Will not spill but return 0.\n",
      "22/06/21 17:40:09 WARN RowBasedKeyValueBatch: Calling spill() on RowBasedKeyValueBatch. Will not spill but return 0.\n",
      "22/06/21 17:40:09 WARN RowBasedKeyValueBatch: Calling spill() on RowBasedKeyValueBatch. Will not spill but return 0.\n",
      "22/06/21 17:40:09 WARN RowBasedKeyValueBatch: Calling spill() on RowBasedKeyValueBatch. Will not spill but return 0.\n",
      "22/06/21 17:40:09 WARN RowBasedKeyValueBatch: Calling spill() on RowBasedKeyValueBatch. Will not spill but return 0.\n",
      "22/06/21 17:40:09 WARN RowBasedKeyValueBatch: Calling spill() on RowBasedKeyValueBatch. Will not spill but return 0.\n",
      "22/06/21 17:40:09 WARN RowBasedKeyValueBatch: Calling spill() on RowBasedKeyValueBatch. Will not spill but return 0.\n",
      "22/06/21 17:40:09 WARN RowBasedKeyValueBatch: Calling spill() on RowBasedKeyValueBatch. Will not spill but return 0.\n",
      "22/06/21 17:40:09 WARN RowBasedKeyValueBatch: Calling spill() on RowBasedKeyValueBatch. Will not spill but return 0.\n",
      "22/06/21 17:40:09 WARN RowBasedKeyValueBatch: Calling spill() on RowBasedKeyValueBatch. Will not spill but return 0.\n"
     ]
    },
    {
     "name": "stderr",
     "output_type": "stream",
     "text": [
      "[Stage 338:==============>  (5 + 1) / 6][Stage 339:>              (0 + 4) / 200]\r"
     ]
    },
    {
     "name": "stdout",
     "output_type": "stream",
     "text": [
      "22/06/21 17:40:11 WARN RowBasedKeyValueBatch: Calling spill() on RowBasedKeyValueBatch. Will not spill but return 0.\n"
     ]
    },
    {
     "name": "stderr",
     "output_type": "stream",
     "text": [
      "[Stage 354:===================================>                     (5 + 3) / 8]\r"
     ]
    },
    {
     "name": "stdout",
     "output_type": "stream",
     "text": [
      "+--------------------+----+----+----------+-----------+\n",
      "|             user_id|   x|   y|         t|pixel_color|\n",
      "+--------------------+----+----+----------+-----------+\n",
      "|++6IlQ1s33JtGR24y...|1036| 592|1649047000|    #D4D7D9|\n",
      "|++6IlQ1s33JtGR24y...| 410| 854|1649047324|    #FFFFFF|\n",
      "|++6IlQ1s33JtGR24y...| 459|1990|1649047643|    #2450A4|\n",
      "|++6IlQ1s33JtGR24y...|1796| 806|1649047959|    #FFD635|\n",
      "|++6IlQ1s33JtGR24y...|1710|1142|1649048275|    #3690EA|\n",
      "|++6IlQ1s33JtGR24y...|1801| 791|1649048591|    #FFD635|\n",
      "|++6IlQ1s33JtGR24y...|1707|1167|1649048894|    #000000|\n",
      "|++6IlQ1s33JtGR24y...| 223|1137|1649049214|    #D4D7D9|\n",
      "|++6IlQ1s33JtGR24y...| 782|1170|1649049531|    #000000|\n",
      "|++6IlQ1s33JtGR24y...|1487|1179|1649049842|    #000000|\n",
      "|++6IlQ1s33JtGR24y...|1803| 803|1649050163|    #000000|\n",
      "|++6IlQ1s33JtGR24y...| 228| 864|1649050475|    #FFD635|\n",
      "|++ZTAhuLp4CF8NxY2...|  73| 453|1649043516|    #FF4500|\n",
      "|++ZTAhuLp4CF8NxY2...|  70| 463|1649045028|    #FFD635|\n",
      "|++ZTAhuLp4CF8NxY2...|1756| 899|1649046034|    #2450A4|\n",
      "|++ZTAhuLp4CF8NxY2...|1764| 901|1649046697|    #2450A4|\n",
      "|++ZTAhuLp4CF8NxY2...|1752| 899|1649047053|    #2450A4|\n",
      "|++ZTAhuLp4CF8NxY2...|1751| 898|1649047411|    #FFFFFF|\n",
      "|++ZTAhuLp4CF8NxY2...|1754| 898|1649047713|    #FFFFFF|\n",
      "|++ZTAhuLp4CF8NxY2...|1753| 900|1649048037|    #FFFFFF|\n",
      "|++ZTAhuLp4CF8NxY2...|1749| 898|1649048342|    #000000|\n",
      "|++ZTAhuLp4CF8NxY2...|1751| 900|1649048655|    #FFFFFF|\n",
      "|++ZTAhuLp4CF8NxY2...|1754| 907|1649048960|    #FFFFFF|\n",
      "|++ZTAhuLp4CF8NxY2...|1752| 913|1649049289|    #FFFFFF|\n",
      "|++ZTAhuLp4CF8NxY2...|1751| 918|1649049618|    #2450A4|\n",
      "|++ZTAhuLp4CF8NxY2...|1756| 897|1649049973|    #000000|\n",
      "|++ZTAhuLp4CF8NxY2...|1749| 927|1649050316|    #FFD635|\n",
      "|++ZTAhuLp4CF8NxY2...|1751| 923|1649050655|    #000000|\n",
      "|++ZqmOnKHVIHVRLdD...|1510| 966|1649045524|    #FFF8B8|\n",
      "|++ZqmOnKHVIHVRLdD...|1497| 944|1649045963|    #493AC1|\n",
      "+--------------------+----+----+----------+-----------+\n",
      "only showing top 30 rows\n",
      "\n"
     ]
    },
    {
     "name": "stderr",
     "output_type": "stream",
     "text": [
      "                                                                                \r"
     ]
    }
   ],
   "source": [
    "botsTotal = dataFrame.alias('df').join(botDiff.alias('bd'),F.col('df.user_id') == F.col('bd.user_id'), 'inner')\n",
    "botsTotal = botsTotal.select(F.col('df.user_id'),F.col('df.x'),F.col('df.y'),F.col('df.t'),F.col('pixel_color'))\n",
    "botsTotal = botsTotal.orderBy(['user_id', 't'])\n",
    "botsTotal = botsTotal.dropDuplicates(['user_id', 't']) #jeder Nutzer kann zu jeder Zeit nur einen Pixel gesetzt haben\n",
    "\n",
    "botsTotal.printSchema()\n",
    "botsTotal.show(30)\n"
   ]
  },
  {
   "cell_type": "code",
   "execution_count": 105,
   "metadata": {},
   "outputs": [
    {
     "name": "stdout",
     "output_type": "stream",
     "text": [
      "(0, 0, 0)\n"
     ]
    },
    {
     "ename": "NameError",
     "evalue": "name 'hex_to_rbg' is not defined",
     "output_type": "error",
     "traceback": [
      "\u001b[0;31m---------------------------------------------------------------------------\u001b[0m",
      "\u001b[0;31mNameError\u001b[0m                                 Traceback (most recent call last)",
      "\u001b[1;32m/workspaces/placegroups/notebooks/0.1-wetzel-bots-canvas.ipynb Cell 4'\u001b[0m in \u001b[0;36m<cell line: 19>\u001b[0;34m()\u001b[0m\n\u001b[1;32m     <a href='vscode-notebook-cell://dev-container%2B2f55736572732f67726574617765747a656c2f446f63756d656e74732f446f63756d656e7473202d204772657461e2809973204d6163426f6f6b2050726f2f42696720446174612f5265706f7369746f72792f706c61636567726f757073/workspaces/placegroups/notebooks/0.1-wetzel-bots-canvas.ipynb#ch0000003vscode-remote?line=9'>10</a>\u001b[0m \u001b[39mprint\u001b[39m(hex_to_rgb(\u001b[39m\"\u001b[39m\u001b[39m000000\u001b[39m\u001b[39m\"\u001b[39m))\n\u001b[1;32m     <a href='vscode-notebook-cell://dev-container%2B2f55736572732f67726574617765747a656c2f446f63756d656e74732f446f63756d656e7473202d204772657461e2809973204d6163426f6f6b2050726f2f42696720446174612f5265706f7369746f72792f706c61636567726f757073/workspaces/placegroups/notebooks/0.1-wetzel-bots-canvas.ipynb#ch0000003vscode-remote?line=10'>11</a>\u001b[0m \u001b[39m#def newImg():\u001b[39;00m\n\u001b[1;32m     <a href='vscode-notebook-cell://dev-container%2B2f55736572732f67726574617765747a656c2f446f63756d656e74732f446f63756d656e7473202d204772657461e2809973204d6163426f6f6b2050726f2f42696720446174612f5265706f7369746f72792f706c61636567726f757073/workspaces/placegroups/notebooks/0.1-wetzel-bots-canvas.ipynb#ch0000003vscode-remote?line=11'>12</a>\u001b[0m  \u001b[39m#   img = Image.new(\"RGB\", (2000,2000), \"WHITE\")\u001b[39;00m\n\u001b[1;32m     <a href='vscode-notebook-cell://dev-container%2B2f55736572732f67726574617765747a656c2f446f63756d656e74732f446f63756d656e7473202d204772657461e2809973204d6163426f6f6b2050726f2f42696720446174612f5265706f7369746f72792f706c61636567726f757073/workspaces/placegroups/notebooks/0.1-wetzel-bots-canvas.ipynb#ch0000003vscode-remote?line=12'>13</a>\u001b[0m   \u001b[39m#  img.save('../reports/figures/bots-canvas.jpg')\u001b[39;00m\n\u001b[0;32m   (...)\u001b[0m\n\u001b[1;32m     <a href='vscode-notebook-cell://dev-container%2B2f55736572732f67726574617765747a656c2f446f63756d656e74732f446f63756d656e7473202d204772657461e2809973204d6163426f6f6b2050726f2f42696720446174612f5265706f7369746f72792f706c61636567726f757073/workspaces/placegroups/notebooks/0.1-wetzel-bots-canvas.ipynb#ch0000003vscode-remote?line=15'>16</a>\u001b[0m      \u001b[39m#   img.putpixel(('x','y'),(color))\u001b[39;00m\n\u001b[1;32m     <a href='vscode-notebook-cell://dev-container%2B2f55736572732f67726574617765747a656c2f446f63756d656e74732f446f63756d656e7473202d204772657461e2809973204d6163426f6f6b2050726f2f42696720446174612f5265706f7369746f72792f706c61636567726f757073/workspaces/placegroups/notebooks/0.1-wetzel-bots-canvas.ipynb#ch0000003vscode-remote?line=16'>17</a>\u001b[0m     \u001b[39m#return img\u001b[39;00m\n\u001b[0;32m---> <a href='vscode-notebook-cell://dev-container%2B2f55736572732f67726574617765747a656c2f446f63756d656e74732f446f63756d656e7473202d204772657461e2809973204d6163426f6f6b2050726f2f42696720446174612f5265706f7369746f72792f706c61636567726f757073/workspaces/placegroups/notebooks/0.1-wetzel-bots-canvas.ipynb#ch0000003vscode-remote?line=18'>19</a>\u001b[0m canvas \u001b[39m=\u001b[39m newImg()\n\u001b[1;32m     <a href='vscode-notebook-cell://dev-container%2B2f55736572732f67726574617765747a656c2f446f63756d656e74732f446f63756d656e7473202d204772657461e2809973204d6163426f6f6b2050726f2f42696720446174612f5265706f7369746f72792f706c61636567726f757073/workspaces/placegroups/notebooks/0.1-wetzel-bots-canvas.ipynb#ch0000003vscode-remote?line=19'>20</a>\u001b[0m canvas\u001b[39m.\u001b[39mshow()\n",
      "\u001b[1;32m/workspaces/placegroups/notebooks/0.1-wetzel-bots-canvas.ipynb Cell 4'\u001b[0m in \u001b[0;36mnewImg\u001b[0;34m()\u001b[0m\n\u001b[1;32m     <a href='vscode-notebook-cell://dev-container%2B2f55736572732f67726574617765747a656c2f446f63756d656e74732f446f63756d656e7473202d204772657461e2809973204d6163426f6f6b2050726f2f42696720446174612f5265706f7369746f72792f706c61636567726f757073/workspaces/placegroups/notebooks/0.1-wetzel-bots-canvas.ipynb#ch0000003vscode-remote?line=12'>13</a>\u001b[0m img\u001b[39m.\u001b[39msave(\u001b[39m'\u001b[39m\u001b[39m../reports/figures/bots-canvas.jpg\u001b[39m\u001b[39m'\u001b[39m)\n\u001b[1;32m     <a href='vscode-notebook-cell://dev-container%2B2f55736572732f67726574617765747a656c2f446f63756d656e74732f446f63756d656e7473202d204772657461e2809973204d6163426f6f6b2050726f2f42696720446174612f5265706f7369746f72792f706c61636567726f757073/workspaces/placegroups/notebooks/0.1-wetzel-bots-canvas.ipynb#ch0000003vscode-remote?line=13'>14</a>\u001b[0m \u001b[39mfor\u001b[39;00m row \u001b[39min\u001b[39;00m botsTotal:\n\u001b[0;32m---> <a href='vscode-notebook-cell://dev-container%2B2f55736572732f67726574617765747a656c2f446f63756d656e74732f446f63756d656e7473202d204772657461e2809973204d6163426f6f6b2050726f2f42696720446174612f5265706f7369746f72792f706c61636567726f757073/workspaces/placegroups/notebooks/0.1-wetzel-bots-canvas.ipynb#ch0000003vscode-remote?line=14'>15</a>\u001b[0m     color \u001b[39m=\u001b[39m hex_to_rbg(\u001b[39m'\u001b[39m\u001b[39mpixel_color\u001b[39m\u001b[39m'\u001b[39m)\n\u001b[1;32m     <a href='vscode-notebook-cell://dev-container%2B2f55736572732f67726574617765747a656c2f446f63756d656e74732f446f63756d656e7473202d204772657461e2809973204d6163426f6f6b2050726f2f42696720446174612f5265706f7369746f72792f706c61636567726f757073/workspaces/placegroups/notebooks/0.1-wetzel-bots-canvas.ipynb#ch0000003vscode-remote?line=15'>16</a>\u001b[0m     img\u001b[39m.\u001b[39mputpixel((\u001b[39m'\u001b[39m\u001b[39mx\u001b[39m\u001b[39m'\u001b[39m,\u001b[39m'\u001b[39m\u001b[39my\u001b[39m\u001b[39m'\u001b[39m),(color))\n\u001b[1;32m     <a href='vscode-notebook-cell://dev-container%2B2f55736572732f67726574617765747a656c2f446f63756d656e74732f446f63756d656e7473202d204772657461e2809973204d6163426f6f6b2050726f2f42696720446174612f5265706f7369746f72792f706c61636567726f757073/workspaces/placegroups/notebooks/0.1-wetzel-bots-canvas.ipynb#ch0000003vscode-remote?line=16'>17</a>\u001b[0m \u001b[39mreturn\u001b[39;00m img\n",
      "\u001b[0;31mNameError\u001b[0m: name 'hex_to_rbg' is not defined"
     ]
    }
   ],
   "source": [
    "from PIL import Image, ImageColor\n",
    "from src.visualization.visuialization_functions import show_and_save\n",
    "\n",
    "def hex_to_rgb(hex):\n",
    "  rgb = []\n",
    "  for i in (0, 2, 4):\n",
    "    decimal = int(hex[i:i+2], 16)\n",
    "    rgb.append(decimal)\n",
    "  return tuple(rgb)\n",
    "print(hex_to_rgb(\"000000\"))\n",
    "#def newImg():\n",
    " #   img = Image.new(\"RGB\", (2000,2000), \"WHITE\")\n",
    "  #  img.save('../reports/figures/bots-canvas.jpg')\n",
    "   # for row in botsTotal:\n",
    "    #    color = hex_to_rbg('pixel_color')\n",
    "     #   img.putpixel(('x','y'),(color))\n",
    "    #return img\n",
    "\n",
    "canvas = newImg()\n",
    "canvas.show()\n",
    "\n",
    "#for row in dataCollect:\n",
    " #   x,y,count = list(row)\n",
    "  #  pixelcoords = '('+str(x)+','+str(y)+')'\n",
    "   # plt.bar(pixelcoords,count,color='#5050cc', width=0.5)\n",
    "                           "
   ]
  }
 ],
 "metadata": {
  "interpreter": {
   "hash": "949777d72b0d2535278d3dc13498b2535136f6dfe0678499012e853ee9abcab1"
  },
  "kernelspec": {
   "display_name": "Python 3.10.4 64-bit",
   "language": "python",
   "name": "python3"
  },
  "language_info": {
   "codemirror_mode": {
    "name": "ipython",
    "version": 3
   },
   "file_extension": ".py",
   "mimetype": "text/x-python",
   "name": "python",
   "nbconvert_exporter": "python",
   "pygments_lexer": "ipython3",
   "version": "3.10.4"
  },
  "orig_nbformat": 4
 },
 "nbformat": 4,
 "nbformat_minor": 2
}
