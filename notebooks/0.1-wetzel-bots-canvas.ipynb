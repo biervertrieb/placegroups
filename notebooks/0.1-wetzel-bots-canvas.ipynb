{
 "cells": [
  {
   "cell_type": "markdown",
   "metadata": {},
   "source": [
    "<div style=\"color:pink\">\n",
    "hier möchte ich einmal versuchen, die Pixel, die von Bots gesetzt wurden, nachzuzeichnen\n",
    "</div>"
   ]
  },
  {
   "cell_type": "code",
   "execution_count": 1,
   "metadata": {},
   "outputs": [
    {
     "name": "stdout",
     "output_type": "stream",
     "text": [
      "providing ../data/raw/2022_place_canvas_history-000000000050.csv ...\n",
      "../data/raw/2022_place_canvas_history-000000000050.csv is already in data/raw\n",
      ":: loading settings :: url = jar:file:/usr/local/lib/python3.10/site-packages/pyspark/jars/ivy-2.5.0.jar!/org/apache/ivy/core/settings/ivysettings.xml\n"
     ]
    },
    {
     "name": "stderr",
     "output_type": "stream",
     "text": [
      "Ivy Default Cache set to: /home/vscode/.ivy2/cache\n",
      "The jars for the packages stored in: /home/vscode/.ivy2/jars\n",
      "graphframes#graphframes added as a dependency\n",
      ":: resolving dependencies :: org.apache.spark#spark-submit-parent-a3f23bf0-ccec-4f95-a4e8-f596ccac4caf;1.0\n",
      "\tconfs: [default]\n",
      "\tfound graphframes#graphframes;0.8.2-spark3.2-s_2.12 in spark-packages\n",
      "\tfound org.slf4j#slf4j-api;1.7.16 in central\n",
      ":: resolution report :: resolve 68ms :: artifacts dl 2ms\n",
      "\t:: modules in use:\n",
      "\tgraphframes#graphframes;0.8.2-spark3.2-s_2.12 from spark-packages in [default]\n",
      "\torg.slf4j#slf4j-api;1.7.16 from central in [default]\n",
      "\t---------------------------------------------------------------------\n",
      "\t|                  |            modules            ||   artifacts   |\n",
      "\t|       conf       | number| search|dwnlded|evicted|| number|dwnlded|\n",
      "\t---------------------------------------------------------------------\n",
      "\t|      default     |   2   |   0   |   0   |   0   ||   2   |   0   |\n",
      "\t---------------------------------------------------------------------\n",
      ":: retrieving :: org.apache.spark#spark-submit-parent-a3f23bf0-ccec-4f95-a4e8-f596ccac4caf\n",
      "\tconfs: [default]\n",
      "\t0 artifacts copied, 2 already retrieved (0kB/3ms)\n"
     ]
    },
    {
     "name": "stdout",
     "output_type": "stream",
     "text": [
      "22/06/21 17:56:14 WARN NativeCodeLoader: Unable to load native-hadoop library for your platform... using builtin-java classes where applicable\n"
     ]
    },
    {
     "name": "stderr",
     "output_type": "stream",
     "text": [
      "Setting default log level to \"WARN\".\n",
      "To adjust logging level use sc.setLogLevel(newLevel). For SparkR, use setLogLevel(newLevel).\n"
     ]
    },
    {
     "name": "stdout",
     "output_type": "stream",
     "text": [
      "22/06/21 17:56:15 WARN Utils: Service 'SparkUI' could not bind on port 4040. Attempting port 4041.\n"
     ]
    }
   ],
   "source": [
    "#alle Schritte, die nötig waren, um die Bots einzustufen\n",
    "from src.data.dataset_functions import get_dataframe\n",
    "\n",
    "dataFrame = get_dataframe(True)\n",
    "\n",
    "import pyspark.sql.functions as F\n",
    "timeDiffFrame = dataFrame.alias('df1').join(dataFrame.alias('df2'),F.col('df1.user_id') == F.col('df2.user_id'),'inner')\n",
    "timeDiffFrame = timeDiffFrame.where('df2.t > df1.t')\n",
    "timeDiffFrame = timeDiffFrame.orderBy(['df1.user_id', 'df1.t'])\n",
    "timeDiffFrame = timeDiffFrame.select(F.col('df1.user_id'),F.col('df1.t').alias('t1'),F.col('df2.t').alias('t2'),(F.col('df2.t') - F.col('df1.t')).alias('diff'))\n",
    "timeDiffReduced = timeDiffFrame.dropDuplicates(['user_id', 't1'])\n",
    "timeDiffReduced = timeDiffReduced.orderBy(['user_id', 't1'])\n",
    "\n",
    "botDiff = timeDiffReduced.alias('tdr1').join(timeDiffReduced.alias('tdr2'),F.col('tdr1.user_id') == F.col('tdr2.user_id'),'inner')\n",
    "botDiff = botDiff.where('tdr1.diff == tdr2.diff').where('tdr1.t2 == tdr2.t1')\n",
    "botDiff = botDiff.select('tdr1.user_id','tdr1.diff')\n",
    "botDiff = botDiff.dropDuplicates(['user_id'])\n",
    "botDiff = botDiff.orderBy(['user_id'])\n"
   ]
  },
  {
   "cell_type": "code",
   "execution_count": 70,
   "metadata": {},
   "outputs": [],
   "source": [
    "botsTotal = dataFrame.alias('df').join(botDiff.alias('bd'),F.col('df.user_id') == F.col('bd.user_id'), 'inner')\n",
    "botsTotal = botsTotal.select(F.col('df.user_id'),F.col('df.x'),F.col('df.y'),F.col('df.t'),F.col('pixel_color'))\n",
    "botsTotal = botsTotal.orderBy(['user_id', 't'])\n",
    "botsTotal = botsTotal.dropDuplicates(['user_id', 't']) #jeder Nutzer kann zu jeder Zeit nur einen Pixel gesetzt habe\n",
    "botsTotal2 = botsTotal.select(F.col('x'),F.col('y'),F.col('pixel_color'))\n"
   ]
  },
  {
   "cell_type": "code",
   "execution_count": 75,
   "metadata": {},
   "outputs": [
    {
     "ename": "ValueError",
     "evalue": "unknown color specifier: 'pixel_color'",
     "output_type": "error",
     "traceback": [
      "\u001b[0;31m---------------------------------------------------------------------------\u001b[0m",
      "\u001b[0;31mValueError\u001b[0m                                Traceback (most recent call last)",
      "Input \u001b[0;32mIn [75]\u001b[0m, in \u001b[0;36m<cell line: 13>\u001b[0;34m()\u001b[0m\n\u001b[1;32m     12\u001b[0m img\u001b[39m.\u001b[39msave(\u001b[39m'\u001b[39m\u001b[39m../reports/figures/bots-canvas.jpg\u001b[39m\u001b[39m'\u001b[39m)      \n\u001b[1;32m     13\u001b[0m \u001b[39mfor\u001b[39;00m row \u001b[39min\u001b[39;00m botsTotal2:\n\u001b[0;32m---> 14\u001b[0m   color \u001b[39m=\u001b[39m ImageColor\u001b[39m.\u001b[39;49mgetrgb(\u001b[39m'\u001b[39;49m\u001b[39mpixel_color\u001b[39;49m\u001b[39m'\u001b[39;49m)\n\u001b[1;32m     15\u001b[0m   img\u001b[39m.\u001b[39mputpixel((\u001b[39m'\u001b[39m\u001b[39mx\u001b[39m\u001b[39m'\u001b[39m,\u001b[39m'\u001b[39m\u001b[39my\u001b[39m\u001b[39m'\u001b[39m), color)\n\u001b[1;32m     16\u001b[0m img\u001b[39m.\u001b[39mshow()\n",
      "File \u001b[0;32m~/.local/lib/python3.10/site-packages/PIL/ImageColor.py:118\u001b[0m, in \u001b[0;36mgetrgb\u001b[0;34m(color)\u001b[0m\n\u001b[1;32m    <a href='file:///home/vscode/.local/lib/python3.10/site-packages/PIL/ImageColor.py?line=115'>116</a>\u001b[0m \u001b[39mif\u001b[39;00m m:\n\u001b[1;32m    <a href='file:///home/vscode/.local/lib/python3.10/site-packages/PIL/ImageColor.py?line=116'>117</a>\u001b[0m     \u001b[39mreturn\u001b[39;00m (\u001b[39mint\u001b[39m(m\u001b[39m.\u001b[39mgroup(\u001b[39m1\u001b[39m)), \u001b[39mint\u001b[39m(m\u001b[39m.\u001b[39mgroup(\u001b[39m2\u001b[39m)), \u001b[39mint\u001b[39m(m\u001b[39m.\u001b[39mgroup(\u001b[39m3\u001b[39m)), \u001b[39mint\u001b[39m(m\u001b[39m.\u001b[39mgroup(\u001b[39m4\u001b[39m)))\n\u001b[0;32m--> <a href='file:///home/vscode/.local/lib/python3.10/site-packages/PIL/ImageColor.py?line=117'>118</a>\u001b[0m \u001b[39mraise\u001b[39;00m \u001b[39mValueError\u001b[39;00m(\u001b[39mf\u001b[39m\u001b[39m\"\u001b[39m\u001b[39munknown color specifier: \u001b[39m\u001b[39m{\u001b[39;00m\u001b[39mrepr\u001b[39m(color)\u001b[39m}\u001b[39;00m\u001b[39m\"\u001b[39m)\n",
      "\u001b[0;31mValueError\u001b[0m: unknown color specifier: 'pixel_color'"
     ]
    }
   ],
   "source": [
    "from PIL import Image, ImageColor\n",
    "\n",
    "#def newImg():\n",
    " #      img = Image.new(\"RGB\", (2000,2000), \"WHITE\")\n",
    "  #     img.save('../reports/figures/bots-canvas.jpg')\n",
    "   #    for row in botsTotal2:\n",
    "    #     color = ImageColor.getrgb(\"orange\")\n",
    "     #    img.putpixel(('x','y'), color)\n",
    "      # return img\n",
    "\n",
    "img = Image.new(\"RGB\", (2000,2000), \"WHITE\")\n",
    "img.save('../reports/figures/bots-canvas.jpg')      \n",
    "for row in botsTotal2:\n",
    "  color = ImageColor.getrgb('pixel_color')\n",
    "  img.putpixel(('x','y'), color)\n",
    "img.show()\n",
    "\n",
    "\n",
    "#for row in dataCollect:\n",
    " #   x,y,count = list(row)\n",
    "  #  pixelcoords = '('+str(x)+','+str(y)+')'\n",
    "   # plt.bar(pixelcoords,count,color='#5050cc', width=0.5)\n",
    "                           "
   ]
  }
 ],
 "metadata": {
  "interpreter": {
   "hash": "949777d72b0d2535278d3dc13498b2535136f6dfe0678499012e853ee9abcab1"
  },
  "kernelspec": {
   "display_name": "Python 3.10.4 64-bit",
   "language": "python",
   "name": "python3"
  },
  "language_info": {
   "codemirror_mode": {
    "name": "ipython",
    "version": 3
   },
   "file_extension": ".py",
   "mimetype": "text/x-python",
   "name": "python",
   "nbconvert_exporter": "python",
   "pygments_lexer": "ipython3",
   "version": "3.10.4"
  },
  "orig_nbformat": 4
 },
 "nbformat": 4,
 "nbformat_minor": 2
}
