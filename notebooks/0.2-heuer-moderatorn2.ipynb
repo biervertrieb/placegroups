{
 "cells": [
  {
   "cell_type": "code",
   "execution_count": 1,
   "metadata": {},
   "outputs": [
    {
     "ename": "ImportError",
     "evalue": "cannot import name 'get_dataframei_onlymods' from 'src.data.dataset_functions' (/workspaces/placegroups/src/data/dataset_functions.py)",
     "output_type": "error",
     "traceback": [
      "\u001b[0;31m---------------------------------------------------------------------------\u001b[0m",
      "\u001b[0;31mImportError\u001b[0m                               Traceback (most recent call last)",
      "\u001b[1;32m/workspaces/placegroups/notebooks/0.2-heuer-moderatorn2.ipynb Cell 1'\u001b[0m in \u001b[0;36m<cell line: 1>\u001b[0;34m()\u001b[0m\n\u001b[0;32m----> <a href='vscode-notebook-cell://dev-container%2B633a5c62617374695c706c61636567726f757073/workspaces/placegroups/notebooks/0.2-heuer-moderatorn2.ipynb#ch0000000vscode-remote?line=0'>1</a>\u001b[0m \u001b[39mfrom\u001b[39;00m \u001b[39msrc\u001b[39;00m\u001b[39m.\u001b[39;00m\u001b[39mdata\u001b[39;00m\u001b[39m.\u001b[39;00m\u001b[39mdataset_functions\u001b[39;00m \u001b[39mimport\u001b[39;00m get_dataframei_onlymods\n\u001b[1;32m      <a href='vscode-notebook-cell://dev-container%2B633a5c62617374695c706c61636567726f757073/workspaces/placegroups/notebooks/0.2-heuer-moderatorn2.ipynb#ch0000000vscode-remote?line=2'>3</a>\u001b[0m testframe \u001b[39m=\u001b[39m get_dataframei_onlymods(\u001b[39m1\u001b[39m)\n",
      "\u001b[0;31mImportError\u001b[0m: cannot import name 'get_dataframei_onlymods' from 'src.data.dataset_functions' (/workspaces/placegroups/src/data/dataset_functions.py)"
     ]
    }
   ],
   "source": [
    "from src.data.dataset_functions import get_dataframei_onlymods\n",
    "\n",
    "testframe = get_dataframei_onlymods(1)"
   ]
  },
  {
   "cell_type": "code",
   "execution_count": 2,
   "metadata": {},
   "outputs": [
    {
     "name": "stderr",
     "output_type": "stream",
     "text": [
      "[Stage 2:>                                                          (0 + 3) / 3]\r"
     ]
    },
    {
     "name": "stdout",
     "output_type": "stream",
     "text": [
      "+--------------------+----+----+----+----+----------+-----------+\n",
      "|             user_id|  x1|  y1|  x2|  y2|         t|pixel_color|\n",
      "+--------------------+----+----+----+----+----------+-----------+\n",
      "|q+XjkQ6WRx0aBLtb2...|1349|1718|1424|1752|1649035370|    #000000|\n",
      "+--------------------+----+----+----+----+----------+-----------+\n",
      "\n"
     ]
    },
    {
     "name": "stderr",
     "output_type": "stream",
     "text": [
      "                                                                                \r"
     ]
    }
   ],
   "source": [
    "testframe.show(5)"
   ]
  }
 ],
 "metadata": {
  "kernelspec": {
   "display_name": "Python 3.10.4 64-bit",
   "language": "python",
   "name": "python3"
  },
  "language_info": {
   "codemirror_mode": {
    "name": "ipython",
    "version": 3
   },
   "file_extension": ".py",
   "mimetype": "text/x-python",
   "name": "python",
   "nbconvert_exporter": "python",
   "pygments_lexer": "ipython3",
   "version": "3.10.4"
  },
  "orig_nbformat": 4,
  "vscode": {
   "interpreter": {
    "hash": "949777d72b0d2535278d3dc13498b2535136f6dfe0678499012e853ee9abcab1"
   }
  }
 },
 "nbformat": 4,
 "nbformat_minor": 2
}
