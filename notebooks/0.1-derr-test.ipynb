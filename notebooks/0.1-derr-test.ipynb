{
 "cells": [
  {
   "cell_type": "code",
   "execution_count": 1,
   "metadata": {},
   "outputs": [
    {
     "name": "stdout",
     "output_type": "stream",
     "text": [
      "providing ../data/raw/2022_place_canvas_history-000000000077.csv ...\n",
      "not found. need to download ../data/raw/2022_place_canvas_history-000000000077.csv.gzip ...\n",
      "downloading from https://placedata.reddit.com/data/canvas-history/2022_place_canvas_history-000000000077.csv.gzip to ../data/raw/2022_place_canvas_history-000000000077.csv.gzip\n",
      "unpacking ../data/raw/2022_place_canvas_history-000000000077.csv.gzip into ../data/raw/2022_place_canvas_history-000000000077.csv\n",
      "deleting ../data/raw/2022_place_canvas_history-000000000077.csv.gzip\n",
      ":: loading settings :: url = jar:file:/usr/local/lib/python3.9/site-packages/pyspark/jars/ivy-2.5.0.jar!/org/apache/ivy/core/settings/ivysettings.xml\n"
     ]
    },
    {
     "name": "stderr",
     "output_type": "stream",
     "text": [
      "Ivy Default Cache set to: /home/vscode/.ivy2/cache\n",
      "The jars for the packages stored in: /home/vscode/.ivy2/jars\n",
      "graphframes#graphframes added as a dependency\n",
      ":: resolving dependencies :: org.apache.spark#spark-submit-parent-f9da9020-6782-49ce-b14f-ab4a476bb23a;1.0\n",
      "\tconfs: [default]\n",
      "\tfound graphframes#graphframes;0.8.2-spark3.2-s_2.12 in spark-packages\n",
      "\tfound org.slf4j#slf4j-api;1.7.16 in central\n",
      ":: resolution report :: resolve 79ms :: artifacts dl 3ms\n",
      "\t:: modules in use:\n",
      "\tgraphframes#graphframes;0.8.2-spark3.2-s_2.12 from spark-packages in [default]\n",
      "\torg.slf4j#slf4j-api;1.7.16 from central in [default]\n",
      "\t---------------------------------------------------------------------\n",
      "\t|                  |            modules            ||   artifacts   |\n",
      "\t|       conf       | number| search|dwnlded|evicted|| number|dwnlded|\n",
      "\t---------------------------------------------------------------------\n",
      "\t|      default     |   2   |   0   |   0   |   0   ||   2   |   0   |\n",
      "\t---------------------------------------------------------------------\n",
      ":: retrieving :: org.apache.spark#spark-submit-parent-f9da9020-6782-49ce-b14f-ab4a476bb23a\n",
      "\tconfs: [default]\n",
      "\t0 artifacts copied, 2 already retrieved (0kB/2ms)\n",
      "22/06/14 18:21:40 WARN NativeCodeLoader: Unable to load native-hadoop library for your platform... using builtin-java classes where applicable\n",
      "Using Spark's default log4j profile: org/apache/spark/log4j-defaults.properties\n",
      "Setting default log level to \"WARN\".\n",
      "To adjust logging level use sc.setLogLevel(newLevel). For SparkR, use setLogLevel(newLevel).\n",
      "[Stage 1:====================================================>    (24 + 2) / 26]\r"
     ]
    },
    {
     "name": "stdout",
     "output_type": "stream",
     "text": [
      "root\n",
      " |-- user_id: string (nullable = true)\n",
      " |-- x: integer (nullable = true)\n",
      " |-- y: integer (nullable = true)\n",
      " |-- mod_x: integer (nullable = true)\n",
      " |-- mod_y: integer (nullable = true)\n",
      " |-- t: long (nullable = true)\n",
      " |-- pixel_color: string (nullable = true)\n",
      "\n"
     ]
    },
    {
     "name": "stderr",
     "output_type": "stream",
     "text": [
      "                                                                                \r"
     ]
    }
   ],
   "source": [
    "from src.data.dataset_functions import get_dataframe\n",
    "\n",
    "dataFrame = get_dataframe(True)\n",
    "dataFrame.printSchema()"
   ]
  },
  {
   "cell_type": "code",
   "execution_count": 2,
   "metadata": {},
   "outputs": [
    {
     "name": "stderr",
     "output_type": "stream",
     "text": [
      "                                                                                \r"
     ]
    },
    {
     "name": "stdout",
     "output_type": "stream",
     "text": [
      "+-------+---+---+-----+-----+---+-----------+\n",
      "|user_id|  x|  y|mod_x|mod_y|  t|pixel_color|\n",
      "+-------+---+---+-----+-----+---+-----------+\n",
      "+-------+---+---+-----+-----+---+-----------+\n",
      "\n"
     ]
    },
    {
     "name": "stderr",
     "output_type": "stream",
     "text": [
      "                                                                                \r"
     ]
    }
   ],
   "source": [
    "mods = dataFrame.filter(dataFrame.mod_x.isNotNull())\n",
    "mods.show()"
   ]
  },
  {
   "cell_type": "code",
   "execution_count": 7,
   "metadata": {},
   "outputs": [
    {
     "name": "stderr",
     "output_type": "stream",
     "text": [
      "                                                                                \r"
     ]
    },
    {
     "name": "stdout",
     "output_type": "stream",
     "text": [
      "+--------------------+---+---+-----+-----+----+-----------+\n",
      "|             user_id|  x|  y|mod_x|mod_y|   t|pixel_color|\n",
      "+--------------------+---+---+-----+-----+----+-----------+\n",
      "|MAwDo2O4NXBB4luUB...|  0|  0| null| null| 653|    #000000|\n",
      "|dlXaUXFy4yXBAEH7l...|  0|  0| null| null| 830|    #FF3881|\n",
      "|uBZdbCL6lWYaqSgh9...|  0|  0| null| null| 870|    #51E9F4|\n",
      "|1Dd/H7ImxOHd0q8sg...|  0|  0| null| null| 920|    #FFFFFF|\n",
      "|DCJHLhpXtMhz9s+f5...|  0|  0| null| null|1962|    #D4D7D9|\n",
      "|W3n7e5qAnJXJdfGPf...|  0|  2| null| null| 220|    #2450A4|\n",
      "|nXW4aSHKYw+nL1zVB...|  0|210| null| null|2162|    #2450A4|\n",
      "|ZzdBIbX5jxsyZ5CMs...|  0|744| null| null| 821|    #2450A4|\n",
      "|KWRpixuGuYTjTM2x+...|  0|998| null| null|1784|    #2450A4|\n",
      "|W+3cr+DqtQgzobho1...|  2|993| null| null|1303|    #FFFFFF|\n",
      "|ewfLZfIN2uTzOm4MO...|  2|999| null| null|1542|    #000000|\n",
      "|xZHMO9pPSDPE1cyPI...|  4|775| null| null|1821|    #000000|\n",
      "|F1mNBb2H9oKLT74N6...|  5|257| null| null| 912|    #D4D7D9|\n",
      "|QqfNl6CvWR0g10Dk6...|  5|320| null| null| 841|    #BE0039|\n",
      "|wKsnugXROP6Gqq8sq...|  6|  4| null| null| 599|    #000000|\n",
      "|r+Jy29gIdHmiVCB5M...|  6|942| null| null|1654|    #2450A4|\n",
      "|LyXX/MnY8ov2Ap2C2...|  6|994| null| null| 279|    #000000|\n",
      "|ewfLZfIN2uTzOm4MO...|  6|999| null| null|2227|    #000000|\n",
      "|JvXcTdau5snB2+uEn...|  7| 17| null| null|2110|    #FFFFFF|\n",
      "|dBz7JcJRpgHde3YIy...|  8|771| null| null|2079|    #D4D7D9|\n",
      "+--------------------+---+---+-----+-----+----+-----------+\n",
      "only showing top 20 rows\n",
      "\n"
     ]
    },
    {
     "name": "stderr",
     "output_type": "stream",
     "text": [
      "[Stage 9:===================================================>     (36 + 4) / 40]\r"
     ]
    },
    {
     "name": "stdout",
     "output_type": "stream",
     "text": [
      "18654386\n"
     ]
    },
    {
     "name": "stderr",
     "output_type": "stream",
     "text": [
      "                                                                                \r"
     ]
    }
   ],
   "source": [
    "filtered = mods.select('user_id').distinct()\n",
    "filtered.show()\n",
    "i = filtered.count()\n",
    "print(i)"
   ]
  }
 ],
 "metadata": {
  "interpreter": {
   "hash": "949777d72b0d2535278d3dc13498b2535136f6dfe0678499012e853ee9abcab1"
  },
  "kernelspec": {
   "display_name": "Python 3.9.2 64-bit",
   "language": "python",
   "name": "python3"
  },
  "language_info": {
   "codemirror_mode": {
    "name": "ipython",
    "version": 3
   },
   "file_extension": ".py",
   "mimetype": "text/x-python",
   "name": "python",
   "nbconvert_exporter": "python",
   "pygments_lexer": "ipython3",
   "version": "3.9.2"
  },
  "orig_nbformat": 4
 },
 "nbformat": 4,
 "nbformat_minor": 2
}
