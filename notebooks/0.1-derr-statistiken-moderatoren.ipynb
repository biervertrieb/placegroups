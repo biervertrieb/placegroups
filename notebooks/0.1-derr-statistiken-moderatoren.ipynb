{
 "cells": [
  {
   "cell_type": "code",
   "execution_count": 26,
   "metadata": {},
   "outputs": [
    {
     "name": "stdout",
     "output_type": "stream",
     "text": [
      "root\n",
      " |-- user_id: string (nullable = true)\n",
      " |-- x: integer (nullable = true)\n",
      " |-- y: integer (nullable = true)\n",
      " |-- t: long (nullable = true)\n",
      " |-- pixel_color: string (nullable = true)\n",
      "\n"
     ]
    }
   ],
   "source": [
    "from src.data.dataset_functions import get_dataframe\n",
    "\n",
    "dataFrame = get_dataframe(True)\n",
    "dataFrame.printSchema()"
   ]
  },
  {
   "cell_type": "markdown",
   "metadata": {},
   "source": [
    "Vorüberlegung, um Moderatoren zu bestimmen:\n",
    "Moderatoren sind Nutzer, die in einem Zeitraum von 5 Minuten mehr als einen Pixel setzen konnten.\n",
    "\n",
    "D.h.\n",
    "SELECT d1.user_id\n",
    "\n",
    "FROM dataFrame d1 JOIN dataFrame d2 ON d1.user_id = d2.user_id\n",
    "\n",
    "WHERE d1.t > d2.t - 60 * 5 (60*5 entspricht 5 Minuten)\n",
    "\n",
    "Bzw. WHERE d1.t > d2.t - 60 * 4 + 58 (also 2 Sek. Toleranz)\n",
    "\n",
    "Wie setzt man das in dataFrames um???"
   ]
  },
  {
   "cell_type": "markdown",
   "metadata": {},
   "source": [
    "<div style=\"color:lightblue\">\n",
    "(Sebastian):\n",
    "schau mal den self join an den ich gemacht habe in 0.1-heuer-pixelklassen\n",
    "\n",
    "Beispiel aus meinem Code:\n",
    "```\n",
    "selfjoinedFrame = dataFrame.alias('df1').join(dataFrame.alias('df2'),F.col('df1.user_id') == F.col('df2.user_id'),'inner')\n",
    "selfjoinedFrame = selfjoinedFrame.where('df2.t > df1.t').where('df2.t <= df1.t + 2*'+str(RZModel.max_t_dist))\n",
    "selfjoinedFrame = selfjoinedFrame.where('Abs(df2.x - df1.x) <= 2*'+str(RZModel.max_xy_dist))\n",
    "selfjoinedFrame = selfjoinedFrame.where('Abs(df2.y - df1.y) <= 2*'+str(RZModel.max_xy_dist))\n",
    "selfjoinedFrame = selfjoinedFrame.select(F.col('df1.user_id'),F.col('df1.x').alias(\"x1\"),F.col('df2.x').alias('x2'),F.col('df1.y').alias(\"y1\"),F.col('df2.y').alias('y2'),F.col('df1.t').alias(\"t1\"),F.col('df2.t').alias('t2'),F.col('df1.pixel_color').alias(\"c1\"),F.col('df2.pixel_color').alias('c2'))\n",
    "```\n",
    "\n",
    "So kannst du das auch machen:\n",
    "* df2.t > df1.t , dann ist das schonmal geordnet und du brauchst keine doppler wegen Reihenfolge betrachten\n",
    "* df2.t < df1.t + (60*5) - eventuell 2 Sekunden grace period geben. Also (60*4 + 58) Echte Nutzer können durch Serverlag vlt ein paar Sekunden früher setzen - Moderatoren sind hier deutliche Ausreißer!\n",
    "* dann diesen DataFrame wieder pro Nutzer aggregieren um zu gucken wie viele Pixel ein Nutzer anomal gesetzt hat :)\n",
    "\n",
    "</div>"
   ]
  },
  {
   "cell_type": "code",
   "execution_count": 36,
   "metadata": {},
   "outputs": [
    {
     "name": "stderr",
     "output_type": "stream",
     "text": [
      "[Stage 119:==============>                                          (1 + 3) / 4]\r"
     ]
    },
    {
     "name": "stdout",
     "output_type": "stream",
     "text": [
      "+--------------------+---+---+----+----+----+----+-------+-------+\n",
      "|             user_id| x1| x2|  y1|  y2|  t1|  t2|     c1|     c2|\n",
      "+--------------------+---+---+----+----+----+----+-------+-------+\n",
      "|++3l0k1HSXKiAsHkH...|684|668|1270|1211|1058|1381|#D4D7D9|#D4D7D9|\n",
      "|++3l0k1HSXKiAsHkH...|684|664|1270|1240|1058|1721|#D4D7D9|#9C6926|\n",
      "|++3l0k1HSXKiAsHkH...|684|668|1270|1211|1058|1381|#D4D7D9|#D4D7D9|\n",
      "|++3l0k1HSXKiAsHkH...|684|664|1270|1240|1058|1721|#D4D7D9|#9C6926|\n",
      "|++3l0k1HSXKiAsHkH...|684|667|1270|1240|1058|2057|#D4D7D9|#9C6926|\n",
      "|++3l0k1HSXKiAsHkH...|684|663|1270|1240|1058|2399|#D4D7D9|#9C6926|\n",
      "|++3l0k1HSXKiAsHkH...|684|653|1270|1229|1058|2779|#D4D7D9|#FFFFFF|\n",
      "|++3l0k1HSXKiAsHkH...|684|615|1270|1237|1058|3106|#D4D7D9|#00A368|\n",
      "|++3l0k1HSXKiAsHkH...|684|667|1270|1240|1058|2057|#D4D7D9|#9C6926|\n",
      "|++3l0k1HSXKiAsHkH...|684|663|1270|1240|1058|2399|#D4D7D9|#9C6926|\n",
      "|++3l0k1HSXKiAsHkH...|684|653|1270|1229|1058|2779|#D4D7D9|#FFFFFF|\n",
      "|++3l0k1HSXKiAsHkH...|684|615|1270|1237|1058|3106|#D4D7D9|#00A368|\n",
      "|++3l0k1HSXKiAsHkH...|668|664|1211|1240|1381|1721|#D4D7D9|#9C6926|\n",
      "|++3l0k1HSXKiAsHkH...|668|664|1211|1240|1381|1721|#D4D7D9|#9C6926|\n",
      "|++3l0k1HSXKiAsHkH...|668|667|1211|1240|1381|2057|#D4D7D9|#9C6926|\n",
      "|++3l0k1HSXKiAsHkH...|668|663|1211|1240|1381|2399|#D4D7D9|#9C6926|\n",
      "|++3l0k1HSXKiAsHkH...|668|653|1211|1229|1381|2779|#D4D7D9|#FFFFFF|\n",
      "|++3l0k1HSXKiAsHkH...|668|615|1211|1237|1381|3106|#D4D7D9|#00A368|\n",
      "|++3l0k1HSXKiAsHkH...|668|667|1211|1240|1381|2057|#D4D7D9|#9C6926|\n",
      "|++3l0k1HSXKiAsHkH...|668|663|1211|1240|1381|2399|#D4D7D9|#9C6926|\n",
      "+--------------------+---+---+----+----+----+----+-------+-------+\n",
      "only showing top 20 rows\n",
      "\n"
     ]
    },
    {
     "name": "stderr",
     "output_type": "stream",
     "text": [
      "                                                                                \r"
     ]
    }
   ],
   "source": [
    "import pyspark.sql.functions as F\n",
    "from src.models.models import RZModel\n",
    "\n",
    "selfjoinedFrame = dataFrame.alias('df1').join(dataFrame.alias('df2'), F.col('df1.user_id') == F.col('df2.user_id'),'inner')\n",
    "selfjoinedFrame = selfjoinedFrame.where('df2.t > df1.t').where('df2.t <= df1.t + 2*'+str(RZModel.max_t_dist))\n",
    "selfjoinedFrame = selfjoinedFrame.where('Abs(df2.x - df1.x) <= 2*'+str(RZModel.max_xy_dist))\n",
    "selfjoinedFrame = selfjoinedFrame.where('Abs(df2.y - df1.y) <= 2*'+str(RZModel.max_xy_dist))\n",
    "selfjoinedFrame = selfjoinedFrame.select(F.col('df1.user_id'),F.col('df1.x').alias(\"x1\"),F.col('df2.x').alias('x2'),F.col('df1.y').alias(\"y1\"),F.col('df2.y').alias('y2'),F.col('df1.t').alias(\"t1\"),F.col('df2.t').alias('t2'),F.col('df1.pixel_color').alias(\"c1\"),F.col('df2.pixel_color').alias('c2'))\n",
    "selfjoinedFrame.show()"
   ]
  },
  {
   "cell_type": "markdown",
   "metadata": {},
   "source": [
    "<div style=\"color:lightgreen\">\n",
    "Hmm... nicht das Ergebnis was ich brauche, hier sind die Zeitabstände alle LÄNGER als 5 Minuten...\n",
    "</div>"
   ]
  },
  {
   "cell_type": "code",
   "execution_count": 37,
   "metadata": {},
   "outputs": [
    {
     "name": "stderr",
     "output_type": "stream",
     "text": [
      "[Stage 128:============================>                            (4 + 4) / 8]\r"
     ]
    },
    {
     "name": "stdout",
     "output_type": "stream",
     "text": [
      "+-------+---+---+---+---+---+---+---+---+\n",
      "|user_id| x1| x2| y1| y2| t1| t2| c1| c2|\n",
      "+-------+---+---+---+---+---+---+---+---+\n",
      "+-------+---+---+---+---+---+---+---+---+\n",
      "\n"
     ]
    },
    {
     "name": "stderr",
     "output_type": "stream",
     "text": [
      "                                                                                \r"
     ]
    }
   ],
   "source": [
    "selfjoinedFrame2 = dataFrame.alias('df1').join(dataFrame.alias('df2'), F.col('df1.user_id') == F.col('df2.user_id'),'inner')\n",
    "selfjoinedFrame2 = selfjoinedFrame2.where('df1.t < df2.t').where('(df2.t - df1.t) < 60 * 4 + 58')\n",
    "selfjoinedFrame2 = selfjoinedFrame2.select(F.col('df1.user_id'),F.col('df1.x').alias(\"x1\"),F.col('df2.x').alias('x2'),F.col('df1.y').alias(\"y1\"),F.col('df2.y').alias('y2'),F.col('df1.t').alias(\"t1\"),F.col('df2.t').alias('t2'),F.col('df1.pixel_color').alias(\"c1\"),F.col('df2.pixel_color').alias('c2'))\n",
    "selfjoinedFrame2.show(5)"
   ]
  },
  {
   "cell_type": "markdown",
   "metadata": {},
   "source": [
    "<div style=\"color:lightgreen\">\n",
    "Heißt dass, dass wir nach dieser ersten Definition für Moderatoren KEINE Moderatoren in diesem Testdatensatz haben???\n",
    "<div>"
   ]
  },
  {
   "cell_type": "markdown",
   "metadata": {},
   "source": [
    "Bzw. eine zweite zu betrachtende Situation ist, dass Moderatoren auch mehrere Pixel auf einmal ändern können.\n",
    "\n",
    "SELECT user_id, COUNT(x) --es reicht aus die x Koordinate zu zählen\n",
    "\n",
    "FROM dataFrame\n",
    "\n",
    "WHERE --Wie könnte die Where-Clause angegeben werden, dass nur ein bestimmter Zeitpunkt betrachtet wird?\n",
    "\n",
    "HAVING COUNT(x) > 1\n",
    "\n",
    "GROUP BY user_id;"
   ]
  },
  {
   "cell_type": "markdown",
   "metadata": {},
   "source": [
    "<div style=\"color:lightblue\">(Sebastian): Gruppieren nach t-Spalte und dann gucken wo count(t) > 1 ?</div>"
   ]
  },
  {
   "cell_type": "code",
   "execution_count": 29,
   "metadata": {},
   "outputs": [
    {
     "name": "stdout",
     "output_type": "stream",
     "text": [
      "root\n",
      " |-- t: long (nullable = true)\n",
      " |-- count: long (nullable = false)\n",
      " |-- collect_list(user_id): array (nullable = false)\n",
      " |    |-- element: string (containsNull = false)\n",
      " |-- collect_list(x): array (nullable = false)\n",
      " |    |-- element: integer (containsNull = false)\n",
      " |-- collect_list(y): array (nullable = false)\n",
      " |    |-- element: integer (containsNull = false)\n",
      " |-- collect_list(pixel_color): array (nullable = false)\n",
      " |    |-- element: string (containsNull = false)\n",
      "\n"
     ]
    }
   ],
   "source": [
    "from src.features.feature_functions import group_dataframe_by_time\n",
    "\n",
    "timeGrouped = group_dataframe_by_time(dataFrame)\n",
    "timeGrouped.printSchema()"
   ]
  },
  {
   "cell_type": "markdown",
   "metadata": {},
   "source": [
    "Da es Probleme gibt, wenn die Spalte count einfach count heißt, muss diese zunächst umbenanntn werden, damit weitergearbeitet werden kann. (count wird nämlich als Funktion & nicht als Spalte des DataFrames angesehen)"
   ]
  },
  {
   "cell_type": "code",
   "execution_count": 30,
   "metadata": {},
   "outputs": [
    {
     "name": "stdout",
     "output_type": "stream",
     "text": [
      "root\n",
      " |-- t: long (nullable = true)\n",
      " |-- time_count: long (nullable = false)\n",
      " |-- collect_list(user_id): array (nullable = false)\n",
      " |    |-- element: string (containsNull = false)\n",
      " |-- collect_list(x): array (nullable = false)\n",
      " |    |-- element: integer (containsNull = false)\n",
      " |-- collect_list(y): array (nullable = false)\n",
      " |    |-- element: integer (containsNull = false)\n",
      " |-- collect_list(pixel_color): array (nullable = false)\n",
      " |    |-- element: string (containsNull = false)\n",
      "\n"
     ]
    }
   ],
   "source": [
    "timeGrouped = timeGrouped.withColumnRenamed('count','time_count')\n",
    "timeGrouped.printSchema()"
   ]
  },
  {
   "cell_type": "markdown",
   "metadata": {},
   "source": [
    "Damit wurde das DataFrame schon mal nach der Zeit gruppiert und entsprechend die Häufigkeit gezählt.\n",
    "Wenn der Zeitpunkt nur einmal gezählt wurde, muss dieser rausgeschmießen werden, da ein Zeitpunkt mindestens 2 mal vorkommen muss, damit es zu einem von einem Moderator gesetzten Pixel gehören könnte.\n",
    "Also nun die entsprechende bereinigung der Daten:"
   ]
  },
  {
   "cell_type": "code",
   "execution_count": 31,
   "metadata": {},
   "outputs": [
    {
     "name": "stderr",
     "output_type": "stream",
     "text": [
      "                                                                                \r"
     ]
    },
    {
     "name": "stdout",
     "output_type": "stream",
     "text": [
      "+---+----------+---------------------+--------------------+--------------------+-------------------------+\n",
      "|  t|time_count|collect_list(user_id)|     collect_list(x)|     collect_list(y)|collect_list(pixel_color)|\n",
      "+---+----------+---------------------+--------------------+--------------------+-------------------------+\n",
      "|502|      1372| [fl3fslGUutRFVv5s...|[1803, 1307, 1073...|[828, 537, 180, 1...|     [#000000, #FFFFFF...|\n",
      "|503|      1352| [KhKhrQXoREif0iKG...|[453, 1813, 1812,...|[1216, 820, 814, ...|     [#000000, #FFFFFF...|\n",
      "|506|      1352| [RtdCr10DU/ryVoyP...|[862, 1794, 1580,...|[807, 743, 1500, ...|     [#FF4500, #51E9F4...|\n",
      "|518|      1336| [0ri9DdoyY1cUGgPO...|[1813, 539, 918, ...|[810, 1240, 575, ...|     [#FFFFFF, #DE107F...|\n",
      "|510|      1336| [SuvkvnbkdYwMBLGl...|[1538, 1146, 1812...|[507, 551, 815, 1...|     [#D4D7D9, #FFD635...|\n",
      "|665|      1328| [/Z19GH2yLv1t/Rwn...|[285, 121, 1818, ...|[1669, 1819, 842,...|     [#515252, #FFB470...|\n",
      "|800|      1328| [vLy9enKCuqE5Lfz5...|[939, 1795, 71, 2...|[1640, 949, 1717,...|     [#FFA800, #9C6926...|\n",
      "|512|      1320| [OiXUUFiS09e43mbt...|[726, 42, 1271, 1...|[1749, 1780, 340,...|     [#515252, #2450A4...|\n",
      "|517|      1318| [kO8v5t9qQcVGH2jc...|[1023, 15, 89, 17...|[56, 107, 1750, 6...|     [#000000, #FFA800...|\n",
      "|509|      1314| [47cBtZB9Io6HDvkx...|[1805, 357, 344, ...|[807, 651, 1455, ...|     [#000000, #2450A4...|\n",
      "|504|      1310| [jNvbu72zK1ym3mbn...|[1023, 1985, 1036...|[56, 1027, 397, 1...|     [#000000, #2450A4...|\n",
      "|511|      1310| [8X81sGoyIyFjlMGA...|[1613, 1746, 1157...|[1150, 604, 1995,...|     [#009EAA, #2450A4...|\n",
      "|496|      1298| [ln0Wl8R3QfmA+vHi...|[1970, 548, 538, ...|[1323, 1825, 1418...|     [#000000, #D4D7D9...|\n",
      "|816|      1294| [gDoibmO3IFsdZG4o...|[1847, 1747, 1786...|[535, 658, 602, 1...|     [#000000, #FFD635...|\n",
      "|508|      1294| [/ovdrfnI5wHVb10l...|[1205, 1035, 1820...|[1706, 1812, 825,...|     [#6D482F, #FF99AA...|\n",
      "|514|      1290| [S0deEoFnPuCIDPtC...|[1293, 1808, 30, ...|[599, 829, 1160, ...|     [#000000, #000000...|\n",
      "|692|      1290| [VwAHZ5/Lrh5ehY3k...|[1961, 1693, 96, ...|[1814, 967, 1760,...|     [#94B3FF, #00A368...|\n",
      "|505|      1288| [31jd2vAVrOBHCNUF...|[200, 1679, 690, ...|[467, 1301, 361, ...|     [#E4ABFF, #898D90...|\n",
      "|974|      1286| [oTkkJ2uY7S8RVXDZ...|[649, 1067, 1303,...|[969, 82, 600, 12...|     [#000000, #000000...|\n",
      "|673|      1282| [0zdlmGBfhD1unCE9...|[505, 537, 583, 4...|[558, 476, 489, 5...|     [#FF3881, #000000...|\n",
      "+---+----------+---------------------+--------------------+--------------------+-------------------------+\n",
      "only showing top 20 rows\n",
      "\n"
     ]
    }
   ],
   "source": [
    "timeGrouped = timeGrouped.filter(timeGrouped.time_count > 1)\n",
    "timeGrouped.show()"
   ]
  },
  {
   "cell_type": "markdown",
   "metadata": {},
   "source": [
    "Ist es nicht besser direkt nach Nutzer und Zeit zu gruppieren? Dann hat man für jeden Nutzer direkt angezeigt, wie oft zu einem Zeitpunkt Pixel platziert wurden?\n",
    "Dann wäre auch die Bereinigung der Daten effektiver als oben.\n",
    "\n",
    "Hier der Versuch:"
   ]
  },
  {
   "cell_type": "code",
   "execution_count": 27,
   "metadata": {},
   "outputs": [
    {
     "name": "stdout",
     "output_type": "stream",
     "text": [
      "root\n",
      " |-- t: long (nullable = true)\n",
      " |-- user_id: string (nullable = true)\n",
      " |-- count: long (nullable = false)\n",
      " |-- collect_list(x): array (nullable = false)\n",
      " |    |-- element: integer (containsNull = false)\n",
      " |-- collect_list(y): array (nullable = false)\n",
      " |    |-- element: integer (containsNull = false)\n",
      " |-- collect_list(pixel_color): array (nullable = false)\n",
      " |    |-- element: string (containsNull = false)\n",
      "\n"
     ]
    }
   ],
   "source": [
    "from src.features.feature_functions import group_dataframe_by_time_and_user\n",
    "\n",
    "timeUserGrouped = group_dataframe_by_time_and_user(dataFrame)\n",
    "#timeUserGrouped = group_dataframe_by_columns(dataFrame, ['t', 'user_id'])\n",
    "timeUserGrouped.printSchema()"
   ]
  },
  {
   "cell_type": "code",
   "execution_count": 28,
   "metadata": {},
   "outputs": [
    {
     "name": "stderr",
     "output_type": "stream",
     "text": [
      "[Stage 93:=========================================>                (5 + 2) / 7]\r"
     ]
    },
    {
     "name": "stdout",
     "output_type": "stream",
     "text": [
      "+----+--------------------+----------+--------------------+--------------------+-------------------------+\n",
      "|   t|             user_id|time_count|     collect_list(x)|     collect_list(y)|collect_list(pixel_color)|\n",
      "+----+--------------------+----------+--------------------+--------------------+-------------------------+\n",
      "|2974|X8gpDfO6+Z87SKKTy...|         8|[1685, 904, 932, ...|[228, 1865, 1850,...|     [#FFD635, #000000...|\n",
      "|2344|AxBTmhBMbr1sbDw/2...|         6|[1403, 777, 1741,...|[2, 8, 10, 2, 8, 10]|     [#FFA800, #FFA800...|\n",
      "|1200|DIECtVqoJqBlL6A0C...|         6|[932, 920, 933, 9...|[1757, 1832, 1838...|     [#FFFFFF, #BE0039...|\n",
      "|1726|AxBTmhBMbr1sbDw/2...|         6|[655, 612, 1575, ...|[1896, 1917, 7, 1...|     [#B44AC0, #E4ABFF...|\n",
      "| 275|Qafq4ohzHG2/BRgOZ...|         4|[1757, 948, 1757,...|[919, 1877, 919, ...|     [#000000, #FFA800...|\n",
      "|2789|UYHFPHnWs1F2WibcT...|         4|[1203, 1203, 1203...|[1843, 1843, 1843...|     [#FFFFFF, #FFFFFF...|\n",
      "|2167|FqWlYosC7Oca6Vvqp...|         4|[595, 681, 595, 681]|[504, 504, 504, 504]|     [#FFFFFF, #898D90...|\n",
      "|1039|KShFlL/gmw/JK8b/E...|         4|[728, 751, 728, 751]|[526, 504, 526, 504]|     [#D4D7D9, #FF4500...|\n",
      "|2983|LIVvK+L7Y5WOXCwhH...|         4|[542, 886, 542, 886]|[1942, 10, 1942, 10]|     [#000000, #FFA800...|\n",
      "|1299|5zx6jQdv38K+gQhet...|         4|[1710, 1694, 1710...|[1105, 1102, 1105...|     [#BE0039, #BE0039...|\n",
      "|1440|6q6uM44W5kNUzSN53...|         4|[951, 932, 951, 932]|[1839, 1855, 1839...|     [#FF4500, #51E9F4...|\n",
      "|  95|UHCTBiKzVoFjs/Peh...|         4|[916, 913, 916, 913]|[1872, 1867, 1872...|     [#3690EA, #51E9F4...|\n",
      "| 984|mXocH/Hqd79QOGHv4...|         4|    [22, 22, 22, 22]|[1988, 1988, 1988...|     [#FFD635, #FFD635...|\n",
      "|2115|NIpXsNVfh8y5z+Qcd...|         4|[964, 911, 964, 911]|[1846, 1863, 1846...|     [#3690EA, #51E9F4...|\n",
      "|2623|VcHUE/HttS4Zm0734...|         4|[1537, 1537, 1537...|[1844, 1844, 1844...|     [#000000, #000000...|\n",
      "| 888|xw+BT8X4gip2hBtcg...|         4|  [105, 92, 105, 92]|[139, 133, 139, 133]|     [#BE0039, #BE0039...|\n",
      "|2653|AxBTmhBMbr1sbDw/2...|         4|[1299, 586, 1299,...|[20, 1931, 20, 1931]|     [#FFFFFF, #9C6926...|\n",
      "|3569|v4bPS5jTquhz6CdPg...|         4|[399, 398, 399, 398]|[1977, 1981, 1977...|     [#898D90, #898D90...|\n",
      "|2790|9LR3Gu5pOnd6XzgrN...|         4|[473, 473, 473, 473]|[790, 790, 790, 790]|     [#2450A4, #2450A4...|\n",
      "| 801|AxBTmhBMbr1sbDw/2...|         4|[1287, 1926, 1287...|      [8, 19, 8, 19]|     [#3690EA, #BE0039...|\n",
      "+----+--------------------+----------+--------------------+--------------------+-------------------------+\n",
      "only showing top 20 rows\n",
      "\n"
     ]
    },
    {
     "name": "stderr",
     "output_type": "stream",
     "text": [
      "                                                                                \r"
     ]
    }
   ],
   "source": [
    "timeUserGrouped = timeUserGrouped.withColumnRenamed('count','time_count')\n",
    "\n",
    "timeUserGrouped = timeUserGrouped.filter(timeUserGrouped.time_count > 1)\n",
    "timeUserGrouped.show()"
   ]
  },
  {
   "cell_type": "markdown",
   "metadata": {},
   "source": [
    "Das ist so noch nicht ganz korrekt...oder? Als ob es so viele Moderatoren gibt, abgesehen von den Dopplungen...\n",
    "\n",
    "Manche User tauchen mehrmals auf, d.h. ich muss Dopplungen rausfiltern."
   ]
  },
  {
   "cell_type": "code",
   "execution_count": 29,
   "metadata": {},
   "outputs": [],
   "source": [
    "#timeUserGrouped = timeUserGrouped.dropDuplicates(['user_id'])\n",
    "#timeUserGrouped.show()"
   ]
  },
  {
   "cell_type": "code",
   "execution_count": 31,
   "metadata": {},
   "outputs": [
    {
     "name": "stderr",
     "output_type": "stream",
     "text": [
      "                                                                                \r"
     ]
    },
    {
     "name": "stdout",
     "output_type": "stream",
     "text": [
      "Anzahl der herkömmlichen Zeilen: 733458\n"
     ]
    },
    {
     "name": "stderr",
     "output_type": "stream",
     "text": [
      "22/06/05 14:23:38 WARN RowBasedKeyValueBatch: Calling spill() on RowBasedKeyValueBatch. Will not spill but return 0.\n",
      "22/06/05 14:23:38 WARN RowBasedKeyValueBatch: Calling spill() on RowBasedKeyValueBatch. Will not spill but return 0.\n",
      "22/06/05 14:23:38 WARN RowBasedKeyValueBatch: Calling spill() on RowBasedKeyValueBatch. Will not spill but return 0.\n",
      "22/06/05 14:23:38 WARN RowBasedKeyValueBatch: Calling spill() on RowBasedKeyValueBatch. Will not spill but return 0.\n",
      "22/06/05 14:23:38 WARN RowBasedKeyValueBatch: Calling spill() on RowBasedKeyValueBatch. Will not spill but return 0.\n",
      "22/06/05 14:23:38 WARN RowBasedKeyValueBatch: Calling spill() on RowBasedKeyValueBatch. Will not spill but return 0.\n",
      "22/06/05 14:23:38 WARN RowBasedKeyValueBatch: Calling spill() on RowBasedKeyValueBatch. Will not spill but return 0.\n",
      "22/06/05 14:23:38 WARN RowBasedKeyValueBatch: Calling spill() on RowBasedKeyValueBatch. Will not spill but return 0.\n",
      "[Stage 102:===============================================>         (5 + 1) / 6]\r"
     ]
    },
    {
     "name": "stdout",
     "output_type": "stream",
     "text": [
      "Anzahl der angeblichen Moderatoren: 733458\n"
     ]
    },
    {
     "name": "stderr",
     "output_type": "stream",
     "text": [
      "                                                                                \r"
     ]
    }
   ],
   "source": [
    "row = dataFrame.select('user_id').distinct().count()\n",
    "print(f'Anzahl der herkömmlichen Zeilen: {row}')\n",
    "\n",
    "row_sel = timeUserGrouped.select('user_id').distinct().count()\n",
    "print(f'Anzahl der angeblichen Moderatoren: {row_sel}')"
   ]
  }
 ],
 "metadata": {
  "interpreter": {
   "hash": "949777d72b0d2535278d3dc13498b2535136f6dfe0678499012e853ee9abcab1"
  },
  "kernelspec": {
   "display_name": "Python 3.9.2 64-bit",
   "language": "python",
   "name": "python3"
  },
  "language_info": {
   "codemirror_mode": {
    "name": "ipython",
    "version": 3
   },
   "file_extension": ".py",
   "mimetype": "text/x-python",
   "name": "python",
   "nbconvert_exporter": "python",
   "pygments_lexer": "ipython3",
   "version": "3.9.2"
  },
  "orig_nbformat": 4
 },
 "nbformat": 4,
 "nbformat_minor": 2
}
