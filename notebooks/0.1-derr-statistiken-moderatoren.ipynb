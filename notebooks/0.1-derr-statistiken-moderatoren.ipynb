{
 "cells": [
  {
   "cell_type": "code",
   "execution_count": 1,
   "metadata": {},
   "outputs": [
    {
     "name": "stdout",
     "output_type": "stream",
     "text": [
      "providing ../data/raw/2022_place_canvas_history-000000000050.csv ...\n",
      "../data/raw/2022_place_canvas_history-000000000050.csv is already in data/raw\n",
      ":: loading settings :: url = jar:file:/usr/local/lib/python3.9/site-packages/pyspark/jars/ivy-2.5.0.jar!/org/apache/ivy/core/settings/ivysettings.xml\n"
     ]
    },
    {
     "name": "stderr",
     "output_type": "stream",
     "text": [
      "Ivy Default Cache set to: /home/vscode/.ivy2/cache\n",
      "The jars for the packages stored in: /home/vscode/.ivy2/jars\n",
      "graphframes#graphframes added as a dependency\n",
      ":: resolving dependencies :: org.apache.spark#spark-submit-parent-265186d4-fd5d-4511-9567-d0a07da83296;1.0\n",
      "\tconfs: [default]\n",
      "\tfound graphframes#graphframes;0.8.2-spark3.2-s_2.12 in spark-packages\n",
      "\tfound org.slf4j#slf4j-api;1.7.16 in central\n",
      ":: resolution report :: resolve 368ms :: artifacts dl 14ms\n",
      "\t:: modules in use:\n",
      "\tgraphframes#graphframes;0.8.2-spark3.2-s_2.12 from spark-packages in [default]\n",
      "\torg.slf4j#slf4j-api;1.7.16 from central in [default]\n",
      "\t---------------------------------------------------------------------\n",
      "\t|                  |            modules            ||   artifacts   |\n",
      "\t|       conf       | number| search|dwnlded|evicted|| number|dwnlded|\n",
      "\t---------------------------------------------------------------------\n",
      "\t|      default     |   2   |   0   |   0   |   0   ||   2   |   0   |\n",
      "\t---------------------------------------------------------------------\n",
      ":: retrieving :: org.apache.spark#spark-submit-parent-265186d4-fd5d-4511-9567-d0a07da83296\n",
      "\tconfs: [default]\n",
      "\t0 artifacts copied, 2 already retrieved (0kB/12ms)\n",
      "22/05/30 02:46:13 WARN NativeCodeLoader: Unable to load native-hadoop library for your platform... using builtin-java classes where applicable\n",
      "Using Spark's default log4j profile: org/apache/spark/log4j-defaults.properties\n",
      "Setting default log level to \"WARN\".\n",
      "To adjust logging level use sc.setLogLevel(newLevel). For SparkR, use setLogLevel(newLevel).\n",
      "22/05/30 02:46:15 WARN Utils: Service 'SparkUI' could not bind on port 4040. Attempting port 4041.\n",
      "                                                                                \r"
     ]
    },
    {
     "name": "stdout",
     "output_type": "stream",
     "text": [
      "root\n",
      " |-- user_id: string (nullable = true)\n",
      " |-- x: integer (nullable = true)\n",
      " |-- y: integer (nullable = true)\n",
      " |-- t: long (nullable = true)\n",
      " |-- pixel_color: string (nullable = true)\n",
      "\n"
     ]
    }
   ],
   "source": [
    "from src.data.dataset_functions import get_dataframe\n",
    "\n",
    "dataFrame = get_dataframe(True)\n",
    "dataFrame.printSchema()"
   ]
  },
  {
   "cell_type": "markdown",
   "metadata": {},
   "source": [
    "Vorüberlegung, um Moderatoren zu bestimmen:\n",
    "Moderatoren sind Nutzer, die in einem Zeitraum von 5 Minuten mehr als einen Pixel setzen konnten.\n",
    "\n",
    "D.h.\n",
    "SELECT d1.user_id\n",
    "\n",
    "FROM dataFrame d1 JOIN dataFrame d2 ON d1.user_id = d2.user_id\n",
    "\n",
    "WHERE d1.t > d2.t - 60 * 5 (60*5 entspricht 5 Minuten)\n",
    "\n",
    "Wie setzt man das in dataFrames um???"
   ]
  },
  {
   "cell_type": "markdown",
   "metadata": {},
   "source": [
    "<div style=\"color:lightblue\">\n",
    "(Sebastian):\n",
    "schau mal den self join an den ich gemacht habe in 0.1-heuer-pixelklassen\n",
    "\n",
    "Beispiel aus meinem Code:\n",
    "```\n",
    "selfjoinedFrame = dataFrame.alias('df1').join(dataFrame.alias('df2'),F.col('df1.user_id') == F.col('df2.user_id'),'inner')\n",
    "selfjoinedFrame = selfjoinedFrame.where('df2.t > df1.t').where('df2.t <= df1.t + 2*'+str(RZModel.max_t_dist))\n",
    "selfjoinedFrame = selfjoinedFrame.where('Abs(df2.x - df1.x) <= 2*'+str(RZModel.max_xy_dist))\n",
    "selfjoinedFrame = selfjoinedFrame.where('Abs(df2.y - df1.y) <= 2*'+str(RZModel.max_xy_dist))\n",
    "selfjoinedFrame = selfjoinedFrame.select(F.col('df1.user_id'),F.col('df1.x').alias(\"x1\"),F.col('df2.x').alias('x2'),F.col('df1.y').alias(\"y1\"),F.col('df2.y').alias('y2'),F.col('df1.t').alias(\"t1\"),F.col('df2.t').alias('t2'),F.col('df1.pixel_color').alias(\"c1\"),F.col('df2.pixel_color').alias('c2'))\n",
    "```\n",
    "\n",
    "So kannst du das auch machen:\n",
    "* df2.t > df1.t , dann ist das schonmal geordnet und du brauchst keine doppler wegen Reihenfolge betrachten\n",
    "* df2.t < df1.t + (60*5) - eventuell 2 Sekunden grace period geben. Also (60*4 + 58) Echte Nutzer können durch Serverlag vlt ein paar Sekunden früher setzen - Moderatoren sind hier deutliche Ausreißer!\n",
    "* dann diesen DataFrame wieder pro Nutzer aggregieren um zu gucken wie viele Pixel ein Nutzer anomal gesetzt hat :)\n",
    "\n",
    "</div>"
   ]
  },
  {
   "cell_type": "markdown",
   "metadata": {},
   "source": [
    "Bzw. eine zweite zu betrachtende Situation ist, dass Moderatoren auch mehrere Pixel auf einmal ändern können.\n",
    "\n",
    "SELECT user_id, COUNT(x) --es reicht aus die x Koordinate zu zählen\n",
    "\n",
    "FROM dataFrame\n",
    "\n",
    "WHERE --Wie könnte die Where-Clause angegeben werden, dass nur ein bestimmter Zeitpunkt betrachtet wird?\n",
    "\n",
    "HAVING COUNT(x) > 1\n",
    "\n",
    "GROUP BY user_id;"
   ]
  },
  {
   "cell_type": "markdown",
   "metadata": {},
   "source": [
    "<div style=\"color:lightblue\">(Sebastian): Gruppieren nach t-Spalte und dann gucken wo count(t) > 1 ?</div>"
   ]
  }
 ],
 "metadata": {
  "interpreter": {
   "hash": "949777d72b0d2535278d3dc13498b2535136f6dfe0678499012e853ee9abcab1"
  },
  "kernelspec": {
   "display_name": "Python 3.9.2 64-bit",
   "language": "python",
   "name": "python3"
  },
  "language_info": {
   "codemirror_mode": {
    "name": "ipython",
    "version": 3
   },
   "file_extension": ".py",
   "mimetype": "text/x-python",
   "name": "python",
   "nbconvert_exporter": "python",
   "pygments_lexer": "ipython3",
   "version": "3.9.12"
  },
  "orig_nbformat": 4
 },
 "nbformat": 4,
 "nbformat_minor": 2
}
