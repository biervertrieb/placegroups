{
 "cells": [
  {
   "cell_type": "markdown",
   "metadata": {},
   "source": [
    "Ziel: Funktion die für ein Viereck x1,y1 x2,y2 zu einem Zeitpunkt t das aktuell gezeichnete Bild ausrechnet\n",
    "\n",
    "Dazu müssen für alle Pixel in dem Viereck jeweils der letzte gesetzte Pixelwert aus dem Hauptdatensatz gefunden werden.\n",
    "\n",
    "Ausgabe ist ein DataFrame mit diesen Pixelwerten\n",
    "\n",
    "Idee:\n",
    "- generiere DataFrame mit allen Pixelkoordinaten des Vierecks\n",
    "- join mit Hauptdatensatz\n",
    "- finde pro Pixel den neuesten Timestamp"
   ]
  },
  {
   "cell_type": "code",
   "execution_count": 1,
   "metadata": {},
   "outputs": [],
   "source": [
    "#Eingabedaten Beispiel\n",
    "x1 = 100\n",
    "y1 = 100\n",
    "x2 = 300\n",
    "y2 = 150\n",
    "# 200 x 50 Viereck - das sind 10.000 Pixel\n",
    "tz = 1500"
   ]
  },
  {
   "cell_type": "code",
   "execution_count": 2,
   "metadata": {},
   "outputs": [
    {
     "name": "stdout",
     "output_type": "stream",
     "text": [
      ":: loading settings :: url = jar:file:/usr/local/lib/python3.10/site-packages/pyspark/jars/ivy-2.5.0.jar!/org/apache/ivy/core/settings/ivysettings.xml\n"
     ]
    },
    {
     "name": "stderr",
     "output_type": "stream",
     "text": [
      "Ivy Default Cache set to: /home/vscode/.ivy2/cache\n",
      "The jars for the packages stored in: /home/vscode/.ivy2/jars\n",
      "graphframes#graphframes added as a dependency\n",
      ":: resolving dependencies :: org.apache.spark#spark-submit-parent-bcae9ed8-1577-4772-934c-f9741fa7c6ae;1.0\n",
      "\tconfs: [default]\n",
      "\tfound graphframes#graphframes;0.8.2-spark3.2-s_2.12 in spark-packages\n",
      "\tfound org.slf4j#slf4j-api;1.7.16 in central\n",
      ":: resolution report :: resolve 227ms :: artifacts dl 35ms\n",
      "\t:: modules in use:\n",
      "\tgraphframes#graphframes;0.8.2-spark3.2-s_2.12 from spark-packages in [default]\n",
      "\torg.slf4j#slf4j-api;1.7.16 from central in [default]\n",
      "\t---------------------------------------------------------------------\n",
      "\t|                  |            modules            ||   artifacts   |\n",
      "\t|       conf       | number| search|dwnlded|evicted|| number|dwnlded|\n",
      "\t---------------------------------------------------------------------\n",
      "\t|      default     |   2   |   0   |   0   |   0   ||   2   |   0   |\n",
      "\t---------------------------------------------------------------------\n",
      ":: retrieving :: org.apache.spark#spark-submit-parent-bcae9ed8-1577-4772-934c-f9741fa7c6ae\n",
      "\tconfs: [default]\n",
      "\t0 artifacts copied, 2 already retrieved (0kB/7ms)\n"
     ]
    },
    {
     "name": "stdout",
     "output_type": "stream",
     "text": [
      "22/07/02 18:59:58 WARN NativeCodeLoader: Unable to load native-hadoop library for your platform... using builtin-java classes where applicable\n"
     ]
    },
    {
     "name": "stderr",
     "output_type": "stream",
     "text": [
      "Setting default log level to \"WARN\".\n",
      "To adjust logging level use sc.setLogLevel(newLevel). For SparkR, use setLogLevel(newLevel).\n"
     ]
    },
    {
     "name": "stdout",
     "output_type": "stream",
     "text": [
      "22/07/02 19:00:01 WARN Utils: Service 'SparkUI' could not bind on port 4040. Attempting port 4041.\n"
     ]
    }
   ],
   "source": [
    "from pyspark.sql import SparkSession, DataFrame\n",
    "import itertools\n",
    "import numpy as np\n",
    "import pyspark.sql.functions as F\n",
    "\n",
    "spark = SparkSession.builder.appName('placegroups').getOrCreate()\n",
    "spark.sparkContext.setCheckpointDir('../data/interim/checkpoints')"
   ]
  },
  {
   "cell_type": "code",
   "execution_count": 3,
   "metadata": {},
   "outputs": [],
   "source": [
    "x_list = list(range(x1,x2+1))\n",
    "y_list = list(range(y1,y2+1))\n",
    "\n",
    "generatedData = list(itertools.product(x_list,y_list))\n",
    "\n",
    "#print(generatedData)"
   ]
  },
  {
   "cell_type": "code",
   "execution_count": 4,
   "metadata": {},
   "outputs": [],
   "source": [
    "from pyspark.sql.types import StructType,StructField,StringType,IntegerType\n",
    "\n",
    "boxSchema = [\"x\",\"y\"]\n",
    "generatedFrame = spark.createDataFrame(data = generatedData, schema = boxSchema)"
   ]
  },
  {
   "cell_type": "code",
   "execution_count": 5,
   "metadata": {},
   "outputs": [
    {
     "name": "stderr",
     "output_type": "stream",
     "text": [
      "[Stage 0:>                                                          (0 + 1) / 1]\r"
     ]
    },
    {
     "name": "stdout",
     "output_type": "stream",
     "text": [
      "+---+---+\n",
      "|  x|  y|\n",
      "+---+---+\n",
      "|100|100|\n",
      "|100|101|\n",
      "|100|102|\n",
      "|100|103|\n",
      "|100|104|\n",
      "+---+---+\n",
      "only showing top 5 rows\n",
      "\n"
     ]
    },
    {
     "name": "stderr",
     "output_type": "stream",
     "text": [
      "                                                                                \r"
     ]
    }
   ],
   "source": [
    "generatedFrame.show(5)"
   ]
  },
  {
   "cell_type": "markdown",
   "metadata": {},
   "source": [
    "das sind alle relevanten pixel - joinen mit den Daten aus dem Hauptdatensatz"
   ]
  },
  {
   "cell_type": "code",
   "execution_count": 6,
   "metadata": {},
   "outputs": [
    {
     "name": "stdout",
     "output_type": "stream",
     "text": [
      "providing ../data/raw/2022_place_canvas_history-000000000050.csv ...\n",
      "../data/raw/2022_place_canvas_history-000000000050.csv is already in data/raw\n"
     ]
    },
    {
     "name": "stderr",
     "output_type": "stream",
     "text": [
      "                                                                                \r"
     ]
    }
   ],
   "source": [
    "from src.data.dataset_functions import get_dataframei\n",
    "\n",
    "dataFrame = get_dataframei(50)"
   ]
  },
  {
   "cell_type": "code",
   "execution_count": 7,
   "metadata": {},
   "outputs": [
    {
     "name": "stdout",
     "output_type": "stream",
     "text": [
      "+--------------------+----+----+---+-----------+\n",
      "|             user_id|   x|   y|  t|pixel_color|\n",
      "+--------------------+----+----+---+-----------+\n",
      "|vKtmwRQwAYtw5poO4...| 804|1992|  0|    #FF3881|\n",
      "|eoZO4uYgBzVoDR0Rb...|1667| 616|  0|    #FFFFFF|\n",
      "|Mdd6j8t/24pCeslV3...| 392| 467|  0|    #D4D7D9|\n",
      "|xHWcOdv98PR7yQNKD...|  21|1691|  0|    #000000|\n",
      "|hI0Z36Jzkw+coR+im...| 971|1026|  0|    #515252|\n",
      "+--------------------+----+----+---+-----------+\n",
      "only showing top 5 rows\n",
      "\n"
     ]
    }
   ],
   "source": [
    "dataFrame.show(5)"
   ]
  },
  {
   "cell_type": "code",
   "execution_count": 8,
   "metadata": {},
   "outputs": [],
   "source": [
    "relevantData = generatedFrame.alias(\"gf\").join(dataFrame.alias(\"df\"), F.col(\"gf.x\") == F.col(\"df.x\"))\n",
    "relevantData = relevantData.where(F.col(\"gf.y\") == F.col(\"df.y\"))\n",
    "relevantData = relevantData.where(F.col(\"df.t\") < tz)"
   ]
  },
  {
   "cell_type": "code",
   "execution_count": 9,
   "metadata": {},
   "outputs": [
    {
     "name": "stderr",
     "output_type": "stream",
     "text": [
      "[Stage 6:============================================>              (3 + 1) / 4]\r"
     ]
    },
    {
     "name": "stdout",
     "output_type": "stream",
     "text": [
      "+---+---+--------------------+---+---+---+-----------+\n",
      "|  x|  y|             user_id|  x|  y|  t|pixel_color|\n",
      "+---+---+--------------------+---+---+---+-----------+\n",
      "|100|114|+kRn/lyRystaDIFVb...|100|114|617|    #FFD635|\n",
      "|100|114|Q4Unvumry0qe7SKyN...|100|114|648|    #FFFFFF|\n",
      "|156|116|vzpcqFGg5QWGuCTf9...|156|116|113|    #898D90|\n",
      "|156|116|UP5N60v2k9h4ji7Az...|156|116|265|    #000000|\n",
      "|156|116|o5NK1a8XGb5KtT8zo...|156|116|269|    #00CC78|\n",
      "+---+---+--------------------+---+---+---+-----------+\n",
      "only showing top 5 rows\n",
      "\n"
     ]
    },
    {
     "name": "stderr",
     "output_type": "stream",
     "text": [
      "                                                                                \r"
     ]
    }
   ],
   "source": [
    "relevantData.show(5)"
   ]
  },
  {
   "cell_type": "markdown",
   "metadata": {},
   "source": [
    "Das sind jetzt alle Pixeldaten für die relevanten Pixel im Viereck.\n",
    "\n",
    "Idee:\n",
    "-nach t absteigend sortieren\n",
    "-x,y Duplikate entfernen\n",
    "\n",
    "Dann bleibt pro Pixel nur der aktuellste Wert!"
   ]
  },
  {
   "cell_type": "code",
   "execution_count": 10,
   "metadata": {},
   "outputs": [
    {
     "name": "stderr",
     "output_type": "stream",
     "text": [
      "[Stage 12:===========================================>              (3 + 1) / 4]\r"
     ]
    },
    {
     "name": "stdout",
     "output_type": "stream",
     "text": [
      "+---+---+--------------------+---+---+----+-----------+\n",
      "|  x|  y|             user_id|  x|  y|   t|pixel_color|\n",
      "+---+---+--------------------+---+---+----+-----------+\n",
      "|242|130|H80DxFk6VNyC2hEXZ...|242|130|1499|    #FFFFFF|\n",
      "|172|147|UYNSYvMNvpzeMNU8c...|172|147|1499|    #FF99AA|\n",
      "|159|108|w80Igl7pEwIHr8aom...|159|108|1498|    #FFFFFF|\n",
      "|134|143|7CL2L6T2wfnQpibKH...|134|143|1496|    #000000|\n",
      "|278|124|5vyQX/+QPZZKKADNu...|278|124|1496|    #BE0039|\n",
      "+---+---+--------------------+---+---+----+-----------+\n",
      "only showing top 5 rows\n",
      "\n"
     ]
    },
    {
     "name": "stderr",
     "output_type": "stream",
     "text": [
      "                                                                                \r"
     ]
    }
   ],
   "source": [
    "sortedData = relevantData.orderBy(F.col('t').desc())\n",
    "sortedData.show(5)"
   ]
  },
  {
   "cell_type": "code",
   "execution_count": 11,
   "metadata": {},
   "outputs": [
    {
     "name": "stderr",
     "output_type": "stream",
     "text": [
      "                                                                                \r"
     ]
    },
    {
     "name": "stdout",
     "output_type": "stream",
     "text": [
      "+---+---+--------------------+---+---+----+-----------+\n",
      "|  x|  y|             user_id|  x|  y|   t|pixel_color|\n",
      "+---+---+--------------------+---+---+----+-----------+\n",
      "|100|114|Q4Unvumry0qe7SKyN...|100|114| 648|    #FFFFFF|\n",
      "|100|138|FXzBQaCFC8zH/TKFa...|100|138|1090|    #BE0039|\n",
      "|101|105|rCHFYvafD1nKrDEzL...|101|105| 164|    #000000|\n",
      "|102|133|46Q0DVs3l4i9CTylT...|102|133| 564|    #BE0039|\n",
      "|103|106|igZa+H/H2SBbN+d5H...|103|106| 293|    #000000|\n",
      "|103|107|lIBAtJ+itUajT6vfw...|103|107| 491|    #000000|\n",
      "|103|146|4Mc6QHruswOAjmAMz...|103|146| 260|    #00A368|\n",
      "|104|104|Xi0Pdz1lWH6IiFRr6...|104|104|1096|    #000000|\n",
      "|104|121|j3eVq/qS8N2ndpN+N...|104|121| 509|    #FF4500|\n",
      "|104|123|kydEG33HVZO7B+ket...|104|123|1216|    #BE0039|\n",
      "|104|128|7D6MNOeXP/N0yrvdP...|104|128|1390|    #FF4500|\n",
      "|104|129|02Vj8pGAPhltC2/cx...|104|129| 993|    #FF4500|\n",
      "|104|134|jHgv+qaMF4/yCdcYQ...|104|134| 962|    #FF4500|\n",
      "|104|140|DMHbTeqOq0AKZYL3+...|104|140|1332|    #BE0039|\n",
      "|105|100|2pGiRkVerRFwF4nfc...|105|100| 937|    #000000|\n",
      "|105|105|vTb4X7XGBQGpZ3RNy...|105|105|1492|    #FFFFFF|\n",
      "|105|128|GXxzTRCYWowDWyEib...|105|128| 207|    #FF4500|\n",
      "|105|129|YrOzrDFK6uB975kdo...|105|129| 385|    #BE0039|\n",
      "|105|134|PYSUCxQMEJ/mG5OZD...|105|134| 843|    #FF4500|\n",
      "|105|139|xw+BT8X4gip2hBtcg...|105|139| 888|    #BE0039|\n",
      "+---+---+--------------------+---+---+----+-----------+\n",
      "only showing top 20 rows\n",
      "\n"
     ]
    },
    {
     "name": "stderr",
     "output_type": "stream",
     "text": [
      "                                                                                \r"
     ]
    },
    {
     "data": {
      "text/plain": [
       "637"
      ]
     },
     "execution_count": 11,
     "metadata": {},
     "output_type": "execute_result"
    }
   ],
   "source": [
    "droppedData = sortedData.dropDuplicates(['x','y'])\n",
    "droppedData.orderBy('gf.x','gf.y').show(20)\n",
    "droppedData.count()"
   ]
  },
  {
   "cell_type": "markdown",
   "metadata": {},
   "source": [
    "Das scheint leider nicht die Reihenfolge beizubehalten. Es werden \"irgendwelche\" Daten behalten ohne Duplicates.\n",
    "\n",
    "https://stackoverflow.com/questions/38687212/spark-dataframe-drop-duplicates-and-keep-first"
   ]
  },
  {
   "cell_type": "code",
   "execution_count": 12,
   "metadata": {},
   "outputs": [],
   "source": [
    "from pyspark.sql import Window\n",
    "window = Window.partitionBy(\"gf.x\",\"gf.y\").orderBy(F.col(\"t\").desc())\n",
    "sortedData = relevantData.withColumn('steps',F.row_number().over(window))\n",
    "droppedData = sortedData.where(F.col('steps') == 1)\n"
   ]
  },
  {
   "cell_type": "code",
   "execution_count": 13,
   "metadata": {},
   "outputs": [
    {
     "name": "stderr",
     "output_type": "stream",
     "text": [
      "                                                                                \r"
     ]
    },
    {
     "name": "stdout",
     "output_type": "stream",
     "text": [
      "+---+---+--------------------+---+---+----+-----------+-----+\n",
      "|  x|  y|             user_id|  x|  y|   t|pixel_color|steps|\n",
      "+---+---+--------------------+---+---+----+-----------+-----+\n",
      "|100|114|Q4Unvumry0qe7SKyN...|100|114| 648|    #FFFFFF|    1|\n",
      "|100|138|FXzBQaCFC8zH/TKFa...|100|138|1090|    #BE0039|    1|\n",
      "|101|105|rCHFYvafD1nKrDEzL...|101|105| 164|    #000000|    1|\n",
      "|102|133|46Q0DVs3l4i9CTylT...|102|133| 564|    #BE0039|    1|\n",
      "|103|106|igZa+H/H2SBbN+d5H...|103|106| 293|    #000000|    1|\n",
      "|103|107|lIBAtJ+itUajT6vfw...|103|107| 491|    #000000|    1|\n",
      "|103|146|4Mc6QHruswOAjmAMz...|103|146| 260|    #00A368|    1|\n",
      "|104|104|Xi0Pdz1lWH6IiFRr6...|104|104|1096|    #000000|    1|\n",
      "|104|121|j3eVq/qS8N2ndpN+N...|104|121| 509|    #FF4500|    1|\n",
      "|104|123|kydEG33HVZO7B+ket...|104|123|1216|    #BE0039|    1|\n",
      "|104|128|7D6MNOeXP/N0yrvdP...|104|128|1390|    #FF4500|    1|\n",
      "|104|129|02Vj8pGAPhltC2/cx...|104|129| 993|    #FF4500|    1|\n",
      "|104|134|jHgv+qaMF4/yCdcYQ...|104|134| 962|    #FF4500|    1|\n",
      "|104|140|DMHbTeqOq0AKZYL3+...|104|140|1332|    #BE0039|    1|\n",
      "|105|100|2pGiRkVerRFwF4nfc...|105|100| 937|    #000000|    1|\n",
      "|105|105|vTb4X7XGBQGpZ3RNy...|105|105|1492|    #FFFFFF|    1|\n",
      "|105|128|GXxzTRCYWowDWyEib...|105|128| 207|    #FF4500|    1|\n",
      "|105|129|YrOzrDFK6uB975kdo...|105|129| 385|    #BE0039|    1|\n",
      "|105|134|PYSUCxQMEJ/mG5OZD...|105|134| 843|    #FF4500|    1|\n",
      "|105|139|xw+BT8X4gip2hBtcg...|105|139| 888|    #BE0039|    1|\n",
      "+---+---+--------------------+---+---+----+-----------+-----+\n",
      "only showing top 20 rows\n",
      "\n"
     ]
    },
    {
     "name": "stderr",
     "output_type": "stream",
     "text": [
      "                                                                                \r"
     ]
    },
    {
     "data": {
      "text/plain": [
       "637"
      ]
     },
     "execution_count": 13,
     "metadata": {},
     "output_type": "execute_result"
    }
   ],
   "source": [
    "droppedData.orderBy('gf.x','gf.y').show(20)\n",
    "droppedData.count()"
   ]
  }
 ],
 "metadata": {
  "kernelspec": {
   "display_name": "Python 3.10.4 64-bit",
   "language": "python",
   "name": "python3"
  },
  "language_info": {
   "codemirror_mode": {
    "name": "ipython",
    "version": 3
   },
   "file_extension": ".py",
   "mimetype": "text/x-python",
   "name": "python",
   "nbconvert_exporter": "python",
   "pygments_lexer": "ipython3",
   "version": "3.10.4"
  },
  "orig_nbformat": 4,
  "vscode": {
   "interpreter": {
    "hash": "949777d72b0d2535278d3dc13498b2535136f6dfe0678499012e853ee9abcab1"
   }
  }
 },
 "nbformat": 4,
 "nbformat_minor": 2
}
