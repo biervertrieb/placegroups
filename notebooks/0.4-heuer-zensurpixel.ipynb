{
 "cells": [
  {
   "cell_type": "markdown",
   "metadata": {},
   "source": [
    "Ziel: Funktion die für ein Viereck x1,y1 x2,y2 zu einem Zeitpunkt t das aktuell gezeichnete Bild ausrechnet\n",
    "\n",
    "Dazu müssen für alle Pixel in dem Viereck jeweils der letzte gesetzte Pixelwert aus dem Hauptdatensatz gefunden werden.\n",
    "\n",
    "Ausgabe ist ein DataFrame mit diesen Pixelwerten\n",
    "\n",
    "Idee:\n",
    "- generiere DataFrame mit allen Pixelkoordinaten des Vierecks\n",
    "- join mit Hauptdatensatz\n",
    "- finde pro Pixel den neuesten Timestamp"
   ]
  },
  {
   "cell_type": "code",
   "execution_count": 3,
   "metadata": {},
   "outputs": [],
   "source": [
    "#Eingabedaten Beispiel\n",
    "x1 = 100\n",
    "y1 = 100\n",
    "x2 = 300\n",
    "y2 = 150\n",
    "# 200 x 50 Viereck - das sind 10.000 Pixel\n",
    "tz = 1500"
   ]
  },
  {
   "cell_type": "code",
   "execution_count": 4,
   "metadata": {},
   "outputs": [],
   "source": [
    "from pyspark.sql import SparkSession, DataFrame\n",
    "import itertools\n",
    "import numpy as np\n",
    "import pyspark.sql.functions as F\n",
    "\n",
    "spark = SparkSession.builder.appName('placegroups').getOrCreate()\n",
    "spark.sparkContext.setCheckpointDir('../data/interim/checkpoints')"
   ]
  },
  {
   "cell_type": "code",
   "execution_count": 5,
   "metadata": {},
   "outputs": [],
   "source": [
    "x_list = list(range(x1,x2+1))\n",
    "y_list = list(range(y1,y2+1))\n",
    "\n",
    "generatedData = list(itertools.product(x_list,y_list))\n",
    "\n",
    "#print(generatedData)"
   ]
  },
  {
   "cell_type": "code",
   "execution_count": 6,
   "metadata": {},
   "outputs": [],
   "source": [
    "from pyspark.sql.types import StructType,StructField,StringType,IntegerType\n",
    "\n",
    "boxSchema = [\"x\",\"y\"]\n",
    "generatedFrame = spark.createDataFrame(data = generatedData, schema = boxSchema)"
   ]
  },
  {
   "cell_type": "code",
   "execution_count": 7,
   "metadata": {},
   "outputs": [
    {
     "name": "stdout",
     "output_type": "stream",
     "text": [
      "+---+---+\n",
      "|  x|  y|\n",
      "+---+---+\n",
      "|100|100|\n",
      "|100|101|\n",
      "|100|102|\n",
      "|100|103|\n",
      "|100|104|\n",
      "+---+---+\n",
      "only showing top 5 rows\n",
      "\n"
     ]
    }
   ],
   "source": [
    "generatedFrame.show(5)"
   ]
  },
  {
   "cell_type": "markdown",
   "metadata": {},
   "source": [
    "das sind alle relevanten pixel - joinen mit den Daten aus dem Hauptdatensatz"
   ]
  },
  {
   "cell_type": "code",
   "execution_count": 14,
   "metadata": {},
   "outputs": [
    {
     "name": "stdout",
     "output_type": "stream",
     "text": [
      "providing ../data/raw/2022_place_canvas_history-000000000050.csv ...\n",
      "../data/raw/2022_place_canvas_history-000000000050.csv is already in data/raw\n",
      "+----------+--------------------+-----------+----------+\n",
      "| timestamp|             user_id|pixel_color|coordinate|\n",
      "+----------+--------------------+-----------+----------+\n",
      "|1649047095|vKtmwRQwAYtw5poO4...|    #FF3881|  804,1992|\n",
      "|1649047095|eoZO4uYgBzVoDR0Rb...|    #FFFFFF|  1667,616|\n",
      "|1649047095|Mdd6j8t/24pCeslV3...|    #D4D7D9|   392,467|\n",
      "|1649047095|xHWcOdv98PR7yQNKD...|    #000000|   21,1691|\n",
      "|1649047095|hI0Z36Jzkw+coR+im...|    #515252|  971,1026|\n",
      "+----------+--------------------+-----------+----------+\n",
      "only showing top 5 rows\n",
      "\n"
     ]
    },
    {
     "name": "stderr",
     "output_type": "stream",
     "text": [
      "                                                                                \r"
     ]
    }
   ],
   "source": [
    "from src.data.dataset_functions import get_dataframei\n",
    "\n",
    "dataFrame = get_dataframei(50)"
   ]
  },
  {
   "cell_type": "code",
   "execution_count": 15,
   "metadata": {},
   "outputs": [
    {
     "name": "stdout",
     "output_type": "stream",
     "text": [
      "+--------------------+----+----+---+-----------+\n",
      "|             user_id|   x|   y|  t|pixel_color|\n",
      "+--------------------+----+----+---+-----------+\n",
      "|vKtmwRQwAYtw5poO4...| 804|1992|  0|    #FF3881|\n",
      "|eoZO4uYgBzVoDR0Rb...|1667| 616|  0|    #FFFFFF|\n",
      "|Mdd6j8t/24pCeslV3...| 392| 467|  0|    #D4D7D9|\n",
      "|xHWcOdv98PR7yQNKD...|  21|1691|  0|    #000000|\n",
      "|hI0Z36Jzkw+coR+im...| 971|1026|  0|    #515252|\n",
      "+--------------------+----+----+---+-----------+\n",
      "only showing top 5 rows\n",
      "\n"
     ]
    }
   ],
   "source": [
    "dataFrame.show(5)"
   ]
  },
  {
   "cell_type": "code",
   "execution_count": 16,
   "metadata": {},
   "outputs": [],
   "source": [
    "relevantData = generatedFrame.alias(\"gf\").join(dataFrame.alias(\"df\"), F.col(\"gf.x\") == F.col(\"df.x\"))\n",
    "relevantData = relevantData.where(F.col(\"gf.y\") == F.col(\"df.y\"))\n",
    "relevantData = relevantData.where(F.col(\"df.t\") < tz)"
   ]
  },
  {
   "cell_type": "code",
   "execution_count": 17,
   "metadata": {},
   "outputs": [
    {
     "name": "stderr",
     "output_type": "stream",
     "text": [
      "[Stage 22:===========================================>              (3 + 1) / 4]\r"
     ]
    },
    {
     "name": "stdout",
     "output_type": "stream",
     "text": [
      "+---+---+--------------------+---+---+---+-----------+\n",
      "|  x|  y|             user_id|  x|  y|  t|pixel_color|\n",
      "+---+---+--------------------+---+---+---+-----------+\n",
      "|100|114|+kRn/lyRystaDIFVb...|100|114|617|    #FFD635|\n",
      "|100|114|Q4Unvumry0qe7SKyN...|100|114|648|    #FFFFFF|\n",
      "|156|116|vzpcqFGg5QWGuCTf9...|156|116|113|    #898D90|\n",
      "|156|116|UP5N60v2k9h4ji7Az...|156|116|265|    #000000|\n",
      "|156|116|o5NK1a8XGb5KtT8zo...|156|116|269|    #00CC78|\n",
      "+---+---+--------------------+---+---+---+-----------+\n",
      "only showing top 5 rows\n",
      "\n"
     ]
    },
    {
     "name": "stderr",
     "output_type": "stream",
     "text": [
      "                                                                                \r"
     ]
    }
   ],
   "source": [
    "relevantData.show(5)"
   ]
  },
  {
   "cell_type": "markdown",
   "metadata": {},
   "source": [
    "Das sind jetzt alle Pixeldaten für die relevanten Pixel im Viereck.\n",
    "\n",
    "Idee:\n",
    "-nach t absteigend sortieren\n",
    "-x,y Duplikate entfernen\n",
    "\n",
    "Dann bleibt pro Pixel nur der aktuellste Wert!"
   ]
  },
  {
   "cell_type": "code",
   "execution_count": 23,
   "metadata": {},
   "outputs": [
    {
     "name": "stderr",
     "output_type": "stream",
     "text": [
      "[Stage 34:===========================================>              (3 + 1) / 4]\r"
     ]
    },
    {
     "name": "stdout",
     "output_type": "stream",
     "text": [
      "+---+---+--------------------+---+---+----+-----------+\n",
      "|  x|  y|             user_id|  x|  y|   t|pixel_color|\n",
      "+---+---+--------------------+---+---+----+-----------+\n",
      "|242|130|H80DxFk6VNyC2hEXZ...|242|130|1499|    #FFFFFF|\n",
      "|172|147|UYNSYvMNvpzeMNU8c...|172|147|1499|    #FF99AA|\n",
      "|159|108|w80Igl7pEwIHr8aom...|159|108|1498|    #FFFFFF|\n",
      "|134|143|7CL2L6T2wfnQpibKH...|134|143|1496|    #000000|\n",
      "|278|124|5vyQX/+QPZZKKADNu...|278|124|1496|    #BE0039|\n",
      "+---+---+--------------------+---+---+----+-----------+\n",
      "only showing top 5 rows\n",
      "\n"
     ]
    },
    {
     "name": "stderr",
     "output_type": "stream",
     "text": [
      "                                                                                \r"
     ]
    }
   ],
   "source": [
    "sortedData = relevantData.orderBy(F.col('t').desc())\n",
    "sortedData.show(5)"
   ]
  },
  {
   "cell_type": "code",
   "execution_count": 24,
   "metadata": {},
   "outputs": [
    {
     "name": "stderr",
     "output_type": "stream",
     "text": [
      "                                                                                \r"
     ]
    },
    {
     "name": "stdout",
     "output_type": "stream",
     "text": [
      "+---+---+--------------------+---+---+----+-----------+\n",
      "|  x|  y|             user_id|  x|  y|   t|pixel_color|\n",
      "+---+---+--------------------+---+---+----+-----------+\n",
      "|100|114|Q4Unvumry0qe7SKyN...|100|114| 648|    #FFFFFF|\n",
      "|100|138|FXzBQaCFC8zH/TKFa...|100|138|1090|    #BE0039|\n",
      "|101|105|rCHFYvafD1nKrDEzL...|101|105| 164|    #000000|\n",
      "|102|133|46Q0DVs3l4i9CTylT...|102|133| 564|    #BE0039|\n",
      "|103|106|igZa+H/H2SBbN+d5H...|103|106| 293|    #000000|\n",
      "+---+---+--------------------+---+---+----+-----------+\n",
      "only showing top 5 rows\n",
      "\n"
     ]
    },
    {
     "name": "stderr",
     "output_type": "stream",
     "text": [
      "                                                                                \r"
     ]
    },
    {
     "data": {
      "text/plain": [
       "637"
      ]
     },
     "execution_count": 24,
     "metadata": {},
     "output_type": "execute_result"
    }
   ],
   "source": [
    "droppedData = sortedData.dropDuplicates(['x','y'])\n",
    "droppedData.show(5)\n",
    "droppedData.count()"
   ]
  },
  {
   "cell_type": "markdown",
   "metadata": {},
   "source": [
    "Das scheint leider nicht die Reihenfolge beizubehalten. Es werden \"irgendwelche\" Daten behalten ohne Duplicates.\n",
    "\n",
    "https://stackoverflow.com/questions/38687212/spark-dataframe-drop-duplicates-and-keep-first"
   ]
  },
  {
   "cell_type": "code",
   "execution_count": 32,
   "metadata": {},
   "outputs": [
    {
     "ename": "AttributeError",
     "evalue": "'builtin_function_or_method' object has no attribute 'where'",
     "output_type": "error",
     "traceback": [
      "\u001b[0;31m---------------------------------------------------------------------------\u001b[0m",
      "\u001b[0;31mAttributeError\u001b[0m                            Traceback (most recent call last)",
      "\u001b[1;32m/workspaces/placegroups/notebooks/0.4-heuer-zensurpixel.ipynb Cell 16'\u001b[0m in \u001b[0;36m<cell line: 4>\u001b[0;34m()\u001b[0m\n\u001b[1;32m      <a href='vscode-notebook-cell://dev-container%2B633a5c62617374695c706c61636567726f757073/workspaces/placegroups/notebooks/0.4-heuer-zensurpixel.ipynb#ch0000017vscode-remote?line=1'>2</a>\u001b[0m window \u001b[39m=\u001b[39m Window\u001b[39m.\u001b[39mpartitionBy(\u001b[39m\"\u001b[39m\u001b[39mgf.x\u001b[39m\u001b[39m\"\u001b[39m,\u001b[39m\"\u001b[39m\u001b[39mgf.y\u001b[39m\u001b[39m\"\u001b[39m)\u001b[39m.\u001b[39morderBy(F\u001b[39m.\u001b[39mcol(\u001b[39m\"\u001b[39m\u001b[39mt\u001b[39m\u001b[39m\"\u001b[39m)\u001b[39m.\u001b[39mdesc())\n\u001b[1;32m      <a href='vscode-notebook-cell://dev-container%2B633a5c62617374695c706c61636567726f757073/workspaces/placegroups/notebooks/0.4-heuer-zensurpixel.ipynb#ch0000017vscode-remote?line=2'>3</a>\u001b[0m sortedData \u001b[39m=\u001b[39m relevantData\u001b[39m.\u001b[39mwithColumn(\u001b[39m'\u001b[39m\u001b[39msteps\u001b[39m\u001b[39m'\u001b[39m,F\u001b[39m.\u001b[39mrow_number()\u001b[39m.\u001b[39mover(window))\n\u001b[0;32m----> <a href='vscode-notebook-cell://dev-container%2B633a5c62617374695c706c61636567726f757073/workspaces/placegroups/notebooks/0.4-heuer-zensurpixel.ipynb#ch0000017vscode-remote?line=3'>4</a>\u001b[0m droppedData \u001b[39m=\u001b[39m \u001b[39msorted\u001b[39;49m\u001b[39m.\u001b[39;49mwhere(F\u001b[39m.\u001b[39mcol(\u001b[39m'\u001b[39m\u001b[39msteps\u001b[39m\u001b[39m'\u001b[39m) \u001b[39m==\u001b[39m \u001b[39m1\u001b[39m)\n",
      "\u001b[0;31mAttributeError\u001b[0m: 'builtin_function_or_method' object has no attribute 'where'"
     ]
    }
   ],
   "source": [
    "from pyspark.sql import Window\n",
    "window = Window.partitionBy(\"gf.x\",\"gf.y\").orderBy(F.col(\"t\").desc())\n",
    "sortedData = relevantData.withColumn('steps',F.row_number().over(window))\n",
    "droppedData = sortedData.where(F.col('steps') == 1)\n"
   ]
  }
 ],
 "metadata": {
  "kernelspec": {
   "display_name": "Python 3.10.4 64-bit",
   "language": "python",
   "name": "python3"
  },
  "language_info": {
   "codemirror_mode": {
    "name": "ipython",
    "version": 3
   },
   "file_extension": ".py",
   "mimetype": "text/x-python",
   "name": "python",
   "nbconvert_exporter": "python",
   "pygments_lexer": "ipython3",
   "version": "3.10.4"
  },
  "orig_nbformat": 4,
  "vscode": {
   "interpreter": {
    "hash": "949777d72b0d2535278d3dc13498b2535136f6dfe0678499012e853ee9abcab1"
   }
  }
 },
 "nbformat": 4,
 "nbformat_minor": 2
}
