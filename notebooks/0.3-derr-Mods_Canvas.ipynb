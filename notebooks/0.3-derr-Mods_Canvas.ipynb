{
 "cells": [
  {
   "cell_type": "code",
   "execution_count": 1,
   "metadata": {},
   "outputs": [
    {
     "name": "stdout",
     "output_type": "stream",
     "text": [
      "providing ../data/raw/2022_place_canvas_history-000000000004.csv ...\n",
      "../data/raw/2022_place_canvas_history-000000000004.csv is already in data/raw\n",
      ":: loading settings :: url = jar:file:/usr/local/lib/python3.9/site-packages/pyspark/jars/ivy-2.5.0.jar!/org/apache/ivy/core/settings/ivysettings.xml\n"
     ]
    },
    {
     "name": "stderr",
     "output_type": "stream",
     "text": [
      "Ivy Default Cache set to: /home/vscode/.ivy2/cache\n",
      "The jars for the packages stored in: /home/vscode/.ivy2/jars\n",
      "graphframes#graphframes added as a dependency\n",
      ":: resolving dependencies :: org.apache.spark#spark-submit-parent-95c40c8c-67b2-4339-9b46-c28899ce6fb1;1.0\n",
      "\tconfs: [default]\n",
      "\tfound graphframes#graphframes;0.8.2-spark3.2-s_2.12 in spark-packages\n",
      "\tfound org.slf4j#slf4j-api;1.7.16 in central\n",
      ":: resolution report :: resolve 71ms :: artifacts dl 4ms\n",
      "\t:: modules in use:\n",
      "\tgraphframes#graphframes;0.8.2-spark3.2-s_2.12 from spark-packages in [default]\n",
      "\torg.slf4j#slf4j-api;1.7.16 from central in [default]\n",
      "\t---------------------------------------------------------------------\n",
      "\t|                  |            modules            ||   artifacts   |\n",
      "\t|       conf       | number| search|dwnlded|evicted|| number|dwnlded|\n",
      "\t---------------------------------------------------------------------\n",
      "\t|      default     |   2   |   0   |   0   |   0   ||   2   |   0   |\n",
      "\t---------------------------------------------------------------------\n",
      ":: retrieving :: org.apache.spark#spark-submit-parent-95c40c8c-67b2-4339-9b46-c28899ce6fb1\n",
      "\tconfs: [default]\n",
      "\t0 artifacts copied, 2 already retrieved (0kB/3ms)\n",
      "22/06/27 11:31:46 WARN NativeCodeLoader: Unable to load native-hadoop library for your platform... using builtin-java classes where applicable\n",
      "Using Spark's default log4j profile: org/apache/spark/log4j-defaults.properties\n",
      "Setting default log level to \"WARN\".\n",
      "To adjust logging level use sc.setLogLevel(newLevel). For SparkR, use setLogLevel(newLevel).\n"
     ]
    }
   ],
   "source": [
    "from src.data.dataset_functions import get_dataframei_onlymods\n",
    "import pyspark.sql.functions as F\n",
    "\n",
    "mod_dataframe = get_dataframei_onlymods(4) #Der Parameter steht für den Datensatz, der verwendet werden soll"
   ]
  },
  {
   "cell_type": "markdown",
   "metadata": {},
   "source": [
    "<div style=\"color:#b64365\">\n",
    "\n",
    "* Ich brauche eine Liste mit unterschiedlichen Farben, da Mods recht mit einheitlichen Farben zensiert haben,\n",
    "    könnte also sonst problematisch werden zu erkennen was zsm.gehört und was nicht \n",
    " \n",
    "* Ich muss die zwei Koordinaten eines Mods in eine Liste von einzelenen Pixeln umwandeln, damit jeder Pixel gezeichnet wird.\n",
    "* Oder ich lasse nur den Rahmen und nicht das komplette Quadrat zeichnen, dann könnte es aber vllt. schwierig auf dem Canvas zu erkennen sein?\n",
    "    -> ich beginge wahrscheinlich erstmal nur mit dem Rahmen und schaue wie gut man das ganze erkennen kann\n",
    "</div>"
   ]
  },
  {
   "cell_type": "markdown",
   "metadata": {},
   "source": [
    "<div style=\"color:#d4597e\">\n",
    "\n",
    "* Im ersten Schritt schmeiße ich erstmal alle Spalten raus die nicht benötigt werden\n",
    "* Anschließend versuche ich die Liste mit vielen unterschiedlichen Farben zu generieren\n",
    "* Und danach eine Liste mit Pixeln für die Mods zu erstellen die gezeichnet werden soll\n",
    "\n",
    "</div>"
   ]
  },
  {
   "cell_type": "code",
   "execution_count": 3,
   "metadata": {},
   "outputs": [
    {
     "name": "stdout",
     "output_type": "stream",
     "text": [
      "root\n",
      " |-- user_id: string (nullable = true)\n",
      " |-- x1: integer (nullable = true)\n",
      " |-- y1: integer (nullable = true)\n",
      " |-- x2: integer (nullable = true)\n",
      " |-- y2: integer (nullable = true)\n",
      " |-- pixel_color: string (nullable = true)\n",
      "\n"
     ]
    }
   ],
   "source": [
    "only_needed_columns = mod_dataframe.drop('t')\n",
    "only_needed_columns.printSchema()"
   ]
  },
  {
   "cell_type": "code",
   "execution_count": 4,
   "metadata": {},
   "outputs": [
    {
     "name": "stdout",
     "output_type": "stream",
     "text": [
      "['#692304', '#0951ca', '#08069f', '#0314c1', '#a47ba4']\n"
     ]
    }
   ],
   "source": [
    "import random\n",
    "\n",
    "get_colors = lambda n: list(map(lambda i: \"#\" + \"%06x\" % random.randint(0, 0xFFFFFF),range(n)))\n",
    "#Der Parameter gibt an wie viele Farben man bekommt\n",
    "print(get_colors(5)) # sample return:  ['#8af5da', '#fbc08c', '#b741d0', '#e599f1', '#bbcb59', '#a2a6c0']"
   ]
  },
  {
   "cell_type": "code",
   "execution_count": 5,
   "metadata": {},
   "outputs": [
    {
     "name": "stderr",
     "output_type": "stream",
     "text": [
      "                                                                                \r"
     ]
    }
   ],
   "source": [
    "#Um für alle Einträge eine Farbe zu bekommen, brauch ich hier nochmal die Anzahl an gemachten Einträgen\n",
    "amount_of_needed_colors = only_needed_columns.count()"
   ]
  },
  {
   "cell_type": "code",
   "execution_count": null,
   "metadata": {},
   "outputs": [],
   "source": [
    "#Nun die Liste erstellen für die Pixel"
   ]
  },
  {
   "cell_type": "markdown",
   "metadata": {},
   "source": [
    "<div style=\"color:#d4597e\">\n",
    "\n",
    "Jetzt probiere ich mich am Canvas, verwende dafür Gretas Code mit den Bots als Beispiel.\n",
    "\n",
    "</div>"
   ]
  },
  {
   "cell_type": "code",
   "execution_count": null,
   "metadata": {},
   "outputs": [],
   "source": [
    "from PIL import Image\n",
    "from src.visualization.visuialization_functions import parse_pixel_color\n",
    "\n",
    "#Umwandlung in Pandas DataFrame, sollte hier aus Effizienzsicht nicht schlimm sein, da es nur wenige Mods gibt\n",
    "pandasMods = only_needed_columns.toPandas()\n",
    "canvas = Image.new(\"RGB\", (2000,2000), \"WHITE\")\n",
    "\n",
    "#Schrittweise Pixel im Canvas setzen\n",
    "for index, row in pandasMods.iterrows():\n",
    "    canvas.putpixel((row['x'],row['y']), parse_pixel_color(row['pixel_color']))\n",
    "\n",
    "canvas.show()\n",
    "#canvas.save('../reports/figures/mods-censors-canvas.jpg')"
   ]
  }
 ],
 "metadata": {
  "kernelspec": {
   "display_name": "Python 3.9.2 64-bit",
   "language": "python",
   "name": "python3"
  },
  "language_info": {
   "codemirror_mode": {
    "name": "ipython",
    "version": 3
   },
   "file_extension": ".py",
   "mimetype": "text/x-python",
   "name": "python",
   "nbconvert_exporter": "python",
   "pygments_lexer": "ipython3",
   "version": "3.9.2"
  },
  "orig_nbformat": 4,
  "vscode": {
   "interpreter": {
    "hash": "949777d72b0d2535278d3dc13498b2535136f6dfe0678499012e853ee9abcab1"
   }
  }
 },
 "nbformat": 4,
 "nbformat_minor": 2
}
