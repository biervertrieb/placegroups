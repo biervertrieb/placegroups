{
 "cells": [
  {
   "cell_type": "code",
   "execution_count": 1,
   "metadata": {},
   "outputs": [
    {
     "name": "stdout",
     "output_type": "stream",
     "text": [
      "providing ../data/raw/2022_place_canvas_history-000000000050.csv ...\n",
      "../data/raw/2022_place_canvas_history-000000000050.csv is already in data/raw\n",
      ":: loading settings :: url = jar:file:/usr/local/lib/python3.9/site-packages/pyspark/jars/ivy-2.5.0.jar!/org/apache/ivy/core/settings/ivysettings.xml\n"
     ]
    },
    {
     "name": "stderr",
     "output_type": "stream",
     "text": [
      "Ivy Default Cache set to: /home/vscode/.ivy2/cache\n",
      "The jars for the packages stored in: /home/vscode/.ivy2/jars\n",
      "graphframes#graphframes added as a dependency\n",
      ":: resolving dependencies :: org.apache.spark#spark-submit-parent-1d5ece2a-c1b1-4c33-848f-c4840596a3b7;1.0\n",
      "\tconfs: [default]\n",
      "\tfound graphframes#graphframes;0.8.2-spark3.2-s_2.12 in spark-packages\n",
      "\tfound org.slf4j#slf4j-api;1.7.16 in central\n",
      ":: resolution report :: resolve 119ms :: artifacts dl 8ms\n",
      "\t:: modules in use:\n",
      "\tgraphframes#graphframes;0.8.2-spark3.2-s_2.12 from spark-packages in [default]\n",
      "\torg.slf4j#slf4j-api;1.7.16 from central in [default]\n",
      "\t---------------------------------------------------------------------\n",
      "\t|                  |            modules            ||   artifacts   |\n",
      "\t|       conf       | number| search|dwnlded|evicted|| number|dwnlded|\n",
      "\t---------------------------------------------------------------------\n",
      "\t|      default     |   2   |   0   |   0   |   0   ||   2   |   0   |\n",
      "\t---------------------------------------------------------------------\n",
      ":: retrieving :: org.apache.spark#spark-submit-parent-1d5ece2a-c1b1-4c33-848f-c4840596a3b7\n",
      "\tconfs: [default]\n",
      "\t0 artifacts copied, 2 already retrieved (0kB/4ms)\n",
      "22/06/19 19:37:21 WARN NativeCodeLoader: Unable to load native-hadoop library for your platform... using builtin-java classes where applicable\n",
      "Using Spark's default log4j profile: org/apache/spark/log4j-defaults.properties\n",
      "Setting default log level to \"WARN\".\n",
      "To adjust logging level use sc.setLogLevel(newLevel). For SparkR, use setLogLevel(newLevel).\n"
     ]
    }
   ],
   "source": [
    "from src.data.dataset_functions import make_dataframe_from_rawcsv,provide_rawcsv\n",
    "\n",
    "provide_rawcsv(True)\n",
    "new_dataframe = make_dataframe_from_rawcsv()"
   ]
  },
  {
   "cell_type": "code",
   "execution_count": 2,
   "metadata": {},
   "outputs": [],
   "source": [
    "import pyspark.sql.functions as F\n",
    "from pyspark.sql import DataFrame\n",
    "from src.data.dataset_functions import transform_dataframe_colums,transform_dataframe_normalize_seconds,transform_dataframe_timestamp\n",
    "\n",
    "def transform_dataframe(df_input: DataFrame) -> DataFrame:\n",
    "    ''' Transforms a dataframe from its source structure into something more usable '''\n",
    "    df_transform = transform_dataframe_filter_nomods(df_input)\n",
    "    df_transform = transform_dataframe_timestamp(df_transform)\n",
    "    df_transform = transform_dataframe_normalize_seconds(df_transform)\n",
    "    df_transform = transform_dataframe_colums(df_transform)\n",
    "    return df_transform\n",
    "\n",
    "def transform_dataframe_filter_nomods(df_input: DataFrame) -> DataFrame:\n",
    "    ''' filters mod data - they have 2 coordinate pairs per row '''\n",
    "    df_output = df_input.where(F.size(F.split('coordinate', ',')) == 2)\n",
    "    return df_output\n",
    "\n",
    "def transform_dataframe_filter_onlymods(df_input: DataFrame) -> DataFrame:\n",
    "    ''' outputs only mod data - 2 coordinate pairs '''\n",
    "    df_output = df_input.where(F.size(F.split('coordinate', ',')) > 2)\n",
    "    return df_output\n",
    "\n",
    "def transform_dataframe_modcolumns(df_input: DataFrame) -> DataFrame:\n",
    "    ''' Transforms columns from [\\'timestamp\\',\\'user_id\\',\\'pixel_color\\',\\'coordinate\\']\n",
    "    into [\\'user_id\\',\\'x1\\',\\'y1\\',\\'x2\\',\\'y2\\',\\'t\\',\\'pixel_color\\']'''\n",
    "    df_output = df_input.select('user_id',\n",
    "                                F.split('coordinate', ',').getItem(\n",
    "                                    0).cast('int').alias('x1'),\n",
    "                                F.split('coordinate', ',').getItem(\n",
    "                                    1).cast('int').alias('y1'),\n",
    "                                F.split('coordinate', ',').getItem(\n",
    "                                    2).cast('int').alias('x2'),\n",
    "                                F.split('coordinate', ',').getItem(\n",
    "                                    3).cast('int').alias('y2'),\n",
    "                                F.col('timestamp').alias('t'),\n",
    "                                'pixel_color')\n",
    "    return df_output\n",
    "\n",
    "def transform_dataframe_onlymods(df_input: DataFrame) -> DataFrame:\n",
    "    ''' Transfroms a dataframe from its source structure but uses only the rows with moderator data '''\n",
    "    df_transform = transform_dataframe_filter_onlymods(df_input)\n",
    "    df_transform = transform_dataframe_timestamp(df_transform)\n",
    "    df_transform = transform_dataframe_normalize_seconds(df_transform)\n",
    "    df_transform = transform_dataframe_modcolumns(df_transform)\n",
    "    return df_transform\n"
   ]
  },
  {
   "cell_type": "code",
   "execution_count": 3,
   "metadata": {},
   "outputs": [],
   "source": [
    "\n",
    "transformed_dataframe = transform_dataframe(new_dataframe)"
   ]
  },
  {
   "cell_type": "code",
   "execution_count": 4,
   "metadata": {},
   "outputs": [],
   "source": [
    "mod_dataframe = transform_dataframe_onlymods(new_dataframe)"
   ]
  },
  {
   "cell_type": "code",
   "execution_count": 5,
   "metadata": {},
   "outputs": [
    {
     "name": "stderr",
     "output_type": "stream",
     "text": [
      "[Stage 4:>                                                          (0 + 1) / 1]\r"
     ]
    },
    {
     "name": "stdout",
     "output_type": "stream",
     "text": [
      "+-------+---+---+---+---+---+-----------+\n",
      "|user_id| x1| y1| x2| y2|  t|pixel_color|\n",
      "+-------+---+---+---+---+---+-----------+\n",
      "+-------+---+---+---+---+---+-----------+\n",
      "\n"
     ]
    },
    {
     "name": "stderr",
     "output_type": "stream",
     "text": [
      "                                                                                \r"
     ]
    }
   ],
   "source": [
    "mod_dataframe.show()"
   ]
  }
 ],
 "metadata": {
  "kernelspec": {
   "display_name": "Python 3.10.4 64-bit",
   "language": "python",
   "name": "python3"
  },
  "language_info": {
   "codemirror_mode": {
    "name": "ipython",
    "version": 3
   },
   "file_extension": ".py",
   "mimetype": "text/x-python",
   "name": "python",
   "nbconvert_exporter": "python",
   "pygments_lexer": "ipython3",
   "version": "3.9.2"
  },
  "orig_nbformat": 4,
  "vscode": {
   "interpreter": {
    "hash": "949777d72b0d2535278d3dc13498b2535136f6dfe0678499012e853ee9abcab1"
   }
  }
 },
 "nbformat": 4,
 "nbformat_minor": 2
}
