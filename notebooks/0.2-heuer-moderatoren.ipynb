{
 "cells": [
  {
   "cell_type": "code",
   "execution_count": 1,
   "metadata": {},
   "outputs": [
    {
     "name": "stdout",
     "output_type": "stream",
     "text": [
      "providing ../data/raw/2022_place_canvas_history-000000000003.csv ...\n",
      "not found. need to download ../data/raw/2022_place_canvas_history-000000000003.csv.gzip ...\n",
      "downloading from https://placedata.reddit.com/data/canvas-history/2022_place_canvas_history-000000000003.csv.gzip to ../data/raw/2022_place_canvas_history-000000000003.csv.gzip\n",
      "unpacking ../data/raw/2022_place_canvas_history-000000000003.csv.gzip into ../data/raw/2022_place_canvas_history-000000000003.csv\n",
      "deleting ../data/raw/2022_place_canvas_history-000000000003.csv.gzip\n",
      ":: loading settings :: url = jar:file:/usr/local/lib/python3.9/site-packages/pyspark/jars/ivy-2.5.0.jar!/org/apache/ivy/core/settings/ivysettings.xml\n"
     ]
    },
    {
     "name": "stderr",
     "output_type": "stream",
     "text": [
      "Ivy Default Cache set to: /home/vscode/.ivy2/cache\n",
      "The jars for the packages stored in: /home/vscode/.ivy2/jars\n",
      "graphframes#graphframes added as a dependency\n",
      ":: resolving dependencies :: org.apache.spark#spark-submit-parent-daafe7fd-09c9-494a-814f-881f5348236b;1.0\n",
      "\tconfs: [default]\n",
      "\tfound graphframes#graphframes;0.8.2-spark3.2-s_2.12 in spark-packages\n",
      "\tfound org.slf4j#slf4j-api;1.7.16 in central\n",
      ":: resolution report :: resolve 78ms :: artifacts dl 4ms\n",
      "\t:: modules in use:\n",
      "\tgraphframes#graphframes;0.8.2-spark3.2-s_2.12 from spark-packages in [default]\n",
      "\torg.slf4j#slf4j-api;1.7.16 from central in [default]\n",
      "\t---------------------------------------------------------------------\n",
      "\t|                  |            modules            ||   artifacts   |\n",
      "\t|       conf       | number| search|dwnlded|evicted|| number|dwnlded|\n",
      "\t---------------------------------------------------------------------\n",
      "\t|      default     |   2   |   0   |   0   |   0   ||   2   |   0   |\n",
      "\t---------------------------------------------------------------------\n",
      ":: retrieving :: org.apache.spark#spark-submit-parent-daafe7fd-09c9-494a-814f-881f5348236b\n",
      "\tconfs: [default]\n",
      "\t0 artifacts copied, 2 already retrieved (0kB/2ms)\n",
      "22/06/20 18:54:03 WARN NativeCodeLoader: Unable to load native-hadoop library for your platform... using builtin-java classes where applicable\n",
      "Using Spark's default log4j profile: org/apache/spark/log4j-defaults.properties\n",
      "Setting default log level to \"WARN\".\n",
      "To adjust logging level use sc.setLogLevel(newLevel). For SparkR, use setLogLevel(newLevel).\n"
     ]
    }
   ],
   "source": [
    "from src.data.dataset_functions import make_dataframe_from_rawcsv,provide_rawcsv\n",
    "\n",
    "provide_rawcsv(True)\n",
    "new_dataframe = make_dataframe_from_rawcsv()"
   ]
  },
  {
   "cell_type": "code",
   "execution_count": 2,
   "metadata": {},
   "outputs": [],
   "source": [
    "import pyspark.sql.functions as F\n",
    "from pyspark.sql import DataFrame\n",
    "from src.data.dataset_functions import transform_dataframe_colums,transform_dataframe_normalize_seconds,transform_dataframe_timestamp\n",
    "\n",
    "def transform_dataframe(df_input: DataFrame) -> DataFrame:\n",
    "    ''' Transforms a dataframe from its source structure into something more usable '''\n",
    "    df_transform = transform_dataframe_filter_nomods(df_input)\n",
    "    df_transform = transform_dataframe_timestamp(df_transform)\n",
    "    df_transform = transform_dataframe_normalize_seconds(df_transform)\n",
    "    df_transform = transform_dataframe_colums(df_transform)\n",
    "    return df_transform\n",
    "\n",
    "def transform_dataframe_filter_nomods(df_input: DataFrame) -> DataFrame:\n",
    "    ''' filters mod data - they have 2 coordinate pairs per row '''\n",
    "    df_output = df_input.where(F.size(F.split('coordinate', ',')) == 2)\n",
    "    return df_output\n",
    "\n",
    "def transform_dataframe_filter_onlymods(df_input: DataFrame) -> DataFrame:\n",
    "    ''' outputs only mod data - 2 coordinate pairs '''\n",
    "    df_output = df_input.where(F.size(F.split('coordinate', ',')) > 2)\n",
    "    return df_output\n",
    "\n",
    "def transform_dataframe_modcolumns(df_input: DataFrame) -> DataFrame:\n",
    "    ''' Transforms columns from [\\'timestamp\\',\\'user_id\\',\\'pixel_color\\',\\'coordinate\\']\n",
    "    into [\\'user_id\\',\\'x1\\',\\'y1\\',\\'x2\\',\\'y2\\',\\'t\\',\\'pixel_color\\']'''\n",
    "    df_output = df_input.select('user_id',\n",
    "                                F.split('coordinate', ',').getItem(\n",
    "                                    0).cast('int').alias('x1'),\n",
    "                                F.split('coordinate', ',').getItem(\n",
    "                                    1).cast('int').alias('y1'),\n",
    "                                F.split('coordinate', ',').getItem(\n",
    "                                    2).cast('int').alias('x2'),\n",
    "                                F.split('coordinate', ',').getItem(\n",
    "                                    3).cast('int').alias('y2'),\n",
    "                                F.col('timestamp').alias('t'),\n",
    "                                'pixel_color')\n",
    "    return df_output\n",
    "\n",
    "def transform_dataframe_onlymods(df_input: DataFrame) -> DataFrame:\n",
    "    ''' Transfroms a dataframe from its source structure but uses only the rows with moderator data '''\n",
    "    df_transform = transform_dataframe_filter_onlymods(df_input)\n",
    "    df_transform = transform_dataframe_timestamp(df_transform)\n",
    "    df_transform = transform_dataframe_normalize_seconds(df_transform)\n",
    "    df_transform = transform_dataframe_modcolumns(df_transform)\n",
    "    return df_transform\n"
   ]
  },
  {
   "cell_type": "code",
   "execution_count": 3,
   "metadata": {},
   "outputs": [],
   "source": [
    "\n",
    "transformed_dataframe = transform_dataframe(new_dataframe)"
   ]
  },
  {
   "cell_type": "code",
   "execution_count": 4,
   "metadata": {},
   "outputs": [],
   "source": [
    "mod_dataframe = transform_dataframe_onlymods(new_dataframe)"
   ]
  },
  {
   "cell_type": "code",
   "execution_count": 5,
   "metadata": {},
   "outputs": [
    {
     "name": "stderr",
     "output_type": "stream",
     "text": [
      "[Stage 4:====================================================>     (9 + 1) / 10]\r"
     ]
    },
    {
     "name": "stdout",
     "output_type": "stream",
     "text": [
      "+--------------------+----+----+----+----+----------+-----------+\n",
      "|             user_id|  x1|  y1|  x2|  y2|         t|pixel_color|\n",
      "+--------------------+----+----+----+----+----------+-----------+\n",
      "|q+XjkQ6WRx0aBLtb2...|1349|1718|1424|1752|1649035370|    #000000|\n",
      "|gS0DWvPgaiQkHvG4N...| 297|1750| 364|1813|1649028592|    #FFB470|\n",
      "|gXOuxCyb/dslyRb5G...|  23|1523| 172|1792|1649045540|    #000000|\n",
      "|Tqn87vyPxAHtPMu4x...|  51|1691| 154|1807|1649046581|    #000000|\n",
      "|oPv1iZrj4UMjfhzOT...|  44|1652| 165|1899|1649045770|    #000000|\n",
      "|m8NEcPbf5XRV5ppeu...| 298|1805| 329|1839|1649027104|    #FFB470|\n",
      "|LKS2u3QL2N3Olv7rn...| 257|1736| 296|1780|1649027330|    #FFB470|\n",
      "|q/Dk6lmcXm8bcDbNI...| 298|1770| 334|1803|1649027009|    #FFB470|\n",
      "|HkR0yRQUJ1wsjh4Zo...| 251|1805| 296|1812|1649027436|    #FFF8B8|\n",
      "|7JiQyrONpFJphvBEP...| 271|1835| 296|1859|1649027571|    #FFF8B8|\n",
      "+--------------------+----+----+----+----+----------+-----------+\n",
      "\n"
     ]
    },
    {
     "name": "stderr",
     "output_type": "stream",
     "text": [
      "                                                                                \r"
     ]
    }
   ],
   "source": [
    "mod_dataframe.show()"
   ]
  },
  {
   "cell_type": "code",
   "execution_count": 6,
   "metadata": {},
   "outputs": [
    {
     "name": "stderr",
     "output_type": "stream",
     "text": [
      "[Stage 5:====================================================>    (32 + 3) / 35]\r"
     ]
    },
    {
     "name": "stdout",
     "output_type": "stream",
     "text": [
      "[Row(user_id='q+XjkQ6WRx0aBLtb2xRGWBrsHALXejJxEE2hs6sDJHfN2LO0X0ML5Yy2CFsNdFxU6CgXTrrSKv/Un6Dx6JdHbA=='), Row(user_id='gS0DWvPgaiQkHvG4NsHveLvpn8uf50t+sOY3nIykDvkyEdsDvqiTB5Fzh4XNe+26OKIhkmogXOaSzoZ6IXS+2Q=='), Row(user_id='gXOuxCyb/dslyRb5GQW+JbG9NRxMHxGGV3V5018ha4bVrUYUCw2LDwbsvicgI8bkWmlwPg1Y68SQK8aEJ30a6w=='), Row(user_id='Tqn87vyPxAHtPMu4xuAqTHkBvUhFi/BKLnQ0XyEraQ3ut93qO9zY3nUivplx4NVxKrvTS3xDGVV2+GicCuV0kQ=='), Row(user_id='oPv1iZrj4UMjfhzOTVNZKwNe6u/bNG2Tabw8H7UOABps62BJuj+/TA5zA7C47pqMEOCxlloedL4+EQgRkiP48w=='), Row(user_id='m8NEcPbf5XRV5ppeuZ3KLIYAG8GuHkNIxOEsCD06Ey8I1E5QicEqMzXkHrZQeVg6lIagpzwsaq7k0/Y/o5h5PA=='), Row(user_id='LKS2u3QL2N3Olv7rnUCWry4KJ5K4Ea+/9qKyadTNl01apEcCr8iYdnmiamfJE7OjkLQHZ69YYiMpqg4bBpCnCA=='), Row(user_id='q/Dk6lmcXm8bcDbNIhDglz7kFuCmX6zkca9UPivDix5WWi/ILMHHn0Ljw+Nwzh/DcRoub9ti6LBEAp9fpJek4Q=='), Row(user_id='HkR0yRQUJ1wsjh4Zo4VdKE43IctIGMFS9VuVm9IyCFcPOAPS4mTuhwb4UFs4ifeuhmknaCQlBG+f44AITi2VQA=='), Row(user_id='7JiQyrONpFJphvBEPVUGyxjBsdvU8fuiSVzpMuTkxFDjqtyQwTv+4gACAL4NJRtV48AV/8Fecb74RvvJu5PEvw==')]\n"
     ]
    },
    {
     "name": "stderr",
     "output_type": "stream",
     "text": [
      "                                                                                \r"
     ]
    }
   ],
   "source": [
    "mods = mod_dataframe.drop(\"x1\").drop(\"y1\").drop(\"x2\").drop(\"y2\").drop(\"t\").drop(\"pixel_color\")\n",
    "mods = mods.collect()\n",
    "print(mods)\n"
   ]
  }
 ],
 "metadata": {
  "kernelspec": {
   "display_name": "Python 3.10.4 64-bit",
   "language": "python",
   "name": "python3"
  },
  "language_info": {
   "codemirror_mode": {
    "name": "ipython",
    "version": 3
   },
   "file_extension": ".py",
   "mimetype": "text/x-python",
   "name": "python",
   "nbconvert_exporter": "python",
   "pygments_lexer": "ipython3",
   "version": "3.9.2"
  },
  "orig_nbformat": 4,
  "vscode": {
   "interpreter": {
    "hash": "949777d72b0d2535278d3dc13498b2535136f6dfe0678499012e853ee9abcab1"
   }
  }
 },
 "nbformat": 4,
 "nbformat_minor": 2
}
