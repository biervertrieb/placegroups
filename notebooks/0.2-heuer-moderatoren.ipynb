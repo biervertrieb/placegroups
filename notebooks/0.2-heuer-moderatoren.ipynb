{
 "cells": [
  {
   "cell_type": "code",
   "execution_count": 2,
   "metadata": {},
   "outputs": [
    {
     "name": "stdout",
     "output_type": "stream",
     "text": [
      "providing ../data/raw/2022_place_canvas_history-000000000050.csv ...\n",
      "not found. need to download ../data/raw/2022_place_canvas_history-000000000050.csv.gzip ...\n",
      "downloading from https://placedata.reddit.com/data/canvas-history/2022_place_canvas_history-000000000050.csv.gzip to ../data/raw/2022_place_canvas_history-000000000050.csv.gzip\n",
      "unpacking ../data/raw/2022_place_canvas_history-000000000050.csv.gzip into ../data/raw/2022_place_canvas_history-000000000050.csv\n",
      "deleting ../data/raw/2022_place_canvas_history-000000000050.csv.gzip\n"
     ]
    },
    {
     "name": "stderr",
     "output_type": "stream",
     "text": [
      "                                                                                \r"
     ]
    }
   ],
   "source": [
    "from src.data.dataset_functions import make_dataframe_from_rawcsv,provide_rawcsv\n",
    "\n",
    "provide_rawcsv(True)\n",
    "new_dataframe = make_dataframe_from_rawcsv()"
   ]
  },
  {
   "cell_type": "code",
   "execution_count": 7,
   "metadata": {},
   "outputs": [],
   "source": [
    "import pyspark.sql.functions as F\n",
    "from pyspark.sql import DataFrame\n",
    "from src.data.dataset_functions import transform_dataframe_colums,transform_dataframe_normalize_seconds,transform_dataframe_timestamp\n",
    "\n",
    "def transform_dataframe(df_input: DataFrame) -> DataFrame:\n",
    "    ''' Transforms a dataframe from its source structure into something more usable '''\n",
    "    df_transform = transform_dataframe_filter_nomods(df_input)\n",
    "    df_transform = transform_dataframe_timestamp(df_transform)\n",
    "    df_transform = transform_dataframe_normalize_seconds(df_transform)\n",
    "    df_transform = transform_dataframe_colums(df_transform)\n",
    "    return df_transform\n",
    "\n",
    "def transform_dataframe_filter_nomods(df_input: DataFrame) -> DataFrame:\n",
    "    ''' filters mod data - they have 2 coordinate pairs per row '''\n",
    "    df_output = df_input.where(F.size(F.split('coordinate', ',')) == 2)\n",
    "    return df_output\n",
    "\n",
    "def transform_dataframe_filter_onlymods(df_input: DataFrame) -> DataFrame:\n",
    "    ''' outputs only mod data - 2 coordinate pairs '''\n",
    "    df_output = df_input.where(F.size(F.split('coordinate', ',')) > 2)\n",
    "    return df_output\n",
    "\n",
    "def transform_dataframe_modcolumns(df_input: DataFrame) -> DataFrame:\n",
    "    ''' Transforms columns from [\\'timestamp\\',\\'user_id\\',\\'pixel_color\\',\\'coordinate\\']\n",
    "    into [\\'user_id\\',\\'x1\\',\\'y1\\',\\'x2\\',\\'y2\\',\\'t\\',\\'pixel_color\\']'''\n",
    "    df_output = df_input.select('user_id',\n",
    "                                F.split('coordinate', ',').getItem(\n",
    "                                    0).cast('int').alias('x1'),\n",
    "                                F.split('coordinate', ',').getItem(\n",
    "                                    1).cast('int').alias('y1'),\n",
    "                                F.split('coordinate', ',').getItem(\n",
    "                                    2).cast('int').alias('x2'),\n",
    "                                F.split('coordinate', ',').getItem(\n",
    "                                    3).cast('int').alias('y2'),\n",
    "                                F.col('timestamp').alias('t'),\n",
    "                                'pixel_color')\n",
    "    return df_output\n",
    "\n",
    "def transform_dataframe_onlymods(df_input: DataFrame) -> DataFrame:\n",
    "    ''' Transfroms a dataframe from its source structure but uses only the rows with moderator data '''\n",
    "    df_transform = transform_dataframe_filter_onlymods(df_input)\n",
    "    df_transform = transform_dataframe_timestamp(df_transform)\n",
    "    df_transform = transform_dataframe_normalize_seconds(df_transform)\n",
    "    df_transform = transform_dataframe_modcolumns(df_transform)\n",
    "    return df_transform\n"
   ]
  },
  {
   "cell_type": "code",
   "execution_count": 5,
   "metadata": {},
   "outputs": [
    {
     "name": "stderr",
     "output_type": "stream",
     "text": [
      "                                                                                \r"
     ]
    }
   ],
   "source": [
    "\n",
    "transformed_dataframe = transform_dataframe(new_dataframe)"
   ]
  },
  {
   "cell_type": "code",
   "execution_count": 8,
   "metadata": {},
   "outputs": [
    {
     "ename": "RecursionError",
     "evalue": "maximum recursion depth exceeded",
     "output_type": "error",
     "traceback": [
      "\u001b[0;31m---------------------------------------------------------------------------\u001b[0m",
      "\u001b[0;31mRecursionError\u001b[0m                            Traceback (most recent call last)",
      "\u001b[1;32m/workspaces/placegroups/notebooks/0.2-heuer-moderatoren.ipynb Cell 4'\u001b[0m in \u001b[0;36m<cell line: 1>\u001b[0;34m()\u001b[0m\n\u001b[0;32m----> <a href='vscode-notebook-cell://dev-container%2B633a5c62617374695c706c61636567726f757073/workspaces/placegroups/notebooks/0.2-heuer-moderatoren.ipynb#ch0000003vscode-remote?line=0'>1</a>\u001b[0m mod_dataframe \u001b[39m=\u001b[39m transform_dataframe_onlymods(new_dataframe)\n",
      "\u001b[1;32m/workspaces/placegroups/notebooks/0.2-heuer-moderatoren.ipynb Cell 2'\u001b[0m in \u001b[0;36mtransform_dataframe_onlymods\u001b[0;34m(df_input)\u001b[0m\n\u001b[1;32m     <a href='vscode-notebook-cell://dev-container%2B633a5c62617374695c706c61636567726f757073/workspaces/placegroups/notebooks/0.2-heuer-moderatoren.ipynb#ch0000001vscode-remote?line=38'>39</a>\u001b[0m \u001b[39mdef\u001b[39;00m \u001b[39mtransform_dataframe_onlymods\u001b[39m(df_input: DataFrame) \u001b[39m-\u001b[39m\u001b[39m>\u001b[39m DataFrame:\n\u001b[1;32m     <a href='vscode-notebook-cell://dev-container%2B633a5c62617374695c706c61636567726f757073/workspaces/placegroups/notebooks/0.2-heuer-moderatoren.ipynb#ch0000001vscode-remote?line=39'>40</a>\u001b[0m     \u001b[39m''' Transfroms a dataframe from its source structure but uses only the rows with moderator data '''\u001b[39;00m\n\u001b[0;32m---> <a href='vscode-notebook-cell://dev-container%2B633a5c62617374695c706c61636567726f757073/workspaces/placegroups/notebooks/0.2-heuer-moderatoren.ipynb#ch0000001vscode-remote?line=40'>41</a>\u001b[0m     df_transform \u001b[39m=\u001b[39m transform_dataframe_onlymods(df_input)\n\u001b[1;32m     <a href='vscode-notebook-cell://dev-container%2B633a5c62617374695c706c61636567726f757073/workspaces/placegroups/notebooks/0.2-heuer-moderatoren.ipynb#ch0000001vscode-remote?line=41'>42</a>\u001b[0m     df_transform \u001b[39m=\u001b[39m transform_dataframe_timestamp(df_transform)\n\u001b[1;32m     <a href='vscode-notebook-cell://dev-container%2B633a5c62617374695c706c61636567726f757073/workspaces/placegroups/notebooks/0.2-heuer-moderatoren.ipynb#ch0000001vscode-remote?line=42'>43</a>\u001b[0m     df_transform \u001b[39m=\u001b[39m transform_dataframe_normalize_seconds(df_transform)\n",
      "\u001b[1;32m/workspaces/placegroups/notebooks/0.2-heuer-moderatoren.ipynb Cell 2'\u001b[0m in \u001b[0;36mtransform_dataframe_onlymods\u001b[0;34m(df_input)\u001b[0m\n\u001b[1;32m     <a href='vscode-notebook-cell://dev-container%2B633a5c62617374695c706c61636567726f757073/workspaces/placegroups/notebooks/0.2-heuer-moderatoren.ipynb#ch0000001vscode-remote?line=38'>39</a>\u001b[0m \u001b[39mdef\u001b[39;00m \u001b[39mtransform_dataframe_onlymods\u001b[39m(df_input: DataFrame) \u001b[39m-\u001b[39m\u001b[39m>\u001b[39m DataFrame:\n\u001b[1;32m     <a href='vscode-notebook-cell://dev-container%2B633a5c62617374695c706c61636567726f757073/workspaces/placegroups/notebooks/0.2-heuer-moderatoren.ipynb#ch0000001vscode-remote?line=39'>40</a>\u001b[0m     \u001b[39m''' Transfroms a dataframe from its source structure but uses only the rows with moderator data '''\u001b[39;00m\n\u001b[0;32m---> <a href='vscode-notebook-cell://dev-container%2B633a5c62617374695c706c61636567726f757073/workspaces/placegroups/notebooks/0.2-heuer-moderatoren.ipynb#ch0000001vscode-remote?line=40'>41</a>\u001b[0m     df_transform \u001b[39m=\u001b[39m transform_dataframe_onlymods(df_input)\n\u001b[1;32m     <a href='vscode-notebook-cell://dev-container%2B633a5c62617374695c706c61636567726f757073/workspaces/placegroups/notebooks/0.2-heuer-moderatoren.ipynb#ch0000001vscode-remote?line=41'>42</a>\u001b[0m     df_transform \u001b[39m=\u001b[39m transform_dataframe_timestamp(df_transform)\n\u001b[1;32m     <a href='vscode-notebook-cell://dev-container%2B633a5c62617374695c706c61636567726f757073/workspaces/placegroups/notebooks/0.2-heuer-moderatoren.ipynb#ch0000001vscode-remote?line=42'>43</a>\u001b[0m     df_transform \u001b[39m=\u001b[39m transform_dataframe_normalize_seconds(df_transform)\n",
      "    \u001b[0;31m[... skipping similar frames: transform_dataframe_onlymods at line 41 (2970 times)]\u001b[0m\n",
      "\u001b[1;32m/workspaces/placegroups/notebooks/0.2-heuer-moderatoren.ipynb Cell 2'\u001b[0m in \u001b[0;36mtransform_dataframe_onlymods\u001b[0;34m(df_input)\u001b[0m\n\u001b[1;32m     <a href='vscode-notebook-cell://dev-container%2B633a5c62617374695c706c61636567726f757073/workspaces/placegroups/notebooks/0.2-heuer-moderatoren.ipynb#ch0000001vscode-remote?line=38'>39</a>\u001b[0m \u001b[39mdef\u001b[39;00m \u001b[39mtransform_dataframe_onlymods\u001b[39m(df_input: DataFrame) \u001b[39m-\u001b[39m\u001b[39m>\u001b[39m DataFrame:\n\u001b[1;32m     <a href='vscode-notebook-cell://dev-container%2B633a5c62617374695c706c61636567726f757073/workspaces/placegroups/notebooks/0.2-heuer-moderatoren.ipynb#ch0000001vscode-remote?line=39'>40</a>\u001b[0m     \u001b[39m''' Transfroms a dataframe from its source structure but uses only the rows with moderator data '''\u001b[39;00m\n\u001b[0;32m---> <a href='vscode-notebook-cell://dev-container%2B633a5c62617374695c706c61636567726f757073/workspaces/placegroups/notebooks/0.2-heuer-moderatoren.ipynb#ch0000001vscode-remote?line=40'>41</a>\u001b[0m     df_transform \u001b[39m=\u001b[39m transform_dataframe_onlymods(df_input)\n\u001b[1;32m     <a href='vscode-notebook-cell://dev-container%2B633a5c62617374695c706c61636567726f757073/workspaces/placegroups/notebooks/0.2-heuer-moderatoren.ipynb#ch0000001vscode-remote?line=41'>42</a>\u001b[0m     df_transform \u001b[39m=\u001b[39m transform_dataframe_timestamp(df_transform)\n\u001b[1;32m     <a href='vscode-notebook-cell://dev-container%2B633a5c62617374695c706c61636567726f757073/workspaces/placegroups/notebooks/0.2-heuer-moderatoren.ipynb#ch0000001vscode-remote?line=42'>43</a>\u001b[0m     df_transform \u001b[39m=\u001b[39m transform_dataframe_normalize_seconds(df_transform)\n",
      "\u001b[0;31mRecursionError\u001b[0m: maximum recursion depth exceeded"
     ]
    }
   ],
   "source": [
    "mod_dataframe = transform_dataframe_onlymods(new_dataframe)"
   ]
  }
 ],
 "metadata": {
  "kernelspec": {
   "display_name": "Python 3.10.4 64-bit",
   "language": "python",
   "name": "python3"
  },
  "language_info": {
   "codemirror_mode": {
    "name": "ipython",
    "version": 3
   },
   "file_extension": ".py",
   "mimetype": "text/x-python",
   "name": "python",
   "nbconvert_exporter": "python",
   "pygments_lexer": "ipython3",
   "version": "3.10.4"
  },
  "orig_nbformat": 4,
  "vscode": {
   "interpreter": {
    "hash": "949777d72b0d2535278d3dc13498b2535136f6dfe0678499012e853ee9abcab1"
   }
  }
 },
 "nbformat": 4,
 "nbformat_minor": 2
}
