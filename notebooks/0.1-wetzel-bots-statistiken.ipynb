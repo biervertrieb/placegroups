{
 "cells": [
  {
   "cell_type": "code",
   "execution_count": null,
   "metadata": {},
   "outputs": [],
   "source": [
    "from src.data.dataset_functions import get_dataframe\n",
    "\n",
    "dataFrame = get_dataframe(True)"
   ]
  },
  {
   "cell_type": "markdown",
   "metadata": {},
   "source": [
    "<div style=\"color:pink\">\n",
    "\n",
    "Idee: \n",
    "-Daten nach Nutzern aggregieren und die Zeit zwischen aufeinanderfolgenden Pixeln vergleichen[erledigt] <br>\n",
    "-Zeit (Differenz) festhalten und mit dem nächsten Zeitraum vergleichen [erledigt] <br>\n",
    "-Falls die Differenz abweicht, ist der Nutzer wahrscheinlich kein Bot(?) <br>\n",
    "\n",
    "</div>"
   ]
  },
  {
   "cell_type": "code",
   "execution_count": null,
   "metadata": {},
   "outputs": [],
   "source": [
    "import pyspark.sql.functions as F\n",
    "timeDiffFrame = dataFrame.alias('df1').join(dataFrame.alias('df2'),F.col('df1.user_id') == F.col('df2.user_id'),'inner')\n",
    "timeDiffFrame = timeDiffFrame.where('df2.t > df1.t')\n",
    "timeDiffFrame = timeDiffFrame.orderBy(['df1.user_id', 'df1.t'])\n",
    "timeDiffFrame = timeDiffFrame.select(F.col('df1.user_id'),F.col('df1.t').alias('t1'),F.col('df2.t').alias('t2'),(F.col('df2.t') - F.col('df1.t')).alias('diff'))"
   ]
  },
  {
   "cell_type": "markdown",
   "metadata": {},
   "source": [
    "<div style =\"color:pink\">\n",
    "-Differenz speichern und beim nächsten Vergleich erneut verwenden? [erledigt] <br>\n",
    "-Nutzer, die das Kriterium bei einem der Vergleiche nicht erfüllen, müssten nicht erneut betrachtet werden(?) <br>\n",
    "<br>\n",
    "SELECT user_id, diff <br>\n",
    "FROM timeDiffFrame <br>\n",
    "WHERE NOT EXISTS(<br>\n",
    "   SELECT *<br>\n",
    "   FROM timeDiffFrame a, timeDiffFrame b<br>\n",
    "   WHERE a.user_id = b.user_id<br>\n",
    "   AND a.diff <> b.diff);<br>\n",
    "</div>"
   ]
  },
  {
   "cell_type": "code",
   "execution_count": null,
   "metadata": {},
   "outputs": [],
   "source": [
    "timeDiffReduced = timeDiffFrame.dropDuplicates(['user_id', 't1'])\n",
    "timeDiffReduced = timeDiffReduced.orderBy(['user_id', 't1'])"
   ]
  },
  {
   "cell_type": "code",
   "execution_count": null,
   "metadata": {},
   "outputs": [],
   "source": [
    "botDiff = timeDiffReduced.alias('tdr1').join(timeDiffReduced.alias('tdr2'),F.col('tdr1.user_id') == F.col('tdr2.user_id'),'inner').join(timeDiffReduced.alias('tdr3'),F.col('tdr1.user_id') == F.col('tdr3.user_id'), 'inner').join(timeDiffReduced.alias('tdr4'),F.col('tdr1.user_id') == F.col('tdr4.user_id'), 'inner').join(timeDiffReduced.alias('tdr5'),F.col('tdr1.user_id') == F.col('tdr5.user_id'), 'inner')\n",
    "botDiff = botDiff.where('tdr1.diff == tdr2.diff').where('tdr1.t2 == tdr2.t1').where('tdr3.diff == tdr1.diff').where('tdr2.t2 == tdr3.t1').where('tdr4.diff == tdr1.diff').where('tdr3.t2 == tdr4.t1').where('tdr5.diff == tdr1.diff').where('tdr4.t2 == tdr5.t1')\n",
    "botDiff = botDiff.select('tdr1.user_id','tdr1.diff')\n",
    "botDiff.write.csv('bots')\n",
    "#stuft aktuell Nutzer als Bot ein, wenn 1x die Zeit vom Setzen von Pixel genau nacheinander übereinstimmt\n",
    "#Beispiel: Pixel 2 - Pixel 1 == 300 && Pixel 4 - Pixel 3 == 300\n",
    "#die Zeiträume müssen wirklich direkt aneinander anknüpfen\n",
    "#die Berechnung ist m.M.n close enough\n",
    "#eventuell versuche ich, das Ganze nochmal präziser zu gestalten"
   ]
  },
  {
   "cell_type": "markdown",
   "metadata": {},
   "source": [
    "<div style=\"color:pink\">\n",
    "Als Nächstes will ich versuchen, eine Grafik zu den meistgenutzen Farben der Bots zu erstellen <br>\n",
    "</div>"
   ]
  },
  {
   "cell_type": "code",
   "execution_count": null,
   "metadata": {},
   "outputs": [],
   "source": [
    "colorFrame = dataFrame.alias('df').join(botDiff.alias('bd'),F.col('df.user_id') == F.col('bd.user_id'), 'inner')\n",
    "colorFrame = colorFrame.select(['df.user_id',('df.pixel_color'),'t'])\n",
    "colorFrame = colorFrame.dropDuplicates(['user_id', 't']) #wir filtern nach t, da ein Nutzer keine zwei Pixel gleichzeitig setzen kann\n",
    "colorFrame = colorFrame.orderBy(['user_id'])\n",
    "#die vorher bestimmten Bots sind jetzt einzeln gelistet mit ihren gesetzten Pixeln\n"
   ]
  },
  {
   "cell_type": "code",
   "execution_count": null,
   "metadata": {},
   "outputs": [],
   "source": [
    "from src.features.feature_functions import group_dataframe_by_color\n",
    "groupedFrame = group_dataframe_by_color(colorFrame)\n",
    "groupedFrame = groupedFrame.drop('collect_list(t)', 'collect_list(user_id)')\n",
    "dataCollect = groupedFrame.head(5)\n"
   ]
  },
  {
   "cell_type": "code",
   "execution_count": null,
   "metadata": {},
   "outputs": [],
   "source": [
    "from src.visualization.visuialization_functions import show_and_save\n",
    "import matplotlib.pyplot as plt\n",
    "import numpy as np\n",
    "\n",
    "fig,ax = plt.subplots()\n",
    "for row in dataCollect:\n",
    "    pixel_color,count = list(row)\n",
    "    plt.bar(pixel_color,count,color = pixel_color, edgecolor = 'lightgrey', width=0.5)\n",
    "    \n",
    "plt.title('Die 5 am meisten von Bots verwendeten Farben')\n",
    "plt.ylabel('Häufigkeit')\n",
    "plt.xlabel('Farben')\n",
    "show_and_save(plt, 'top5_genutze_Farben_bots')"
   ]
  },
  {
   "cell_type": "markdown",
   "metadata": {},
   "source": [
    "<div style=color:pink>\n",
    "ab hier folgen Funktionen zu den meistumkämpften Pixeln :))\n",
    "</div>"
   ]
  },
  {
   "cell_type": "code",
   "execution_count": null,
   "metadata": {},
   "outputs": [],
   "source": [
    "pixelFrame = dataFrame.alias('df').join(botDiff.alias('bd'),F.col('df.user_id') == F.col('bd.user_id'), 'inner')\n",
    "pixelFrame = pixelFrame.select('df.user_id', 'x', 'y')\n",
    "pixelFrame = pixelFrame.orderBy('user_id')"
   ]
  },
  {
   "cell_type": "code",
   "execution_count": null,
   "metadata": {},
   "outputs": [],
   "source": [
    "from src.features.feature_functions import group_dataframe_by_pixel\n",
    "pixelGroup = group_dataframe_by_pixel(pixelFrame)\n",
    "pixelGroup = pixelGroup.drop('collect_list(user_id)')"
   ]
  },
  {
   "cell_type": "code",
   "execution_count": null,
   "metadata": {},
   "outputs": [],
   "source": [
    "dataCollect = pixelGroup.head(10)\n",
    "\n",
    "fig,ax = plt.subplots()\n",
    "\n",
    "for row in dataCollect:\n",
    "    x,y,count = list(row)\n",
    "    pixelcoords = '('+str(x)+','+str(y)+')'\n",
    "    plt.bar(pixelcoords,count,color='#5050cc', width=0.5)\n",
    "\n",
    "plt.title('Die 10 am meisten von Bots umkämpften Pixel')\n",
    "plt.ylabel('Änderungen')\n",
    "plt.xlabel('Pixel')\n",
    "plt.gcf().set_size_inches(10, 5)\n",
    "show_and_save(plt, 'top10_pixel_bots')"
   ]
  }
 ],
 "metadata": {
  "interpreter": {
   "hash": "949777d72b0d2535278d3dc13498b2535136f6dfe0678499012e853ee9abcab1"
  },
  "kernelspec": {
   "display_name": "Python 3.9.2 64-bit",
   "language": "python",
   "name": "python3"
  },
  "language_info": {
   "codemirror_mode": {
    "name": "ipython",
    "version": 3
   },
   "file_extension": ".py",
   "mimetype": "text/x-python",
   "name": "python",
   "nbconvert_exporter": "python",
   "pygments_lexer": "ipython3",
   "version": "3.10.4"
  },
  "orig_nbformat": 4
 },
 "nbformat": 4,
 "nbformat_minor": 2
}
