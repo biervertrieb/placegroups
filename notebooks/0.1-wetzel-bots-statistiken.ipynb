{
 "cells": [
  {
   "cell_type": "code",
   "execution_count": 74,
   "metadata": {},
   "outputs": [],
   "source": [
    "from src.data.dataset_functions import get_dataframe\n",
    "\n",
    "dataFrame = get_dataframe(True)\n",
    "#dataFrame.show(1)"
   ]
  },
  {
   "cell_type": "markdown",
   "metadata": {},
   "source": [
    "<div style=\"color:pink\">\n",
    "\n",
    "Idee: \n",
    "-Daten nach Nutzern aggregieren und die Zeit zwischen aufeinanderfolgenden Pixeln vergleichen[erledigt] <br>\n",
    "-Zeit (Differenz) festhalten und mit dem nächsten Zeitraum vergleichen [erledigt] <br>\n",
    "-Falls die Differenz abweicht, ist der Nutzer wahrscheinlich kein Bot(?) <br>\n",
    "\n",
    "</div>"
   ]
  },
  {
   "cell_type": "code",
   "execution_count": 75,
   "metadata": {},
   "outputs": [],
   "source": [
    "import pyspark.sql.functions as F\n",
    "timeDiffFrame = dataFrame.alias('df1').join(dataFrame.alias('df2'),F.col('df1.user_id') == F.col('df2.user_id'),'inner')\n",
    "timeDiffFrame = timeDiffFrame.where('df2.t > df1.t')\n",
    "timeDiffFrame = timeDiffFrame.orderBy(['df1.user_id', 'df1.t'])\n",
    "timeDiffFrame = timeDiffFrame.select(F.col('df1.user_id'),F.col('df1.t').alias('t1'),F.col('df2.t').alias('t2'),(F.col('df2.t') - F.col('df1.t')).alias('diff'))\n",
    "#timeDiffFrame.show(15)"
   ]
  },
  {
   "cell_type": "markdown",
   "metadata": {},
   "source": [
    "<div style =\"color:pink\">\n",
    "-Differenz speichern und beim nächsten Vergleich erneut verwenden? [erledigt] <br>\n",
    "-Nutzer, die das Kriterium bei einem der Vergleiche nicht erfüllen, müssten nicht erneut betrachtet werden(?) <br>\n",
    "<br>\n",
    "SELECT user_id, diff <br>\n",
    "FROM timeDiffFrame <br>\n",
    "WHERE NOT EXISTS(<br>\n",
    "   SELECT *<br>\n",
    "   FROM timeDiffFrame a, timeDiffFrame b<br>\n",
    "   WHERE a.user_id = b.user_id<br>\n",
    "   AND a.diff <> b.diff);<br>\n",
    "</div>"
   ]
  },
  {
   "cell_type": "code",
   "execution_count": 76,
   "metadata": {},
   "outputs": [],
   "source": [
    "timeDiffReduced = timeDiffFrame.dropDuplicates(['user_id', 't1'])\n",
    "timeDiffReduced = timeDiffReduced.orderBy(['user_id', 't1'])\n",
    "#timeDiffReduced.show(15)"
   ]
  },
  {
   "cell_type": "code",
   "execution_count": 77,
   "metadata": {},
   "outputs": [],
   "source": [
    "botDiff = timeDiffReduced.alias('tdr1').join(timeDiffReduced.alias('tdr2'),F.col('tdr1.user_id') == F.col('tdr2.user_id'),'inner')\n",
    "botDiff = botDiff.where('tdr1.diff == tdr2.diff').where('tdr1.t2 == tdr2.t1')\n",
    "botDiff = botDiff.select('tdr1.user_id','tdr1.diff')\n",
    "botDiff = botDiff.dropDuplicates(['user_id'])\n",
    "botDiff = botDiff.orderBy(['user_id'])\n",
    "#botDiff.show(15)\n",
    "#stuft aktuell Nutzer als Bot ein, wenn 1x die Zeit vom Setzen von Pixel genau nacheinander übereinstimmt\n",
    "#Beispiel: Pixel 2 - Pixel 1 == 300 && Pixel 4 - Pixel 3 == 300\n",
    "#die Zeiträume müssen wirklich direkt aneinander anknüpfen\n",
    "#die Berechnung ist m.M.n close enough\n",
    "#eventuell versuche ich, das Ganze nochmal präziser zu gestalten"
   ]
  },
  {
   "cell_type": "code",
   "execution_count": 78,
   "metadata": {},
   "outputs": [
    {
     "name": "stderr",
     "output_type": "stream",
     "text": [
      "22/06/12 15:46:26 WARN RowBasedKeyValueBatch: Calling spill() on RowBasedKeyValueBatch. Will not spill but return 0.\n",
      "22/06/12 15:46:26 WARN RowBasedKeyValueBatch: Calling spill() on RowBasedKeyValueBatch. Will not spill but return 0.\n",
      "22/06/12 15:46:26 WARN RowBasedKeyValueBatch: Calling spill() on RowBasedKeyValueBatch. Will not spill but return 0.\n",
      "22/06/12 15:46:26 WARN RowBasedKeyValueBatch: Calling spill() on RowBasedKeyValueBatch. Will not spill but return 0.\n",
      "22/06/12 15:46:26 WARN RowBasedKeyValueBatch: Calling spill() on RowBasedKeyValueBatch. Will not spill but return 0.\n",
      "22/06/12 15:46:26 WARN RowBasedKeyValueBatch: Calling spill() on RowBasedKeyValueBatch. Will not spill but return 0.\n",
      "22/06/12 15:46:26 WARN RowBasedKeyValueBatch: Calling spill() on RowBasedKeyValueBatch. Will not spill but return 0.\n",
      "22/06/12 15:46:26 WARN RowBasedKeyValueBatch: Calling spill() on RowBasedKeyValueBatch. Will not spill but return 0.\n",
      "22/06/12 15:46:26 WARN RowBasedKeyValueBatch: Calling spill() on RowBasedKeyValueBatch. Will not spill but return 0.\n",
      "22/06/12 15:46:26 WARN RowBasedKeyValueBatch: Calling spill() on RowBasedKeyValueBatch. Will not spill but return 0.\n",
      "22/06/12 15:46:26 WARN RowBasedKeyValueBatch: Calling spill() on RowBasedKeyValueBatch. Will not spill but return 0.\n",
      "22/06/12 15:46:26 WARN RowBasedKeyValueBatch: Calling spill() on RowBasedKeyValueBatch. Will not spill but return 0.\n",
      "22/06/12 15:46:26 WARN RowBasedKeyValueBatch: Calling spill() on RowBasedKeyValueBatch. Will not spill but return 0.\n",
      "22/06/12 15:46:26 WARN RowBasedKeyValueBatch: Calling spill() on RowBasedKeyValueBatch. Will not spill but return 0.\n",
      "22/06/12 15:46:26 WARN RowBasedKeyValueBatch: Calling spill() on RowBasedKeyValueBatch. Will not spill but return 0.\n",
      "22/06/12 15:46:26 WARN RowBasedKeyValueBatch: Calling spill() on RowBasedKeyValueBatch. Will not spill but return 0.\n",
      "22/06/12 15:46:26 WARN RowBasedKeyValueBatch: Calling spill() on RowBasedKeyValueBatch. Will not spill but return 0.\n",
      "22/06/12 15:46:26 WARN RowBasedKeyValueBatch: Calling spill() on RowBasedKeyValueBatch. Will not spill but return 0.\n",
      "22/06/12 15:46:26 WARN RowBasedKeyValueBatch: Calling spill() on RowBasedKeyValueBatch. Will not spill but return 0.\n",
      "22/06/12 15:46:26 WARN RowBasedKeyValueBatch: Calling spill() on RowBasedKeyValueBatch. Will not spill but return 0.\n",
      "22/06/12 15:46:26 WARN RowBasedKeyValueBatch: Calling spill() on RowBasedKeyValueBatch. Will not spill but return 0.\n",
      "22/06/12 15:46:26 WARN RowBasedKeyValueBatch: Calling spill() on RowBasedKeyValueBatch. Will not spill but return 0.\n",
      "22/06/12 15:46:26 WARN RowBasedKeyValueBatch: Calling spill() on RowBasedKeyValueBatch. Will not spill but return 0.\n",
      "22/06/12 15:46:26 WARN RowBasedKeyValueBatch: Calling spill() on RowBasedKeyValueBatch. Will not spill but return 0.\n",
      "22/06/12 15:46:26 WARN RowBasedKeyValueBatch: Calling spill() on RowBasedKeyValueBatch. Will not spill but return 0.\n",
      "22/06/12 15:46:26 WARN RowBasedKeyValueBatch: Calling spill() on RowBasedKeyValueBatch. Will not spill but return 0.\n",
      "22/06/12 15:46:26 WARN RowBasedKeyValueBatch: Calling spill() on RowBasedKeyValueBatch. Will not spill but return 0.\n",
      "22/06/12 15:46:27 WARN RowBasedKeyValueBatch: Calling spill() on RowBasedKeyValueBatch. Will not spill but return 0.\n",
      "22/06/12 15:46:27 WARN RowBasedKeyValueBatch: Calling spill() on RowBasedKeyValueBatch. Will not spill but return 0.\n",
      "22/06/12 15:46:27 WARN RowBasedKeyValueBatch: Calling spill() on RowBasedKeyValueBatch. Will not spill but return 0.\n",
      "[Stage 739:====================================================>(199 + 1) / 200]\r"
     ]
    },
    {
     "name": "stdout",
     "output_type": "stream",
     "text": [
      "14132\n"
     ]
    },
    {
     "name": "stderr",
     "output_type": "stream",
     "text": [
      "                                                                                \r"
     ]
    }
   ],
   "source": [
    "print(botDiff.count())"
   ]
  },
  {
   "cell_type": "markdown",
   "metadata": {},
   "source": [
    "<div style=\"color:pink\">\n",
    "Als Nächstes will ich versuchen, eine Grafik zu den meistgenutzen Farben der Bots zu erstellen <br>\n",
    "Dazu klaue ich einfach Nicoles Vorlage :)\n",
    "</div>"
   ]
  },
  {
   "cell_type": "code",
   "execution_count": 79,
   "metadata": {},
   "outputs": [],
   "source": [
    "colorFrame = dataFrame.alias('df').join(botDiff.alias('bd'),F.col('df.user_id') == F.col('bd.user_id'), 'inner')\n",
    "colorFrame = colorFrame.select(['df.user_id',('df.pixel_color'),'t'])\n",
    "colorFrame = colorFrame.dropDuplicates(['user_id', 't']) #wir filtern nach t, da ein Nutzer keine zwei Pixel gleichzeitig setzen kann\n",
    "colorFrame = colorFrame.orderBy(['user_id'])\n",
    "#colorFrame.printSchema()\n",
    "#colorFrame.show(20) \n",
    "#die vorher bestimmten Bots sind jetzt einzeln gelistet mit ihren gesetzten Pixeln\n"
   ]
  },
  {
   "cell_type": "code",
   "execution_count": 69,
   "metadata": {},
   "outputs": [
    {
     "ename": "ImportError",
     "evalue": "cannot import name 'group_dataframe_by_color' from 'src.features.feature_functions' (/workspaces/placegroups/src/features/feature_functions.py)",
     "output_type": "error",
     "traceback": [
      "\u001b[0;31m---------------------------------------------------------------------------\u001b[0m",
      "\u001b[0;31mImportError\u001b[0m                               Traceback (most recent call last)",
      "\u001b[1;32m/workspaces/placegroups/notebooks/0.1-wetzel-bots-statistiken.ipynb Cell 10'\u001b[0m in \u001b[0;36m<cell line: 1>\u001b[0;34m()\u001b[0m\n\u001b[0;32m----> <a href='vscode-notebook-cell://dev-container%2B2f55736572732f67726574617765747a656c2f446f63756d656e74732f446f63756d656e7473202d204772657461e2809973204d6163426f6f6b2050726f2f42696720446174612f5265706f7369746f72792f706c61636567726f757073/workspaces/placegroups/notebooks/0.1-wetzel-bots-statistiken.ipynb#ch0000009vscode-remote?line=0'>1</a>\u001b[0m \u001b[39mfrom\u001b[39;00m \u001b[39msrc\u001b[39;00m\u001b[39m.\u001b[39;00m\u001b[39mfeatures\u001b[39;00m\u001b[39m.\u001b[39;00m\u001b[39mfeature_functions\u001b[39;00m \u001b[39mimport\u001b[39;00m group_dataframe_by_color\n\u001b[1;32m      <a href='vscode-notebook-cell://dev-container%2B2f55736572732f67726574617765747a656c2f446f63756d656e74732f446f63756d656e7473202d204772657461e2809973204d6163426f6f6b2050726f2f42696720446174612f5265706f7369746f72792f706c61636567726f757073/workspaces/placegroups/notebooks/0.1-wetzel-bots-statistiken.ipynb#ch0000009vscode-remote?line=1'>2</a>\u001b[0m groupedFrame \u001b[39m=\u001b[39m group_dataframe_by_color(colorFrame)\n",
      "\u001b[0;31mImportError\u001b[0m: cannot import name 'group_dataframe_by_color' from 'src.features.feature_functions' (/workspaces/placegroups/src/features/feature_functions.py)"
     ]
    }
   ],
   "source": [
    "from src.features.feature_functions import group_dataframe_by_color\n",
    "groupedFrame = group_dataframe_by_color(colorFrame)\n",
    "#???\n"
   ]
  },
  {
   "cell_type": "code",
   "execution_count": null,
   "metadata": {},
   "outputs": [],
   "source": [
    "from src.visualization.visuialization_functions import show_and_save\n",
    "import matplotlib.pyplot as plt\n",
    "import numpy as np\n",
    "fig,ax = plt.subplots()\n",
    "for row in datacollect:\n",
    "    pixel_color,count = list(row)\n",
    "    plt.bar(pixel_color,count,color = pixel_color, edgecolor = 'lightgrey', width=0.5)\n",
    "plt.title('Die 5 am meisten verwendeten Farben')\n",
    "plt.ylabel('Häufigkeit')\n",
    "plt.xlabel('Farben')\n",
    "show_and_save(plt, 'top5_genutze_Farben.jpg')"
   ]
  }
 ],
 "metadata": {
  "interpreter": {
   "hash": "949777d72b0d2535278d3dc13498b2535136f6dfe0678499012e853ee9abcab1"
  },
  "kernelspec": {
   "display_name": "Python 3.9.2 64-bit",
   "language": "python",
   "name": "python3"
  },
  "language_info": {
   "codemirror_mode": {
    "name": "ipython",
    "version": 3
   },
   "file_extension": ".py",
   "mimetype": "text/x-python",
   "name": "python",
   "nbconvert_exporter": "python",
   "pygments_lexer": "ipython3",
   "version": "3.9.2"
  },
  "orig_nbformat": 4
 },
 "nbformat": 4,
 "nbformat_minor": 2
}
