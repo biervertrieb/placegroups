{
 "cells": [
  {
   "cell_type": "markdown",
   "metadata": {},
   "source": [
    "Ersten Schritte der Datenverarbeitung testen\n",
    "\n",
    "Daten in verteilter Datenstruktur laden"
   ]
  },
  {
   "cell_type": "code",
   "execution_count": 12,
   "metadata": {},
   "outputs": [],
   "source": [
    "import findspark\n",
    "findspark.init()\n",
    "from pyspark.sql import SparkSession\n",
    "\n",
    "testdatadir = '../data/raw/*.csv'\n",
    "\n",
    "spark = SparkSession.builder.appName('placegroups').getOrCreate()\n",
    "dataFrame = spark.read.option('header',True).csv(testdatacsv)"
   ]
  },
  {
   "cell_type": "markdown",
   "metadata": {},
   "source": [
    "Kann man die Daten jetzt per Nutzer aggregieren?"
   ]
  },
  {
   "cell_type": "code",
   "execution_count": 13,
   "metadata": {},
   "outputs": [
    {
     "name": "stdout",
     "output_type": "stream",
     "text": [
      "root\n",
      " |-- timestamp: string (nullable = true)\n",
      " |-- user_id: string (nullable = true)\n",
      " |-- pixel_color: string (nullable = true)\n",
      " |-- coordinate: string (nullable = true)\n",
      "\n",
      "+--------------------+--------------------+-----------+----------+\n",
      "|           timestamp|             user_id|pixel_color|coordinate|\n",
      "+--------------------+--------------------+-----------+----------+\n",
      "|2022-04-04 04:38:...|vKtmwRQwAYtw5poO4...|    #FF3881|  804,1992|\n",
      "|2022-04-04 04:38:...|eoZO4uYgBzVoDR0Rb...|    #FFFFFF|  1667,616|\n",
      "|2022-04-04 04:38:...|Mdd6j8t/24pCeslV3...|    #D4D7D9|   392,467|\n",
      "|2022-04-04 04:38:...|xHWcOdv98PR7yQNKD...|    #000000|   21,1691|\n",
      "|2022-04-04 04:38:...|hI0Z36Jzkw+coR+im...|    #515252|  971,1026|\n",
      "+--------------------+--------------------+-----------+----------+\n",
      "only showing top 5 rows\n",
      "\n"
     ]
    }
   ],
   "source": [
    "dataFrame.printSchema\n",
    "dataFrame.show(5)"
   ]
  },
  {
   "cell_type": "code",
   "execution_count": 26,
   "metadata": {},
   "outputs": [
    {
     "name": "stderr",
     "output_type": "stream",
     "text": [
      "[Stage 30:==================================================>       (7 + 1) / 8]\r"
     ]
    },
    {
     "name": "stdout",
     "output_type": "stream",
     "text": [
      "+--------------------+-----+\n",
      "|             user_id|count|\n",
      "+--------------------+-----+\n",
      "|AxBTmhBMbr1sbDw/2...|   20|\n",
      "|FjHp8Fg+uuheibUWk...|   15|\n",
      "|X8gpDfO6+Z87SKKTy...|   15|\n",
      "|VmiTfdqG3P1MlZokx...|   15|\n",
      "|DIECtVqoJqBlL6A0C...|   15|\n",
      "+--------------------+-----+\n",
      "only showing top 5 rows\n",
      "\n"
     ]
    },
    {
     "name": "stderr",
     "output_type": "stream",
     "text": [
      "                                                                                \r"
     ]
    }
   ],
   "source": [
    "from pyspark.sql.functions import col, asc, desc\n",
    "\n",
    "grouped = dataFrame.groupBy('user_id')\n",
    "active = grouped.count().orderBy(col('count').desc())\n",
    "active.show(5)"
   ]
  },
  {
   "cell_type": "markdown",
   "metadata": {},
   "source": [
    "```\n",
    "+--------------------+-----+\n",
    "|             user_id|count|\n",
    "+--------------------+-----+\n",
    "|AxBTmhBMbr1sbDw/2...|   20|\n",
    "|FjHp8Fg+uuheibUWk...|   15|\n",
    "|X8gpDfO6+Z87SKKTy...|   15|\n",
    "|VmiTfdqG3P1MlZokx...|   15|\n",
    "|DIECtVqoJqBlL6A0C...|   15|\n",
    "+--------------------+-----+\n",
    "only showing top 5 rows\n",
    "```\n",
    "\n",
    "Wir versuchen mal die Daten für den aktivsten Nutzer zu aggregieren"
   ]
  },
  {
   "cell_type": "code",
   "execution_count": 30,
   "metadata": {},
   "outputs": [
    {
     "name": "stderr",
     "output_type": "stream",
     "text": [
      "                                                                                \r"
     ]
    }
   ],
   "source": [
    "mostactive = active.first()\n",
    "mostactiveid = mostactive.asDict()['user_id']\n",
    "topFrame = dataFrame.filter(\"user_id == '\"+mostactiveid+\"'\")"
   ]
  },
  {
   "cell_type": "code",
   "execution_count": 50,
   "metadata": {},
   "outputs": [
    {
     "name": "stdout",
     "output_type": "stream",
     "text": [
      "1649047095\n"
     ]
    }
   ],
   "source": [
    "from datetime import datetime\n",
    "import time\n",
    "\n",
    "onetime = '2022-04-04 04:38:15.038 UTC'\n",
    "\n",
    "def stamp2time(stamp):\n",
    "    d =  datetime.strptime(stamp,\"%Y-%m-%d %H:%M:%S.%f UTC\")\n",
    "    return int(time.mktime(d.timetuple()))\n",
    "\n",
    "print(stamp2time(onetime))"
   ]
  },
  {
   "cell_type": "code",
   "execution_count": 58,
   "metadata": {},
   "outputs": [],
   "source": [
    "mappedRDD = topFrame.rdd.map(lambda x: (x[1],x[3].split(',')[0],x[3].split(',')[1],stamp2time(x[0]),x[2]))"
   ]
  },
  {
   "cell_type": "markdown",
   "metadata": {},
   "source": [
    "('AxBTmhBMbr1sbDw/2liFySQ4h6lH1bZSyjS9RtcBxvMyafVj+e2grv9teqbU9JkFDCPlgIfWH+L2CzKeSBdB4w==', '1611', '33', 1649050364.0, '#2450A4')\n",
    "('AxBTmhBMbr1sbDw/2liFySQ4h6lH1bZSyjS9RtcBxvMyafVj+e2grv9teqbU9JkFDCPlgIfWH+L2CzKeSBdB4w==', '584', '26', 1649050672.0, '#000000')"
   ]
  },
  {
   "cell_type": "code",
   "execution_count": 75,
   "metadata": {},
   "outputs": [
    {
     "name": "stderr",
     "output_type": "stream",
     "text": [
      "                                                                                \r"
     ]
    }
   ],
   "source": [
    "(uid,xs,ys,ts,fs) = list(zip(*mappedRDD.collect()))"
   ]
  },
  {
   "cell_type": "code",
   "execution_count": 87,
   "metadata": {},
   "outputs": [
    {
     "name": "stdout",
     "output_type": "stream",
     "text": [
      "1649047279\n",
      "['1447', '1636', '1287', '1926', '1310', '1617', '655', '612', '1575', '658', '1403', '777', '1741', '1299', '586', '788', '656', '1611', '584', '1765']\n",
      "['5', '21', '8', '19', '10', '16', '1896', '1917', '7', '14', '2', '8', '10', '20', '1931', '11', '1884', '33', '26', '8']\n",
      "[0, 308, 617, 617, 925, 1233, 1542, 1542, 1542, 1851, 2160, 2160, 2160, 2469, 2469, 2777, 2777, 3085, 3393, 3393]\n"
     ]
    }
   ],
   "source": [
    "print(min(ts))\n",
    "xs = list(xs)\n",
    "ys = list(ys)\n",
    "ts = list(ts)\n",
    "normalizedts = list(map(lambda x: x - min(ts), ts))\n",
    "print(list(xs))\n",
    "print(ys)\n",
    "print(normalizedts)\n"
   ]
  },
  {
   "cell_type": "code",
   "execution_count": 90,
   "metadata": {},
   "outputs": [
    {
     "data": {
      "image/png": "[encoded data removed]",
      "text/plain": [
       "<Figure size 432x288 with 1 Axes>"
      ]
     },
     "metadata": {
      "needs_background": "light"
     },
     "output_type": "display_data"
    }
   ],
   "source": [
    "import matplotlib.pyplot as plt\n",
    "import numpy as np\n",
    "\n",
    "fig = plt.figure()\n",
    "ax = fig.add_subplot(projection='3d')\n",
    "\n",
    "\n",
    "\n",
    "ax.scatter(xs,ys,ts,\"o\")\n",
    "\n",
    "ax.set_xlabel('X')\n",
    "ax.set_ylabel('Y')\n",
    "ax.set_zlabel('Zeit')\n",
    "\n",
    "plt.show()\n"
   ]
  }
 ],
 "metadata": {
  "interpreter": {
   "hash": "949777d72b0d2535278d3dc13498b2535136f6dfe0678499012e853ee9abcab1"
  },
  "kernelspec": {
   "display_name": "Python 3.9.12 64-bit",
   "language": "python",
   "name": "python3"
  },
  "language_info": {
   "codemirror_mode": {
    "name": "ipython",
    "version": 3
   },
   "file_extension": ".py",
   "mimetype": "text/x-python",
   "name": "python",
   "nbconvert_exporter": "python",
   "pygments_lexer": "ipython3",
   "version": "3.9.12"
  },
  "orig_nbformat": 4
 },
 "nbformat": 4,
 "nbformat_minor": 2
}
