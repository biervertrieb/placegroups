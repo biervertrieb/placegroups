{
 "cells": [
  {
   "cell_type": "markdown",
   "metadata": {},
   "source": [
    "Ersten Schritte der Datenverarbeitung testen\n",
    "\n",
    "Daten in verteilter Datenstruktur laden\n",
    "\n",
    "test.csv kann man durch das data_efl_heuer Notebook generieren lassen!"
   ]
  },
  {
   "cell_type": "code",
   "execution_count": 1,
   "metadata": {},
   "outputs": [
    {
     "name": "stderr",
     "output_type": "stream",
     "text": [
      "Using Spark's default log4j profile: org/apache/spark/log4j-defaults.properties\n",
      "Setting default log level to \"WARN\".\n",
      "To adjust logging level use sc.setLogLevel(newLevel). For SparkR, use setLogLevel(newLevel).\n",
      "22/05/09 11:32:42 WARN NativeCodeLoader: Unable to load native-hadoop library for your platform... using builtin-java classes where applicable\n",
      "                                                                                \r"
     ]
    }
   ],
   "source": [
    "# pyspark hat nach der Installation Probleme und wird nicht automatisch von Python zum importieren gefunden\n",
    "# dafür gibt es dann extra das findspark tool\n",
    "import findspark\n",
    "findspark.init()\n",
    "from pyspark.sql import SparkSession\n",
    "\n",
    "datadir = '../data/raw/*.csv'\n",
    "\n",
    "spark = SparkSession.builder.appName('placegroups').getOrCreate()\n",
    "dataFrame = spark.read.option('header',True).csv(datadir)"
   ]
  },
  {
   "cell_type": "markdown",
   "metadata": {},
   "source": [
    "Kann man die Daten jetzt per Nutzer aggregieren?"
   ]
  },
  {
   "cell_type": "code",
   "execution_count": 2,
   "metadata": {},
   "outputs": [
    {
     "name": "stdout",
     "output_type": "stream",
     "text": [
      "+--------------------+--------------------+-----------+----------+\n",
      "|           timestamp|             user_id|pixel_color|coordinate|\n",
      "+--------------------+--------------------+-----------+----------+\n",
      "|2022-04-04 04:38:...|vKtmwRQwAYtw5poO4...|    #FF3881|  804,1992|\n",
      "|2022-04-04 04:38:...|eoZO4uYgBzVoDR0Rb...|    #FFFFFF|  1667,616|\n",
      "|2022-04-04 04:38:...|Mdd6j8t/24pCeslV3...|    #D4D7D9|   392,467|\n",
      "|2022-04-04 04:38:...|xHWcOdv98PR7yQNKD...|    #000000|   21,1691|\n",
      "|2022-04-04 04:38:...|hI0Z36Jzkw+coR+im...|    #515252|  971,1026|\n",
      "+--------------------+--------------------+-----------+----------+\n",
      "only showing top 5 rows\n",
      "\n"
     ]
    }
   ],
   "source": [
    "dataFrame.printSchema\n",
    "dataFrame.show(5)"
   ]
  },
  {
   "cell_type": "code",
   "execution_count": 3,
   "metadata": {},
   "outputs": [
    {
     "name": "stderr",
     "output_type": "stream",
     "text": [
      "[Stage 4:>                                                          (0 + 8) / 9]\r"
     ]
    },
    {
     "name": "stdout",
     "output_type": "stream",
     "text": [
      "+--------------------+-----+\n",
      "|             user_id|count|\n",
      "+--------------------+-----+\n",
      "|AxBTmhBMbr1sbDw/2...|   20|\n",
      "|X8gpDfO6+Z87SKKTy...|   15|\n",
      "|VmiTfdqG3P1MlZokx...|   15|\n",
      "|DIECtVqoJqBlL6A0C...|   15|\n",
      "|FjHp8Fg+uuheibUWk...|   15|\n",
      "+--------------------+-----+\n",
      "only showing top 5 rows\n",
      "\n"
     ]
    },
    {
     "name": "stderr",
     "output_type": "stream",
     "text": [
      "                                                                                \r"
     ]
    }
   ],
   "source": [
    "from pyspark.sql.functions import col, asc, desc\n",
    "\n",
    "grouped = dataFrame.groupBy('user_id')\n",
    "active = grouped.count().orderBy(col('count').desc())\n",
    "active.show(5)"
   ]
  },
  {
   "cell_type": "markdown",
   "metadata": {},
   "source": [
    "```\n",
    "+--------------------+-----+\n",
    "|             user_id|count|\n",
    "+--------------------+-----+\n",
    "|AxBTmhBMbr1sbDw/2...|   20|\n",
    "|FjHp8Fg+uuheibUWk...|   15|\n",
    "|X8gpDfO6+Z87SKKTy...|   15|\n",
    "|VmiTfdqG3P1MlZokx...|   15|\n",
    "|DIECtVqoJqBlL6A0C...|   15|\n",
    "+--------------------+-----+\n",
    "only showing top 5 rows\n",
    "```\n",
    "\n",
    "Wir versuchen mal die Daten für den aktivsten Nutzer zu aggregieren"
   ]
  },
  {
   "cell_type": "code",
   "execution_count": 4,
   "metadata": {},
   "outputs": [
    {
     "name": "stderr",
     "output_type": "stream",
     "text": [
      "[Stage 9:>                                                          (0 + 4) / 4]\r"
     ]
    },
    {
     "name": "stdout",
     "output_type": "stream",
     "text": [
      "+--------------------+--------------------+-----------+----------+\n",
      "|           timestamp|             user_id|pixel_color|coordinate|\n",
      "+--------------------+--------------------+-----------+----------+\n",
      "|2022-04-04 04:41:...|AxBTmhBMbr1sbDw/2...|    #FFA800|    1447,5|\n",
      "|2022-04-04 04:46:...|AxBTmhBMbr1sbDw/2...|    #FFFFFF|   1636,21|\n",
      "|2022-04-04 04:51:...|AxBTmhBMbr1sbDw/2...|    #3690EA|    1287,8|\n",
      "|2022-04-04 04:51:...|AxBTmhBMbr1sbDw/2...|    #BE0039|   1926,19|\n",
      "|2022-04-04 04:56:...|AxBTmhBMbr1sbDw/2...|    #2450A4|   1310,10|\n",
      "+--------------------+--------------------+-----------+----------+\n",
      "only showing top 5 rows\n",
      "\n"
     ]
    },
    {
     "name": "stderr",
     "output_type": "stream",
     "text": [
      "                                                                                \r"
     ]
    }
   ],
   "source": [
    "mostactive = active.first()\n",
    "mostactiveid = mostactive.asDict()['user_id']\n",
    "topFrame = dataFrame.filter(\"user_id == '\"+mostactiveid+\"'\")\n",
    "\n",
    "topFrame.show(5)"
   ]
  },
  {
   "cell_type": "code",
   "execution_count": 5,
   "metadata": {},
   "outputs": [
    {
     "name": "stdout",
     "output_type": "stream",
     "text": [
      "1649047095\n"
     ]
    }
   ],
   "source": [
    "from datetime import datetime\n",
    "import time\n",
    "\n",
    "onetime = '2022-04-04 04:38:15.038 UTC'\n",
    "\n",
    "def stamp2time(stamp):\n",
    "    d =  datetime.strptime(stamp,\"%Y-%m-%d %H:%M:%S.%f UTC\")\n",
    "    return int(time.mktime(d.timetuple()))\n",
    "\n",
    "print(stamp2time(onetime))"
   ]
  },
  {
   "cell_type": "code",
   "execution_count": 6,
   "metadata": {},
   "outputs": [
    {
     "name": "stderr",
     "output_type": "stream",
     "text": [
      "                                                                                \r"
     ]
    }
   ],
   "source": [
    "xs = [int(val.coordinate.split(',')[0]) for val in topFrame.select('coordinate').collect()]\n",
    "ys = [int(val.coordinate.split(',')[1]) for val in topFrame.select('coordinate').collect()]\n",
    "ts = [stamp2time(val.timestamp) for val in topFrame.select('timestamp').collect()]"
   ]
  },
  {
   "cell_type": "markdown",
   "metadata": {},
   "source": [
    "Zeitstempel sind Sekunden die seit 1970 vergangen sind. Interessant sind aber nur Sekunden seit Beginn des Experiments."
   ]
  },
  {
   "cell_type": "code",
   "execution_count": 7,
   "metadata": {},
   "outputs": [],
   "source": [
    "mints = min(ts)\n",
    "ts = [(t - mints) for t in ts]"
   ]
  },
  {
   "cell_type": "code",
   "execution_count": 8,
   "metadata": {},
   "outputs": [
    {
     "name": "stdout",
     "output_type": "stream",
     "text": [
      "[1447, 1636, 1287, 1926, 1310, 1617, 655, 612, 1575, 658, 1403, 777, 1741, 1299, 586, 788, 656, 1611, 584, 1765]\n",
      "[5, 21, 8, 19, 10, 16, 1896, 1917, 7, 14, 2, 8, 10, 20, 1931, 11, 1884, 33, 26, 8]\n",
      "[0, 308, 617, 617, 925, 1233, 1542, 1542, 1542, 1851, 2160, 2160, 2160, 2469, 2469, 2777, 2777, 3085, 3393, 3393]\n"
     ]
    }
   ],
   "source": [
    "\n",
    "print(xs)\n",
    "print(ys)\n",
    "print(ts)"
   ]
  },
  {
   "cell_type": "code",
   "execution_count": 12,
   "metadata": {},
   "outputs": [
    {
     "data": {
      "image/png": "[encoded data removed]",
      "text/plain": [
       "<Figure size 432x288 with 1 Axes>"
      ]
     },
     "metadata": {
      "needs_background": "light"
     },
     "output_type": "display_data"
    }
   ],
   "source": [
    "import matplotlib.pyplot as plt\n",
    "import numpy as np\n",
    "\n",
    "fig = plt.figure()\n",
    "ax = fig.add_subplot(projection='3d')\n",
    "ax.scatter(xs,ys,ts)\n",
    "ax.set_xlabel('X')\n",
    "ax.set_ylabel('Y')\n",
    "ax.set_zlabel('time')\n",
    "ax.set_ylim(ax.get_ylim()[::-1])\n",
    "plt.show()"
   ]
  },
  {
   "cell_type": "markdown",
   "metadata": {},
   "source": [
    "Machen wir das ganze mal für 3 Nutzer ..."
   ]
  },
  {
   "cell_type": "code",
   "execution_count": 13,
   "metadata": {},
   "outputs": [
    {
     "name": "stderr",
     "output_type": "stream",
     "text": [
      "                                                                                \r"
     ]
    }
   ],
   "source": [
    "userids = [val['user_id'] for val in active.take(3)]"
   ]
  },
  {
   "cell_type": "code",
   "execution_count": 14,
   "metadata": {},
   "outputs": [
    {
     "name": "stderr",
     "output_type": "stream",
     "text": [
      "                                                                                \r"
     ]
    }
   ],
   "source": [
    "topFrame = dataFrame.filter(dataFrame.user_id.isin(userids))\n",
    "\n",
    "userpixel = []\n",
    "for userid in userids:\n",
    "    xs = [int(val.coordinate.split(',')[0]) for val in topFrame.select('coordinate').filter(topFrame.user_id == userid).collect()]\n",
    "    ys = [int(val.coordinate.split(',')[1]) for val in topFrame.select('coordinate').filter(topFrame.user_id == userid).collect()]\n",
    "    ts = [stamp2time(val.timestamp) for val in topFrame.select('timestamp').filter(topFrame.user_id == userid).collect()]\n",
    "    mints = min(ts)\n",
    "    ts = [(t - mints) for t in ts]\n",
    "    userpixel.append([xs,ys,ts])"
   ]
  },
  {
   "cell_type": "code",
   "execution_count": 15,
   "metadata": {},
   "outputs": [
    {
     "data": {
      "image/png": "[encoded data removed]",
      "text/plain": [
       "<Figure size 432x288 with 1 Axes>"
      ]
     },
     "metadata": {
      "needs_background": "light"
     },
     "output_type": "display_data"
    }
   ],
   "source": [
    "import itertools\n",
    "\n",
    "fig = plt.figure()\n",
    "ax = fig.add_subplot(projection='3d')\n",
    "\n",
    "colors=itertools.cycle([\"blue\",\"green\",\"red\"])\n",
    "for pixellist in userpixel:\n",
    "    xs,ys,ts = list(pixellist)\n",
    "    ax.scatter(xs,ys,ts,color=next(colors))\n",
    "\n",
    "ax.set_xlabel('X')\n",
    "ax.set_ylabel('Y')\n",
    "ax.set_zlabel('time')\n",
    "ax.set_ylim(ax.get_ylim()[::-1])\n",
    "plt.show()\n",
    "    "
   ]
  }
 ],
 "metadata": {
  "interpreter": {
   "hash": "949777d72b0d2535278d3dc13498b2535136f6dfe0678499012e853ee9abcab1"
  },
  "kernelspec": {
   "display_name": "Python 3.9.12 64-bit",
   "language": "python",
   "name": "python3"
  },
  "language_info": {
   "codemirror_mode": {
    "name": "ipython",
    "version": 3
   },
   "file_extension": ".py",
   "mimetype": "text/x-python",
   "name": "python",
   "nbconvert_exporter": "python",
   "pygments_lexer": "ipython3",
   "version": "3.9.12"
  },
  "orig_nbformat": 4
 },
 "nbformat": 4,
 "nbformat_minor": 2
}
