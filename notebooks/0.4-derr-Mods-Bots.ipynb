{
 "cells": [
  {
   "cell_type": "markdown",
   "metadata": {},
   "source": [
    "<div style=\"color:#2db099\">\n",
    "Um festzustellen, in welchem Verhältnis von Bots bzw. normalen Nutzern gesetzten Pixeln zensiert wurden, \n",
    "\n",
    "soll im folgenden erstmal für einen Datensatz alle Pixel bestimmt werden, die vom Zensur-Quadrat betroffen sind.\n",
    "</div>"
   ]
  },
  {
   "cell_type": "code",
   "execution_count": 1,
   "metadata": {},
   "outputs": [
    {
     "name": "stdout",
     "output_type": "stream",
     "text": [
      "providing ../data/raw/2022_place_canvas_history-000000000004.csv ...\n",
      "../data/raw/2022_place_canvas_history-000000000004.csv is already in data/raw\n",
      ":: loading settings :: url = jar:file:/usr/local/lib/python3.9/site-packages/pyspark/jars/ivy-2.5.0.jar!/org/apache/ivy/core/settings/ivysettings.xml\n"
     ]
    },
    {
     "name": "stderr",
     "output_type": "stream",
     "text": [
      "Ivy Default Cache set to: /home/vscode/.ivy2/cache\n",
      "The jars for the packages stored in: /home/vscode/.ivy2/jars\n",
      "graphframes#graphframes added as a dependency\n",
      ":: resolving dependencies :: org.apache.spark#spark-submit-parent-9ff87d56-a853-4c6b-928d-03e9baa5dc36;1.0\n",
      "\tconfs: [default]\n",
      "\tfound graphframes#graphframes;0.8.2-spark3.2-s_2.12 in spark-packages\n",
      "\tfound org.slf4j#slf4j-api;1.7.16 in central\n",
      ":: resolution report :: resolve 72ms :: artifacts dl 4ms\n",
      "\t:: modules in use:\n",
      "\tgraphframes#graphframes;0.8.2-spark3.2-s_2.12 from spark-packages in [default]\n",
      "\torg.slf4j#slf4j-api;1.7.16 from central in [default]\n",
      "\t---------------------------------------------------------------------\n",
      "\t|                  |            modules            ||   artifacts   |\n",
      "\t|       conf       | number| search|dwnlded|evicted|| number|dwnlded|\n",
      "\t---------------------------------------------------------------------\n",
      "\t|      default     |   2   |   0   |   0   |   0   ||   2   |   0   |\n",
      "\t---------------------------------------------------------------------\n",
      ":: retrieving :: org.apache.spark#spark-submit-parent-9ff87d56-a853-4c6b-928d-03e9baa5dc36\n",
      "\tconfs: [default]\n",
      "\t0 artifacts copied, 2 already retrieved (0kB/3ms)\n",
      "22/06/29 17:31:08 WARN NativeCodeLoader: Unable to load native-hadoop library for your platform... using builtin-java classes where applicable\n",
      "Using Spark's default log4j profile: org/apache/spark/log4j-defaults.properties\n",
      "Setting default log level to \"WARN\".\n",
      "To adjust logging level use sc.setLogLevel(newLevel). For SparkR, use setLogLevel(newLevel).\n"
     ]
    }
   ],
   "source": [
    "from src.data.dataset_functions import get_dataframei_onlymods\n",
    "import pyspark.sql.functions as F\n",
    "\n",
    "mods_dataframe = get_dataframei_onlymods(4)"
   ]
  },
  {
   "cell_type": "code",
   "execution_count": 2,
   "metadata": {},
   "outputs": [
    {
     "name": "stdout",
     "output_type": "stream",
     "text": [
      "root\n",
      " |-- user_id: string (nullable = true)\n",
      " |-- x1: integer (nullable = true)\n",
      " |-- y1: integer (nullable = true)\n",
      " |-- x2: integer (nullable = true)\n",
      " |-- y2: integer (nullable = true)\n",
      " |-- t: long (nullable = true)\n",
      " |-- pixel_color: string (nullable = true)\n",
      "\n"
     ]
    }
   ],
   "source": [
    "mods_dataframe.printSchema()"
   ]
  },
  {
   "cell_type": "code",
   "execution_count": 3,
   "metadata": {},
   "outputs": [
    {
     "name": "stderr",
     "output_type": "stream",
     "text": [
      "                                                                                \r"
     ]
    }
   ],
   "source": [
    "import pandas as pd\n",
    "\n",
    "#erstellt Pandas DataFrame mit allen Pixel des Zensur-Quadrates\n",
    "mods_dataframe = mods_dataframe.drop('pixel_color').collect()\n",
    "pandasMB = pd.DataFrame() #Neues DataFrame erstellen, dass befüllt werden soll\n",
    "pandasMB.insert(0,\"user_id\", [], True)\n",
    "pandasMB.insert(1,\"x\", [], True)\n",
    "pandasMB.insert(2,\"y\", [], True)\n",
    "pandasMB.insert(3,\"t\", [], True)\n",
    "for row in mods_dataframe:\n",
    "    user_id,x1,y1,x2,y2,t = list(row)\n",
    "    for i in range(x1,x2+1): #zunächst obere Rahmenlinie erstellen\n",
    "        #pandasMB.loc[len(pandasMB.index)] = [user_id,i,y1,t]\n",
    "        for j in range(y1,y2+1):\n",
    "            pandasMB.loc[len(pandasMB.index)] = [user_id,i,j,t]"
   ]
  },
  {
   "cell_type": "code",
   "execution_count": 4,
   "metadata": {},
   "outputs": [
    {
     "name": "stdout",
     "output_type": "stream",
     "text": [
      "+--------------------+---+----+----------+\n",
      "|             user_id|  x|   y|         t|\n",
      "+--------------------+---+----+----------+\n",
      "|gXOuxCyb/dslyRb5G...| 23|1523|1649045540|\n",
      "|gXOuxCyb/dslyRb5G...| 23|1524|1649045540|\n",
      "|gXOuxCyb/dslyRb5G...| 23|1525|1649045540|\n",
      "|gXOuxCyb/dslyRb5G...| 23|1526|1649045540|\n",
      "|gXOuxCyb/dslyRb5G...| 23|1527|1649045540|\n",
      "|gXOuxCyb/dslyRb5G...| 23|1528|1649045540|\n",
      "|gXOuxCyb/dslyRb5G...| 23|1529|1649045540|\n",
      "|gXOuxCyb/dslyRb5G...| 23|1530|1649045540|\n",
      "|gXOuxCyb/dslyRb5G...| 23|1531|1649045540|\n",
      "|gXOuxCyb/dslyRb5G...| 23|1532|1649045540|\n",
      "|gXOuxCyb/dslyRb5G...| 23|1533|1649045540|\n",
      "|gXOuxCyb/dslyRb5G...| 23|1534|1649045540|\n",
      "|gXOuxCyb/dslyRb5G...| 23|1535|1649045540|\n",
      "|gXOuxCyb/dslyRb5G...| 23|1536|1649045540|\n",
      "|gXOuxCyb/dslyRb5G...| 23|1537|1649045540|\n",
      "|gXOuxCyb/dslyRb5G...| 23|1538|1649045540|\n",
      "|gXOuxCyb/dslyRb5G...| 23|1539|1649045540|\n",
      "|gXOuxCyb/dslyRb5G...| 23|1540|1649045540|\n",
      "|gXOuxCyb/dslyRb5G...| 23|1541|1649045540|\n",
      "|gXOuxCyb/dslyRb5G...| 23|1542|1649045540|\n",
      "+--------------------+---+----+----------+\n",
      "only showing top 20 rows\n",
      "\n"
     ]
    }
   ],
   "source": [
    "#Jetzt Pandas DataFrame zum Spark DataFrame umwandeln\n",
    "#from pyspark.sql import Row\n",
    "from pyspark.sql import SparkSession\n",
    " \n",
    "# creating the session\n",
    "spark = SparkSession.builder.getOrCreate()\n",
    "\n",
    "df = spark.createDataFrame(pandasMB)\n",
    "df.show()"
   ]
  },
  {
   "cell_type": "markdown",
   "metadata": {},
   "source": [
    "<div style=\"color:#2db099\">\n",
    "Damit wäre das DataFrame mit den zensierten Pixeln fertig!\n",
    "</div>"
   ]
  },
  {
   "cell_type": "markdown",
   "metadata": {},
   "source": [
    "<div style=\"color:#2db099\">\n",
    "Jetzt muss man die Funktion erstellen, die rückwirkend schaut, welcher Pixel von der Zensur denn nun betroffen ist und diesen in ein eigenes DataFrame packen als Ausgabe.\n",
    "</div>"
   ]
  },
  {
   "cell_type": "code",
   "execution_count": 5,
   "metadata": {},
   "outputs": [],
   "source": [
    "pandasZensiertes = pd.DataFrame() #neues DataFrame anlegen für betroffene Pixel\n",
    "pandasZensiertes.insert(0,\"user_id\", [], True)\n",
    "pandasZensiertes.insert(1,\"x\", [], True)\n",
    "pandasZensiertes.insert(2,\"y\", [], True)\n",
    "pandasZensiertes.insert(3,\"t\", [], True)\n",
    "pandasZensiertes.insert(4,\"pixel_color\", [], True)"
   ]
  },
  {
   "cell_type": "code",
   "execution_count": 17,
   "metadata": {},
   "outputs": [],
   "source": [
    "#Jetzt die Funktion fürs Finden der entsprechenden Pixel\n",
    "#df1 ist DataFrame mit ZensurPixel\n",
    "#df2 DataFrame mit normalen Nutzer Daten die untersucht werden sollen\n",
    "def censoredPixels(df1,df2):\n",
    "    '''Funktion liefert die Pixel die zensiert wurden'''\n",
    "    cenPix = df1.collect()\n",
    "    for row in cenPix:\n",
    "        user_id,x,y,t = list(row)\n",
    "        #in Zeit zurückschauen\n",
    "        for i in range(t,0,-1):\n",
    "            #select_rows(df,['apple','banana']) | df[(df.values  == \"banana\")|(df.values  == \"apple\" ) ]\n",
    "            #user_id2,x2,y2,t2,pixel_color = list(df2[(df2.x == x)(df2.y == y)(df2.t == t)])\n",
    "            #sqlc.sql('select * from students where roll_no=%s and name=\"%s\"' % ('1', 'ravindra')).show()\n",
    "            #df_filtered = df[(df['Shares']>=100) & (df['Shares']<=150)]\n",
    "            hold = df2[(df2['x']==x) & (df2['y']==y) & (df2['t']==t)]\n",
    "            hold = hold.collect()\n",
    "            if hold:\n",
    "            #hold = df2.where(df2.x == x & df2.y == y & df2.t == t).collect()\n",
    "                user_id2,x2,y2,t2,pixel_color = list(hold)\n",
    "            #user_id2,x2,y2,t2,pixel_color = list(df2.where('x =\"%s\" AND y =\"%s\" AND t =\"%s\"' % (x,y,t)).collect())\n",
    "                if(not(user_id2 is None and x2 is None and y2 is None and t2 is None and pixel_color is None)):\n",
    "                    pandasZensiertes.loc[len(pandasZensiertes.index)] = [user_id2,x2,y2,t2,pixel_color]\n",
    "                    break\n",
    "    return pandasZensiertes"
   ]
  },
  {
   "cell_type": "code",
   "execution_count": 7,
   "metadata": {},
   "outputs": [
    {
     "name": "stdout",
     "output_type": "stream",
     "text": [
      "providing ../data/raw/2022_place_canvas_history-000000000004.csv ...\n",
      "../data/raw/2022_place_canvas_history-000000000004.csv is already in data/raw\n"
     ]
    }
   ],
   "source": [
    "from src.data.dataset_functions import get_dataframe\n",
    "#DataFrame mit normalen Nutzern generieren\n",
    "dataFrame = get_dataframe(True)\n",
    "#dateFrame = dataFrame.toPandas()"
   ]
  },
  {
   "cell_type": "code",
   "execution_count": 18,
   "metadata": {},
   "outputs": [
    {
     "name": "stderr",
     "output_type": "stream",
     "text": [
      "ERROR:root:KeyboardInterrupt while sending command.               (24 + 4) / 35]\n",
      "Traceback (most recent call last):\n",
      "  File \"/usr/local/lib/python3.9/site-packages/py4j/java_gateway.py\", line 1038, in send_command\n",
      "    response = connection.send_command(command)\n",
      "  File \"/usr/local/lib/python3.9/site-packages/py4j/clientserver.py\", line 475, in send_command\n",
      "    answer = smart_decode(self.stream.readline()[:-1])\n",
      "  File \"/usr/local/lib/python3.9/socket.py\", line 704, in readinto\n",
      "    return self._sock.recv_into(b)\n",
      "KeyboardInterrupt\n"
     ]
    },
    {
     "ename": "KeyboardInterrupt",
     "evalue": "",
     "output_type": "error",
     "traceback": [
      "\u001b[0;31m---------------------------------------------------------------------------\u001b[0m",
      "\u001b[0;31mKeyboardInterrupt\u001b[0m                         Traceback (most recent call last)",
      "\u001b[1;32m/workspaces/placegroups/notebooks/0.4-derr-Mods-Bots.ipynb Cell 11'\u001b[0m in \u001b[0;36m<cell line: 2>\u001b[0;34m()\u001b[0m\n\u001b[1;32m      <a href='vscode-notebook-cell://dev-container%2B2f55736572732f6e69636f6c65646572722f446f63756d656e74732f4769744875622f706c61636567726f757073/workspaces/placegroups/notebooks/0.4-derr-Mods-Bots.ipynb#ch0000010vscode-remote?line=0'>1</a>\u001b[0m \u001b[39m#DataFrame mit betroffenen Pixeln erhalten\u001b[39;00m\n\u001b[0;32m----> <a href='vscode-notebook-cell://dev-container%2B2f55736572732f6e69636f6c65646572722f446f63756d656e74732f4769744875622f706c61636567726f757073/workspaces/placegroups/notebooks/0.4-derr-Mods-Bots.ipynb#ch0000010vscode-remote?line=1'>2</a>\u001b[0m censored \u001b[39m=\u001b[39m spark\u001b[39m.\u001b[39mcreateDataFrame(censoredPixels(df,dataFrame))\n",
      "\u001b[1;32m/workspaces/placegroups/notebooks/0.4-derr-Mods-Bots.ipynb Cell 9'\u001b[0m in \u001b[0;36mcensoredPixels\u001b[0;34m(df1, df2)\u001b[0m\n\u001b[1;32m     <a href='vscode-notebook-cell://dev-container%2B2f55736572732f6e69636f6c65646572722f446f63756d656e74732f4769744875622f706c61636567726f757073/workspaces/placegroups/notebooks/0.4-derr-Mods-Bots.ipynb#ch0000008vscode-remote?line=9'>10</a>\u001b[0m \u001b[39mfor\u001b[39;00m i \u001b[39min\u001b[39;00m \u001b[39mrange\u001b[39m(t,\u001b[39m0\u001b[39m,\u001b[39m-\u001b[39m\u001b[39m1\u001b[39m):\n\u001b[1;32m     <a href='vscode-notebook-cell://dev-container%2B2f55736572732f6e69636f6c65646572722f446f63756d656e74732f4769744875622f706c61636567726f757073/workspaces/placegroups/notebooks/0.4-derr-Mods-Bots.ipynb#ch0000008vscode-remote?line=10'>11</a>\u001b[0m     \u001b[39m#select_rows(df,['apple','banana']) | df[(df.values  == \"banana\")|(df.values  == \"apple\" ) ]\u001b[39;00m\n\u001b[1;32m     <a href='vscode-notebook-cell://dev-container%2B2f55736572732f6e69636f6c65646572722f446f63756d656e74732f4769744875622f706c61636567726f757073/workspaces/placegroups/notebooks/0.4-derr-Mods-Bots.ipynb#ch0000008vscode-remote?line=11'>12</a>\u001b[0m     \u001b[39m#user_id2,x2,y2,t2,pixel_color = list(df2[(df2.x == x)(df2.y == y)(df2.t == t)])\u001b[39;00m\n\u001b[1;32m     <a href='vscode-notebook-cell://dev-container%2B2f55736572732f6e69636f6c65646572722f446f63756d656e74732f4769744875622f706c61636567726f757073/workspaces/placegroups/notebooks/0.4-derr-Mods-Bots.ipynb#ch0000008vscode-remote?line=12'>13</a>\u001b[0m     \u001b[39m#sqlc.sql('select * from students where roll_no=%s and name=\"%s\"' % ('1', 'ravindra')).show()\u001b[39;00m\n\u001b[1;32m     <a href='vscode-notebook-cell://dev-container%2B2f55736572732f6e69636f6c65646572722f446f63756d656e74732f4769744875622f706c61636567726f757073/workspaces/placegroups/notebooks/0.4-derr-Mods-Bots.ipynb#ch0000008vscode-remote?line=13'>14</a>\u001b[0m     \u001b[39m#df_filtered = df[(df['Shares']>=100) & (df['Shares']<=150)]\u001b[39;00m\n\u001b[1;32m     <a href='vscode-notebook-cell://dev-container%2B2f55736572732f6e69636f6c65646572722f446f63756d656e74732f4769744875622f706c61636567726f757073/workspaces/placegroups/notebooks/0.4-derr-Mods-Bots.ipynb#ch0000008vscode-remote?line=14'>15</a>\u001b[0m     hold \u001b[39m=\u001b[39m df2[(df2[\u001b[39m'\u001b[39m\u001b[39mx\u001b[39m\u001b[39m'\u001b[39m]\u001b[39m==\u001b[39mx) \u001b[39m&\u001b[39m (df2[\u001b[39m'\u001b[39m\u001b[39my\u001b[39m\u001b[39m'\u001b[39m]\u001b[39m==\u001b[39my) \u001b[39m&\u001b[39m (df2[\u001b[39m'\u001b[39m\u001b[39mt\u001b[39m\u001b[39m'\u001b[39m]\u001b[39m==\u001b[39mt)]\n\u001b[0;32m---> <a href='vscode-notebook-cell://dev-container%2B2f55736572732f6e69636f6c65646572722f446f63756d656e74732f4769744875622f706c61636567726f757073/workspaces/placegroups/notebooks/0.4-derr-Mods-Bots.ipynb#ch0000008vscode-remote?line=15'>16</a>\u001b[0m     hold \u001b[39m=\u001b[39m hold\u001b[39m.\u001b[39;49mcollect()\n\u001b[1;32m     <a href='vscode-notebook-cell://dev-container%2B2f55736572732f6e69636f6c65646572722f446f63756d656e74732f4769744875622f706c61636567726f757073/workspaces/placegroups/notebooks/0.4-derr-Mods-Bots.ipynb#ch0000008vscode-remote?line=16'>17</a>\u001b[0m     \u001b[39mif\u001b[39;00m hold:\n\u001b[1;32m     <a href='vscode-notebook-cell://dev-container%2B2f55736572732f6e69636f6c65646572722f446f63756d656e74732f4769744875622f706c61636567726f757073/workspaces/placegroups/notebooks/0.4-derr-Mods-Bots.ipynb#ch0000008vscode-remote?line=17'>18</a>\u001b[0m     \u001b[39m#hold = df2.where(df2.x == x & df2.y == y & df2.t == t).collect()\u001b[39;00m\n\u001b[1;32m     <a href='vscode-notebook-cell://dev-container%2B2f55736572732f6e69636f6c65646572722f446f63756d656e74732f4769744875622f706c61636567726f757073/workspaces/placegroups/notebooks/0.4-derr-Mods-Bots.ipynb#ch0000008vscode-remote?line=18'>19</a>\u001b[0m         user_id2,x2,y2,t2,pixel_color \u001b[39m=\u001b[39m \u001b[39mlist\u001b[39m(hold)\n",
      "File \u001b[0;32m/usr/local/lib/python3.9/site-packages/pyspark/sql/dataframe.py:693\u001b[0m, in \u001b[0;36mDataFrame.collect\u001b[0;34m(self)\u001b[0m\n\u001b[1;32m    683\u001b[0m \u001b[39m\"\"\"Returns all the records as a list of :class:`Row`.\u001b[39;00m\n\u001b[1;32m    684\u001b[0m \n\u001b[1;32m    685\u001b[0m \u001b[39m.. versionadded:: 1.3.0\u001b[39;00m\n\u001b[0;32m   (...)\u001b[0m\n\u001b[1;32m    690\u001b[0m \u001b[39m[Row(age=2, name='Alice'), Row(age=5, name='Bob')]\u001b[39;00m\n\u001b[1;32m    691\u001b[0m \u001b[39m\"\"\"\u001b[39;00m\n\u001b[1;32m    692\u001b[0m \u001b[39mwith\u001b[39;00m SCCallSiteSync(\u001b[39mself\u001b[39m\u001b[39m.\u001b[39m_sc) \u001b[39mas\u001b[39;00m css:\n\u001b[0;32m--> 693\u001b[0m     sock_info \u001b[39m=\u001b[39m \u001b[39mself\u001b[39;49m\u001b[39m.\u001b[39;49m_jdf\u001b[39m.\u001b[39;49mcollectToPython()\n\u001b[1;32m    694\u001b[0m \u001b[39mreturn\u001b[39;00m \u001b[39mlist\u001b[39m(_load_from_socket(sock_info, BatchedSerializer(PickleSerializer())))\n",
      "File \u001b[0;32m/usr/local/lib/python3.9/site-packages/py4j/java_gateway.py:1320\u001b[0m, in \u001b[0;36mJavaMember.__call__\u001b[0;34m(self, *args)\u001b[0m\n\u001b[1;32m   1313\u001b[0m args_command, temp_args \u001b[39m=\u001b[39m \u001b[39mself\u001b[39m\u001b[39m.\u001b[39m_build_args(\u001b[39m*\u001b[39margs)\n\u001b[1;32m   1315\u001b[0m command \u001b[39m=\u001b[39m proto\u001b[39m.\u001b[39mCALL_COMMAND_NAME \u001b[39m+\u001b[39m\\\n\u001b[1;32m   1316\u001b[0m     \u001b[39mself\u001b[39m\u001b[39m.\u001b[39mcommand_header \u001b[39m+\u001b[39m\\\n\u001b[1;32m   1317\u001b[0m     args_command \u001b[39m+\u001b[39m\\\n\u001b[1;32m   1318\u001b[0m     proto\u001b[39m.\u001b[39mEND_COMMAND_PART\n\u001b[0;32m-> 1320\u001b[0m answer \u001b[39m=\u001b[39m \u001b[39mself\u001b[39;49m\u001b[39m.\u001b[39;49mgateway_client\u001b[39m.\u001b[39;49msend_command(command)\n\u001b[1;32m   1321\u001b[0m return_value \u001b[39m=\u001b[39m get_return_value(\n\u001b[1;32m   1322\u001b[0m     answer, \u001b[39mself\u001b[39m\u001b[39m.\u001b[39mgateway_client, \u001b[39mself\u001b[39m\u001b[39m.\u001b[39mtarget_id, \u001b[39mself\u001b[39m\u001b[39m.\u001b[39mname)\n\u001b[1;32m   1324\u001b[0m \u001b[39mfor\u001b[39;00m temp_arg \u001b[39min\u001b[39;00m temp_args:\n",
      "File \u001b[0;32m/usr/local/lib/python3.9/site-packages/py4j/java_gateway.py:1038\u001b[0m, in \u001b[0;36mGatewayClient.send_command\u001b[0;34m(self, command, retry, binary)\u001b[0m\n\u001b[1;32m   1036\u001b[0m connection \u001b[39m=\u001b[39m \u001b[39mself\u001b[39m\u001b[39m.\u001b[39m_get_connection()\n\u001b[1;32m   1037\u001b[0m \u001b[39mtry\u001b[39;00m:\n\u001b[0;32m-> 1038\u001b[0m     response \u001b[39m=\u001b[39m connection\u001b[39m.\u001b[39;49msend_command(command)\n\u001b[1;32m   1039\u001b[0m     \u001b[39mif\u001b[39;00m binary:\n\u001b[1;32m   1040\u001b[0m         \u001b[39mreturn\u001b[39;00m response, \u001b[39mself\u001b[39m\u001b[39m.\u001b[39m_create_connection_guard(connection)\n",
      "File \u001b[0;32m/usr/local/lib/python3.9/site-packages/py4j/clientserver.py:475\u001b[0m, in \u001b[0;36mClientServerConnection.send_command\u001b[0;34m(self, command)\u001b[0m\n\u001b[1;32m    473\u001b[0m \u001b[39mtry\u001b[39;00m:\n\u001b[1;32m    474\u001b[0m     \u001b[39mwhile\u001b[39;00m \u001b[39mTrue\u001b[39;00m:\n\u001b[0;32m--> 475\u001b[0m         answer \u001b[39m=\u001b[39m smart_decode(\u001b[39mself\u001b[39;49m\u001b[39m.\u001b[39;49mstream\u001b[39m.\u001b[39;49mreadline()[:\u001b[39m-\u001b[39m\u001b[39m1\u001b[39m])\n\u001b[1;32m    476\u001b[0m         logger\u001b[39m.\u001b[39mdebug(\u001b[39m\"\u001b[39m\u001b[39mAnswer received: \u001b[39m\u001b[39m{0}\u001b[39;00m\u001b[39m\"\u001b[39m\u001b[39m.\u001b[39mformat(answer))\n\u001b[1;32m    477\u001b[0m         \u001b[39m# Happens when a the other end is dead. There might be an empty\u001b[39;00m\n\u001b[1;32m    478\u001b[0m         \u001b[39m# answer before the socket raises an error.\u001b[39;00m\n",
      "File \u001b[0;32m/usr/local/lib/python3.9/socket.py:704\u001b[0m, in \u001b[0;36mSocketIO.readinto\u001b[0;34m(self, b)\u001b[0m\n\u001b[1;32m    702\u001b[0m \u001b[39mwhile\u001b[39;00m \u001b[39mTrue\u001b[39;00m:\n\u001b[1;32m    703\u001b[0m     \u001b[39mtry\u001b[39;00m:\n\u001b[0;32m--> 704\u001b[0m         \u001b[39mreturn\u001b[39;00m \u001b[39mself\u001b[39;49m\u001b[39m.\u001b[39;49m_sock\u001b[39m.\u001b[39;49mrecv_into(b)\n\u001b[1;32m    705\u001b[0m     \u001b[39mexcept\u001b[39;00m timeout:\n\u001b[1;32m    706\u001b[0m         \u001b[39mself\u001b[39m\u001b[39m.\u001b[39m_timeout_occurred \u001b[39m=\u001b[39m \u001b[39mTrue\u001b[39;00m\n",
      "\u001b[0;31mKeyboardInterrupt\u001b[0m: "
     ]
    },
    {
     "name": "stderr",
     "output_type": "stream",
     "text": [
      "                                                                                \r"
     ]
    }
   ],
   "source": [
    "#DataFrame mit betroffenen Pixeln erhalten\n",
    "censored = spark.createDataFrame(censoredPixels(df,dataFrame))"
   ]
  }
 ],
 "metadata": {
  "kernelspec": {
   "display_name": "Python 3.9.2 64-bit",
   "language": "python",
   "name": "python3"
  },
  "language_info": {
   "codemirror_mode": {
    "name": "ipython",
    "version": 3
   },
   "file_extension": ".py",
   "mimetype": "text/x-python",
   "name": "python",
   "nbconvert_exporter": "python",
   "pygments_lexer": "ipython3",
   "version": "3.9.2"
  },
  "orig_nbformat": 4,
  "vscode": {
   "interpreter": {
    "hash": "949777d72b0d2535278d3dc13498b2535136f6dfe0678499012e853ee9abcab1"
   }
  }
 },
 "nbformat": 4,
 "nbformat_minor": 2
}
