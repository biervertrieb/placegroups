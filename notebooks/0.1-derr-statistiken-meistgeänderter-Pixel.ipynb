{
 "cells": [
  {
   "cell_type": "markdown",
   "metadata": {},
   "source": [
    "Die meist umkäpften Pixel im Canvas"
   ]
  },
  {
   "cell_type": "code",
   "execution_count": 1,
   "metadata": {},
   "outputs": [
    {
     "name": "stdout",
     "output_type": "stream",
     "text": [
      "providing ../data/raw/2022_place_canvas_history-000000000050.csv ...\n",
      "../data/raw/2022_place_canvas_history-000000000050.csv is already in data/raw\n",
      ":: loading settings :: url = jar:file:/usr/local/lib/python3.9/site-packages/pyspark/jars/ivy-2.5.0.jar!/org/apache/ivy/core/settings/ivysettings.xml\n"
     ]
    },
    {
     "name": "stderr",
     "output_type": "stream",
     "text": [
      "Ivy Default Cache set to: /home/vscode/.ivy2/cache\n",
      "The jars for the packages stored in: /home/vscode/.ivy2/jars\n",
      "graphframes#graphframes added as a dependency\n",
      ":: resolving dependencies :: org.apache.spark#spark-submit-parent-dcd2c3e2-71ee-4af9-9b0a-2516f9fdd000;1.0\n",
      "\tconfs: [default]\n",
      "\tfound graphframes#graphframes;0.8.2-spark3.2-s_2.12 in spark-packages\n",
      "\tfound org.slf4j#slf4j-api;1.7.16 in central\n",
      ":: resolution report :: resolve 383ms :: artifacts dl 11ms\n",
      "\t:: modules in use:\n",
      "\tgraphframes#graphframes;0.8.2-spark3.2-s_2.12 from spark-packages in [default]\n",
      "\torg.slf4j#slf4j-api;1.7.16 from central in [default]\n",
      "\t---------------------------------------------------------------------\n",
      "\t|                  |            modules            ||   artifacts   |\n",
      "\t|       conf       | number| search|dwnlded|evicted|| number|dwnlded|\n",
      "\t---------------------------------------------------------------------\n",
      "\t|      default     |   2   |   0   |   0   |   0   ||   2   |   0   |\n",
      "\t---------------------------------------------------------------------\n",
      ":: retrieving :: org.apache.spark#spark-submit-parent-dcd2c3e2-71ee-4af9-9b0a-2516f9fdd000\n",
      "\tconfs: [default]\n",
      "\t0 artifacts copied, 2 already retrieved (0kB/43ms)\n",
      "22/05/30 03:05:12 WARN NativeCodeLoader: Unable to load native-hadoop library for your platform... using builtin-java classes where applicable\n",
      "Using Spark's default log4j profile: org/apache/spark/log4j-defaults.properties\n",
      "Setting default log level to \"WARN\".\n",
      "To adjust logging level use sc.setLogLevel(newLevel). For SparkR, use setLogLevel(newLevel).\n",
      "22/05/30 03:05:14 WARN Utils: Service 'SparkUI' could not bind on port 4040. Attempting port 4041.\n",
      "22/05/30 03:05:14 WARN Utils: Service 'SparkUI' could not bind on port 4041. Attempting port 4042.\n",
      "[Stage 1:====================================>                      (5 + 3) / 8]\r"
     ]
    },
    {
     "name": "stdout",
     "output_type": "stream",
     "text": [
      "root\n",
      " |-- user_id: string (nullable = true)\n",
      " |-- x: integer (nullable = true)\n",
      " |-- y: integer (nullable = true)\n",
      " |-- t: long (nullable = true)\n",
      " |-- pixel_color: string (nullable = true)\n",
      "\n"
     ]
    },
    {
     "name": "stderr",
     "output_type": "stream",
     "text": [
      "                                                                                \r"
     ]
    }
   ],
   "source": [
    "from src.data.dataset_functions import get_dataframe\n",
    "\n",
    "dataFrame = get_dataframe(True)\n",
    "dataFrame.printSchema()"
   ]
  },
  {
   "cell_type": "markdown",
   "metadata": {},
   "source": [
    "Nun dataFrame nach Pixel gruppieren (Hab dafür eine entsprechende Methode ergänzt)"
   ]
  },
  {
   "cell_type": "code",
   "execution_count": 4,
   "metadata": {},
   "outputs": [
    {
     "name": "stdout",
     "output_type": "stream",
     "text": [
      "root\n",
      " |-- x: integer (nullable = true)\n",
      " |-- y: integer (nullable = true)\n",
      " |-- count: long (nullable = false)\n",
      " |-- collect_list(user_id): array (nullable = false)\n",
      " |    |-- element: string (containsNull = false)\n",
      " |-- collect_list(t): array (nullable = false)\n",
      " |    |-- element: long (containsNull = false)\n",
      " |-- collect_list(pixel_color): array (nullable = false)\n",
      " |    |-- element: string (containsNull = false)\n",
      "\n"
     ]
    }
   ],
   "source": [
    "from src.features.feature_functions import group_dataframe_by_pixel, group_dataframe_by_columns\n",
    "\n",
    "groupedFrame = group_dataframe_by_pixel(dataFrame)\n",
    "groupedFrame.printSchema()"
   ]
  },
  {
   "cell_type": "code",
   "execution_count": 5,
   "metadata": {},
   "outputs": [
    {
     "name": "stderr",
     "output_type": "stream",
     "text": [
      "[Stage 7:=============================================>             (7 + 2) / 9]\r"
     ]
    },
    {
     "name": "stdout",
     "output_type": "stream",
     "text": [
      "+---+---+-----+---------------------+--------------------+-------------------------+\n",
      "|  x|  y|count|collect_list(user_id)|     collect_list(t)|collect_list(pixel_color)|\n",
      "+---+---+-----+---------------------+--------------------+-------------------------+\n",
      "|  0|  0|  784| [U7ZGIDmgxWHUBUud...|[3, 389, 16, 396,...|     [#7EED56, #FFFFFF...|\n",
      "|359|564|  762| [O1UuQMoNHYhabtSD...|[3178, 3179, 3180...|     [#000000, #000000...|\n",
      "+---+---+-----+---------------------+--------------------+-------------------------+\n",
      "only showing top 2 rows\n",
      "\n"
     ]
    },
    {
     "name": "stderr",
     "output_type": "stream",
     "text": [
      "                                                                                \r"
     ]
    }
   ],
   "source": [
    "groupedFrame.show(2)"
   ]
  },
  {
   "cell_type": "markdown",
   "metadata": {},
   "source": [
    "Spalten, die für die Visualisierung störend sind, entfernen."
   ]
  },
  {
   "cell_type": "code",
   "execution_count": 6,
   "metadata": {},
   "outputs": [
    {
     "name": "stdout",
     "output_type": "stream",
     "text": [
      "root\n",
      " |-- x: integer (nullable = true)\n",
      " |-- y: integer (nullable = true)\n",
      " |-- count: long (nullable = false)\n",
      "\n"
     ]
    }
   ],
   "source": [
    "from src.visualization.visuialization_functions import show_and_save\n",
    "import matplotlib.pyplot as plt\n",
    "import numpy as np\n",
    "\n",
    "droppedFrame = groupedFrame.drop('collect_list(t)').drop('collect_list(user_id)').drop('collect_list(pixel_color)')\n",
    "droppedFrame.printSchema()"
   ]
  },
  {
   "cell_type": "markdown",
   "metadata": {},
   "source": [
    "Die Top 10 der am meisten geänderten Pixel."
   ]
  },
  {
   "cell_type": "code",
   "execution_count": 7,
   "metadata": {},
   "outputs": [
    {
     "name": "stderr",
     "output_type": "stream",
     "text": [
      "[Stage 8:=============================>                             (4 + 4) / 8]\r"
     ]
    },
    {
     "name": "stdout",
     "output_type": "stream",
     "text": [
      "+----+----+-----+\n",
      "|   x|   y|count|\n",
      "+----+----+-----+\n",
      "|   0|   0|  784|\n",
      "| 359| 564|  762|\n",
      "|1999|1999|  620|\n",
      "| 349| 564|  613|\n",
      "|   0|1999|  516|\n",
      "|1890| 353|  470|\n",
      "|1852| 590|  463|\n",
      "| 662| 222|  458|\n",
      "|1058| 756|  457|\n",
      "|   8|1267|  441|\n",
      "+----+----+-----+\n",
      "only showing top 10 rows\n",
      "\n"
     ]
    },
    {
     "name": "stderr",
     "output_type": "stream",
     "text": [
      "                                                                                \r"
     ]
    }
   ],
   "source": [
    "droppedFrame.show(10)"
   ]
  },
  {
   "cell_type": "markdown",
   "metadata": {},
   "source": [
    "Das ganze noch visualisieren."
   ]
  },
  {
   "cell_type": "code",
   "execution_count": 8,
   "metadata": {},
   "outputs": [
    {
     "name": "stderr",
     "output_type": "stream",
     "text": [
      "                                                                                \r"
     ]
    },
    {
     "ename": "ValueError",
     "evalue": "too many values to unpack (expected 2)",
     "output_type": "error",
     "traceback": [
      "\u001b[0;31m---------------------------------------------------------------------------\u001b[0m",
      "\u001b[0;31mValueError\u001b[0m                                Traceback (most recent call last)",
      "\u001b[1;32m/workspaces/placegroups/notebooks/0.1-derr-statistiken-meistgeänderter-Pixel.ipynb Cell 11'\u001b[0m in \u001b[0;36m<cell line: 4>\u001b[0;34m()\u001b[0m\n\u001b[1;32m      <a href='vscode-notebook-cell://dev-container%2B633a5c756e695c626967646174615c776f726b73706163655c706c61636567726f757073/workspaces/placegroups/notebooks/0.1-derr-statistiken-meistge%C3%A4nderter-Pixel.ipynb#ch0000010vscode-remote?line=2'>3</a>\u001b[0m fig,ax \u001b[39m=\u001b[39m plt\u001b[39m.\u001b[39msubplots()\n\u001b[1;32m      <a href='vscode-notebook-cell://dev-container%2B633a5c756e695c626967646174615c776f726b73706163655c706c61636567726f757073/workspaces/placegroups/notebooks/0.1-derr-statistiken-meistge%C3%A4nderter-Pixel.ipynb#ch0000010vscode-remote?line=3'>4</a>\u001b[0m \u001b[39mfor\u001b[39;00m row \u001b[39min\u001b[39;00m datacollect:\n\u001b[0;32m----> <a href='vscode-notebook-cell://dev-container%2B633a5c756e695c626967646174615c776f726b73706163655c706c61636567726f757073/workspaces/placegroups/notebooks/0.1-derr-statistiken-meistge%C3%A4nderter-Pixel.ipynb#ch0000010vscode-remote?line=4'>5</a>\u001b[0m     pixelcount,usercount \u001b[39m=\u001b[39m \u001b[39mlist\u001b[39m(row)\n\u001b[1;32m      <a href='vscode-notebook-cell://dev-container%2B633a5c756e695c626967646174615c776f726b73706163655c706c61636567726f757073/workspaces/placegroups/notebooks/0.1-derr-statistiken-meistge%C3%A4nderter-Pixel.ipynb#ch0000010vscode-remote?line=5'>6</a>\u001b[0m     ax\u001b[39m.\u001b[39mbar(pixelcount,usercount,color\u001b[39m=\u001b[39m\u001b[39m'\u001b[39m\u001b[39m#5050cc\u001b[39m\u001b[39m'\u001b[39m)\n\u001b[1;32m      <a href='vscode-notebook-cell://dev-container%2B633a5c756e695c626967646174615c776f726b73706163655c706c61636567726f757073/workspaces/placegroups/notebooks/0.1-derr-statistiken-meistge%C3%A4nderter-Pixel.ipynb#ch0000010vscode-remote?line=6'>7</a>\u001b[0m ax\u001b[39m.\u001b[39mset_xticks(np\u001b[39m.\u001b[39marange(\u001b[39m1\u001b[39m,\u001b[39m10\u001b[39m,\u001b[39m1\u001b[39m))\n",
      "\u001b[0;31mValueError\u001b[0m: too many values to unpack (expected 2)"
     ]
    },
    {
     "data": {
      "image/png": "[encoded data removed]",
      "text/plain": [
       "<Figure size 432x288 with 1 Axes>"
      ]
     },
     "metadata": {
      "needs_background": "light"
     },
     "output_type": "display_data"
    }
   ],
   "source": [
    "datacollect = droppedFrame.collect()\n",
    "#wie mache ich weiter???\n",
    "fig,ax = plt.subplots()\n",
    "for row in datacollect:\n",
    "    pixelcount,usercount = list(row)\n",
    "    ax.bar(pixelcount,usercount,color='#5050cc')\n",
    "ax.set_xticks(np.arange(1,10,1))\n",
    "ax.set_title('Die 10 am meisten umkämpften Pixel')\n",
    "ax.set_ylabel('Anzahl der Änderungen')\n",
    "ax.set_xlabel('Geänderte Pixel')\n",
    "fig.tight_layout()\n",
    "#plt.savefig('../reports/figures/meistumkäpften_pixel.jpg',bbox_inches = 'tight')\n",
    "plt.show()"
   ]
  },
  {
   "cell_type": "markdown",
   "metadata": {},
   "source": [
    "<div style=\"color:lightblue\">\n",
    "(Sebastian): \n",
    "Was für Daten willst du anzeigen? Pro Pixel einen Balken der angibt wie oft der Pixel gesetzt wurde. Möglichkeit 1: Balken nebeneinander pro Pixel(x und y) dann ist es ein normaler 2D Bar Plot. Möglichkeit 2: X und Y sind getrennte Achsen im Plot. Dann ist es ein 3D Bar Plot. Google gibt Beispiele für 3D. Für 2D hab ich schon ein Beispiel in 0.1-heuer-nutzerfeatures\n",
    "\n",
    "```\n",
    "datacollect = groupedbypixelcountFrame.collect()\n",
    "import matplotlib.pyplot as plt\n",
    "import numpy as np\n",
    "fig,ax = plt.subplots()\n",
    "for row in datacollect:\n",
    "    pixelcount,usercount = list(row)\n",
    "    ax.bar(pixelcount,usercount,color='#5050cc')\n",
    "ax.set_xticks(np.arange(1,21,1))\n",
    "ax.set_title('Nutzerzahl pro Pixelhäufigkeit')\n",
    "ax.set_ylabel('Nutzer')\n",
    "ax.set_xlabel('Gesetzte Pixel')\n",
    "fig.tight_layout()\n",
    "plt.savefig('../reports/figures/nutzerzahl_pro_pixelhaeufigkeit.jpg',bbox_inches = 'tight')\n",
    "plt.show()\n",
    "```\n",
    "\n",
    "Das Formulier ich schnell um :)\n",
    "Für 3D kannst du ja selber gucken wie das geht:\n",
    "https://matplotlib.org/stable/gallery/mplot3d/3d_bars.html\n",
    "\n",
    "Schön wäre eine Balkenfarbe abhängig von der Änderungszahl:\n",
    "\n",
    "https://stackoverflow.com/questions/44895117/colormap-for-3d-bar-plot-in-matplotlib-applied-to-every-bar\n",
    "\n",
    "</div>"
   ]
  },
  {
   "cell_type": "code",
   "execution_count": 10,
   "metadata": {},
   "outputs": [
    {
     "name": "stderr",
     "output_type": "stream",
     "text": [
      "                                                                                \r"
     ]
    }
   ],
   "source": [
    "datacollect = droppedFrame.head(10)"
   ]
  },
  {
   "cell_type": "markdown",
   "metadata": {},
   "source": [
    "<div style=\"color:lightblue\">(Sebastian): hm die Balken müssen ein bischen Breiter sein weil die Koordinatenbeschriftung sonst zu eng ist.\n",
    "Das bekommst du schon hin :)\n",
    "</div>"
   ]
  },
  {
   "cell_type": "code",
   "execution_count": 38,
   "metadata": {},
   "outputs": [
    {
     "data": {
      "image/png": "[encoded data removed]",
      "text/plain": [
       "<Figure size 432x288 with 1 Axes>"
      ]
     },
     "metadata": {
      "needs_background": "light"
     },
     "output_type": "display_data"
    }
   ],
   "source": [
    "\n",
    "import matplotlib.pyplot as plt\n",
    "import numpy as np\n",
    "fig,ax = plt.subplots()\n",
    "i = 1\n",
    "for row in datacollect:\n",
    "    x,y,count = list(row)\n",
    "    pixelcoords = '('+str(x)+','+str(y)+')'\n",
    "    plt.bar(pixelcoords,count,color='#5050cc')\n",
    "    i = i+1\n",
    "plt.title('Die 10 am meisten umkämpften Pixel')\n",
    "plt.ylabel('Änderungen')\n",
    "plt.xlabel('Pixel')\n",
    "plt.savefig('../reports/figures/top10_umkaempfte_pixel.jpg',bbox_inches = 'tight')\n",
    "plt.show()"
   ]
  }
 ],
 "metadata": {
  "interpreter": {
   "hash": "949777d72b0d2535278d3dc13498b2535136f6dfe0678499012e853ee9abcab1"
  },
  "kernelspec": {
   "display_name": "Python 3.9.2 64-bit",
   "language": "python",
   "name": "python3"
  },
  "language_info": {
   "codemirror_mode": {
    "name": "ipython",
    "version": 3
   },
   "file_extension": ".py",
   "mimetype": "text/x-python",
   "name": "python",
   "nbconvert_exporter": "python",
   "pygments_lexer": "ipython3",
   "version": "3.9.12"
  },
  "orig_nbformat": 4
 },
 "nbformat": 4,
 "nbformat_minor": 2
}
