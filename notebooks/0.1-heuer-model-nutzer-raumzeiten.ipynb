{
 "cells": [
  {
   "cell_type": "markdown",
   "metadata": {},
   "source": [
    "Mal die Daten für die 6 aktivsten Nutzer holen..."
   ]
  },
  {
   "cell_type": "code",
   "execution_count": 1,
   "metadata": {},
   "outputs": [
    {
     "name": "stderr",
     "output_type": "stream",
     "text": [
      "Using Spark's default log4j profile: org/apache/spark/log4j-defaults.properties\n",
      "Setting default log level to \"WARN\".\n",
      "To adjust logging level use sc.setLogLevel(newLevel). For SparkR, use setLogLevel(newLevel).\n",
      "22/05/10 13:41:54 WARN NativeCodeLoader: Unable to load native-hadoop library for your platform... using builtin-java classes where applicable\n",
      "                                                                                \r"
     ]
    }
   ],
   "source": [
    "from src.data.dataset_functions import get_dataframe\n",
    "\n",
    "dataFrame = get_dataframe(True) # sample data only"
   ]
  },
  {
   "cell_type": "code",
   "execution_count": 2,
   "metadata": {},
   "outputs": [
    {
     "name": "stdout",
     "output_type": "stream",
     "text": [
      "root\n",
      " |-- user_id: string (nullable = true)\n",
      " |-- x: integer (nullable = true)\n",
      " |-- y: integer (nullable = true)\n",
      " |-- t: long (nullable = true)\n",
      " |-- pixel_color: string (nullable = true)\n",
      "\n",
      "+--------------------+---+----+---+-----------+\n",
      "|             user_id|  x|   y|  t|pixel_color|\n",
      "+--------------------+---+----+---+-----------+\n",
      "|vKtmwRQwAYtw5poO4...|804|1992|  0|    #FF3881|\n",
      "+--------------------+---+----+---+-----------+\n",
      "only showing top 1 row\n",
      "\n"
     ]
    }
   ],
   "source": [
    "dataFrame.printSchema()\n",
    "dataFrame.show(1)"
   ]
  },
  {
   "cell_type": "code",
   "execution_count": 5,
   "metadata": {},
   "outputs": [
    {
     "name": "stdout",
     "output_type": "stream",
     "text": [
      "['x', 'y', 't', 'pixel_color']\n"
     ]
    },
    {
     "ename": "IllegalArgumentException",
     "evalue": "requirement failed: The number of columns doesn't match.\nOld column names (5): user_id, collect_list(x), collect_list(y), collect_list(t), collect_list(pixel_color)\nNew column names (4): x, y, t, pixel_color",
     "output_type": "error",
     "traceback": [
      "\u001b[0;31m---------------------------------------------------------------------------\u001b[0m",
      "\u001b[0;31mIllegalArgumentException\u001b[0m                  Traceback (most recent call last)",
      "\u001b[1;32m/workspaces/placegroups/notebooks/0.1-heuer-model-nutzer-raumzeiten.ipynb Cell 4'\u001b[0m in \u001b[0;36m<cell line: 15>\u001b[0;34m()\u001b[0m\n\u001b[1;32m     <a href='vscode-notebook-cell://dev-container%2B633a5c756e695c42696720446174615c776f726b73706163655c706c61636567726f757073/workspaces/placegroups/notebooks/0.1-heuer-model-nutzer-raumzeiten.ipynb#ch0000003vscode-remote?line=12'>13</a>\u001b[0m     df_grouped \u001b[39m=\u001b[39m df_grouped\u001b[39m.\u001b[39mtoDF(\u001b[39m*\u001b[39magg_columns)\n\u001b[1;32m     <a href='vscode-notebook-cell://dev-container%2B633a5c756e695c42696720446174615c776f726b73706163655c706c61636567726f757073/workspaces/placegroups/notebooks/0.1-heuer-model-nutzer-raumzeiten.ipynb#ch0000003vscode-remote?line=13'>14</a>\u001b[0m     \u001b[39mreturn\u001b[39;00m df_grouped\n\u001b[0;32m---> <a href='vscode-notebook-cell://dev-container%2B633a5c756e695c42696720446174615c776f726b73706163655c706c61636567726f757073/workspaces/placegroups/notebooks/0.1-heuer-model-nutzer-raumzeiten.ipynb#ch0000003vscode-remote?line=14'>15</a>\u001b[0m testdf \u001b[39m=\u001b[39m test(dataFrame,[\u001b[39m\"\u001b[39;49m\u001b[39muser_id\u001b[39;49m\u001b[39m\"\u001b[39;49m])\n\u001b[1;32m     <a href='vscode-notebook-cell://dev-container%2B633a5c756e695c42696720446174615c776f726b73706163655c706c61636567726f757073/workspaces/placegroups/notebooks/0.1-heuer-model-nutzer-raumzeiten.ipynb#ch0000003vscode-remote?line=16'>17</a>\u001b[0m testdf\u001b[39m.\u001b[39mprintSchema()\n\u001b[1;32m     <a href='vscode-notebook-cell://dev-container%2B633a5c756e695c42696720446174615c776f726b73706163655c706c61636567726f757073/workspaces/placegroups/notebooks/0.1-heuer-model-nutzer-raumzeiten.ipynb#ch0000003vscode-remote?line=17'>18</a>\u001b[0m \u001b[39mprint\u001b[39m()\n",
      "\u001b[1;32m/workspaces/placegroups/notebooks/0.1-heuer-model-nutzer-raumzeiten.ipynb Cell 4'\u001b[0m in \u001b[0;36mtest\u001b[0;34m(df_input, columns_to_group)\u001b[0m\n\u001b[1;32m     <a href='vscode-notebook-cell://dev-container%2B633a5c756e695c42696720446174615c776f726b73706163655c706c61636567726f757073/workspaces/placegroups/notebooks/0.1-heuer-model-nutzer-raumzeiten.ipynb#ch0000003vscode-remote?line=10'>11</a>\u001b[0m exprs \u001b[39m=\u001b[39m [F\u001b[39m.\u001b[39mcollect_list(colName) \u001b[39mfor\u001b[39;00m colName \u001b[39min\u001b[39;00m agg_columns]\n\u001b[1;32m     <a href='vscode-notebook-cell://dev-container%2B633a5c756e695c42696720446174615c776f726b73706163655c706c61636567726f757073/workspaces/placegroups/notebooks/0.1-heuer-model-nutzer-raumzeiten.ipynb#ch0000003vscode-remote?line=11'>12</a>\u001b[0m df_grouped \u001b[39m=\u001b[39m df_input\u001b[39m.\u001b[39mgroupby(columns_to_group)\u001b[39m.\u001b[39magg(\u001b[39m*\u001b[39mexprs)\n\u001b[0;32m---> <a href='vscode-notebook-cell://dev-container%2B633a5c756e695c42696720446174615c776f726b73706163655c706c61636567726f757073/workspaces/placegroups/notebooks/0.1-heuer-model-nutzer-raumzeiten.ipynb#ch0000003vscode-remote?line=12'>13</a>\u001b[0m df_grouped \u001b[39m=\u001b[39m df_grouped\u001b[39m.\u001b[39;49mtoDF(\u001b[39m*\u001b[39;49magg_columns)\n\u001b[1;32m     <a href='vscode-notebook-cell://dev-container%2B633a5c756e695c42696720446174615c776f726b73706163655c706c61636567726f757073/workspaces/placegroups/notebooks/0.1-heuer-model-nutzer-raumzeiten.ipynb#ch0000003vscode-remote?line=13'>14</a>\u001b[0m \u001b[39mreturn\u001b[39;00m df_grouped\n",
      "File \u001b[0;32m/usr/local/lib/python3.9/site-packages/pyspark/sql/dataframe.py:2557\u001b[0m, in \u001b[0;36mDataFrame.toDF\u001b[0;34m(self, *cols)\u001b[0m\n\u001b[1;32m   <a href='file:///usr/local/lib/python3.9/site-packages/pyspark/sql/dataframe.py?line=2543'>2544</a>\u001b[0m \u001b[39mdef\u001b[39;00m \u001b[39mtoDF\u001b[39m(\u001b[39mself\u001b[39m, \u001b[39m*\u001b[39mcols):\n\u001b[1;32m   <a href='file:///usr/local/lib/python3.9/site-packages/pyspark/sql/dataframe.py?line=2544'>2545</a>\u001b[0m     \u001b[39m\"\"\"Returns a new :class:`DataFrame` that with new specified column names\u001b[39;00m\n\u001b[1;32m   <a href='file:///usr/local/lib/python3.9/site-packages/pyspark/sql/dataframe.py?line=2545'>2546</a>\u001b[0m \n\u001b[1;32m   <a href='file:///usr/local/lib/python3.9/site-packages/pyspark/sql/dataframe.py?line=2546'>2547</a>\u001b[0m \u001b[39m    Parameters\u001b[39;00m\n\u001b[0;32m   (...)\u001b[0m\n\u001b[1;32m   <a href='file:///usr/local/lib/python3.9/site-packages/pyspark/sql/dataframe.py?line=2554'>2555</a>\u001b[0m \u001b[39m    [Row(f1=2, f2='Alice'), Row(f1=5, f2='Bob')]\u001b[39;00m\n\u001b[1;32m   <a href='file:///usr/local/lib/python3.9/site-packages/pyspark/sql/dataframe.py?line=2555'>2556</a>\u001b[0m \u001b[39m    \"\"\"\u001b[39;00m\n\u001b[0;32m-> <a href='file:///usr/local/lib/python3.9/site-packages/pyspark/sql/dataframe.py?line=2556'>2557</a>\u001b[0m     jdf \u001b[39m=\u001b[39m \u001b[39mself\u001b[39;49m\u001b[39m.\u001b[39;49m_jdf\u001b[39m.\u001b[39;49mtoDF(\u001b[39mself\u001b[39;49m\u001b[39m.\u001b[39;49m_jseq(cols))\n\u001b[1;32m   <a href='file:///usr/local/lib/python3.9/site-packages/pyspark/sql/dataframe.py?line=2557'>2558</a>\u001b[0m     \u001b[39mreturn\u001b[39;00m DataFrame(jdf, \u001b[39mself\u001b[39m\u001b[39m.\u001b[39msql_ctx)\n",
      "File \u001b[0;32m/usr/local/lib/python3.9/site-packages/py4j/java_gateway.py:1321\u001b[0m, in \u001b[0;36mJavaMember.__call__\u001b[0;34m(self, *args)\u001b[0m\n\u001b[1;32m   <a href='file:///usr/local/lib/python3.9/site-packages/py4j/java_gateway.py?line=1314'>1315</a>\u001b[0m command \u001b[39m=\u001b[39m proto\u001b[39m.\u001b[39mCALL_COMMAND_NAME \u001b[39m+\u001b[39m\\\n\u001b[1;32m   <a href='file:///usr/local/lib/python3.9/site-packages/py4j/java_gateway.py?line=1315'>1316</a>\u001b[0m     \u001b[39mself\u001b[39m\u001b[39m.\u001b[39mcommand_header \u001b[39m+\u001b[39m\\\n\u001b[1;32m   <a href='file:///usr/local/lib/python3.9/site-packages/py4j/java_gateway.py?line=1316'>1317</a>\u001b[0m     args_command \u001b[39m+\u001b[39m\\\n\u001b[1;32m   <a href='file:///usr/local/lib/python3.9/site-packages/py4j/java_gateway.py?line=1317'>1318</a>\u001b[0m     proto\u001b[39m.\u001b[39mEND_COMMAND_PART\n\u001b[1;32m   <a href='file:///usr/local/lib/python3.9/site-packages/py4j/java_gateway.py?line=1319'>1320</a>\u001b[0m answer \u001b[39m=\u001b[39m \u001b[39mself\u001b[39m\u001b[39m.\u001b[39mgateway_client\u001b[39m.\u001b[39msend_command(command)\n\u001b[0;32m-> <a href='file:///usr/local/lib/python3.9/site-packages/py4j/java_gateway.py?line=1320'>1321</a>\u001b[0m return_value \u001b[39m=\u001b[39m get_return_value(\n\u001b[1;32m   <a href='file:///usr/local/lib/python3.9/site-packages/py4j/java_gateway.py?line=1321'>1322</a>\u001b[0m     answer, \u001b[39mself\u001b[39;49m\u001b[39m.\u001b[39;49mgateway_client, \u001b[39mself\u001b[39;49m\u001b[39m.\u001b[39;49mtarget_id, \u001b[39mself\u001b[39;49m\u001b[39m.\u001b[39;49mname)\n\u001b[1;32m   <a href='file:///usr/local/lib/python3.9/site-packages/py4j/java_gateway.py?line=1323'>1324</a>\u001b[0m \u001b[39mfor\u001b[39;00m temp_arg \u001b[39min\u001b[39;00m temp_args:\n\u001b[1;32m   <a href='file:///usr/local/lib/python3.9/site-packages/py4j/java_gateway.py?line=1324'>1325</a>\u001b[0m     temp_arg\u001b[39m.\u001b[39m_detach()\n",
      "File \u001b[0;32m/usr/local/lib/python3.9/site-packages/pyspark/sql/utils.py:117\u001b[0m, in \u001b[0;36mcapture_sql_exception.<locals>.deco\u001b[0;34m(*a, **kw)\u001b[0m\n\u001b[1;32m    <a href='file:///usr/local/lib/python3.9/site-packages/pyspark/sql/utils.py?line=112'>113</a>\u001b[0m converted \u001b[39m=\u001b[39m convert_exception(e\u001b[39m.\u001b[39mjava_exception)\n\u001b[1;32m    <a href='file:///usr/local/lib/python3.9/site-packages/pyspark/sql/utils.py?line=113'>114</a>\u001b[0m \u001b[39mif\u001b[39;00m \u001b[39mnot\u001b[39;00m \u001b[39misinstance\u001b[39m(converted, UnknownException):\n\u001b[1;32m    <a href='file:///usr/local/lib/python3.9/site-packages/pyspark/sql/utils.py?line=114'>115</a>\u001b[0m     \u001b[39m# Hide where the exception came from that shows a non-Pythonic\u001b[39;00m\n\u001b[1;32m    <a href='file:///usr/local/lib/python3.9/site-packages/pyspark/sql/utils.py?line=115'>116</a>\u001b[0m     \u001b[39m# JVM exception message.\u001b[39;00m\n\u001b[0;32m--> <a href='file:///usr/local/lib/python3.9/site-packages/pyspark/sql/utils.py?line=116'>117</a>\u001b[0m     \u001b[39mraise\u001b[39;00m converted \u001b[39mfrom\u001b[39;00m \u001b[39mNone\u001b[39m\n\u001b[1;32m    <a href='file:///usr/local/lib/python3.9/site-packages/pyspark/sql/utils.py?line=117'>118</a>\u001b[0m \u001b[39melse\u001b[39;00m:\n\u001b[1;32m    <a href='file:///usr/local/lib/python3.9/site-packages/pyspark/sql/utils.py?line=118'>119</a>\u001b[0m     \u001b[39mraise\u001b[39;00m\n",
      "\u001b[0;31mIllegalArgumentException\u001b[0m: requirement failed: The number of columns doesn't match.\nOld column names (5): user_id, collect_list(x), collect_list(y), collect_list(t), collect_list(pixel_color)\nNew column names (4): x, y, t, pixel_color"
     ]
    }
   ],
   "source": [
    "from pyspark.sql import DataFrame,Column\n",
    "import pyspark.sql.functions as F\n",
    "from src.features.feature_functions import group_dataframe_by_columns\n",
    "\n",
    "\n",
    "def test(df_input: DataFrame, columns_to_group: list) -> DataFrame:\n",
    "    ''' groups a dataframe by a list of columns. all other columns get aggregatet as a list ov their values '''\n",
    "    agg_columns = [\n",
    "        colname for colname in df_input.columns if colname not in columns_to_group]\n",
    "    print(agg_columns)\n",
    "    exprs = [F.collect_list(colName) for colName in agg_columns]\n",
    "    exprs.insert(0,F.count(columns_to_group[0]).alias('count'))\n",
    "    df_grouped = df_input.groupby(columns_to_group).agg(*exprs)\n",
    "    return df_grouped\n",
    "testdf = test(dataFrame,[\"user_id\"])\n",
    "\n",
    "testdf.printSchema()\n",
    "print()"
   ]
  },
  {
   "cell_type": "code",
   "execution_count": null,
   "metadata": {},
   "outputs": [],
   "source": [
    "from src.features.feature_functions import group_dataframe_by_user\n",
    "groupedFrame = group_dataframe_by_user(dataFrame)\n",
    "groupedFrame.printSchema()"
   ]
  },
  {
   "cell_type": "code",
   "execution_count": null,
   "metadata": {},
   "outputs": [],
   "source": [
    "dataCollection = groupedFrame.take(5)"
   ]
  },
  {
   "cell_type": "code",
   "execution_count": null,
   "metadata": {},
   "outputs": [],
   "source": [
    "print(dataCollection)"
   ]
  },
  {
   "cell_type": "code",
   "execution_count": null,
   "metadata": {},
   "outputs": [],
   "source": [
    "from src.visualization.visuialization_functions import plot_userlist_pixel\n",
    "\n",
    "userpixel = []\n",
    "for row in dataCollection:\n",
    "    user_id , count ,xs , ys , ts , pixel_color = list(row)\n",
    "    userpixel.append([xs,ys,ts])\n",
    "print(userpixel)\n",
    "plot_userlist_pixel(userpixel)\n"
   ]
  },
  {
   "cell_type": "code",
   "execution_count": null,
   "metadata": {},
   "outputs": [],
   "source": [
    "from src.visualization.visuialization_functions import plot_pixellist\n",
    "\n",
    "print(userpixel[0])\n",
    "plot_pixellist(userpixel[0])"
   ]
  }
 ],
 "metadata": {
  "interpreter": {
   "hash": "949777d72b0d2535278d3dc13498b2535136f6dfe0678499012e853ee9abcab1"
  },
  "kernelspec": {
   "display_name": "Python 3.9.12 64-bit",
   "language": "python",
   "name": "python3"
  },
  "language_info": {
   "codemirror_mode": {
    "name": "ipython",
    "version": 3
   },
   "file_extension": ".py",
   "mimetype": "text/x-python",
   "name": "python",
   "nbconvert_exporter": "python",
   "pygments_lexer": "ipython3",
   "version": "3.9.12"
  },
  "orig_nbformat": 4
 },
 "nbformat": 4,
 "nbformat_minor": 2
}
