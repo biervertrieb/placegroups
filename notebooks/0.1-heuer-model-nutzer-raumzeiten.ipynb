{
 "cells": [
  {
   "cell_type": "markdown",
   "metadata": {},
   "source": [
    "Mal die Daten für die 6 aktivsten Nutzer holen..."
   ]
  },
  {
   "cell_type": "code",
   "execution_count": 1,
   "metadata": {},
   "outputs": [
    {
     "name": "stderr",
     "output_type": "stream",
     "text": [
      "Using Spark's default log4j profile: org/apache/spark/log4j-defaults.properties\n",
      "Setting default log level to \"WARN\".\n",
      "To adjust logging level use sc.setLogLevel(newLevel). For SparkR, use setLogLevel(newLevel).\n",
      "22/05/10 13:41:54 WARN NativeCodeLoader: Unable to load native-hadoop library for your platform... using builtin-java classes where applicable\n",
      "                                                                                \r"
     ]
    }
   ],
   "source": [
    "from src.data.dataset_functions import get_dataframe\n",
    "\n",
    "dataFrame = get_dataframe(True) # sample data only"
   ]
  },
  {
   "cell_type": "code",
   "execution_count": 2,
   "metadata": {},
   "outputs": [
    {
     "name": "stdout",
     "output_type": "stream",
     "text": [
      "root\n",
      " |-- user_id: string (nullable = true)\n",
      " |-- x: integer (nullable = true)\n",
      " |-- y: integer (nullable = true)\n",
      " |-- t: long (nullable = true)\n",
      " |-- pixel_color: string (nullable = true)\n",
      "\n",
      "+--------------------+---+----+---+-----------+\n",
      "|             user_id|  x|   y|  t|pixel_color|\n",
      "+--------------------+---+----+---+-----------+\n",
      "|vKtmwRQwAYtw5poO4...|804|1992|  0|    #FF3881|\n",
      "+--------------------+---+----+---+-----------+\n",
      "only showing top 1 row\n",
      "\n"
     ]
    }
   ],
   "source": [
    "dataFrame.printSchema()\n",
    "dataFrame.show(1)"
   ]
  },
  {
   "cell_type": "code",
   "execution_count": 6,
   "metadata": {},
   "outputs": [
    {
     "name": "stdout",
     "output_type": "stream",
     "text": [
      "['x', 'y', 't', 'pixel_color']\n",
      "root\n",
      " |-- user_id: string (nullable = true)\n",
      " |-- count: long (nullable = false)\n",
      " |-- collect_list(x): array (nullable = false)\n",
      " |    |-- element: integer (containsNull = false)\n",
      " |-- collect_list(y): array (nullable = false)\n",
      " |    |-- element: integer (containsNull = false)\n",
      " |-- collect_list(t): array (nullable = false)\n",
      " |    |-- element: long (containsNull = false)\n",
      " |-- collect_list(pixel_color): array (nullable = false)\n",
      " |    |-- element: string (containsNull = false)\n",
      "\n",
      "\n"
     ]
    }
   ],
   "source": [
    "from pyspark.sql import DataFrame,Column\n",
    "import pyspark.sql.functions as F\n",
    "from src.features.feature_functions import group_dataframe_by_columns\n",
    "\n",
    "\n",
    "def test(df_input: DataFrame, columns_to_group: list) -> DataFrame:\n",
    "    ''' groups a dataframe by a list of columns. all other columns get aggregatet as a list ov their values '''\n",
    "    agg_columns = [\n",
    "        colname for colname in df_input.columns if colname not in columns_to_group]\n",
    "    print(agg_columns)\n",
    "    exprs = [F.collect_list(colName) for colName in agg_columns]\n",
    "    exprs.insert(0,F.count(columns_to_group[0]).alias('count'))\n",
    "    df_grouped = df_input.groupby(columns_to_group).agg(*exprs)\n",
    "    return df_grouped\n",
    "testdf = test(dataFrame,[\"user_id\"])\n",
    "\n",
    "testdf.printSchema()\n",
    "print()"
   ]
  },
  {
   "cell_type": "code",
   "execution_count": null,
   "metadata": {},
   "outputs": [],
   "source": [
    "from src.features.feature_functions import group_dataframe_by_user\n",
    "groupedFrame = group_dataframe_by_user(dataFrame)\n",
    "groupedFrame.printSchema()"
   ]
  },
  {
   "cell_type": "code",
   "execution_count": null,
   "metadata": {},
   "outputs": [],
   "source": [
    "dataCollection = groupedFrame.take(5)"
   ]
  },
  {
   "cell_type": "code",
   "execution_count": null,
   "metadata": {},
   "outputs": [],
   "source": [
    "print(dataCollection)"
   ]
  },
  {
   "cell_type": "code",
   "execution_count": null,
   "metadata": {},
   "outputs": [],
   "source": [
    "from src.visualization.visuialization_functions import plot_userlist_pixel\n",
    "\n",
    "userpixel = []\n",
    "for row in dataCollection:\n",
    "    user_id , count ,xs , ys , ts , pixel_color = list(row)\n",
    "    userpixel.append([xs,ys,ts])\n",
    "print(userpixel)\n",
    "plot_userlist_pixel(userpixel)\n"
   ]
  },
  {
   "cell_type": "code",
   "execution_count": null,
   "metadata": {},
   "outputs": [],
   "source": [
    "from src.visualization.visuialization_functions import plot_pixellist\n",
    "\n",
    "print(userpixel[0])\n",
    "plot_pixellist(userpixel[0])"
   ]
  }
 ],
 "metadata": {
  "interpreter": {
   "hash": "949777d72b0d2535278d3dc13498b2535136f6dfe0678499012e853ee9abcab1"
  },
  "kernelspec": {
   "display_name": "Python 3.9.12 64-bit",
   "language": "python",
   "name": "python3"
  },
  "language_info": {
   "codemirror_mode": {
    "name": "ipython",
    "version": 3
   },
   "file_extension": ".py",
   "mimetype": "text/x-python",
   "name": "python",
   "nbconvert_exporter": "python",
   "pygments_lexer": "ipython3",
   "version": "3.9.12"
  },
  "orig_nbformat": 4
 },
 "nbformat": 4,
 "nbformat_minor": 2
}
