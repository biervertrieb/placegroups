{
 "cells": [
  {
   "cell_type": "markdown",
   "metadata": {},
   "source": [
    "Mal die Daten für die 6 aktivsten Nutzer holen..."
   ]
  },
  {
   "cell_type": "code",
   "execution_count": 1,
   "metadata": {},
   "outputs": [
    {
     "name": "stderr",
     "output_type": "stream",
     "text": [
      "Using Spark's default log4j profile: org/apache/spark/log4j-defaults.properties\n",
      "Setting default log level to \"WARN\".\n",
      "To adjust logging level use sc.setLogLevel(newLevel). For SparkR, use setLogLevel(newLevel).\n",
      "22/05/10 07:35:36 WARN NativeCodeLoader: Unable to load native-hadoop library for your platform... using builtin-java classes where applicable\n",
      "                                                                                \r"
     ]
    }
   ],
   "source": [
    "from src.data.dataset_functions import make_dataframe_from_rawcsv\n",
    "\n",
    "dataFrame = make_dataframe_from_rawcsv()"
   ]
  },
  {
   "cell_type": "code",
   "execution_count": 2,
   "metadata": {},
   "outputs": [
    {
     "name": "stdout",
     "output_type": "stream",
     "text": [
      "root\n",
      " |-- timestamp: string (nullable = true)\n",
      " |-- user_id: string (nullable = true)\n",
      " |-- pixel_color: string (nullable = true)\n",
      " |-- coordinate: string (nullable = true)\n",
      "\n",
      "+--------------------+--------------------+-----------+----------+\n",
      "|           timestamp|             user_id|pixel_color|coordinate|\n",
      "+--------------------+--------------------+-----------+----------+\n",
      "|2022-04-04 04:38:...|vKtmwRQwAYtw5poO4...|    #FF3881|  804,1992|\n",
      "+--------------------+--------------------+-----------+----------+\n",
      "only showing top 1 row\n",
      "\n"
     ]
    }
   ],
   "source": [
    "dataFrame.printSchema()\n",
    "dataFrame.show(1)"
   ]
  },
  {
   "cell_type": "code",
   "execution_count": 3,
   "metadata": {},
   "outputs": [
    {
     "name": "stdout",
     "output_type": "stream",
     "text": [
      "+----------+--------------------+-----------+----------+\n",
      "| timestamp|             user_id|pixel_color|coordinate|\n",
      "+----------+--------------------+-----------+----------+\n",
      "|1649047095|vKtmwRQwAYtw5poO4...|    #FF3881|  804,1992|\n",
      "+----------+--------------------+-----------+----------+\n",
      "only showing top 1 row\n",
      "\n"
     ]
    }
   ],
   "source": [
    "import pyspark.sql.functions as F\n",
    "from src.features.feature_functions import stamp2time\n",
    "\n",
    "#\n",
    "#mappedFrame = dataFrame.rdd.map(\n",
    "#    lambda x:\n",
    "#    (x['user_id'],int(x['coordinate'].split(\",\")[0]),int(x['coordinate'].split(\",\")[1]),int(stamp2time(x['timestamp'])),x['pixel_color'])\n",
    "#).toDF(['user_id','x','y','t','pixel_color'])\n",
    "\n",
    "#mappedFrame.printSchema()\n",
    "#mappedFrame.show(2)\n",
    "\n",
    "shortenedFrame = dataFrame.withColumn(\"timestamp\",dataFrame.timestamp.substr(0,19))\n",
    "stampedFrame = shortenedFrame.withColumn(\"timestamp\",F.unix_timestamp(\"timestamp\"))\n",
    "stampedFrame.show(1)\n"
   ]
  },
  {
   "cell_type": "code",
   "execution_count": 4,
   "metadata": {},
   "outputs": [
    {
     "name": "stderr",
     "output_type": "stream",
     "text": [
      "                                                                                \r"
     ]
    }
   ],
   "source": [
    "mints = stampedFrame.select('timestamp').rdd.min()[0]"
   ]
  },
  {
   "cell_type": "code",
   "execution_count": 6,
   "metadata": {},
   "outputs": [
    {
     "data": {
      "text/plain": [
       "1649047095"
      ]
     },
     "execution_count": 6,
     "metadata": {},
     "output_type": "execute_result"
    }
   ],
   "source": [
    "mints"
   ]
  },
  {
   "cell_type": "code",
   "execution_count": 5,
   "metadata": {},
   "outputs": [
    {
     "name": "stdout",
     "output_type": "stream",
     "text": [
      "+---------+--------------------+-----------+----------+\n",
      "|timestamp|             user_id|pixel_color|coordinate|\n",
      "+---------+--------------------+-----------+----------+\n",
      "|        0|vKtmwRQwAYtw5poO4...|    #FF3881|  804,1992|\n",
      "|        0|eoZO4uYgBzVoDR0Rb...|    #FFFFFF|  1667,616|\n",
      "|        0|Mdd6j8t/24pCeslV3...|    #D4D7D9|   392,467|\n",
      "|        0|xHWcOdv98PR7yQNKD...|    #000000|   21,1691|\n",
      "|        0|hI0Z36Jzkw+coR+im...|    #515252|  971,1026|\n",
      "|        0|0HZIIDPh4Cc14RA0a...|    #2450A4|  1663,694|\n",
      "|        0|+ZKQz5UNhS1XIM8+v...|    #FFFFFF|  144,1574|\n",
      "|        0|zHTjoBBetnY09LtuW...|    #FFD635|    268,97|\n",
      "|        0|FYp7Xfdov9uD16kL8...|    #000000|  1406,671|\n",
      "|        0|8bnQE1zaAm+73c8Qy...|    #898D90|  1427,615|\n",
      "|        0|YztTX+FnX3/VNQtGR...|    #898D90|  1431,656|\n",
      "|        0|DwjRHXciEU1FdjbRh...|    #FFFFFF|   502,541|\n",
      "|        0|nU9FB2/Svv22wH1qR...|    #2450A4|   48,1574|\n",
      "|        0|GSsX/sFt//9t65ARX...|    #898D90|  1442,627|\n",
      "|        0|G1PxLxJlgkcf9w51U...|    #E4ABFF| 1176,1051|\n",
      "|        0|xcbLFJtfZ8fWv1QjD...|    #94B3FF| 1960,1825|\n",
      "|        0|5ir0HKfnTN9lBjrqP...|    #FFFFFF|  1348,625|\n",
      "|        0|0aFcdqlHqTsUBmoMY...|    #00A368|  1397,632|\n",
      "|        0|bSQ+2QXMvUuGj81pY...|    #6D482F|  341,1950|\n",
      "|        0|s3FRlyVc7W+NCQvdW...|    #000000|  1378,649|\n",
      "+---------+--------------------+-----------+----------+\n",
      "only showing top 20 rows\n",
      "\n"
     ]
    }
   ],
   "source": [
    "normalizedFrame = stampedFrame.withColumn('timestamp',(stampedFrame['timestamp'] - mints))\n",
    "normalizedFrame.show()"
   ]
  },
  {
   "cell_type": "code",
   "execution_count": 6,
   "metadata": {},
   "outputs": [
    {
     "name": "stdout",
     "output_type": "stream",
     "text": [
      "+--------------------+---+----+---+-----------+\n",
      "|             user_id|  x|   y|  t|pixel_color|\n",
      "+--------------------+---+----+---+-----------+\n",
      "|vKtmwRQwAYtw5poO4...|804|1992|  0|    #FF3881|\n",
      "+--------------------+---+----+---+-----------+\n",
      "only showing top 1 row\n",
      "\n"
     ]
    }
   ],
   "source": [
    "splittedFrame = normalizedFrame.select('user_id',F.split('coordinate',',').getItem(0).cast('int').alias('x'),F.split('coordinate',',').getItem(1).cast('int').alias('y'),F.col('timestamp').alias('t'),'pixel_color')\n",
    "splittedFrame.show(1)"
   ]
  },
  {
   "cell_type": "code",
   "execution_count": 7,
   "metadata": {},
   "outputs": [
    {
     "name": "stdout",
     "output_type": "stream",
     "text": [
      "root\n",
      " |-- user_id: string (nullable = true)\n",
      " |-- count: long (nullable = false)\n",
      " |-- collect_list(x): array (nullable = false)\n",
      " |    |-- element: integer (containsNull = false)\n",
      " |-- collect_list(y): array (nullable = false)\n",
      " |    |-- element: integer (containsNull = false)\n",
      " |-- collect_list(t): array (nullable = false)\n",
      " |    |-- element: long (containsNull = false)\n",
      " |-- collect_list(pixel_color): array (nullable = false)\n",
      " |    |-- element: string (containsNull = false)\n",
      "\n"
     ]
    },
    {
     "name": "stderr",
     "output_type": "stream",
     "text": [
      "[Stage 8:==========================>                                (4 + 5) / 9]\r"
     ]
    },
    {
     "name": "stdout",
     "output_type": "stream",
     "text": [
      "+--------------------+-----+--------------------+--------------------+--------------------+-------------------------+\n",
      "|             user_id|count|     collect_list(x)|     collect_list(y)|     collect_list(t)|collect_list(pixel_color)|\n",
      "+--------------------+-----+--------------------+--------------------+--------------------+-------------------------+\n",
      "|AxBTmhBMbr1sbDw/2...|   20|[1447, 1617, 655,...|[5, 16, 1896, 191...|[184, 1417, 1726,...|     [#FFA800, #FF4500...|\n",
      "|VmiTfdqG3P1MlZokx...|   15|[907, 1631, 935, ...|[1860, 220, 1847,...|[347, 44, 44, 216...|     [#51E9F4, #FFD635...|\n",
      "|X8gpDfO6+Z87SKKTy...|   15|[902, 939, 914, 9...|[1844, 1858, 1836...|[1422, 1727, 212,...|     [#FFA800, #00756F...|\n",
      "|FjHp8Fg+uuheibUWk...|   15|[998, 998, 998, 9...|[1466, 1466, 1466...|[420, 60, 420, 18...|     [#000000, #000000...|\n",
      "|DIECtVqoJqBlL6A0C...|   15|[920, 958, 936, 1...|[1852, 1831, 1861...|[1804, 2106, 293,...|     [#000000, #BE0039...|\n",
      "+--------------------+-----+--------------------+--------------------+--------------------+-------------------------+\n",
      "only showing top 5 rows\n",
      "\n"
     ]
    },
    {
     "name": "stderr",
     "output_type": "stream",
     "text": [
      "                                                                                \r"
     ]
    }
   ],
   "source": [
    "\n",
    "groupedFrame = splittedFrame.groupBy('user_id').agg(F.count('x').alias('count'),F.collect_list('x'),F.collect_list('y'),F.collect_list('t'),F.collect_list('pixel_color')).orderBy(F.count('x').desc())\n",
    "groupedFrame.printSchema()\n",
    "groupedFrame.show(5)"
   ]
  },
  {
   "cell_type": "code",
   "execution_count": 10,
   "metadata": {},
   "outputs": [
    {
     "name": "stderr",
     "output_type": "stream",
     "text": [
      "                                                                                \r"
     ]
    },
    {
     "data": {
      "text/plain": [
       "733458"
      ]
     },
     "execution_count": 10,
     "metadata": {},
     "output_type": "execute_result"
    }
   ],
   "source": [
    "groupedFrame.count()"
   ]
  },
  {
   "cell_type": "code",
   "execution_count": 11,
   "metadata": {},
   "outputs": [
    {
     "name": "stderr",
     "output_type": "stream",
     "text": [
      "                                                                                \r"
     ]
    }
   ],
   "source": [
    "dataCollection = groupedFrame.take(5)"
   ]
  },
  {
   "cell_type": "code",
   "execution_count": 9,
   "metadata": {},
   "outputs": [
    {
     "name": "stdout",
     "output_type": "stream",
     "text": [
      "[Row(user_id='AxBTmhBMbr1sbDw/2liFySQ4h6lH1bZSyjS9RtcBxvMyafVj+e2grv9teqbU9JkFDCPlgIfWH+L2CzKeSBdB4w==', count=20, collect_list(x)=[1447, 1617, 655, 612, 1575, 1287, 1636, 1926, 658, 1310, 1403, 1299, 777, 586, 1741, 584, 1611, 1765, 788, 656], collect_list(y)=[5, 16, 1896, 1917, 7, 8, 21, 19, 14, 10, 2, 20, 8, 1931, 10, 26, 33, 8, 11, 1884], collect_list(t)=[184, 1417, 1726, 1726, 1726, 801, 492, 801, 2035, 1109, 2344, 2653, 2344, 2653, 2344, 3577, 3269, 3577, 2961, 2961], collect_list(pixel_color)=['#FFA800', '#FF4500', '#B44AC0', '#E4ABFF', '#FFA800', '#3690EA', '#FFFFFF', '#BE0039', '#FF4500', '#2450A4', '#FFA800', '#FFFFFF', '#FFA800', '#9C6926', '#FFA800', '#000000', '#2450A4', '#FFA800', '#000000', '#E4ABFF'])]\n"
     ]
    }
   ],
   "source": [
    "print(dataCollection)"
   ]
  },
  {
   "cell_type": "code",
   "execution_count": 12,
   "metadata": {},
   "outputs": [
    {
     "name": "stdout",
     "output_type": "stream",
     "text": [
      "[[[1447, 1617, 655, 612, 1575, 1287, 1636, 1926, 658, 1310, 1403, 1299, 777, 586, 1741, 584, 1611, 1765, 788, 656], [5, 16, 1896, 1917, 7, 8, 21, 19, 14, 10, 2, 20, 8, 1931, 10, 26, 33, 8, 11, 1884], [184, 1417, 1726, 1726, 1726, 801, 492, 801, 2035, 1109, 2344, 2653, 2344, 2653, 2344, 3577, 3269, 3577, 2961, 2961]], [[902, 939, 914, 927, 935, 914, 1642, 919, 923, 1685, 904, 932, 925, 921, 925], [1844, 1858, 1836, 1852, 1863, 1841, 214, 1858, 1858, 228, 1865, 1850, 1843, 1868, 1861], [1422, 1727, 212, 2030, 817, 514, 2637, 2331, 1121, 2974, 2974, 2974, 2974, 3276, 3577]], [[998, 998, 998, 998, 998, 998, 998, 998, 998, 998, 998, 998, 998, 998, 998], [1466, 1466, 1466, 1466, 1466, 1466, 1466, 1466, 1466, 1466, 1466, 1466, 1466, 1466, 1466], [420, 60, 420, 1860, 1860, 780, 2580, 2220, 2220, 1140, 2940, 1500, 1500, 3300, 3300]], [[907, 1631, 935, 913, 982, 1620, 1636, 947, 957, 929, 936, 906, 931, 933, 1654], [1860, 220, 1847, 1871, 1851, 256, 213, 1868, 1833, 1851, 1833, 1865, 1846, 1853, 249], [347, 44, 44, 2164, 1862, 650, 650, 2466, 1257, 952, 1257, 2767, 3071, 1559, 3373]], [[920, 958, 936, 1650, 935, 917, 903, 919, 932, 909, 920, 916, 933, 930, 924], [1852, 1831, 1861, 227, 1863, 1836, 1850, 1872, 1757, 1856, 1832, 1851, 1838, 1847, 1860], [1804, 2106, 293, 2408, 595, 595, 2710, 3012, 1200, 897, 1200, 897, 1200, 3314, 1502]]]\n"
     ]
    },
    {
     "data": {
      "image/png": "[encoded data removed]",
      "text/plain": [
       "<Figure size 432x288 with 1 Axes>"
      ]
     },
     "metadata": {
      "needs_background": "light"
     },
     "output_type": "display_data"
    }
   ],
   "source": [
    "from src.visualization.visuialization_functions import plot_userlist_pixel\n",
    "\n",
    "userpixel = []\n",
    "for row in dataCollection:\n",
    "    user_id , count ,xs , ys , ts , pixel_color = list(row)\n",
    "    userpixel.append([xs,ys,ts])\n",
    "print(userpixel)\n",
    "plot_userlist_pixel(userpixel)\n"
   ]
  },
  {
   "cell_type": "code",
   "execution_count": 14,
   "metadata": {},
   "outputs": [
    {
     "name": "stdout",
     "output_type": "stream",
     "text": [
      "[[1447, 1617, 655, 612, 1575, 1287, 1636, 1926, 658, 1310, 1403, 1299, 777, 586, 1741, 584, 1611, 1765, 788, 656], [5, 16, 1896, 1917, 7, 8, 21, 19, 14, 10, 2, 20, 8, 1931, 10, 26, 33, 8, 11, 1884], [184, 1417, 1726, 1726, 1726, 801, 492, 801, 2035, 1109, 2344, 2653, 2344, 2653, 2344, 3577, 3269, 3577, 2961, 2961]]\n"
     ]
    },
    {
     "ename": "NameError",
     "evalue": "name 'plot_pixellist' is not defined",
     "output_type": "error",
     "traceback": [
      "\u001b[0;31m---------------------------------------------------------------------------\u001b[0m",
      "\u001b[0;31mNameError\u001b[0m                                 Traceback (most recent call last)",
      "\u001b[1;32m/workspaces/placegroups/notebooks/0.1-heuer-model-nutzer-raumzeiten.ipynb Cell 14'\u001b[0m in \u001b[0;36m<cell line: 2>\u001b[0;34m()\u001b[0m\n\u001b[1;32m      <a href='vscode-notebook-cell://dev-container%2B633a5c756e695c42696720446174615c776f726b73706163655c706c61636567726f757073/workspaces/placegroups/notebooks/0.1-heuer-model-nutzer-raumzeiten.ipynb#ch0000013vscode-remote?line=0'>1</a>\u001b[0m \u001b[39mprint\u001b[39m(userpixel[\u001b[39m0\u001b[39m])\n\u001b[0;32m----> <a href='vscode-notebook-cell://dev-container%2B633a5c756e695c42696720446174615c776f726b73706163655c706c61636567726f757073/workspaces/placegroups/notebooks/0.1-heuer-model-nutzer-raumzeiten.ipynb#ch0000013vscode-remote?line=1'>2</a>\u001b[0m plot_pixellist(userpixel[\u001b[39m0\u001b[39m])\n",
      "\u001b[0;31mNameError\u001b[0m: name 'plot_pixellist' is not defined"
     ]
    }
   ],
   "source": [
    "from src.visualization.visuialization_functions import plot_pixellist\n",
    "\n",
    "print(userpixel[0])\n",
    "plot_pixellist(userpixel[0])"
   ]
  }
 ],
 "metadata": {
  "interpreter": {
   "hash": "949777d72b0d2535278d3dc13498b2535136f6dfe0678499012e853ee9abcab1"
  },
  "kernelspec": {
   "display_name": "Python 3.9.12 64-bit",
   "language": "python",
   "name": "python3"
  },
  "language_info": {
   "codemirror_mode": {
    "name": "ipython",
    "version": 3
   },
   "file_extension": ".py",
   "mimetype": "text/x-python",
   "name": "python",
   "nbconvert_exporter": "python",
   "pygments_lexer": "ipython3",
   "version": "3.9.12"
  },
  "orig_nbformat": 4
 },
 "nbformat": 4,
 "nbformat_minor": 2
}
