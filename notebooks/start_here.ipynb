{
 "cells": [
  {
   "cell_type": "markdown",
   "metadata": {},
   "source": [
    "# Hallo Programmierer!\n",
    "\n",
    "Das hier ist ein Jupyter Notebook!\n",
    "So wird in Python Code geschrieben und getestet bevor er in einer Source Code Datei landet.\n",
    "Innerhalb von Notebooks wird Python Code in einzelnen Blöcken geschrieben und ausgeführt.\n",
    "Gleichzeitig kann man den Code Dokumentieren durch Markdown!\n",
    "\n",
    "Drück auf den Pfeil links vom nächsten Block und du führst ein Hello World Program aus!"
   ]
  },
  {
   "cell_type": "code",
   "execution_count": null,
   "metadata": {},
   "outputs": [],
   "source": [
    "print(\"Hello World!\")"
   ]
  }
 ],
 "metadata": {
  "language_info": {
   "name": "python"
  },
  "orig_nbformat": 4
 },
 "nbformat": 4,
 "nbformat_minor": 2
}
