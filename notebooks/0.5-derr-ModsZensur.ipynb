{
 "cells": [
  {
   "cell_type": "code",
   "execution_count": 1,
   "metadata": {},
   "outputs": [
    {
     "name": "stdout",
     "output_type": "stream",
     "text": [
      "providing ../data/raw/2022_place_canvas_history-000000000003.csv ...\n",
      "not found. need to download ../data/raw/2022_place_canvas_history-000000000003.csv.gzip ...\n",
      "downloading from https://placedata.reddit.com/data/canvas-history/2022_place_canvas_history-000000000003.csv.gzip to ../data/raw/2022_place_canvas_history-000000000003.csv.gzip\n",
      "unpacking ../data/raw/2022_place_canvas_history-000000000003.csv.gzip into ../data/raw/2022_place_canvas_history-000000000003.csv\n",
      "deleting ../data/raw/2022_place_canvas_history-000000000003.csv.gzip\n",
      ":: loading settings :: url = jar:file:/usr/local/lib/python3.9/site-packages/pyspark/jars/ivy-2.5.0.jar!/org/apache/ivy/core/settings/ivysettings.xml\n"
     ]
    },
    {
     "name": "stderr",
     "output_type": "stream",
     "text": [
      "Ivy Default Cache set to: /home/vscode/.ivy2/cache\n",
      "The jars for the packages stored in: /home/vscode/.ivy2/jars\n",
      "graphframes#graphframes added as a dependency\n",
      ":: resolving dependencies :: org.apache.spark#spark-submit-parent-75ea1a90-3214-4af4-8958-4374fe8eab71;1.0\n",
      "\tconfs: [default]\n",
      "\tfound graphframes#graphframes;0.8.2-spark3.2-s_2.12 in spark-packages\n",
      "\tfound org.slf4j#slf4j-api;1.7.16 in central\n",
      ":: resolution report :: resolve 74ms :: artifacts dl 3ms\n",
      "\t:: modules in use:\n",
      "\tgraphframes#graphframes;0.8.2-spark3.2-s_2.12 from spark-packages in [default]\n",
      "\torg.slf4j#slf4j-api;1.7.16 from central in [default]\n",
      "\t---------------------------------------------------------------------\n",
      "\t|                  |            modules            ||   artifacts   |\n",
      "\t|       conf       | number| search|dwnlded|evicted|| number|dwnlded|\n",
      "\t---------------------------------------------------------------------\n",
      "\t|      default     |   2   |   0   |   0   |   0   ||   2   |   0   |\n",
      "\t---------------------------------------------------------------------\n",
      ":: retrieving :: org.apache.spark#spark-submit-parent-75ea1a90-3214-4af4-8958-4374fe8eab71\n",
      "\tconfs: [default]\n",
      "\t0 artifacts copied, 2 already retrieved (0kB/3ms)\n",
      "22/07/08 10:29:11 WARN NativeCodeLoader: Unable to load native-hadoop library for your platform... using builtin-java classes where applicable\n",
      "Using Spark's default log4j profile: org/apache/spark/log4j-defaults.properties\n",
      "Setting default log level to \"WARN\".\n",
      "To adjust logging level use sc.setLogLevel(newLevel). For SparkR, use setLogLevel(newLevel).\n",
      "22/07/08 10:29:11 WARN Utils: Service 'SparkUI' could not bind on port 4040. Attempting port 4041.\n",
      "[Stage 2:>                                                          (0 + 3) / 3]\r"
     ]
    },
    {
     "name": "stdout",
     "output_type": "stream",
     "text": [
      "+--------------------+---+----+---+----+------+-----------+\n",
      "|             user_id| x1|  y1| x2|  y2|     t|pixel_color|\n",
      "+--------------------+---+----+---+----+------+-----------+\n",
      "|m8NEcPbf5XRV5ppeu...|298|1805|329|1839|216904|    #FFB470|\n",
      "|LKS2u3QL2N3Olv7rn...|257|1736|296|1780|217130|    #FFB470|\n",
      "|q/Dk6lmcXm8bcDbNI...|298|1770|334|1803|216809|    #FFB470|\n",
      "|HkR0yRQUJ1wsjh4Zo...|251|1805|296|1812|217236|    #FFF8B8|\n",
      "|7JiQyrONpFJphvBEP...|271|1835|296|1859|217371|    #FFF8B8|\n",
      "+--------------------+---+----+---+----+------+-----------+\n",
      "\n"
     ]
    },
    {
     "name": "stderr",
     "output_type": "stream",
     "text": [
      "                                                                                \r"
     ]
    }
   ],
   "source": [
    "from src.data.dataset_functions import get_dataframe_onlymods_full\n",
    "\n",
    "modframe = get_dataframe_onlymods_full(True)\n",
    "\n",
    "modframe.show(5)"
   ]
  },
  {
   "cell_type": "code",
   "execution_count": 2,
   "metadata": {},
   "outputs": [
    {
     "name": "stdout",
     "output_type": "stream",
     "text": [
      "providing ../data/raw/2022_place_canvas_history-000000000003.csv ...\n",
      "../data/raw/2022_place_canvas_history-000000000003.csv is already in data/raw\n"
     ]
    }
   ],
   "source": [
    "from src.data.dataset_functions import get_dataframe\n",
    "\n",
    "dataFrame = get_dataframe(True)"
   ]
  },
  {
   "cell_type": "code",
   "execution_count": 3,
   "metadata": {},
   "outputs": [
    {
     "name": "stderr",
     "output_type": "stream",
     "text": [
      "                                                                                \r"
     ]
    }
   ],
   "source": [
    "from src.features.feature_functions import get_latestpixels_from_box\n",
    "import pyspark.sql.functions as F\n",
    "from pyspark.sql import SparkSession\n",
    "import functools\n",
    "from pyspark.sql.types import *\n",
    "\n",
    "spark = SparkSession.builder.appName('Empty_Dataframe').getOrCreate()\n",
    "\n",
    "#Mergen zweier DataFrames\n",
    "def unionAll(dfs):\n",
    "    return functools.reduce(lambda df1, df2: df1.union(df2.select(df1.columns)), dfs)\n",
    "\n",
    "#Ja, datacollect ist ineffizient ABER es gibt nicht so viele Zensuren, daher sollte das halb so wild sein!\n",
    "mods = modframe.drop('pixel_color').drop('user_id').collect()\n",
    "\n",
    "emp_RDD = spark.sparkContext.emptyRDD()\n",
    "\n",
    "# Create an expected schema\n",
    "columns = StructType([StructField('x',\n",
    "                                IntegerType(), True),\n",
    "                    StructField('y',\n",
    "                                IntegerType(), True),\n",
    "                    StructField('user_id',\n",
    "                                StringType(), True),\n",
    "                    StructField('t',\n",
    "                                LongType(), True),\n",
    "                    StructField('pixel_color',\n",
    "                                StringType(), True)])\n",
    "\n",
    "\n",
    "censoredData = spark.createDataFrame(data = emp_RDD,\n",
    "                                    schema = columns)\n",
    "\n",
    "#DataFrame für alle gemachten Zensuren mit den betroffenen Pixel generieren\n",
    "for row in mods:\n",
    "    min_x,min_y,max_x,max_y,tz = list(row)\n",
    "    censoredData = unionAll([censoredData,get_latestpixels_from_box(dataFrame,min_x,min_y,max_x,max_y,tz)])"
   ]
  },
  {
   "cell_type": "code",
   "execution_count": 4,
   "metadata": {},
   "outputs": [
    {
     "name": "stderr",
     "output_type": "stream",
     "text": [
      "                                                                                \r"
     ]
    },
    {
     "name": "stdout",
     "output_type": "stream",
     "text": [
      "+---+----+--------------------+------+-----------+\n",
      "|  x|   y|             user_id|     t|pixel_color|\n",
      "+---+----+--------------------+------+-----------+\n",
      "|298|1805|8Ncd5vj/7mJHwq1z6...|216819|    #FFB470|\n",
      "|298|1809|Wf5SrgaWTWXW4Yn5Q...|216828|    #FF99AA|\n",
      "|298|1811|ZYSDFfRaU6mr2/GHW...|216682|    #FFB470|\n",
      "|298|1812|dd7OsqTULsU0SFGsv...|216853|    #FFB470|\n",
      "|298|1834|93RvWf9B2YUC7tubU...|216691|    #000000|\n",
      "+---+----+--------------------+------+-----------+\n",
      "only showing top 5 rows\n",
      "\n"
     ]
    },
    {
     "name": "stderr",
     "output_type": "stream",
     "text": [
      "                                                                                \r"
     ]
    },
    {
     "data": {
      "text/plain": [
       "867"
      ]
     },
     "execution_count": 4,
     "metadata": {},
     "output_type": "execute_result"
    }
   ],
   "source": [
    "censoredData.show(5)\n",
    "total_censors = censoredData.count() #Anzahl der betroffenen Pixel speichern (später für Statistik wichtig!)"
   ]
  },
  {
   "cell_type": "markdown",
   "metadata": {},
   "source": [
    "<div style=\"color:#4e31ce\">\n",
    "\n",
    "So bis hier wurde die Funktion nun für den GESAMTEN Datensatz verallgemeinert....\n",
    "\n",
    "Jetzt muss DataFrame mit user_ids für Bots generiert werden und dann anhand eines Joins geschaut werden, welche Pixel zu Bots gehören.\n",
    "\n",
    "Dann kann count() für das DataFrame mit den Bots angewendet werden und count() für die Ausgangstabelle mit den von der Zensur betroffenen\n",
    "Pixeln, sodass das eine durch das andere geteilt werden kann um entsprechend das Verhältnis rauszubekommen!\n",
    "</div>"
   ]
  },
  {
   "cell_type": "markdown",
   "metadata": {},
   "source": [
    "<div style=\"color:#4e31ce\">\n",
    "Dann beginnen wir mal das DataFrame mit den user_ids für die Bots zu generieren.\n",
    "</div>"
   ]
  },
  {
   "cell_type": "markdown",
   "metadata": {},
   "source": [
    "<div>\n",
    "botDiff = timeDiffReduced.alias('tdr1').join(timeDiffReduced.alias('tdr2'),F.col('tdr1.user_id') == F.col('tdr2.user_id'),'inner').join(timeDiffReduced.alias('tdr3'),F.col('tdr1.user_id') == F.col('tdr3.user_id'), 'inner')\n",
    "\n",
    "\n",
    "botDiff = botDiff.where('tdr1.diff == tdr2.diff').where('tdr1.t2 == tdr2.t1').where('tdr3.diff == tdr1.diff').where('tdr2.t2 == tdr3.t1')\n",
    "</div>"
   ]
  },
  {
   "cell_type": "code",
   "execution_count": 5,
   "metadata": {},
   "outputs": [],
   "source": [
    "#DataFrame ist schon vorhanden, siehe oben!\n",
    "timeDiffFrame = dataFrame.alias('df1').join(dataFrame.alias('df2'),F.col('df1.user_id') == F.col('df2.user_id'),'inner')\n",
    "timeDiffFrame = timeDiffFrame.where('df2.t > df1.t')\n",
    "timeDiffFrame = timeDiffFrame.orderBy(['df1.user_id', 'df1.t'])\n",
    "timeDiffFrame = timeDiffFrame.select(F.col('df1.user_id'),F.col('df1.t').alias('t1'),F.col('df2.t').alias('t2'),(F.col('df2.t') - F.col('df1.t')).alias('diff'))\n",
    "#timeDiffFrame.printSchema()"
   ]
  },
  {
   "cell_type": "code",
   "execution_count": 6,
   "metadata": {},
   "outputs": [],
   "source": [
    "timeDiffReduced = timeDiffFrame.dropDuplicates(['user_id', 't1'])\n",
    "timeDiffReduced = timeDiffReduced.orderBy(['user_id', 't1'])"
   ]
  },
  {
   "cell_type": "code",
   "execution_count": 7,
   "metadata": {},
   "outputs": [
    {
     "name": "stdout",
     "output_type": "stream",
     "text": [
      "root\n",
      " |-- user_id: string (nullable = true)\n",
      " |-- diff: long (nullable = true)\n",
      "\n"
     ]
    }
   ],
   "source": [
    "botDiff = timeDiffReduced.alias('tdr1').join(timeDiffReduced.alias('tdr2'),F.col('tdr1.user_id') == F.col('tdr2.user_id'),'inner').join(timeDiffReduced.alias('tdr3'),F.col('tdr1.user_id') == F.col('tdr3.user_id'), 'inner')\n",
    "botDiff = botDiff.where('tdr1.diff == tdr2.diff').where('tdr1.t2 == tdr2.t1').where('tdr3.diff == tdr1.diff').where('tdr2.t2 == tdr3.t1')\n",
    "botDiff = botDiff.select('tdr1.user_id','tdr1.diff')\n",
    "botDiff = botDiff.dropDuplicates(['user_id'])\n",
    "botDiff = botDiff.orderBy(['user_id'])\n",
    "botDiff.printSchema()"
   ]
  },
  {
   "cell_type": "code",
   "execution_count": 9,
   "metadata": {},
   "outputs": [
    {
     "name": "stdout",
     "output_type": "stream",
     "text": [
      "root\n",
      " |-- user_id: string (nullable = true)\n",
      "\n"
     ]
    }
   ],
   "source": [
    "botDiff = botDiff.drop(\"diff\")\n",
    "botDiff.printSchema()"
   ]
  },
  {
   "cell_type": "markdown",
   "metadata": {},
   "source": [
    "<div style=\"color:#4e31ce\">\n",
    "Das DataFrame botDiff ist dann unsere Liste an Bots.\n",
    "</div>"
   ]
  },
  {
   "cell_type": "markdown",
   "metadata": {},
   "source": [
    "<div style=\"color:#4e31ce\">\n",
    "Jetzt müssen die beiden DataFrames censoredData und botDiff gejoined werden übder die user_ids, sodass nur noch Bots erhalten bleiben.\n",
    "</div>"
   ]
  },
  {
   "cell_type": "code",
   "execution_count": 11,
   "metadata": {},
   "outputs": [
    {
     "ename": "AnalysisException",
     "evalue": "cannot resolve 'censoredData.user_id' given input columns: [pixel_color, t, user_id, tdr1.user_id, x, y];\n'Join Inner, ('censoredData.user_id = 'botDiff.user_id)\n:- Union false, false\n:  :- Project [cast(x#152 as bigint) AS x#212L, cast(y#153 as bigint) AS y#213L, user_id#154, t#155L, pixel_color#156]\n:  :  +- LogicalRDD [x#152, y#153, user_id#154, t#155L, pixel_color#156], false\n:  :- Project [x#195L, y#201L, user_id#114, t#133L, pixel_color#115]\n:  :  +- Project [x#195L, y#201L, user_id#114, t#133L, pixel_color#115]\n:  :     +- Project [x#195L, y_coord#163L AS y#201L, user_id#114, t#133L, pixel_color#115]\n:  :        +- Project [x_coord#162L AS x#195L, y_coord#163L, user_id#114, t#133L, pixel_color#115]\n:  :           +- Project [x_coord#162L, y_coord#163L, user_id#114, t#133L, pixel_color#115]\n:  :              +- Sort [x_coord#162L ASC NULLS FIRST, y_coord#163L ASC NULLS FIRST], true\n:  :                 +- Filter (steps#181 = 1)\n:  :                    +- Project [x_coord#162L, y_coord#163L, user_id#114, x#131, y#132, t#133L, pixel_color#115, steps#181]\n:  :                       +- Project [x_coord#162L, y_coord#163L, user_id#114, x#131, y#132, t#133L, pixel_color#115, steps#181, steps#181]\n:  :                          +- Window [row_number() windowspecdefinition(x_coord#162L, y_coord#163L, t#133L DESC NULLS LAST, specifiedwindowframe(RowFrame, unboundedpreceding$(), currentrow$())) AS steps#181], [x_coord#162L, y_coord#163L], [t#133L DESC NULLS LAST]\n:  :                             +- Project [x_coord#162L, y_coord#163L, user_id#114, x#131, y#132, t#133L, pixel_color#115]\n:  :                                +- Filter (t#133L < cast(216904 as bigint))\n:  :                                   +- Filter (y_coord#163L = cast(y#132 as bigint))\n:  :                                      +- Join Inner, (x_coord#162L = cast(x#131 as bigint))\n:  :                                         :- SubqueryAlias gf\n:  :                                         :  +- LogicalRDD [x_coord#162L, y_coord#163L], false\n:  :                                         +- SubqueryAlias df\n:  :                                            +- Project [user_id#114, cast(split(coordinate#116, ,, -1)[0] as int) AS x#131, cast(split(coordinate#116, ,, -1)[1] as int) AS y#132, timestamp#126L AS t#133L, pixel_color#115]\n:  :                                               +- Project [(timestamp#121L - cast(1648810200 as bigint)) AS timestamp#126L, user_id#114, pixel_color#115, coordinate#116]\n:  :                                                  +- Project [unix_timestamp(substring(timestamp#113, 0, 19), yyyy-MM-dd HH:mm:ss, Some(Etc/UTC), false) AS timestamp#121L, user_id#114, pixel_color#115, coordinate#116]\n:  :                                                     +- Filter (size(split(coordinate#116, ,, -1), true) = 2)\n:  :                                                        +- Relation [timestamp#113,user_id#114,pixel_color#115,coordinate#116] csv\n:  :- Project [x#252L AS x#273L, y#258L AS y#274L, user_id#270 AS user_id#275, t#133L AS t#276L, pixel_color#271 AS pixel_color#277]\n:  :  +- Project [x#252L, y#258L, user_id#270, t#133L, pixel_color#271]\n:  :     +- Project [x#252L, y_coord#220L AS y#258L, user_id#270, t#133L, pixel_color#271]\n:  :        +- Project [x_coord#219L AS x#252L, y_coord#220L, user_id#270, t#133L, pixel_color#271]\n:  :           +- Project [x_coord#219L, y_coord#220L, user_id#270, t#133L, pixel_color#271]\n:  :              +- Sort [x_coord#219L ASC NULLS FIRST, y_coord#220L ASC NULLS FIRST], true\n:  :                 +- Filter (steps#238 = 1)\n:  :                    +- Project [x_coord#219L, y_coord#220L, user_id#270, x#131, y#132, t#133L, pixel_color#271, steps#238]\n:  :                       +- Project [x_coord#219L, y_coord#220L, user_id#270, x#131, y#132, t#133L, pixel_color#271, steps#238, steps#238]\n:  :                          +- Window [row_number() windowspecdefinition(x_coord#219L, y_coord#220L, t#133L DESC NULLS LAST, specifiedwindowframe(RowFrame, unboundedpreceding$(), currentrow$())) AS steps#238], [x_coord#219L, y_coord#220L], [t#133L DESC NULLS LAST]\n:  :                             +- Project [x_coord#219L, y_coord#220L, user_id#270, x#131, y#132, t#133L, pixel_color#271]\n:  :                                +- Filter (t#133L < cast(217130 as bigint))\n:  :                                   +- Filter (y_coord#220L = cast(y#132 as bigint))\n:  :                                      +- Join Inner, (x_coord#219L = cast(x#131 as bigint))\n:  :                                         :- SubqueryAlias gf\n:  :                                         :  +- LogicalRDD [x_coord#219L, y_coord#220L], false\n:  :                                         +- SubqueryAlias df\n:  :                                            +- Project [user_id#270, cast(split(coordinate#272, ,, -1)[0] as int) AS x#131, cast(split(coordinate#272, ,, -1)[1] as int) AS y#132, timestamp#126L AS t#133L, pixel_color#271]\n:  :                                               +- Project [(timestamp#121L - cast(1648810200 as bigint)) AS timestamp#126L, user_id#270, pixel_color#271, coordinate#272]\n:  :                                                  +- Project [unix_timestamp(substring(timestamp#269, 0, 19), yyyy-MM-dd HH:mm:ss, Some(Etc/UTC), false) AS timestamp#121L, user_id#270, pixel_color#271, coordinate#272]\n:  :                                                     +- Filter (size(split(coordinate#272, ,, -1), true) = 2)\n:  :                                                        +- Relation [timestamp#269,user_id#270,pixel_color#271,coordinate#272] csv\n:  :- Project [x#316L AS x#337L, y#322L AS y#338L, user_id#334 AS user_id#339, t#133L AS t#340L, pixel_color#335 AS pixel_color#341]\n:  :  +- Project [x#316L, y#322L, user_id#334, t#133L, pixel_color#335]\n:  :     +- Project [x#316L, y_coord#284L AS y#322L, user_id#334, t#133L, pixel_color#335]\n:  :        +- Project [x_coord#283L AS x#316L, y_coord#284L, user_id#334, t#133L, pixel_color#335]\n:  :           +- Project [x_coord#283L, y_coord#284L, user_id#334, t#133L, pixel_color#335]\n:  :              +- Sort [x_coord#283L ASC NULLS FIRST, y_coord#284L ASC NULLS FIRST], true\n:  :                 +- Filter (steps#302 = 1)\n:  :                    +- Project [x_coord#283L, y_coord#284L, user_id#334, x#131, y#132, t#133L, pixel_color#335, steps#302]\n:  :                       +- Project [x_coord#283L, y_coord#284L, user_id#334, x#131, y#132, t#133L, pixel_color#335, steps#302, steps#302]\n:  :                          +- Window [row_number() windowspecdefinition(x_coord#283L, y_coord#284L, t#133L DESC NULLS LAST, specifiedwindowframe(RowFrame, unboundedpreceding$(), currentrow$())) AS steps#302], [x_coord#283L, y_coord#284L], [t#133L DESC NULLS LAST]\n:  :                             +- Project [x_coord#283L, y_coord#284L, user_id#334, x#131, y#132, t#133L, pixel_color#335]\n:  :                                +- Filter (t#133L < cast(216809 as bigint))\n:  :                                   +- Filter (y_coord#284L = cast(y#132 as bigint))\n:  :                                      +- Join Inner, (x_coord#283L = cast(x#131 as bigint))\n:  :                                         :- SubqueryAlias gf\n:  :                                         :  +- LogicalRDD [x_coord#283L, y_coord#284L], false\n:  :                                         +- SubqueryAlias df\n:  :                                            +- Project [user_id#334, cast(split(coordinate#336, ,, -1)[0] as int) AS x#131, cast(split(coordinate#336, ,, -1)[1] as int) AS y#132, timestamp#126L AS t#133L, pixel_color#335]\n:  :                                               +- Project [(timestamp#121L - cast(1648810200 as bigint)) AS timestamp#126L, user_id#334, pixel_color#335, coordinate#336]\n:  :                                                  +- Project [unix_timestamp(substring(timestamp#333, 0, 19), yyyy-MM-dd HH:mm:ss, Some(Etc/UTC), false) AS timestamp#121L, user_id#334, pixel_color#335, coordinate#336]\n:  :                                                     +- Filter (size(split(coordinate#336, ,, -1), true) = 2)\n:  :                                                        +- Relation [timestamp#333,user_id#334,pixel_color#335,coordinate#336] csv\n:  :- Project [x#380L AS x#401L, y#386L AS y#402L, user_id#398 AS user_id#403, t#133L AS t#404L, pixel_color#399 AS pixel_color#405]\n:  :  +- Project [x#380L, y#386L, user_id#398, t#133L, pixel_color#399]\n:  :     +- Project [x#380L, y_coord#348L AS y#386L, user_id#398, t#133L, pixel_color#399]\n:  :        +- Project [x_coord#347L AS x#380L, y_coord#348L, user_id#398, t#133L, pixel_color#399]\n:  :           +- Project [x_coord#347L, y_coord#348L, user_id#398, t#133L, pixel_color#399]\n:  :              +- Sort [x_coord#347L ASC NULLS FIRST, y_coord#348L ASC NULLS FIRST], true\n:  :                 +- Filter (steps#366 = 1)\n:  :                    +- Project [x_coord#347L, y_coord#348L, user_id#398, x#131, y#132, t#133L, pixel_color#399, steps#366]\n:  :                       +- Project [x_coord#347L, y_coord#348L, user_id#398, x#131, y#132, t#133L, pixel_color#399, steps#366, steps#366]\n:  :                          +- Window [row_number() windowspecdefinition(x_coord#347L, y_coord#348L, t#133L DESC NULLS LAST, specifiedwindowframe(RowFrame, unboundedpreceding$(), currentrow$())) AS steps#366], [x_coord#347L, y_coord#348L], [t#133L DESC NULLS LAST]\n:  :                             +- Project [x_coord#347L, y_coord#348L, user_id#398, x#131, y#132, t#133L, pixel_color#399]\n:  :                                +- Filter (t#133L < cast(217236 as bigint))\n:  :                                   +- Filter (y_coord#348L = cast(y#132 as bigint))\n:  :                                      +- Join Inner, (x_coord#347L = cast(x#131 as bigint))\n:  :                                         :- SubqueryAlias gf\n:  :                                         :  +- LogicalRDD [x_coord#347L, y_coord#348L], false\n:  :                                         +- SubqueryAlias df\n:  :                                            +- Project [user_id#398, cast(split(coordinate#400, ,, -1)[0] as int) AS x#131, cast(split(coordinate#400, ,, -1)[1] as int) AS y#132, timestamp#126L AS t#133L, pixel_color#399]\n:  :                                               +- Project [(timestamp#121L - cast(1648810200 as bigint)) AS timestamp#126L, user_id#398, pixel_color#399, coordinate#400]\n:  :                                                  +- Project [unix_timestamp(substring(timestamp#397, 0, 19), yyyy-MM-dd HH:mm:ss, Some(Etc/UTC), false) AS timestamp#121L, user_id#398, pixel_color#399, coordinate#400]\n:  :                                                     +- Filter (size(split(coordinate#400, ,, -1), true) = 2)\n:  :                                                        +- Relation [timestamp#397,user_id#398,pixel_color#399,coordinate#400] csv\n:  +- Project [x#444L AS x#465L, y#450L AS y#466L, user_id#462 AS user_id#467, t#133L AS t#468L, pixel_color#463 AS pixel_color#469]\n:     +- Project [x#444L, y#450L, user_id#462, t#133L, pixel_color#463]\n:        +- Project [x#444L, y_coord#412L AS y#450L, user_id#462, t#133L, pixel_color#463]\n:           +- Project [x_coord#411L AS x#444L, y_coord#412L, user_id#462, t#133L, pixel_color#463]\n:              +- Project [x_coord#411L, y_coord#412L, user_id#462, t#133L, pixel_color#463]\n:                 +- Sort [x_coord#411L ASC NULLS FIRST, y_coord#412L ASC NULLS FIRST], true\n:                    +- Filter (steps#430 = 1)\n:                       +- Project [x_coord#411L, y_coord#412L, user_id#462, x#131, y#132, t#133L, pixel_color#463, steps#430]\n:                          +- Project [x_coord#411L, y_coord#412L, user_id#462, x#131, y#132, t#133L, pixel_color#463, steps#430, steps#430]\n:                             +- Window [row_number() windowspecdefinition(x_coord#411L, y_coord#412L, t#133L DESC NULLS LAST, specifiedwindowframe(RowFrame, unboundedpreceding$(), currentrow$())) AS steps#430], [x_coord#411L, y_coord#412L], [t#133L DESC NULLS LAST]\n:                                +- Project [x_coord#411L, y_coord#412L, user_id#462, x#131, y#132, t#133L, pixel_color#463]\n:                                   +- Filter (t#133L < cast(217371 as bigint))\n:                                      +- Filter (y_coord#412L = cast(y#132 as bigint))\n:                                         +- Join Inner, (x_coord#411L = cast(x#131 as bigint))\n:                                            :- SubqueryAlias gf\n:                                            :  +- LogicalRDD [x_coord#411L, y_coord#412L], false\n:                                            +- SubqueryAlias df\n:                                               +- Project [user_id#462, cast(split(coordinate#464, ,, -1)[0] as int) AS x#131, cast(split(coordinate#464, ,, -1)[1] as int) AS y#132, timestamp#126L AS t#133L, pixel_color#463]\n:                                                  +- Project [(timestamp#121L - cast(1648810200 as bigint)) AS timestamp#126L, user_id#462, pixel_color#463, coordinate#464]\n:                                                     +- Project [unix_timestamp(substring(timestamp#461, 0, 19), yyyy-MM-dd HH:mm:ss, Some(Etc/UTC), false) AS timestamp#121L, user_id#462, pixel_color#463, coordinate#464]\n:                                                        +- Filter (size(split(coordinate#464, ,, -1), true) = 2)\n:                                                           +- Relation [timestamp#461,user_id#462,pixel_color#463,coordinate#464] csv\n+- Project [user_id#666]\n   +- Sort [user_id#666 ASC NULLS FIRST], true\n      +- Deduplicate [user_id#666]\n         +- Project [user_id#666, diff#590L]\n            +- Filter (t2#604L = t1#630L)\n               +- Filter (diff#632L = diff#590L)\n                  +- Filter (t2#589L = t1#603L)\n                     +- Filter (diff#590L = diff#605L)\n                        +- Join Inner, (user_id#666 = user_id#623)\n                           :- Join Inner, (user_id#666 = user_id#596)\n                           :  :- SubqueryAlias tdr1\n                           :  :  +- Sort [user_id#666 ASC NULLS FIRST, t1#588L ASC NULLS FIRST], true\n                           :  :     +- Deduplicate [user_id#666, t1#588L]\n                           :  :        +- Project [user_id#666, t#133L AS t1#588L, t#567L AS t2#589L, (t#567L - t#133L) AS diff#590L]\n                           :  :           +- Sort [user_id#666 ASC NULLS FIRST, t#133L ASC NULLS FIRST], true\n                           :  :              +- Filter (t#567L > t#133L)\n                           :  :                 +- Join Inner, (user_id#666 = user_id#562)\n                           :  :                    :- SubqueryAlias df1\n                           :  :                    :  +- Project [user_id#666, cast(split(coordinate#668, ,, -1)[0] as int) AS x#131, cast(split(coordinate#668, ,, -1)[1] as int) AS y#132, timestamp#126L AS t#133L, pixel_color#667]\n                           :  :                    :     +- Project [(timestamp#121L - cast(1648810200 as bigint)) AS timestamp#126L, user_id#666, pixel_color#667, coordinate#668]\n                           :  :                    :        +- Project [unix_timestamp(substring(timestamp#665, 0, 19), yyyy-MM-dd HH:mm:ss, Some(Etc/UTC), false) AS timestamp#121L, user_id#666, pixel_color#667, coordinate#668]\n                           :  :                    :           +- Filter (size(split(coordinate#668, ,, -1), true) = 2)\n                           :  :                    :              +- Relation [timestamp#665,user_id#666,pixel_color#667,coordinate#668] csv\n                           :  :                    +- SubqueryAlias df2\n                           :  :                       +- Project [user_id#562, cast(split(coordinate#564, ,, -1)[0] as int) AS x#565, cast(split(coordinate#564, ,, -1)[1] as int) AS y#566, timestamp#126L AS t#567L, pixel_color#563]\n                           :  :                          +- Project [(timestamp#121L - cast(1648810200 as bigint)) AS timestamp#126L, user_id#562, pixel_color#563, coordinate#564]\n                           :  :                             +- Project [unix_timestamp(substring(timestamp#561, 0, 19), yyyy-MM-dd HH:mm:ss, Some(Etc/UTC), false) AS timestamp#121L, user_id#562, pixel_color#563, coordinate#564]\n                           :  :                                +- Filter (size(split(coordinate#564, ,, -1), true) = 2)\n                           :  :                                   +- Relation [timestamp#561,user_id#562,pixel_color#563,coordinate#564] csv\n                           :  +- SubqueryAlias tdr2\n                           :     +- Sort [user_id#596 ASC NULLS FIRST, t1#603L ASC NULLS FIRST], true\n                           :        +- Deduplicate [user_id#596, t1#603L]\n                           :           +- Project [user_id#596, t#133L AS t1#603L, t#567L AS t2#604L, (t#567L - t#133L) AS diff#605L]\n                           :              +- Sort [user_id#596 ASC NULLS FIRST, t#133L ASC NULLS FIRST], true\n                           :                 +- Filter (t#567L > t#133L)\n                           :                    +- Join Inner, (user_id#596 = user_id#600)\n                           :                       :- SubqueryAlias df1\n                           :                       :  +- Project [user_id#596, cast(split(coordinate#598, ,, -1)[0] as int) AS x#131, cast(split(coordinate#598, ,, -1)[1] as int) AS y#132, timestamp#126L AS t#133L, pixel_color#597]\n                           :                       :     +- Project [(timestamp#121L - cast(1648810200 as bigint)) AS timestamp#126L, user_id#596, pixel_color#597, coordinate#598]\n                           :                       :        +- Project [unix_timestamp(substring(timestamp#595, 0, 19), yyyy-MM-dd HH:mm:ss, Some(Etc/UTC), false) AS timestamp#121L, user_id#596, pixel_color#597, coordinate#598]\n                           :                       :           +- Filter (size(split(coordinate#598, ,, -1), true) = 2)\n                           :                       :              +- Relation [timestamp#595,user_id#596,pixel_color#597,coordinate#598] csv\n                           :                       +- SubqueryAlias df2\n                           :                          +- Project [user_id#600, cast(split(coordinate#602, ,, -1)[0] as int) AS x#565, cast(split(coordinate#602, ,, -1)[1] as int) AS y#566, timestamp#126L AS t#567L, pixel_color#601]\n                           :                             +- Project [(timestamp#121L - cast(1648810200 as bigint)) AS timestamp#126L, user_id#600, pixel_color#601, coordinate#602]\n                           :                                +- Project [unix_timestamp(substring(timestamp#599, 0, 19), yyyy-MM-dd HH:mm:ss, Some(Etc/UTC), false) AS timestamp#121L, user_id#600, pixel_color#601, coordinate#602]\n                           :                                   +- Filter (size(split(coordinate#602, ,, -1), true) = 2)\n                           :                                      +- Relation [timestamp#599,user_id#600,pixel_color#601,coordinate#602] csv\n                           +- SubqueryAlias tdr3\n                              +- Sort [user_id#623 ASC NULLS FIRST, t1#630L ASC NULLS FIRST], true\n                                 +- Deduplicate [user_id#623, t1#630L]\n                                    +- Project [user_id#623, t#133L AS t1#630L, t#567L AS t2#631L, (t#567L - t#133L) AS diff#632L]\n                                       +- Sort [user_id#623 ASC NULLS FIRST, t#133L ASC NULLS FIRST], true\n                                          +- Filter (t#567L > t#133L)\n                                             +- Join Inner, (user_id#623 = user_id#627)\n                                                :- SubqueryAlias df1\n                                                :  +- Project [user_id#623, cast(split(coordinate#625, ,, -1)[0] as int) AS x#131, cast(split(coordinate#625, ,, -1)[1] as int) AS y#132, timestamp#126L AS t#133L, pixel_color#624]\n                                                :     +- Project [(timestamp#121L - cast(1648810200 as bigint)) AS timestamp#126L, user_id#623, pixel_color#624, coordinate#625]\n                                                :        +- Project [unix_timestamp(substring(timestamp#622, 0, 19), yyyy-MM-dd HH:mm:ss, Some(Etc/UTC), false) AS timestamp#121L, user_id#623, pixel_color#624, coordinate#625]\n                                                :           +- Filter (size(split(coordinate#625, ,, -1), true) = 2)\n                                                :              +- Relation [timestamp#622,user_id#623,pixel_color#624,coordinate#625] csv\n                                                +- SubqueryAlias df2\n                                                   +- Project [user_id#627, cast(split(coordinate#629, ,, -1)[0] as int) AS x#565, cast(split(coordinate#629, ,, -1)[1] as int) AS y#566, timestamp#126L AS t#567L, pixel_color#628]\n                                                      +- Project [(timestamp#121L - cast(1648810200 as bigint)) AS timestamp#126L, user_id#627, pixel_color#628, coordinate#629]\n                                                         +- Project [unix_timestamp(substring(timestamp#626, 0, 19), yyyy-MM-dd HH:mm:ss, Some(Etc/UTC), false) AS timestamp#121L, user_id#627, pixel_color#628, coordinate#629]\n                                                            +- Filter (size(split(coordinate#629, ,, -1), true) = 2)\n                                                               +- Relation [timestamp#626,user_id#627,pixel_color#628,coordinate#629] csv\n",
     "output_type": "error",
     "traceback": [
      "\u001b[0;31m---------------------------------------------------------------------------\u001b[0m",
      "\u001b[0;31mAnalysisException\u001b[0m                         Traceback (most recent call last)",
      "\u001b[1;32m/workspaces/placegroups/notebooks/0.5-derr-ModsZensur.ipynb Cell 14'\u001b[0m in \u001b[0;36m<cell line: 1>\u001b[0;34m()\u001b[0m\n\u001b[0;32m----> <a href='vscode-notebook-cell://dev-container%2B2f55736572732f6e69636f6c65646572722f446f63756d656e74732f4769744875622f706c61636567726f757073/workspaces/placegroups/notebooks/0.5-derr-ModsZensur.ipynb#ch0000014vscode-remote?line=0'>1</a>\u001b[0m joinedCensors \u001b[39m=\u001b[39m censoredData\u001b[39m.\u001b[39;49mjoin(botDiff,F\u001b[39m.\u001b[39;49mcol(\u001b[39m'\u001b[39;49m\u001b[39mcensoredData.user_id\u001b[39;49m\u001b[39m'\u001b[39;49m) \u001b[39m==\u001b[39;49m F\u001b[39m.\u001b[39;49mcol(\u001b[39m'\u001b[39;49m\u001b[39mbotDiff.user_id\u001b[39;49m\u001b[39m'\u001b[39;49m),\u001b[39m'\u001b[39;49m\u001b[39minner\u001b[39;49m\u001b[39m'\u001b[39;49m)\n\u001b[1;32m      <a href='vscode-notebook-cell://dev-container%2B2f55736572732f6e69636f6c65646572722f446f63756d656e74732f4769744875622f706c61636567726f757073/workspaces/placegroups/notebooks/0.5-derr-ModsZensur.ipynb#ch0000014vscode-remote?line=1'>2</a>\u001b[0m joinedCensors\u001b[39m.\u001b[39mprintSchema()\n",
      "File \u001b[0;32m/usr/local/lib/python3.9/site-packages/pyspark/sql/dataframe.py:1355\u001b[0m, in \u001b[0;36mDataFrame.join\u001b[0;34m(self, other, on, how)\u001b[0m\n\u001b[1;32m   1353\u001b[0m         on \u001b[39m=\u001b[39m \u001b[39mself\u001b[39m\u001b[39m.\u001b[39m_jseq([])\n\u001b[1;32m   1354\u001b[0m     \u001b[39massert\u001b[39;00m \u001b[39misinstance\u001b[39m(how, \u001b[39mstr\u001b[39m), \u001b[39m\"\u001b[39m\u001b[39mhow should be a string\u001b[39m\u001b[39m\"\u001b[39m\n\u001b[0;32m-> 1355\u001b[0m     jdf \u001b[39m=\u001b[39m \u001b[39mself\u001b[39;49m\u001b[39m.\u001b[39;49m_jdf\u001b[39m.\u001b[39;49mjoin(other\u001b[39m.\u001b[39;49m_jdf, on, how)\n\u001b[1;32m   1356\u001b[0m \u001b[39mreturn\u001b[39;00m DataFrame(jdf, \u001b[39mself\u001b[39m\u001b[39m.\u001b[39msql_ctx)\n",
      "File \u001b[0;32m/usr/local/lib/python3.9/site-packages/py4j/java_gateway.py:1321\u001b[0m, in \u001b[0;36mJavaMember.__call__\u001b[0;34m(self, *args)\u001b[0m\n\u001b[1;32m   1315\u001b[0m command \u001b[39m=\u001b[39m proto\u001b[39m.\u001b[39mCALL_COMMAND_NAME \u001b[39m+\u001b[39m\\\n\u001b[1;32m   1316\u001b[0m     \u001b[39mself\u001b[39m\u001b[39m.\u001b[39mcommand_header \u001b[39m+\u001b[39m\\\n\u001b[1;32m   1317\u001b[0m     args_command \u001b[39m+\u001b[39m\\\n\u001b[1;32m   1318\u001b[0m     proto\u001b[39m.\u001b[39mEND_COMMAND_PART\n\u001b[1;32m   1320\u001b[0m answer \u001b[39m=\u001b[39m \u001b[39mself\u001b[39m\u001b[39m.\u001b[39mgateway_client\u001b[39m.\u001b[39msend_command(command)\n\u001b[0;32m-> 1321\u001b[0m return_value \u001b[39m=\u001b[39m get_return_value(\n\u001b[1;32m   1322\u001b[0m     answer, \u001b[39mself\u001b[39;49m\u001b[39m.\u001b[39;49mgateway_client, \u001b[39mself\u001b[39;49m\u001b[39m.\u001b[39;49mtarget_id, \u001b[39mself\u001b[39;49m\u001b[39m.\u001b[39;49mname)\n\u001b[1;32m   1324\u001b[0m \u001b[39mfor\u001b[39;00m temp_arg \u001b[39min\u001b[39;00m temp_args:\n\u001b[1;32m   1325\u001b[0m     temp_arg\u001b[39m.\u001b[39m_detach()\n",
      "File \u001b[0;32m/usr/local/lib/python3.9/site-packages/pyspark/sql/utils.py:117\u001b[0m, in \u001b[0;36mcapture_sql_exception.<locals>.deco\u001b[0;34m(*a, **kw)\u001b[0m\n\u001b[1;32m    113\u001b[0m converted \u001b[39m=\u001b[39m convert_exception(e\u001b[39m.\u001b[39mjava_exception)\n\u001b[1;32m    114\u001b[0m \u001b[39mif\u001b[39;00m \u001b[39mnot\u001b[39;00m \u001b[39misinstance\u001b[39m(converted, UnknownException):\n\u001b[1;32m    115\u001b[0m     \u001b[39m# Hide where the exception came from that shows a non-Pythonic\u001b[39;00m\n\u001b[1;32m    116\u001b[0m     \u001b[39m# JVM exception message.\u001b[39;00m\n\u001b[0;32m--> 117\u001b[0m     \u001b[39mraise\u001b[39;00m converted \u001b[39mfrom\u001b[39;00m \u001b[39mNone\u001b[39m\n\u001b[1;32m    118\u001b[0m \u001b[39melse\u001b[39;00m:\n\u001b[1;32m    119\u001b[0m     \u001b[39mraise\u001b[39;00m\n",
      "\u001b[0;31mAnalysisException\u001b[0m: cannot resolve 'censoredData.user_id' given input columns: [pixel_color, t, user_id, tdr1.user_id, x, y];\n'Join Inner, ('censoredData.user_id = 'botDiff.user_id)\n:- Union false, false\n:  :- Project [cast(x#152 as bigint) AS x#212L, cast(y#153 as bigint) AS y#213L, user_id#154, t#155L, pixel_color#156]\n:  :  +- LogicalRDD [x#152, y#153, user_id#154, t#155L, pixel_color#156], false\n:  :- Project [x#195L, y#201L, user_id#114, t#133L, pixel_color#115]\n:  :  +- Project [x#195L, y#201L, user_id#114, t#133L, pixel_color#115]\n:  :     +- Project [x#195L, y_coord#163L AS y#201L, user_id#114, t#133L, pixel_color#115]\n:  :        +- Project [x_coord#162L AS x#195L, y_coord#163L, user_id#114, t#133L, pixel_color#115]\n:  :           +- Project [x_coord#162L, y_coord#163L, user_id#114, t#133L, pixel_color#115]\n:  :              +- Sort [x_coord#162L ASC NULLS FIRST, y_coord#163L ASC NULLS FIRST], true\n:  :                 +- Filter (steps#181 = 1)\n:  :                    +- Project [x_coord#162L, y_coord#163L, user_id#114, x#131, y#132, t#133L, pixel_color#115, steps#181]\n:  :                       +- Project [x_coord#162L, y_coord#163L, user_id#114, x#131, y#132, t#133L, pixel_color#115, steps#181, steps#181]\n:  :                          +- Window [row_number() windowspecdefinition(x_coord#162L, y_coord#163L, t#133L DESC NULLS LAST, specifiedwindowframe(RowFrame, unboundedpreceding$(), currentrow$())) AS steps#181], [x_coord#162L, y_coord#163L], [t#133L DESC NULLS LAST]\n:  :                             +- Project [x_coord#162L, y_coord#163L, user_id#114, x#131, y#132, t#133L, pixel_color#115]\n:  :                                +- Filter (t#133L < cast(216904 as bigint))\n:  :                                   +- Filter (y_coord#163L = cast(y#132 as bigint))\n:  :                                      +- Join Inner, (x_coord#162L = cast(x#131 as bigint))\n:  :                                         :- SubqueryAlias gf\n:  :                                         :  +- LogicalRDD [x_coord#162L, y_coord#163L], false\n:  :                                         +- SubqueryAlias df\n:  :                                            +- Project [user_id#114, cast(split(coordinate#116, ,, -1)[0] as int) AS x#131, cast(split(coordinate#116, ,, -1)[1] as int) AS y#132, timestamp#126L AS t#133L, pixel_color#115]\n:  :                                               +- Project [(timestamp#121L - cast(1648810200 as bigint)) AS timestamp#126L, user_id#114, pixel_color#115, coordinate#116]\n:  :                                                  +- Project [unix_timestamp(substring(timestamp#113, 0, 19), yyyy-MM-dd HH:mm:ss, Some(Etc/UTC), false) AS timestamp#121L, user_id#114, pixel_color#115, coordinate#116]\n:  :                                                     +- Filter (size(split(coordinate#116, ,, -1), true) = 2)\n:  :                                                        +- Relation [timestamp#113,user_id#114,pixel_color#115,coordinate#116] csv\n:  :- Project [x#252L AS x#273L, y#258L AS y#274L, user_id#270 AS user_id#275, t#133L AS t#276L, pixel_color#271 AS pixel_color#277]\n:  :  +- Project [x#252L, y#258L, user_id#270, t#133L, pixel_color#271]\n:  :     +- Project [x#252L, y_coord#220L AS y#258L, user_id#270, t#133L, pixel_color#271]\n:  :        +- Project [x_coord#219L AS x#252L, y_coord#220L, user_id#270, t#133L, pixel_color#271]\n:  :           +- Project [x_coord#219L, y_coord#220L, user_id#270, t#133L, pixel_color#271]\n:  :              +- Sort [x_coord#219L ASC NULLS FIRST, y_coord#220L ASC NULLS FIRST], true\n:  :                 +- Filter (steps#238 = 1)\n:  :                    +- Project [x_coord#219L, y_coord#220L, user_id#270, x#131, y#132, t#133L, pixel_color#271, steps#238]\n:  :                       +- Project [x_coord#219L, y_coord#220L, user_id#270, x#131, y#132, t#133L, pixel_color#271, steps#238, steps#238]\n:  :                          +- Window [row_number() windowspecdefinition(x_coord#219L, y_coord#220L, t#133L DESC NULLS LAST, specifiedwindowframe(RowFrame, unboundedpreceding$(), currentrow$())) AS steps#238], [x_coord#219L, y_coord#220L], [t#133L DESC NULLS LAST]\n:  :                             +- Project [x_coord#219L, y_coord#220L, user_id#270, x#131, y#132, t#133L, pixel_color#271]\n:  :                                +- Filter (t#133L < cast(217130 as bigint))\n:  :                                   +- Filter (y_coord#220L = cast(y#132 as bigint))\n:  :                                      +- Join Inner, (x_coord#219L = cast(x#131 as bigint))\n:  :                                         :- SubqueryAlias gf\n:  :                                         :  +- LogicalRDD [x_coord#219L, y_coord#220L], false\n:  :                                         +- SubqueryAlias df\n:  :                                            +- Project [user_id#270, cast(split(coordinate#272, ,, -1)[0] as int) AS x#131, cast(split(coordinate#272, ,, -1)[1] as int) AS y#132, timestamp#126L AS t#133L, pixel_color#271]\n:  :                                               +- Project [(timestamp#121L - cast(1648810200 as bigint)) AS timestamp#126L, user_id#270, pixel_color#271, coordinate#272]\n:  :                                                  +- Project [unix_timestamp(substring(timestamp#269, 0, 19), yyyy-MM-dd HH:mm:ss, Some(Etc/UTC), false) AS timestamp#121L, user_id#270, pixel_color#271, coordinate#272]\n:  :                                                     +- Filter (size(split(coordinate#272, ,, -1), true) = 2)\n:  :                                                        +- Relation [timestamp#269,user_id#270,pixel_color#271,coordinate#272] csv\n:  :- Project [x#316L AS x#337L, y#322L AS y#338L, user_id#334 AS user_id#339, t#133L AS t#340L, pixel_color#335 AS pixel_color#341]\n:  :  +- Project [x#316L, y#322L, user_id#334, t#133L, pixel_color#335]\n:  :     +- Project [x#316L, y_coord#284L AS y#322L, user_id#334, t#133L, pixel_color#335]\n:  :        +- Project [x_coord#283L AS x#316L, y_coord#284L, user_id#334, t#133L, pixel_color#335]\n:  :           +- Project [x_coord#283L, y_coord#284L, user_id#334, t#133L, pixel_color#335]\n:  :              +- Sort [x_coord#283L ASC NULLS FIRST, y_coord#284L ASC NULLS FIRST], true\n:  :                 +- Filter (steps#302 = 1)\n:  :                    +- Project [x_coord#283L, y_coord#284L, user_id#334, x#131, y#132, t#133L, pixel_color#335, steps#302]\n:  :                       +- Project [x_coord#283L, y_coord#284L, user_id#334, x#131, y#132, t#133L, pixel_color#335, steps#302, steps#302]\n:  :                          +- Window [row_number() windowspecdefinition(x_coord#283L, y_coord#284L, t#133L DESC NULLS LAST, specifiedwindowframe(RowFrame, unboundedpreceding$(), currentrow$())) AS steps#302], [x_coord#283L, y_coord#284L], [t#133L DESC NULLS LAST]\n:  :                             +- Project [x_coord#283L, y_coord#284L, user_id#334, x#131, y#132, t#133L, pixel_color#335]\n:  :                                +- Filter (t#133L < cast(216809 as bigint))\n:  :                                   +- Filter (y_coord#284L = cast(y#132 as bigint))\n:  :                                      +- Join Inner, (x_coord#283L = cast(x#131 as bigint))\n:  :                                         :- SubqueryAlias gf\n:  :                                         :  +- LogicalRDD [x_coord#283L, y_coord#284L], false\n:  :                                         +- SubqueryAlias df\n:  :                                            +- Project [user_id#334, cast(split(coordinate#336, ,, -1)[0] as int) AS x#131, cast(split(coordinate#336, ,, -1)[1] as int) AS y#132, timestamp#126L AS t#133L, pixel_color#335]\n:  :                                               +- Project [(timestamp#121L - cast(1648810200 as bigint)) AS timestamp#126L, user_id#334, pixel_color#335, coordinate#336]\n:  :                                                  +- Project [unix_timestamp(substring(timestamp#333, 0, 19), yyyy-MM-dd HH:mm:ss, Some(Etc/UTC), false) AS timestamp#121L, user_id#334, pixel_color#335, coordinate#336]\n:  :                                                     +- Filter (size(split(coordinate#336, ,, -1), true) = 2)\n:  :                                                        +- Relation [timestamp#333,user_id#334,pixel_color#335,coordinate#336] csv\n:  :- Project [x#380L AS x#401L, y#386L AS y#402L, user_id#398 AS user_id#403, t#133L AS t#404L, pixel_color#399 AS pixel_color#405]\n:  :  +- Project [x#380L, y#386L, user_id#398, t#133L, pixel_color#399]\n:  :     +- Project [x#380L, y_coord#348L AS y#386L, user_id#398, t#133L, pixel_color#399]\n:  :        +- Project [x_coord#347L AS x#380L, y_coord#348L, user_id#398, t#133L, pixel_color#399]\n:  :           +- Project [x_coord#347L, y_coord#348L, user_id#398, t#133L, pixel_color#399]\n:  :              +- Sort [x_coord#347L ASC NULLS FIRST, y_coord#348L ASC NULLS FIRST], true\n:  :                 +- Filter (steps#366 = 1)\n:  :                    +- Project [x_coord#347L, y_coord#348L, user_id#398, x#131, y#132, t#133L, pixel_color#399, steps#366]\n:  :                       +- Project [x_coord#347L, y_coord#348L, user_id#398, x#131, y#132, t#133L, pixel_color#399, steps#366, steps#366]\n:  :                          +- Window [row_number() windowspecdefinition(x_coord#347L, y_coord#348L, t#133L DESC NULLS LAST, specifiedwindowframe(RowFrame, unboundedpreceding$(), currentrow$())) AS steps#366], [x_coord#347L, y_coord#348L], [t#133L DESC NULLS LAST]\n:  :                             +- Project [x_coord#347L, y_coord#348L, user_id#398, x#131, y#132, t#133L, pixel_color#399]\n:  :                                +- Filter (t#133L < cast(217236 as bigint))\n:  :                                   +- Filter (y_coord#348L = cast(y#132 as bigint))\n:  :                                      +- Join Inner, (x_coord#347L = cast(x#131 as bigint))\n:  :                                         :- SubqueryAlias gf\n:  :                                         :  +- LogicalRDD [x_coord#347L, y_coord#348L], false\n:  :                                         +- SubqueryAlias df\n:  :                                            +- Project [user_id#398, cast(split(coordinate#400, ,, -1)[0] as int) AS x#131, cast(split(coordinate#400, ,, -1)[1] as int) AS y#132, timestamp#126L AS t#133L, pixel_color#399]\n:  :                                               +- Project [(timestamp#121L - cast(1648810200 as bigint)) AS timestamp#126L, user_id#398, pixel_color#399, coordinate#400]\n:  :                                                  +- Project [unix_timestamp(substring(timestamp#397, 0, 19), yyyy-MM-dd HH:mm:ss, Some(Etc/UTC), false) AS timestamp#121L, user_id#398, pixel_color#399, coordinate#400]\n:  :                                                     +- Filter (size(split(coordinate#400, ,, -1), true) = 2)\n:  :                                                        +- Relation [timestamp#397,user_id#398,pixel_color#399,coordinate#400] csv\n:  +- Project [x#444L AS x#465L, y#450L AS y#466L, user_id#462 AS user_id#467, t#133L AS t#468L, pixel_color#463 AS pixel_color#469]\n:     +- Project [x#444L, y#450L, user_id#462, t#133L, pixel_color#463]\n:        +- Project [x#444L, y_coord#412L AS y#450L, user_id#462, t#133L, pixel_color#463]\n:           +- Project [x_coord#411L AS x#444L, y_coord#412L, user_id#462, t#133L, pixel_color#463]\n:              +- Project [x_coord#411L, y_coord#412L, user_id#462, t#133L, pixel_color#463]\n:                 +- Sort [x_coord#411L ASC NULLS FIRST, y_coord#412L ASC NULLS FIRST], true\n:                    +- Filter (steps#430 = 1)\n:                       +- Project [x_coord#411L, y_coord#412L, user_id#462, x#131, y#132, t#133L, pixel_color#463, steps#430]\n:                          +- Project [x_coord#411L, y_coord#412L, user_id#462, x#131, y#132, t#133L, pixel_color#463, steps#430, steps#430]\n:                             +- Window [row_number() windowspecdefinition(x_coord#411L, y_coord#412L, t#133L DESC NULLS LAST, specifiedwindowframe(RowFrame, unboundedpreceding$(), currentrow$())) AS steps#430], [x_coord#411L, y_coord#412L], [t#133L DESC NULLS LAST]\n:                                +- Project [x_coord#411L, y_coord#412L, user_id#462, x#131, y#132, t#133L, pixel_color#463]\n:                                   +- Filter (t#133L < cast(217371 as bigint))\n:                                      +- Filter (y_coord#412L = cast(y#132 as bigint))\n:                                         +- Join Inner, (x_coord#411L = cast(x#131 as bigint))\n:                                            :- SubqueryAlias gf\n:                                            :  +- LogicalRDD [x_coord#411L, y_coord#412L], false\n:                                            +- SubqueryAlias df\n:                                               +- Project [user_id#462, cast(split(coordinate#464, ,, -1)[0] as int) AS x#131, cast(split(coordinate#464, ,, -1)[1] as int) AS y#132, timestamp#126L AS t#133L, pixel_color#463]\n:                                                  +- Project [(timestamp#121L - cast(1648810200 as bigint)) AS timestamp#126L, user_id#462, pixel_color#463, coordinate#464]\n:                                                     +- Project [unix_timestamp(substring(timestamp#461, 0, 19), yyyy-MM-dd HH:mm:ss, Some(Etc/UTC), false) AS timestamp#121L, user_id#462, pixel_color#463, coordinate#464]\n:                                                        +- Filter (size(split(coordinate#464, ,, -1), true) = 2)\n:                                                           +- Relation [timestamp#461,user_id#462,pixel_color#463,coordinate#464] csv\n+- Project [user_id#666]\n   +- Sort [user_id#666 ASC NULLS FIRST], true\n      +- Deduplicate [user_id#666]\n         +- Project [user_id#666, diff#590L]\n            +- Filter (t2#604L = t1#630L)\n               +- Filter (diff#632L = diff#590L)\n                  +- Filter (t2#589L = t1#603L)\n                     +- Filter (diff#590L = diff#605L)\n                        +- Join Inner, (user_id#666 = user_id#623)\n                           :- Join Inner, (user_id#666 = user_id#596)\n                           :  :- SubqueryAlias tdr1\n                           :  :  +- Sort [user_id#666 ASC NULLS FIRST, t1#588L ASC NULLS FIRST], true\n                           :  :     +- Deduplicate [user_id#666, t1#588L]\n                           :  :        +- Project [user_id#666, t#133L AS t1#588L, t#567L AS t2#589L, (t#567L - t#133L) AS diff#590L]\n                           :  :           +- Sort [user_id#666 ASC NULLS FIRST, t#133L ASC NULLS FIRST], true\n                           :  :              +- Filter (t#567L > t#133L)\n                           :  :                 +- Join Inner, (user_id#666 = user_id#562)\n                           :  :                    :- SubqueryAlias df1\n                           :  :                    :  +- Project [user_id#666, cast(split(coordinate#668, ,, -1)[0] as int) AS x#131, cast(split(coordinate#668, ,, -1)[1] as int) AS y#132, timestamp#126L AS t#133L, pixel_color#667]\n                           :  :                    :     +- Project [(timestamp#121L - cast(1648810200 as bigint)) AS timestamp#126L, user_id#666, pixel_color#667, coordinate#668]\n                           :  :                    :        +- Project [unix_timestamp(substring(timestamp#665, 0, 19), yyyy-MM-dd HH:mm:ss, Some(Etc/UTC), false) AS timestamp#121L, user_id#666, pixel_color#667, coordinate#668]\n                           :  :                    :           +- Filter (size(split(coordinate#668, ,, -1), true) = 2)\n                           :  :                    :              +- Relation [timestamp#665,user_id#666,pixel_color#667,coordinate#668] csv\n                           :  :                    +- SubqueryAlias df2\n                           :  :                       +- Project [user_id#562, cast(split(coordinate#564, ,, -1)[0] as int) AS x#565, cast(split(coordinate#564, ,, -1)[1] as int) AS y#566, timestamp#126L AS t#567L, pixel_color#563]\n                           :  :                          +- Project [(timestamp#121L - cast(1648810200 as bigint)) AS timestamp#126L, user_id#562, pixel_color#563, coordinate#564]\n                           :  :                             +- Project [unix_timestamp(substring(timestamp#561, 0, 19), yyyy-MM-dd HH:mm:ss, Some(Etc/UTC), false) AS timestamp#121L, user_id#562, pixel_color#563, coordinate#564]\n                           :  :                                +- Filter (size(split(coordinate#564, ,, -1), true) = 2)\n                           :  :                                   +- Relation [timestamp#561,user_id#562,pixel_color#563,coordinate#564] csv\n                           :  +- SubqueryAlias tdr2\n                           :     +- Sort [user_id#596 ASC NULLS FIRST, t1#603L ASC NULLS FIRST], true\n                           :        +- Deduplicate [user_id#596, t1#603L]\n                           :           +- Project [user_id#596, t#133L AS t1#603L, t#567L AS t2#604L, (t#567L - t#133L) AS diff#605L]\n                           :              +- Sort [user_id#596 ASC NULLS FIRST, t#133L ASC NULLS FIRST], true\n                           :                 +- Filter (t#567L > t#133L)\n                           :                    +- Join Inner, (user_id#596 = user_id#600)\n                           :                       :- SubqueryAlias df1\n                           :                       :  +- Project [user_id#596, cast(split(coordinate#598, ,, -1)[0] as int) AS x#131, cast(split(coordinate#598, ,, -1)[1] as int) AS y#132, timestamp#126L AS t#133L, pixel_color#597]\n                           :                       :     +- Project [(timestamp#121L - cast(1648810200 as bigint)) AS timestamp#126L, user_id#596, pixel_color#597, coordinate#598]\n                           :                       :        +- Project [unix_timestamp(substring(timestamp#595, 0, 19), yyyy-MM-dd HH:mm:ss, Some(Etc/UTC), false) AS timestamp#121L, user_id#596, pixel_color#597, coordinate#598]\n                           :                       :           +- Filter (size(split(coordinate#598, ,, -1), true) = 2)\n                           :                       :              +- Relation [timestamp#595,user_id#596,pixel_color#597,coordinate#598] csv\n                           :                       +- SubqueryAlias df2\n                           :                          +- Project [user_id#600, cast(split(coordinate#602, ,, -1)[0] as int) AS x#565, cast(split(coordinate#602, ,, -1)[1] as int) AS y#566, timestamp#126L AS t#567L, pixel_color#601]\n                           :                             +- Project [(timestamp#121L - cast(1648810200 as bigint)) AS timestamp#126L, user_id#600, pixel_color#601, coordinate#602]\n                           :                                +- Project [unix_timestamp(substring(timestamp#599, 0, 19), yyyy-MM-dd HH:mm:ss, Some(Etc/UTC), false) AS timestamp#121L, user_id#600, pixel_color#601, coordinate#602]\n                           :                                   +- Filter (size(split(coordinate#602, ,, -1), true) = 2)\n                           :                                      +- Relation [timestamp#599,user_id#600,pixel_color#601,coordinate#602] csv\n                           +- SubqueryAlias tdr3\n                              +- Sort [user_id#623 ASC NULLS FIRST, t1#630L ASC NULLS FIRST], true\n                                 +- Deduplicate [user_id#623, t1#630L]\n                                    +- Project [user_id#623, t#133L AS t1#630L, t#567L AS t2#631L, (t#567L - t#133L) AS diff#632L]\n                                       +- Sort [user_id#623 ASC NULLS FIRST, t#133L ASC NULLS FIRST], true\n                                          +- Filter (t#567L > t#133L)\n                                             +- Join Inner, (user_id#623 = user_id#627)\n                                                :- SubqueryAlias df1\n                                                :  +- Project [user_id#623, cast(split(coordinate#625, ,, -1)[0] as int) AS x#131, cast(split(coordinate#625, ,, -1)[1] as int) AS y#132, timestamp#126L AS t#133L, pixel_color#624]\n                                                :     +- Project [(timestamp#121L - cast(1648810200 as bigint)) AS timestamp#126L, user_id#623, pixel_color#624, coordinate#625]\n                                                :        +- Project [unix_timestamp(substring(timestamp#622, 0, 19), yyyy-MM-dd HH:mm:ss, Some(Etc/UTC), false) AS timestamp#121L, user_id#623, pixel_color#624, coordinate#625]\n                                                :           +- Filter (size(split(coordinate#625, ,, -1), true) = 2)\n                                                :              +- Relation [timestamp#622,user_id#623,pixel_color#624,coordinate#625] csv\n                                                +- SubqueryAlias df2\n                                                   +- Project [user_id#627, cast(split(coordinate#629, ,, -1)[0] as int) AS x#565, cast(split(coordinate#629, ,, -1)[1] as int) AS y#566, timestamp#126L AS t#567L, pixel_color#628]\n                                                      +- Project [(timestamp#121L - cast(1648810200 as bigint)) AS timestamp#126L, user_id#627, pixel_color#628, coordinate#629]\n                                                         +- Project [unix_timestamp(substring(timestamp#626, 0, 19), yyyy-MM-dd HH:mm:ss, Some(Etc/UTC), false) AS timestamp#121L, user_id#627, pixel_color#628, coordinate#629]\n                                                            +- Filter (size(split(coordinate#629, ,, -1), true) = 2)\n                                                               +- Relation [timestamp#626,user_id#627,pixel_color#628,coordinate#629] csv\n"
     ]
    }
   ],
   "source": [
    "joinedCensors = censoredData.join(botDiff,F.col('censoredData.user_id') == F.col('botDiff.user_id'),'inner')\n",
    "joinedCensors.printSchema()"
   ]
  }
 ],
 "metadata": {
  "kernelspec": {
   "display_name": "Python 3.9.2 64-bit",
   "language": "python",
   "name": "python3"
  },
  "language_info": {
   "codemirror_mode": {
    "name": "ipython",
    "version": 3
   },
   "file_extension": ".py",
   "mimetype": "text/x-python",
   "name": "python",
   "nbconvert_exporter": "python",
   "pygments_lexer": "ipython3",
   "version": "3.9.2"
  },
  "orig_nbformat": 4,
  "vscode": {
   "interpreter": {
    "hash": "949777d72b0d2535278d3dc13498b2535136f6dfe0678499012e853ee9abcab1"
   }
  }
 },
 "nbformat": 4,
 "nbformat_minor": 2
}
